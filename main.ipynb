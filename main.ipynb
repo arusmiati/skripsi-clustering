{
  "cells": [
    {
      "cell_type": "markdown",
      "metadata": {
        "id": "VL3tK-3DsM3e"
      },
      "source": [
        "##Import Library Package"
      ]
    },
    {
      "cell_type": "code",
      "execution_count": null,
      "metadata": {
        "id": "LOspBXedlNTH"
      },
      "outputs": [],
      "source": [
        "import pandas as pd\n",
        "import numpy as np\n",
        "import random as rd\n",
        "import matplotlib.pyplot as plt \n",
        "%matplotlib inline\n",
        "import seaborn as sns\n",
        "\n",
        "from sklearn.preprocessing import MinMaxScaler, StandardScaler\n",
        "from sklearn.cluster import KMeans as Kmeans1\n",
        "from sklearn.metrics import silhouette_samples, silhouette_score\n",
        "from sklearn.metrics import davies_bouldin_score\n",
        "\n",
        "import geopy\n",
        "from geopy.geocoders import Nominatim\n",
        "from geopy.exc import GeocoderTimedOut\n",
        "from datetime import datetime\n",
        "from tqdm import tqdm_notebook\n",
        "\n",
        "import warnings\n",
        "warnings.filterwarnings('ignore')\n"
      ]
    },
    {
      "cell_type": "markdown",
      "metadata": {
        "id": "ot8Wz5HQsRuu"
      },
      "source": [
        "##Read Dataset"
      ]
    },
    {
      "cell_type": "code",
      "execution_count": null,
      "metadata": {
        "colab": {
          "base_uri": "https://localhost:8080/"
        },
        "id": "awfRILqYl4VR",
        "outputId": "9d851051-9d20-4eac-892e-e66e0e6e42b5"
      },
      "outputs": [
        {
          "output_type": "execute_result",
          "data": {
            "text/plain": [
              "   Umur  Berat Badan Jenis Kelamin               Alamat  \\\n",
              "0  60.0           42             L  Maccini Baji (Gowa)   \n",
              "1  29.0           39             L  Maccini Baji (Gowa)   \n",
              "2  18.0           56             P  Maccini Baji (Gowa)   \n",
              "3   9.0           45             L  Maccini Baji (Gowa)   \n",
              "4  28.0           42             L  Maccini Baji (Gowa)   \n",
              "\n",
              "  Gejala apa yang dirasakan?  \\\n",
              "0               batuk, demam   \n",
              "1               demam, diare   \n",
              "2               demam, diare   \n",
              "3               demam, diare   \n",
              "4                      demam   \n",
              "\n",
              "  Jika pasien mengalami demam, apakah demam yang dialami terus menerus sepanjang hari?  \\\n",
              "0                                      Demam Konstan                                     \n",
              "1                                      Demam Konstan                                     \n",
              "2                                      Demam Konstan                                     \n",
              "3                                      Demam Konstan                                     \n",
              "4                                      Demam Konstan                                     \n",
              "\n",
              "  Apakah pasien mual/muntah? Apakah pasien pernah mengalami mimisan?  \\\n",
              "0                     Muntah                           Tidak Mimisan   \n",
              "1                     Muntah                           Tidak Mimisan   \n",
              "2               Tidak Muntah                           Tidak Mimisan   \n",
              "3                     Muntah                           Tidak Mimisan   \n",
              "4                     Muntah                           Tidak Mimisan   \n",
              "\n",
              "   Berapa suhu badan pasien? Apakah sudah menerima imunisasi BCG?  ...  \\\n",
              "0                       37.8                     Sudah Vaksin BCG  ...   \n",
              "1                       38.7                     Sudah Vaksin BCG  ...   \n",
              "2                       39.0                     Sudah Vaksin BCG  ...   \n",
              "3                       38.0                     Sudah Vaksin BCG  ...   \n",
              "4                       38.2                     Sudah Vaksin BCG  ...   \n",
              "\n",
              "  Jika iya, karena apa? Apakah nafsu makan berkurang?  \\\n",
              "0                     -            Nafsu Makan Normal   \n",
              "1                     -            Nafsu Makan Normal   \n",
              "2                     -            Nafsu Makan Kurang   \n",
              "3                     -            Nafsu Makan Kurang   \n",
              "4                     -            Nafsu Makan Kurang   \n",
              "\n",
              "  Apakah sering jajan diluar rumah? Berapa luas rumah pasien?  \\\n",
              "0               Jarang Jajan Diluar               54 - 120 m2   \n",
              "1               Sering Jajan Diluar                36 - 54 m2   \n",
              "2               Sering Jajan Diluar                   > 36 m2   \n",
              "3               Jarang Jajan Diluar               54 - 120 m2   \n",
              "4               Sering Jajan Diluar                36 - 54 m2   \n",
              "\n",
              "  Berapa jumlah penghuni rumah pasien?  \\\n",
              "0                              7 orang   \n",
              "1                              3 orang   \n",
              "2                              2 orang   \n",
              "3                              6 orang   \n",
              "4                              3 orang   \n",
              "\n",
              "  Bagaimana kondisi pembuangan sampah disekitar rumah?  \\\n",
              "0                  Ada sampah dan jarang dibersihkan     \n",
              "1                            Bersih tanpa ada sampah     \n",
              "2        Ada lalat/nyamuk di sekitar tumpukan sampah     \n",
              "3                       Ada sampah tapi tidak banyak     \n",
              "4                  Ada sampah dan jarang dibersihkan     \n",
              "\n",
              "  Apakah tersedia air bersih di rumah?  \\\n",
              "0                  Tersedia air bersih   \n",
              "1                  Tersedia air bersih   \n",
              "2                  Tersedia air bersih   \n",
              "3                  Tersedia air bersih   \n",
              "4                  Tersedia air bersih   \n",
              "\n",
              "  Bagaimana sistem ventilasi di rumah pasien?  \\\n",
              "0           Ada ventilasi tapi jarang terbuka   \n",
              "1            Ada ventilasi tapi hanya sedikit   \n",
              "2               Ada ventilasi disemua ruangan   \n",
              "3            Ada ventilasi tapi hanya sedikit   \n",
              "4           Ada ventilasi tapi jarang terbuka   \n",
              "\n",
              "  Apakah sering menggunakan jamban/toilet?  \\\n",
              "0               Sering Pakai Jamban/Toilet   \n",
              "1               Sering Pakai Jamban/Toilet   \n",
              "2               Sering Pakai Jamban/Toilet   \n",
              "3               Jarang pakai jamban/toilet   \n",
              "4               Sering Pakai Jamban/Toilet   \n",
              "\n",
              "  Apa diagnosa/hasil tes darah pasien?  \n",
              "0                                  tbc  \n",
              "1                                  tbc  \n",
              "2                                  dbd  \n",
              "3                               tifoid  \n",
              "4                                  tbc  \n",
              "\n",
              "[5 rows x 21 columns]"
            ],
            "text/html": [
              "\n",
              "  <div id=\"df-ad05b26f-b36b-4d2a-95c1-96765b36c5ce\">\n",
              "    <div class=\"colab-df-container\">\n",
              "      <div>\n",
              "<style scoped>\n",
              "    .dataframe tbody tr th:only-of-type {\n",
              "        vertical-align: middle;\n",
              "    }\n",
              "\n",
              "    .dataframe tbody tr th {\n",
              "        vertical-align: top;\n",
              "    }\n",
              "\n",
              "    .dataframe thead th {\n",
              "        text-align: right;\n",
              "    }\n",
              "</style>\n",
              "<table border=\"1\" class=\"dataframe\">\n",
              "  <thead>\n",
              "    <tr style=\"text-align: right;\">\n",
              "      <th></th>\n",
              "      <th>Umur</th>\n",
              "      <th>Berat Badan</th>\n",
              "      <th>Jenis Kelamin</th>\n",
              "      <th>Alamat</th>\n",
              "      <th>Gejala apa yang dirasakan?</th>\n",
              "      <th>Jika pasien mengalami demam, apakah demam yang dialami terus menerus sepanjang hari?</th>\n",
              "      <th>Apakah pasien mual/muntah?</th>\n",
              "      <th>Apakah pasien pernah mengalami mimisan?</th>\n",
              "      <th>Berapa suhu badan pasien?</th>\n",
              "      <th>Apakah sudah menerima imunisasi BCG?</th>\n",
              "      <th>...</th>\n",
              "      <th>Jika iya, karena apa?</th>\n",
              "      <th>Apakah nafsu makan berkurang?</th>\n",
              "      <th>Apakah sering jajan diluar rumah?</th>\n",
              "      <th>Berapa luas rumah pasien?</th>\n",
              "      <th>Berapa jumlah penghuni rumah pasien?</th>\n",
              "      <th>Bagaimana kondisi pembuangan sampah disekitar rumah?</th>\n",
              "      <th>Apakah tersedia air bersih di rumah?</th>\n",
              "      <th>Bagaimana sistem ventilasi di rumah pasien?</th>\n",
              "      <th>Apakah sering menggunakan jamban/toilet?</th>\n",
              "      <th>Apa diagnosa/hasil tes darah pasien?</th>\n",
              "    </tr>\n",
              "  </thead>\n",
              "  <tbody>\n",
              "    <tr>\n",
              "      <th>0</th>\n",
              "      <td>60.0</td>\n",
              "      <td>42</td>\n",
              "      <td>L</td>\n",
              "      <td>Maccini Baji (Gowa)</td>\n",
              "      <td>batuk, demam</td>\n",
              "      <td>Demam Konstan</td>\n",
              "      <td>Muntah</td>\n",
              "      <td>Tidak Mimisan</td>\n",
              "      <td>37.8</td>\n",
              "      <td>Sudah Vaksin BCG</td>\n",
              "      <td>...</td>\n",
              "      <td>-</td>\n",
              "      <td>Nafsu Makan Normal</td>\n",
              "      <td>Jarang Jajan Diluar</td>\n",
              "      <td>54 - 120 m2</td>\n",
              "      <td>7 orang</td>\n",
              "      <td>Ada sampah dan jarang dibersihkan</td>\n",
              "      <td>Tersedia air bersih</td>\n",
              "      <td>Ada ventilasi tapi jarang terbuka</td>\n",
              "      <td>Sering Pakai Jamban/Toilet</td>\n",
              "      <td>tbc</td>\n",
              "    </tr>\n",
              "    <tr>\n",
              "      <th>1</th>\n",
              "      <td>29.0</td>\n",
              "      <td>39</td>\n",
              "      <td>L</td>\n",
              "      <td>Maccini Baji (Gowa)</td>\n",
              "      <td>demam, diare</td>\n",
              "      <td>Demam Konstan</td>\n",
              "      <td>Muntah</td>\n",
              "      <td>Tidak Mimisan</td>\n",
              "      <td>38.7</td>\n",
              "      <td>Sudah Vaksin BCG</td>\n",
              "      <td>...</td>\n",
              "      <td>-</td>\n",
              "      <td>Nafsu Makan Normal</td>\n",
              "      <td>Sering Jajan Diluar</td>\n",
              "      <td>36 - 54 m2</td>\n",
              "      <td>3 orang</td>\n",
              "      <td>Bersih tanpa ada sampah</td>\n",
              "      <td>Tersedia air bersih</td>\n",
              "      <td>Ada ventilasi tapi hanya sedikit</td>\n",
              "      <td>Sering Pakai Jamban/Toilet</td>\n",
              "      <td>tbc</td>\n",
              "    </tr>\n",
              "    <tr>\n",
              "      <th>2</th>\n",
              "      <td>18.0</td>\n",
              "      <td>56</td>\n",
              "      <td>P</td>\n",
              "      <td>Maccini Baji (Gowa)</td>\n",
              "      <td>demam, diare</td>\n",
              "      <td>Demam Konstan</td>\n",
              "      <td>Tidak Muntah</td>\n",
              "      <td>Tidak Mimisan</td>\n",
              "      <td>39.0</td>\n",
              "      <td>Sudah Vaksin BCG</td>\n",
              "      <td>...</td>\n",
              "      <td>-</td>\n",
              "      <td>Nafsu Makan Kurang</td>\n",
              "      <td>Sering Jajan Diluar</td>\n",
              "      <td>&gt; 36 m2</td>\n",
              "      <td>2 orang</td>\n",
              "      <td>Ada lalat/nyamuk di sekitar tumpukan sampah</td>\n",
              "      <td>Tersedia air bersih</td>\n",
              "      <td>Ada ventilasi disemua ruangan</td>\n",
              "      <td>Sering Pakai Jamban/Toilet</td>\n",
              "      <td>dbd</td>\n",
              "    </tr>\n",
              "    <tr>\n",
              "      <th>3</th>\n",
              "      <td>9.0</td>\n",
              "      <td>45</td>\n",
              "      <td>L</td>\n",
              "      <td>Maccini Baji (Gowa)</td>\n",
              "      <td>demam, diare</td>\n",
              "      <td>Demam Konstan</td>\n",
              "      <td>Muntah</td>\n",
              "      <td>Tidak Mimisan</td>\n",
              "      <td>38.0</td>\n",
              "      <td>Sudah Vaksin BCG</td>\n",
              "      <td>...</td>\n",
              "      <td>-</td>\n",
              "      <td>Nafsu Makan Kurang</td>\n",
              "      <td>Jarang Jajan Diluar</td>\n",
              "      <td>54 - 120 m2</td>\n",
              "      <td>6 orang</td>\n",
              "      <td>Ada sampah tapi tidak banyak</td>\n",
              "      <td>Tersedia air bersih</td>\n",
              "      <td>Ada ventilasi tapi hanya sedikit</td>\n",
              "      <td>Jarang pakai jamban/toilet</td>\n",
              "      <td>tifoid</td>\n",
              "    </tr>\n",
              "    <tr>\n",
              "      <th>4</th>\n",
              "      <td>28.0</td>\n",
              "      <td>42</td>\n",
              "      <td>L</td>\n",
              "      <td>Maccini Baji (Gowa)</td>\n",
              "      <td>demam</td>\n",
              "      <td>Demam Konstan</td>\n",
              "      <td>Muntah</td>\n",
              "      <td>Tidak Mimisan</td>\n",
              "      <td>38.2</td>\n",
              "      <td>Sudah Vaksin BCG</td>\n",
              "      <td>...</td>\n",
              "      <td>-</td>\n",
              "      <td>Nafsu Makan Kurang</td>\n",
              "      <td>Sering Jajan Diluar</td>\n",
              "      <td>36 - 54 m2</td>\n",
              "      <td>3 orang</td>\n",
              "      <td>Ada sampah dan jarang dibersihkan</td>\n",
              "      <td>Tersedia air bersih</td>\n",
              "      <td>Ada ventilasi tapi jarang terbuka</td>\n",
              "      <td>Sering Pakai Jamban/Toilet</td>\n",
              "      <td>tbc</td>\n",
              "    </tr>\n",
              "  </tbody>\n",
              "</table>\n",
              "<p>5 rows × 21 columns</p>\n",
              "</div>\n",
              "      <button class=\"colab-df-convert\" onclick=\"convertToInteractive('df-ad05b26f-b36b-4d2a-95c1-96765b36c5ce')\"\n",
              "              title=\"Convert this dataframe to an interactive table.\"\n",
              "              style=\"display:none;\">\n",
              "        \n",
              "  <svg xmlns=\"http://www.w3.org/2000/svg\" height=\"24px\"viewBox=\"0 0 24 24\"\n",
              "       width=\"24px\">\n",
              "    <path d=\"M0 0h24v24H0V0z\" fill=\"none\"/>\n",
              "    <path d=\"M18.56 5.44l.94 2.06.94-2.06 2.06-.94-2.06-.94-.94-2.06-.94 2.06-2.06.94zm-11 1L8.5 8.5l.94-2.06 2.06-.94-2.06-.94L8.5 2.5l-.94 2.06-2.06.94zm10 10l.94 2.06.94-2.06 2.06-.94-2.06-.94-.94-2.06-.94 2.06-2.06.94z\"/><path d=\"M17.41 7.96l-1.37-1.37c-.4-.4-.92-.59-1.43-.59-.52 0-1.04.2-1.43.59L10.3 9.45l-7.72 7.72c-.78.78-.78 2.05 0 2.83L4 21.41c.39.39.9.59 1.41.59.51 0 1.02-.2 1.41-.59l7.78-7.78 2.81-2.81c.8-.78.8-2.07 0-2.86zM5.41 20L4 18.59l7.72-7.72 1.47 1.35L5.41 20z\"/>\n",
              "  </svg>\n",
              "      </button>\n",
              "      \n",
              "  <style>\n",
              "    .colab-df-container {\n",
              "      display:flex;\n",
              "      flex-wrap:wrap;\n",
              "      gap: 12px;\n",
              "    }\n",
              "\n",
              "    .colab-df-convert {\n",
              "      background-color: #E8F0FE;\n",
              "      border: none;\n",
              "      border-radius: 50%;\n",
              "      cursor: pointer;\n",
              "      display: none;\n",
              "      fill: #1967D2;\n",
              "      height: 32px;\n",
              "      padding: 0 0 0 0;\n",
              "      width: 32px;\n",
              "    }\n",
              "\n",
              "    .colab-df-convert:hover {\n",
              "      background-color: #E2EBFA;\n",
              "      box-shadow: 0px 1px 2px rgba(60, 64, 67, 0.3), 0px 1px 3px 1px rgba(60, 64, 67, 0.15);\n",
              "      fill: #174EA6;\n",
              "    }\n",
              "\n",
              "    [theme=dark] .colab-df-convert {\n",
              "      background-color: #3B4455;\n",
              "      fill: #D2E3FC;\n",
              "    }\n",
              "\n",
              "    [theme=dark] .colab-df-convert:hover {\n",
              "      background-color: #434B5C;\n",
              "      box-shadow: 0px 1px 3px 1px rgba(0, 0, 0, 0.15);\n",
              "      filter: drop-shadow(0px 1px 2px rgba(0, 0, 0, 0.3));\n",
              "      fill: #FFFFFF;\n",
              "    }\n",
              "  </style>\n",
              "\n",
              "      <script>\n",
              "        const buttonEl =\n",
              "          document.querySelector('#df-ad05b26f-b36b-4d2a-95c1-96765b36c5ce button.colab-df-convert');\n",
              "        buttonEl.style.display =\n",
              "          google.colab.kernel.accessAllowed ? 'block' : 'none';\n",
              "\n",
              "        async function convertToInteractive(key) {\n",
              "          const element = document.querySelector('#df-ad05b26f-b36b-4d2a-95c1-96765b36c5ce');\n",
              "          const dataTable =\n",
              "            await google.colab.kernel.invokeFunction('convertToInteractive',\n",
              "                                                     [key], {});\n",
              "          if (!dataTable) return;\n",
              "\n",
              "          const docLinkHtml = 'Like what you see? Visit the ' +\n",
              "            '<a target=\"_blank\" href=https://colab.research.google.com/notebooks/data_table.ipynb>data table notebook</a>'\n",
              "            + ' to learn more about interactive tables.';\n",
              "          element.innerHTML = '';\n",
              "          dataTable['output_type'] = 'display_data';\n",
              "          await google.colab.output.renderOutput(dataTable, element);\n",
              "          const docLink = document.createElement('div');\n",
              "          docLink.innerHTML = docLinkHtml;\n",
              "          element.appendChild(docLink);\n",
              "        }\n",
              "      </script>\n",
              "    </div>\n",
              "  </div>\n",
              "  "
            ]
          },
          "metadata": {},
          "execution_count": 2
        }
      ],
      "source": [
        "data = pd.read_csv('data.csv')\n",
        "data.head()"
      ]
    },
    {
      "cell_type": "code",
      "execution_count": null,
      "metadata": {
        "id": "100UszI1b0D9"
      },
      "outputs": [],
      "source": [
        "# rename column\n",
        "\n",
        "data = data.copy()\n",
        "data = data.rename(columns={'Gejala apa yang dirasakan?': 'Gejala', \n",
        "                            'Jika pasien mengalami demam, apakah demam yang dialami terus menerus sepanjang hari?': 'Demam Panjang',\n",
        "                            'Apakah pasien mual/muntah?': 'Mual/Muntah',\n",
        "                            'Apakah pasien pernah mengalami mimisan?': 'Riwayat Mimisan',\n",
        "                            'Berapa suhu badan pasien?': 'Suhu Badan',\n",
        "                            'Apakah sudah menerima imunisasi BCG?': 'Riwayat Vaksin BCG',\n",
        "                            'Apakah ada orang serumah yang pernah sakit atau diopname?': 'Riwayat Penyakit Orang Serumah',\n",
        "                            'Jika iya, karena apa?': 'Daftar Penyakit Orang Serumah',\n",
        "                            'Apakah nafsu makan berkurang?': 'Nafsu Makan',\n",
        "                            'Apakah sering jajan diluar rumah?': 'Kebiasaan Jajan',\n",
        "                            'Berapa luas rumah pasien?': 'Luas Rumah',\n",
        "                            'Berapa jumlah penghuni rumah pasien?': 'Jumlah Penghuni Rumah',\n",
        "                            'Bagaimana kondisi pembuangan sampah disekitar rumah?': 'Kondisi Pembuangan Sampah',\n",
        "                            'Apakah tersedia air bersih di rumah?': 'Ketersediaan Air Bersih',\n",
        "                            'Bagaimana sistem ventilasi di rumah pasien?': 'Sistem Ventilasi Rumah',\n",
        "                            'Apakah sering menggunakan jamban/toilet?': 'Riwayat Pemakaian Jamban/Toilet',\n",
        "                            'Apa diagnosa/hasil tes darah pasien?': 'Diagnosa/Tes Darah'})"
      ]
    },
    {
      "cell_type": "markdown",
      "metadata": {
        "id": "vpSk_v2sb7Ic"
      },
      "source": [
        "#Preprocessing\n"
      ]
    },
    {
      "cell_type": "markdown",
      "metadata": {
        "id": "bLv87Bhc36Vx"
      },
      "source": [
        "##Feature Selection"
      ]
    },
    {
      "cell_type": "code",
      "execution_count": null,
      "metadata": {
        "colab": {
          "base_uri": "https://localhost:8080/"
        },
        "id": "amwk2bonb5Rq",
        "outputId": "5b517029-c8bd-4a43-f0fd-ca7acc7e7c6c"
      },
      "outputs": [
        {
          "output_type": "execute_result",
          "data": {
            "text/plain": [
              "    Umur               Alamat         Nafsu Makan      Kebiasaan Jajan  \\\n",
              "0   60.0  Maccini Baji (Gowa)  Nafsu Makan Normal  Jarang Jajan Diluar   \n",
              "1   29.0  Maccini Baji (Gowa)  Nafsu Makan Normal  Sering Jajan Diluar   \n",
              "2   18.0  Maccini Baji (Gowa)  Nafsu Makan Kurang  Sering Jajan Diluar   \n",
              "3    9.0  Maccini Baji (Gowa)  Nafsu Makan Kurang  Jarang Jajan Diluar   \n",
              "4   28.0  Maccini Baji (Gowa)  Nafsu Makan Kurang  Sering Jajan Diluar   \n",
              "..   ...                  ...                 ...                  ...   \n",
              "78   4.0    Bontomanai (Gowa)  Nafsu Makan Kurang  Sering Jajan Diluar   \n",
              "79  39.0    Bontomanai (Gowa)  Nafsu Makan Kurang  Jarang Jajan Diluar   \n",
              "80  23.0    Bontomanai (Gowa)  Nafsu Makan Kurang  Sering Jajan Diluar   \n",
              "81  30.0    Bontomanai (Gowa)  Nafsu Makan Kurang  Jarang Jajan Diluar   \n",
              "82  16.0    Bontomanai (Gowa)  Nafsu Makan Kurang  Sering Jajan Diluar   \n",
              "\n",
              "                      Kondisi Pembuangan Sampah Ketersediaan Air Bersih  \\\n",
              "0             Ada sampah dan jarang dibersihkan     Tersedia air bersih   \n",
              "1                       Bersih tanpa ada sampah     Tersedia air bersih   \n",
              "2   Ada lalat/nyamuk di sekitar tumpukan sampah     Tersedia air bersih   \n",
              "3                  Ada sampah tapi tidak banyak     Tersedia air bersih   \n",
              "4             Ada sampah dan jarang dibersihkan     Tersedia air bersih   \n",
              "..                                          ...                     ...   \n",
              "78                 Ada sampah tapi tidak banyak     Tersedia air bersih   \n",
              "79            Ada sampah dan jarang dibersihkan     Tersedia air bersih   \n",
              "80                 Ada sampah tapi tidak banyak     Tersedia air bersih   \n",
              "81            Ada sampah dan jarang dibersihkan     Tersedia air bersih   \n",
              "82                      Bersih tanpa ada sampah     Tersedia air bersih   \n",
              "\n",
              "               Sistem Ventilasi Rumah Riwayat Pemakaian Jamban/Toilet  \\\n",
              "0   Ada ventilasi tapi jarang terbuka      Sering Pakai Jamban/Toilet   \n",
              "1    Ada ventilasi tapi hanya sedikit      Sering Pakai Jamban/Toilet   \n",
              "2       Ada ventilasi disemua ruangan      Sering Pakai Jamban/Toilet   \n",
              "3    Ada ventilasi tapi hanya sedikit      Jarang pakai jamban/toilet   \n",
              "4   Ada ventilasi tapi jarang terbuka      Sering Pakai Jamban/Toilet   \n",
              "..                                ...                             ...   \n",
              "78   Ada ventilasi tapi hanya sedikit      Sering Pakai Jamban/Toilet   \n",
              "79      Ada ventilasi disemua ruangan      Sering Pakai Jamban/Toilet   \n",
              "80   Ada ventilasi tapi hanya sedikit      Sering Pakai Jamban/Toilet   \n",
              "81      Ada ventilasi disemua ruangan      Sering Pakai Jamban/Toilet   \n",
              "82      Ada ventilasi disemua ruangan      Sering Pakai Jamban/Toilet   \n",
              "\n",
              "   Diagnosa/Tes Darah  \n",
              "0                 tbc  \n",
              "1                 tbc  \n",
              "2                 dbd  \n",
              "3              tifoid  \n",
              "4                 tbc  \n",
              "..                ...  \n",
              "78             tifoid  \n",
              "79                tbc  \n",
              "80             tifoid  \n",
              "81                dbd  \n",
              "82             tifoid  \n",
              "\n",
              "[83 rows x 9 columns]"
            ],
            "text/html": [
              "\n",
              "  <div id=\"df-e765f708-4361-4b21-afbe-c8e7d4a62a24\">\n",
              "    <div class=\"colab-df-container\">\n",
              "      <div>\n",
              "<style scoped>\n",
              "    .dataframe tbody tr th:only-of-type {\n",
              "        vertical-align: middle;\n",
              "    }\n",
              "\n",
              "    .dataframe tbody tr th {\n",
              "        vertical-align: top;\n",
              "    }\n",
              "\n",
              "    .dataframe thead th {\n",
              "        text-align: right;\n",
              "    }\n",
              "</style>\n",
              "<table border=\"1\" class=\"dataframe\">\n",
              "  <thead>\n",
              "    <tr style=\"text-align: right;\">\n",
              "      <th></th>\n",
              "      <th>Umur</th>\n",
              "      <th>Alamat</th>\n",
              "      <th>Nafsu Makan</th>\n",
              "      <th>Kebiasaan Jajan</th>\n",
              "      <th>Kondisi Pembuangan Sampah</th>\n",
              "      <th>Ketersediaan Air Bersih</th>\n",
              "      <th>Sistem Ventilasi Rumah</th>\n",
              "      <th>Riwayat Pemakaian Jamban/Toilet</th>\n",
              "      <th>Diagnosa/Tes Darah</th>\n",
              "    </tr>\n",
              "  </thead>\n",
              "  <tbody>\n",
              "    <tr>\n",
              "      <th>0</th>\n",
              "      <td>60.0</td>\n",
              "      <td>Maccini Baji (Gowa)</td>\n",
              "      <td>Nafsu Makan Normal</td>\n",
              "      <td>Jarang Jajan Diluar</td>\n",
              "      <td>Ada sampah dan jarang dibersihkan</td>\n",
              "      <td>Tersedia air bersih</td>\n",
              "      <td>Ada ventilasi tapi jarang terbuka</td>\n",
              "      <td>Sering Pakai Jamban/Toilet</td>\n",
              "      <td>tbc</td>\n",
              "    </tr>\n",
              "    <tr>\n",
              "      <th>1</th>\n",
              "      <td>29.0</td>\n",
              "      <td>Maccini Baji (Gowa)</td>\n",
              "      <td>Nafsu Makan Normal</td>\n",
              "      <td>Sering Jajan Diluar</td>\n",
              "      <td>Bersih tanpa ada sampah</td>\n",
              "      <td>Tersedia air bersih</td>\n",
              "      <td>Ada ventilasi tapi hanya sedikit</td>\n",
              "      <td>Sering Pakai Jamban/Toilet</td>\n",
              "      <td>tbc</td>\n",
              "    </tr>\n",
              "    <tr>\n",
              "      <th>2</th>\n",
              "      <td>18.0</td>\n",
              "      <td>Maccini Baji (Gowa)</td>\n",
              "      <td>Nafsu Makan Kurang</td>\n",
              "      <td>Sering Jajan Diluar</td>\n",
              "      <td>Ada lalat/nyamuk di sekitar tumpukan sampah</td>\n",
              "      <td>Tersedia air bersih</td>\n",
              "      <td>Ada ventilasi disemua ruangan</td>\n",
              "      <td>Sering Pakai Jamban/Toilet</td>\n",
              "      <td>dbd</td>\n",
              "    </tr>\n",
              "    <tr>\n",
              "      <th>3</th>\n",
              "      <td>9.0</td>\n",
              "      <td>Maccini Baji (Gowa)</td>\n",
              "      <td>Nafsu Makan Kurang</td>\n",
              "      <td>Jarang Jajan Diluar</td>\n",
              "      <td>Ada sampah tapi tidak banyak</td>\n",
              "      <td>Tersedia air bersih</td>\n",
              "      <td>Ada ventilasi tapi hanya sedikit</td>\n",
              "      <td>Jarang pakai jamban/toilet</td>\n",
              "      <td>tifoid</td>\n",
              "    </tr>\n",
              "    <tr>\n",
              "      <th>4</th>\n",
              "      <td>28.0</td>\n",
              "      <td>Maccini Baji (Gowa)</td>\n",
              "      <td>Nafsu Makan Kurang</td>\n",
              "      <td>Sering Jajan Diluar</td>\n",
              "      <td>Ada sampah dan jarang dibersihkan</td>\n",
              "      <td>Tersedia air bersih</td>\n",
              "      <td>Ada ventilasi tapi jarang terbuka</td>\n",
              "      <td>Sering Pakai Jamban/Toilet</td>\n",
              "      <td>tbc</td>\n",
              "    </tr>\n",
              "    <tr>\n",
              "      <th>...</th>\n",
              "      <td>...</td>\n",
              "      <td>...</td>\n",
              "      <td>...</td>\n",
              "      <td>...</td>\n",
              "      <td>...</td>\n",
              "      <td>...</td>\n",
              "      <td>...</td>\n",
              "      <td>...</td>\n",
              "      <td>...</td>\n",
              "    </tr>\n",
              "    <tr>\n",
              "      <th>78</th>\n",
              "      <td>4.0</td>\n",
              "      <td>Bontomanai (Gowa)</td>\n",
              "      <td>Nafsu Makan Kurang</td>\n",
              "      <td>Sering Jajan Diluar</td>\n",
              "      <td>Ada sampah tapi tidak banyak</td>\n",
              "      <td>Tersedia air bersih</td>\n",
              "      <td>Ada ventilasi tapi hanya sedikit</td>\n",
              "      <td>Sering Pakai Jamban/Toilet</td>\n",
              "      <td>tifoid</td>\n",
              "    </tr>\n",
              "    <tr>\n",
              "      <th>79</th>\n",
              "      <td>39.0</td>\n",
              "      <td>Bontomanai (Gowa)</td>\n",
              "      <td>Nafsu Makan Kurang</td>\n",
              "      <td>Jarang Jajan Diluar</td>\n",
              "      <td>Ada sampah dan jarang dibersihkan</td>\n",
              "      <td>Tersedia air bersih</td>\n",
              "      <td>Ada ventilasi disemua ruangan</td>\n",
              "      <td>Sering Pakai Jamban/Toilet</td>\n",
              "      <td>tbc</td>\n",
              "    </tr>\n",
              "    <tr>\n",
              "      <th>80</th>\n",
              "      <td>23.0</td>\n",
              "      <td>Bontomanai (Gowa)</td>\n",
              "      <td>Nafsu Makan Kurang</td>\n",
              "      <td>Sering Jajan Diluar</td>\n",
              "      <td>Ada sampah tapi tidak banyak</td>\n",
              "      <td>Tersedia air bersih</td>\n",
              "      <td>Ada ventilasi tapi hanya sedikit</td>\n",
              "      <td>Sering Pakai Jamban/Toilet</td>\n",
              "      <td>tifoid</td>\n",
              "    </tr>\n",
              "    <tr>\n",
              "      <th>81</th>\n",
              "      <td>30.0</td>\n",
              "      <td>Bontomanai (Gowa)</td>\n",
              "      <td>Nafsu Makan Kurang</td>\n",
              "      <td>Jarang Jajan Diluar</td>\n",
              "      <td>Ada sampah dan jarang dibersihkan</td>\n",
              "      <td>Tersedia air bersih</td>\n",
              "      <td>Ada ventilasi disemua ruangan</td>\n",
              "      <td>Sering Pakai Jamban/Toilet</td>\n",
              "      <td>dbd</td>\n",
              "    </tr>\n",
              "    <tr>\n",
              "      <th>82</th>\n",
              "      <td>16.0</td>\n",
              "      <td>Bontomanai (Gowa)</td>\n",
              "      <td>Nafsu Makan Kurang</td>\n",
              "      <td>Sering Jajan Diluar</td>\n",
              "      <td>Bersih tanpa ada sampah</td>\n",
              "      <td>Tersedia air bersih</td>\n",
              "      <td>Ada ventilasi disemua ruangan</td>\n",
              "      <td>Sering Pakai Jamban/Toilet</td>\n",
              "      <td>tifoid</td>\n",
              "    </tr>\n",
              "  </tbody>\n",
              "</table>\n",
              "<p>83 rows × 9 columns</p>\n",
              "</div>\n",
              "      <button class=\"colab-df-convert\" onclick=\"convertToInteractive('df-e765f708-4361-4b21-afbe-c8e7d4a62a24')\"\n",
              "              title=\"Convert this dataframe to an interactive table.\"\n",
              "              style=\"display:none;\">\n",
              "        \n",
              "  <svg xmlns=\"http://www.w3.org/2000/svg\" height=\"24px\"viewBox=\"0 0 24 24\"\n",
              "       width=\"24px\">\n",
              "    <path d=\"M0 0h24v24H0V0z\" fill=\"none\"/>\n",
              "    <path d=\"M18.56 5.44l.94 2.06.94-2.06 2.06-.94-2.06-.94-.94-2.06-.94 2.06-2.06.94zm-11 1L8.5 8.5l.94-2.06 2.06-.94-2.06-.94L8.5 2.5l-.94 2.06-2.06.94zm10 10l.94 2.06.94-2.06 2.06-.94-2.06-.94-.94-2.06-.94 2.06-2.06.94z\"/><path d=\"M17.41 7.96l-1.37-1.37c-.4-.4-.92-.59-1.43-.59-.52 0-1.04.2-1.43.59L10.3 9.45l-7.72 7.72c-.78.78-.78 2.05 0 2.83L4 21.41c.39.39.9.59 1.41.59.51 0 1.02-.2 1.41-.59l7.78-7.78 2.81-2.81c.8-.78.8-2.07 0-2.86zM5.41 20L4 18.59l7.72-7.72 1.47 1.35L5.41 20z\"/>\n",
              "  </svg>\n",
              "      </button>\n",
              "      \n",
              "  <style>\n",
              "    .colab-df-container {\n",
              "      display:flex;\n",
              "      flex-wrap:wrap;\n",
              "      gap: 12px;\n",
              "    }\n",
              "\n",
              "    .colab-df-convert {\n",
              "      background-color: #E8F0FE;\n",
              "      border: none;\n",
              "      border-radius: 50%;\n",
              "      cursor: pointer;\n",
              "      display: none;\n",
              "      fill: #1967D2;\n",
              "      height: 32px;\n",
              "      padding: 0 0 0 0;\n",
              "      width: 32px;\n",
              "    }\n",
              "\n",
              "    .colab-df-convert:hover {\n",
              "      background-color: #E2EBFA;\n",
              "      box-shadow: 0px 1px 2px rgba(60, 64, 67, 0.3), 0px 1px 3px 1px rgba(60, 64, 67, 0.15);\n",
              "      fill: #174EA6;\n",
              "    }\n",
              "\n",
              "    [theme=dark] .colab-df-convert {\n",
              "      background-color: #3B4455;\n",
              "      fill: #D2E3FC;\n",
              "    }\n",
              "\n",
              "    [theme=dark] .colab-df-convert:hover {\n",
              "      background-color: #434B5C;\n",
              "      box-shadow: 0px 1px 3px 1px rgba(0, 0, 0, 0.15);\n",
              "      filter: drop-shadow(0px 1px 2px rgba(0, 0, 0, 0.3));\n",
              "      fill: #FFFFFF;\n",
              "    }\n",
              "  </style>\n",
              "\n",
              "      <script>\n",
              "        const buttonEl =\n",
              "          document.querySelector('#df-e765f708-4361-4b21-afbe-c8e7d4a62a24 button.colab-df-convert');\n",
              "        buttonEl.style.display =\n",
              "          google.colab.kernel.accessAllowed ? 'block' : 'none';\n",
              "\n",
              "        async function convertToInteractive(key) {\n",
              "          const element = document.querySelector('#df-e765f708-4361-4b21-afbe-c8e7d4a62a24');\n",
              "          const dataTable =\n",
              "            await google.colab.kernel.invokeFunction('convertToInteractive',\n",
              "                                                     [key], {});\n",
              "          if (!dataTable) return;\n",
              "\n",
              "          const docLinkHtml = 'Like what you see? Visit the ' +\n",
              "            '<a target=\"_blank\" href=https://colab.research.google.com/notebooks/data_table.ipynb>data table notebook</a>'\n",
              "            + ' to learn more about interactive tables.';\n",
              "          element.innerHTML = '';\n",
              "          dataTable['output_type'] = 'display_data';\n",
              "          await google.colab.output.renderOutput(dataTable, element);\n",
              "          const docLink = document.createElement('div');\n",
              "          docLink.innerHTML = docLinkHtml;\n",
              "          element.appendChild(docLink);\n",
              "        }\n",
              "      </script>\n",
              "    </div>\n",
              "  </div>\n",
              "  "
            ]
          },
          "metadata": {},
          "execution_count": 62
        }
      ],
      "source": [
        "features_data = data[[\"Umur\", \n",
        "                      \"Alamat\", \n",
        "                      \"Nafsu Makan\", \n",
        "                      \"Kebiasaan Jajan\", \n",
        "                      \"Kondisi Pembuangan Sampah\", \n",
        "                      \"Ketersediaan Air Bersih\",\n",
        "                     \"Sistem Ventilasi Rumah\",\n",
        "                     \"Riwayat Pemakaian Jamban/Toilet\",\n",
        "                     \"Diagnosa/Tes Darah\"]].copy()\n",
        "features_data.iloc[:83]"
      ]
    },
    {
      "cell_type": "markdown",
      "metadata": {
        "id": "HZW00V7ScBk_"
      },
      "source": [
        "##Check Missing Value"
      ]
    },
    {
      "cell_type": "code",
      "execution_count": null,
      "metadata": {
        "colab": {
          "base_uri": "https://localhost:8080/"
        },
        "id": "Sby56QUacDkB",
        "outputId": "0b5fcea2-70e9-4851-8fd0-c57df5da9f02"
      },
      "outputs": [
        {
          "output_type": "execute_result",
          "data": {
            "text/plain": [
              "Umur                               0\n",
              "Alamat                             0\n",
              "Nafsu Makan                        0\n",
              "Kebiasaan Jajan                    0\n",
              "Kondisi Pembuangan Sampah          0\n",
              "Ketersediaan Air Bersih            0\n",
              "Sistem Ventilasi Rumah             0\n",
              "Riwayat Pemakaian Jamban/Toilet    0\n",
              "Diagnosa/Tes Darah                 0\n",
              "dtype: int64"
            ]
          },
          "metadata": {},
          "execution_count": 63
        }
      ],
      "source": [
        "#check missing value\n",
        "features_data.isnull().sum()"
      ]
    },
    {
      "cell_type": "code",
      "source": [
        "features_data.info()"
      ],
      "metadata": {
        "colab": {
          "base_uri": "https://localhost:8080/"
        },
        "id": "JFZ84Zi1-C0n",
        "outputId": "e8c43fbc-a876-44ff-dc2b-1f82c2c722f2"
      },
      "execution_count": null,
      "outputs": [
        {
          "output_type": "stream",
          "name": "stdout",
          "text": [
            "<class 'pandas.core.frame.DataFrame'>\n",
            "RangeIndex: 735 entries, 0 to 734\n",
            "Data columns (total 9 columns):\n",
            " #   Column                           Non-Null Count  Dtype  \n",
            "---  ------                           --------------  -----  \n",
            " 0   Umur                             735 non-null    float64\n",
            " 1   Alamat                           735 non-null    object \n",
            " 2   Nafsu Makan                      735 non-null    object \n",
            " 3   Kebiasaan Jajan                  735 non-null    object \n",
            " 4   Kondisi Pembuangan Sampah        735 non-null    object \n",
            " 5   Ketersediaan Air Bersih          735 non-null    object \n",
            " 6   Sistem Ventilasi Rumah           735 non-null    object \n",
            " 7   Riwayat Pemakaian Jamban/Toilet  735 non-null    object \n",
            " 8   Diagnosa/Tes Darah               735 non-null    object \n",
            "dtypes: float64(1), object(8)\n",
            "memory usage: 51.8+ KB\n"
          ]
        }
      ]
    },
    {
      "cell_type": "markdown",
      "metadata": {
        "id": "QVkz23vbcQT8"
      },
      "source": [
        "##Multilabel Binarizer"
      ]
    },
    {
      "cell_type": "code",
      "execution_count": null,
      "metadata": {
        "id": "szDIKKhqcSj7"
      },
      "outputs": [],
      "source": [
        "from sklearn.preprocessing import MultiLabelBinarizer\n",
        "from sklearn.linear_model import LinearRegression, Ridge, Lasso\n",
        "mlb = MultiLabelBinarizer()"
      ]
    },
    {
      "cell_type": "code",
      "execution_count": null,
      "metadata": {
        "id": "aBDz2QjkcURT"
      },
      "outputs": [],
      "source": [
        "features_data['Nafsu Makan']=features_data['Nafsu Makan'].str.split(',\\s*')\n",
        "features_data['Kebiasaan Jajan']=features_data['Kebiasaan Jajan'].str.split(',\\s*')\n",
        "features_data['Kondisi Pembuangan Sampah']=features_data['Kondisi Pembuangan Sampah'].str.split(',\\s*')\n",
        "features_data['Ketersediaan Air Bersih']=features_data['Ketersediaan Air Bersih'].str.split(',\\s*')\n",
        "features_data['Sistem Ventilasi Rumah']=features_data['Sistem Ventilasi Rumah'].str.split(',\\s*')\n",
        "features_data['Riwayat Pemakaian Jamban/Toilet']=features_data['Riwayat Pemakaian Jamban/Toilet'].str.split(',\\s*')\n",
        "features_data['Diagnosa/Tes Darah']=features_data['Diagnosa/Tes Darah'].str.split(',\\s*')"
      ]
    },
    {
      "cell_type": "code",
      "execution_count": null,
      "metadata": {
        "colab": {
          "base_uri": "https://localhost:8080/"
        },
        "id": "jJHXfVQ8cWOo",
        "outputId": "0b9f7465-4d07-452f-918a-51b4fb746175"
      },
      "outputs": [
        {
          "output_type": "execute_result",
          "data": {
            "text/plain": [
              "MultiLabelBinarizer()"
            ],
            "text/html": [
              "<style>#sk-container-id-3 {color: black;background-color: white;}#sk-container-id-3 pre{padding: 0;}#sk-container-id-3 div.sk-toggleable {background-color: white;}#sk-container-id-3 label.sk-toggleable__label {cursor: pointer;display: block;width: 100%;margin-bottom: 0;padding: 0.3em;box-sizing: border-box;text-align: center;}#sk-container-id-3 label.sk-toggleable__label-arrow:before {content: \"▸\";float: left;margin-right: 0.25em;color: #696969;}#sk-container-id-3 label.sk-toggleable__label-arrow:hover:before {color: black;}#sk-container-id-3 div.sk-estimator:hover label.sk-toggleable__label-arrow:before {color: black;}#sk-container-id-3 div.sk-toggleable__content {max-height: 0;max-width: 0;overflow: hidden;text-align: left;background-color: #f0f8ff;}#sk-container-id-3 div.sk-toggleable__content pre {margin: 0.2em;color: black;border-radius: 0.25em;background-color: #f0f8ff;}#sk-container-id-3 input.sk-toggleable__control:checked~div.sk-toggleable__content {max-height: 200px;max-width: 100%;overflow: auto;}#sk-container-id-3 input.sk-toggleable__control:checked~label.sk-toggleable__label-arrow:before {content: \"▾\";}#sk-container-id-3 div.sk-estimator input.sk-toggleable__control:checked~label.sk-toggleable__label {background-color: #d4ebff;}#sk-container-id-3 div.sk-label input.sk-toggleable__control:checked~label.sk-toggleable__label {background-color: #d4ebff;}#sk-container-id-3 input.sk-hidden--visually {border: 0;clip: rect(1px 1px 1px 1px);clip: rect(1px, 1px, 1px, 1px);height: 1px;margin: -1px;overflow: hidden;padding: 0;position: absolute;width: 1px;}#sk-container-id-3 div.sk-estimator {font-family: monospace;background-color: #f0f8ff;border: 1px dotted black;border-radius: 0.25em;box-sizing: border-box;margin-bottom: 0.5em;}#sk-container-id-3 div.sk-estimator:hover {background-color: #d4ebff;}#sk-container-id-3 div.sk-parallel-item::after {content: \"\";width: 100%;border-bottom: 1px solid gray;flex-grow: 1;}#sk-container-id-3 div.sk-label:hover label.sk-toggleable__label {background-color: #d4ebff;}#sk-container-id-3 div.sk-serial::before {content: \"\";position: absolute;border-left: 1px solid gray;box-sizing: border-box;top: 0;bottom: 0;left: 50%;z-index: 0;}#sk-container-id-3 div.sk-serial {display: flex;flex-direction: column;align-items: center;background-color: white;padding-right: 0.2em;padding-left: 0.2em;position: relative;}#sk-container-id-3 div.sk-item {position: relative;z-index: 1;}#sk-container-id-3 div.sk-parallel {display: flex;align-items: stretch;justify-content: center;background-color: white;position: relative;}#sk-container-id-3 div.sk-item::before, #sk-container-id-3 div.sk-parallel-item::before {content: \"\";position: absolute;border-left: 1px solid gray;box-sizing: border-box;top: 0;bottom: 0;left: 50%;z-index: -1;}#sk-container-id-3 div.sk-parallel-item {display: flex;flex-direction: column;z-index: 1;position: relative;background-color: white;}#sk-container-id-3 div.sk-parallel-item:first-child::after {align-self: flex-end;width: 50%;}#sk-container-id-3 div.sk-parallel-item:last-child::after {align-self: flex-start;width: 50%;}#sk-container-id-3 div.sk-parallel-item:only-child::after {width: 0;}#sk-container-id-3 div.sk-dashed-wrapped {border: 1px dashed gray;margin: 0 0.4em 0.5em 0.4em;box-sizing: border-box;padding-bottom: 0.4em;background-color: white;}#sk-container-id-3 div.sk-label label {font-family: monospace;font-weight: bold;display: inline-block;line-height: 1.2em;}#sk-container-id-3 div.sk-label-container {text-align: center;}#sk-container-id-3 div.sk-container {/* jupyter's `normalize.less` sets `[hidden] { display: none; }` but bootstrap.min.css set `[hidden] { display: none !important; }` so we also need the `!important` here to be able to override the default hidden behavior on the sphinx rendered scikit-learn.org. See: https://github.com/scikit-learn/scikit-learn/issues/21755 */display: inline-block !important;position: relative;}#sk-container-id-3 div.sk-text-repr-fallback {display: none;}</style><div id=\"sk-container-id-3\" class=\"sk-top-container\"><div class=\"sk-text-repr-fallback\"><pre>MultiLabelBinarizer()</pre><b>In a Jupyter environment, please rerun this cell to show the HTML representation or trust the notebook. <br />On GitHub, the HTML representation is unable to render, please try loading this page with nbviewer.org.</b></div><div class=\"sk-container\" hidden><div class=\"sk-item\"><div class=\"sk-estimator sk-toggleable\"><input class=\"sk-toggleable__control sk-hidden--visually\" id=\"sk-estimator-id-3\" type=\"checkbox\" checked><label for=\"sk-estimator-id-3\" class=\"sk-toggleable__label sk-toggleable__label-arrow\">MultiLabelBinarizer</label><div class=\"sk-toggleable__content\"><pre>MultiLabelBinarizer()</pre></div></div></div></div></div>"
            ]
          },
          "metadata": {},
          "execution_count": 67
        }
      ],
      "source": [
        "mlb.fit(features_data['Nafsu Makan'])\n",
        "mlb.fit(features_data['Kebiasaan Jajan'])\n",
        "mlb.fit(features_data['Kondisi Pembuangan Sampah'])\n",
        "mlb.fit(features_data['Ketersediaan Air Bersih'])\n",
        "mlb.fit(features_data['Sistem Ventilasi Rumah'])\n",
        "mlb.fit(features_data['Riwayat Pemakaian Jamban/Toilet'])\n",
        "mlb.fit(features_data['Diagnosa/Tes Darah'])"
      ]
    },
    {
      "cell_type": "code",
      "execution_count": null,
      "metadata": {
        "id": "ksf58PqmcXyH"
      },
      "outputs": [],
      "source": [
        "mlb.classes_\n",
        "\n",
        "features_data['Nafsu Makan'].explode().unique()\n",
        "features_data['Kebiasaan Jajan'].explode().unique()\n",
        "features_data['Ketersediaan Air Bersih'].explode().unique()\n",
        "features_data['Kondisi Pembuangan Sampah'].explode().unique()\n",
        "features_data['Sistem Ventilasi Rumah'].explode().unique()\n",
        "features_data['Riwayat Pemakaian Jamban/Toilet'].explode().unique()\n",
        "features_data['Diagnosa/Tes Darah'].explode().unique()\n",
        "\n",
        "mlb.transform(features_data['Nafsu Makan'])\n",
        "mlb.transform(features_data['Kebiasaan Jajan'])\n",
        "mlb.transform(features_data['Ketersediaan Air Bersih'])\n",
        "mlb.transform(features_data['Kondisi Pembuangan Sampah'])\n",
        "mlb.transform(features_data['Sistem Ventilasi Rumah'])\n",
        "mlb.transform(features_data['Riwayat Pemakaian Jamban/Toilet'])\n",
        "mlb.transform(features_data['Diagnosa/Tes Darah'])\n",
        "\n",
        "a1 = pd.DataFrame(mlb.fit_transform(features_data['Nafsu Makan']), columns=mlb.classes_)\n",
        "a2 = pd.DataFrame(mlb.fit_transform(features_data['Kebiasaan Jajan']), columns=mlb.classes_)\n",
        "a3 = pd.DataFrame(mlb.fit_transform(features_data['Ketersediaan Air Bersih']), columns=mlb.classes_)\n",
        "a4 = pd.DataFrame(mlb.fit_transform(features_data['Kondisi Pembuangan Sampah']), columns=mlb.classes_)\n",
        "a5 = pd.DataFrame(mlb.fit_transform(features_data['Sistem Ventilasi Rumah']), columns=mlb.classes_)\n",
        "a6 = pd.DataFrame(mlb.fit_transform(features_data['Riwayat Pemakaian Jamban/Toilet']), columns=mlb.classes_)\n",
        "a7 = pd.DataFrame(mlb.fit_transform(features_data['Diagnosa/Tes Darah']), columns=mlb.classes_)"
      ]
    },
    {
      "cell_type": "code",
      "execution_count": null,
      "metadata": {
        "id": "J_x3L6WNcaA0"
      },
      "outputs": [],
      "source": [
        "# concat data column after transformation\n",
        "data_features=pd.concat([features_data,a1, a2, a3, a4, a5, a6, a7], axis='columns')\n"
      ]
    },
    {
      "cell_type": "code",
      "source": [
        "df = data_features.drop(['Nafsu Makan','Nafsu Makan Normal','Jarang Jajan Diluar','Tidak tersedia air bersih',\n",
        "                         'Ada ventilasi tapi hanya sedikit','Ada sampah dan jarang dibersihkan','Ada sampah tapi tidak banyak','Ada sampah tapi tidak banyak',\n",
        "                         'Bersih tanpa ada sampah', 'Ada ventilasi tapi jarang terbuka', 'Ada ventilasi tapi selalu tertutup','Jarang pakai jamban/toilet','Kondisi Pembuangan Sampah', 'Kebiasaan Jajan', 'Ketersediaan Air Bersih', 'Sistem Ventilasi Rumah', 'Riwayat Pemakaian Jamban/Toilet', 'Diagnosa/Tes Darah'], axis=1)"
      ],
      "metadata": {
        "id": "w909ixXK_MxY"
      },
      "execution_count": null,
      "outputs": []
    },
    {
      "cell_type": "code",
      "execution_count": null,
      "metadata": {
        "colab": {
          "base_uri": "https://localhost:8080/"
        },
        "id": "HOaqcEnFcJxW",
        "outputId": "8e2f8f86-915c-4d1c-c2c1-d97042e8f047"
      },
      "outputs": [
        {
          "output_type": "execute_result",
          "data": {
            "text/plain": [
              "   Umur               Alamat  Nafsu Makan Kurang  Sering Jajan Diluar  \\\n",
              "0  60.0  Maccini Baji (Gowa)                   0                    0   \n",
              "1  29.0  Maccini Baji (Gowa)                   0                    1   \n",
              "2  18.0  Maccini Baji (Gowa)                   1                    1   \n",
              "3   9.0  Maccini Baji (Gowa)                   1                    0   \n",
              "4  28.0  Maccini Baji (Gowa)                   1                    1   \n",
              "5  34.0  Maccini Baji (Gowa)                   0                    0   \n",
              "6  30.0     Barombong (Gowa)                   1                    1   \n",
              "7   3.0        Sapaya (Gowa)                   1                    0   \n",
              "8  71.0     Bili Bili (Gowa)                   1                    0   \n",
              "9  18.0     Bili Bili (Gowa)                   1                    1   \n",
              "\n",
              "   Tersedia air bersih  Ada lalat/nyamuk di sekitar tumpukan sampah  \\\n",
              "0                    1                                            0   \n",
              "1                    1                                            0   \n",
              "2                    1                                            1   \n",
              "3                    1                                            0   \n",
              "4                    1                                            0   \n",
              "5                    1                                            0   \n",
              "6                    1                                            0   \n",
              "7                    1                                            0   \n",
              "8                    1                                            0   \n",
              "9                    1                                            0   \n",
              "\n",
              "   Ada ventilasi disemua ruangan  Sering Pakai Jamban/Toilet  dbd  tbc  tifoid  \n",
              "0                              0                           1    0    1       0  \n",
              "1                              0                           1    0    1       0  \n",
              "2                              1                           1    1    0       0  \n",
              "3                              0                           0    0    0       1  \n",
              "4                              0                           1    0    1       0  \n",
              "5                              1                           1    0    1       0  \n",
              "6                              1                           1    1    0       0  \n",
              "7                              0                           1    0    0       1  \n",
              "8                              1                           1    0    1       0  \n",
              "9                              0                           1    1    0       0  "
            ],
            "text/html": [
              "\n",
              "  <div id=\"df-defec1e6-97a4-49c4-bbba-ff4b0afe90e4\">\n",
              "    <div class=\"colab-df-container\">\n",
              "      <div>\n",
              "<style scoped>\n",
              "    .dataframe tbody tr th:only-of-type {\n",
              "        vertical-align: middle;\n",
              "    }\n",
              "\n",
              "    .dataframe tbody tr th {\n",
              "        vertical-align: top;\n",
              "    }\n",
              "\n",
              "    .dataframe thead th {\n",
              "        text-align: right;\n",
              "    }\n",
              "</style>\n",
              "<table border=\"1\" class=\"dataframe\">\n",
              "  <thead>\n",
              "    <tr style=\"text-align: right;\">\n",
              "      <th></th>\n",
              "      <th>Umur</th>\n",
              "      <th>Alamat</th>\n",
              "      <th>Nafsu Makan Kurang</th>\n",
              "      <th>Sering Jajan Diluar</th>\n",
              "      <th>Tersedia air bersih</th>\n",
              "      <th>Ada lalat/nyamuk di sekitar tumpukan sampah</th>\n",
              "      <th>Ada ventilasi disemua ruangan</th>\n",
              "      <th>Sering Pakai Jamban/Toilet</th>\n",
              "      <th>dbd</th>\n",
              "      <th>tbc</th>\n",
              "      <th>tifoid</th>\n",
              "    </tr>\n",
              "  </thead>\n",
              "  <tbody>\n",
              "    <tr>\n",
              "      <th>0</th>\n",
              "      <td>60.0</td>\n",
              "      <td>Maccini Baji (Gowa)</td>\n",
              "      <td>0</td>\n",
              "      <td>0</td>\n",
              "      <td>1</td>\n",
              "      <td>0</td>\n",
              "      <td>0</td>\n",
              "      <td>1</td>\n",
              "      <td>0</td>\n",
              "      <td>1</td>\n",
              "      <td>0</td>\n",
              "    </tr>\n",
              "    <tr>\n",
              "      <th>1</th>\n",
              "      <td>29.0</td>\n",
              "      <td>Maccini Baji (Gowa)</td>\n",
              "      <td>0</td>\n",
              "      <td>1</td>\n",
              "      <td>1</td>\n",
              "      <td>0</td>\n",
              "      <td>0</td>\n",
              "      <td>1</td>\n",
              "      <td>0</td>\n",
              "      <td>1</td>\n",
              "      <td>0</td>\n",
              "    </tr>\n",
              "    <tr>\n",
              "      <th>2</th>\n",
              "      <td>18.0</td>\n",
              "      <td>Maccini Baji (Gowa)</td>\n",
              "      <td>1</td>\n",
              "      <td>1</td>\n",
              "      <td>1</td>\n",
              "      <td>1</td>\n",
              "      <td>1</td>\n",
              "      <td>1</td>\n",
              "      <td>1</td>\n",
              "      <td>0</td>\n",
              "      <td>0</td>\n",
              "    </tr>\n",
              "    <tr>\n",
              "      <th>3</th>\n",
              "      <td>9.0</td>\n",
              "      <td>Maccini Baji (Gowa)</td>\n",
              "      <td>1</td>\n",
              "      <td>0</td>\n",
              "      <td>1</td>\n",
              "      <td>0</td>\n",
              "      <td>0</td>\n",
              "      <td>0</td>\n",
              "      <td>0</td>\n",
              "      <td>0</td>\n",
              "      <td>1</td>\n",
              "    </tr>\n",
              "    <tr>\n",
              "      <th>4</th>\n",
              "      <td>28.0</td>\n",
              "      <td>Maccini Baji (Gowa)</td>\n",
              "      <td>1</td>\n",
              "      <td>1</td>\n",
              "      <td>1</td>\n",
              "      <td>0</td>\n",
              "      <td>0</td>\n",
              "      <td>1</td>\n",
              "      <td>0</td>\n",
              "      <td>1</td>\n",
              "      <td>0</td>\n",
              "    </tr>\n",
              "    <tr>\n",
              "      <th>5</th>\n",
              "      <td>34.0</td>\n",
              "      <td>Maccini Baji (Gowa)</td>\n",
              "      <td>0</td>\n",
              "      <td>0</td>\n",
              "      <td>1</td>\n",
              "      <td>0</td>\n",
              "      <td>1</td>\n",
              "      <td>1</td>\n",
              "      <td>0</td>\n",
              "      <td>1</td>\n",
              "      <td>0</td>\n",
              "    </tr>\n",
              "    <tr>\n",
              "      <th>6</th>\n",
              "      <td>30.0</td>\n",
              "      <td>Barombong (Gowa)</td>\n",
              "      <td>1</td>\n",
              "      <td>1</td>\n",
              "      <td>1</td>\n",
              "      <td>0</td>\n",
              "      <td>1</td>\n",
              "      <td>1</td>\n",
              "      <td>1</td>\n",
              "      <td>0</td>\n",
              "      <td>0</td>\n",
              "    </tr>\n",
              "    <tr>\n",
              "      <th>7</th>\n",
              "      <td>3.0</td>\n",
              "      <td>Sapaya (Gowa)</td>\n",
              "      <td>1</td>\n",
              "      <td>0</td>\n",
              "      <td>1</td>\n",
              "      <td>0</td>\n",
              "      <td>0</td>\n",
              "      <td>1</td>\n",
              "      <td>0</td>\n",
              "      <td>0</td>\n",
              "      <td>1</td>\n",
              "    </tr>\n",
              "    <tr>\n",
              "      <th>8</th>\n",
              "      <td>71.0</td>\n",
              "      <td>Bili Bili (Gowa)</td>\n",
              "      <td>1</td>\n",
              "      <td>0</td>\n",
              "      <td>1</td>\n",
              "      <td>0</td>\n",
              "      <td>1</td>\n",
              "      <td>1</td>\n",
              "      <td>0</td>\n",
              "      <td>1</td>\n",
              "      <td>0</td>\n",
              "    </tr>\n",
              "    <tr>\n",
              "      <th>9</th>\n",
              "      <td>18.0</td>\n",
              "      <td>Bili Bili (Gowa)</td>\n",
              "      <td>1</td>\n",
              "      <td>1</td>\n",
              "      <td>1</td>\n",
              "      <td>0</td>\n",
              "      <td>0</td>\n",
              "      <td>1</td>\n",
              "      <td>1</td>\n",
              "      <td>0</td>\n",
              "      <td>0</td>\n",
              "    </tr>\n",
              "  </tbody>\n",
              "</table>\n",
              "</div>\n",
              "      <button class=\"colab-df-convert\" onclick=\"convertToInteractive('df-defec1e6-97a4-49c4-bbba-ff4b0afe90e4')\"\n",
              "              title=\"Convert this dataframe to an interactive table.\"\n",
              "              style=\"display:none;\">\n",
              "        \n",
              "  <svg xmlns=\"http://www.w3.org/2000/svg\" height=\"24px\"viewBox=\"0 0 24 24\"\n",
              "       width=\"24px\">\n",
              "    <path d=\"M0 0h24v24H0V0z\" fill=\"none\"/>\n",
              "    <path d=\"M18.56 5.44l.94 2.06.94-2.06 2.06-.94-2.06-.94-.94-2.06-.94 2.06-2.06.94zm-11 1L8.5 8.5l.94-2.06 2.06-.94-2.06-.94L8.5 2.5l-.94 2.06-2.06.94zm10 10l.94 2.06.94-2.06 2.06-.94-2.06-.94-.94-2.06-.94 2.06-2.06.94z\"/><path d=\"M17.41 7.96l-1.37-1.37c-.4-.4-.92-.59-1.43-.59-.52 0-1.04.2-1.43.59L10.3 9.45l-7.72 7.72c-.78.78-.78 2.05 0 2.83L4 21.41c.39.39.9.59 1.41.59.51 0 1.02-.2 1.41-.59l7.78-7.78 2.81-2.81c.8-.78.8-2.07 0-2.86zM5.41 20L4 18.59l7.72-7.72 1.47 1.35L5.41 20z\"/>\n",
              "  </svg>\n",
              "      </button>\n",
              "      \n",
              "  <style>\n",
              "    .colab-df-container {\n",
              "      display:flex;\n",
              "      flex-wrap:wrap;\n",
              "      gap: 12px;\n",
              "    }\n",
              "\n",
              "    .colab-df-convert {\n",
              "      background-color: #E8F0FE;\n",
              "      border: none;\n",
              "      border-radius: 50%;\n",
              "      cursor: pointer;\n",
              "      display: none;\n",
              "      fill: #1967D2;\n",
              "      height: 32px;\n",
              "      padding: 0 0 0 0;\n",
              "      width: 32px;\n",
              "    }\n",
              "\n",
              "    .colab-df-convert:hover {\n",
              "      background-color: #E2EBFA;\n",
              "      box-shadow: 0px 1px 2px rgba(60, 64, 67, 0.3), 0px 1px 3px 1px rgba(60, 64, 67, 0.15);\n",
              "      fill: #174EA6;\n",
              "    }\n",
              "\n",
              "    [theme=dark] .colab-df-convert {\n",
              "      background-color: #3B4455;\n",
              "      fill: #D2E3FC;\n",
              "    }\n",
              "\n",
              "    [theme=dark] .colab-df-convert:hover {\n",
              "      background-color: #434B5C;\n",
              "      box-shadow: 0px 1px 3px 1px rgba(0, 0, 0, 0.15);\n",
              "      filter: drop-shadow(0px 1px 2px rgba(0, 0, 0, 0.3));\n",
              "      fill: #FFFFFF;\n",
              "    }\n",
              "  </style>\n",
              "\n",
              "      <script>\n",
              "        const buttonEl =\n",
              "          document.querySelector('#df-defec1e6-97a4-49c4-bbba-ff4b0afe90e4 button.colab-df-convert');\n",
              "        buttonEl.style.display =\n",
              "          google.colab.kernel.accessAllowed ? 'block' : 'none';\n",
              "\n",
              "        async function convertToInteractive(key) {\n",
              "          const element = document.querySelector('#df-defec1e6-97a4-49c4-bbba-ff4b0afe90e4');\n",
              "          const dataTable =\n",
              "            await google.colab.kernel.invokeFunction('convertToInteractive',\n",
              "                                                     [key], {});\n",
              "          if (!dataTable) return;\n",
              "\n",
              "          const docLinkHtml = 'Like what you see? Visit the ' +\n",
              "            '<a target=\"_blank\" href=https://colab.research.google.com/notebooks/data_table.ipynb>data table notebook</a>'\n",
              "            + ' to learn more about interactive tables.';\n",
              "          element.innerHTML = '';\n",
              "          dataTable['output_type'] = 'display_data';\n",
              "          await google.colab.output.renderOutput(dataTable, element);\n",
              "          const docLink = document.createElement('div');\n",
              "          docLink.innerHTML = docLinkHtml;\n",
              "          element.appendChild(docLink);\n",
              "        }\n",
              "      </script>\n",
              "    </div>\n",
              "  </div>\n",
              "  "
            ]
          },
          "metadata": {},
          "execution_count": 71
        }
      ],
      "source": [
        "df[:10]"
      ]
    },
    {
      "cell_type": "markdown",
      "metadata": {
        "id": "RQCM7xLBcdcm"
      },
      "source": [
        "##Grouping Data by Address"
      ]
    },
    {
      "cell_type": "code",
      "execution_count": null,
      "metadata": {
        "id": "lTl4MA3PcdAG"
      },
      "outputs": [],
      "source": [
        "##Data TB\n",
        "data1 = df.copy()\n",
        "jumlah_tb = data1.loc[(data1['tbc'] == 1)].copy()\n",
        "jumlah_tb.rename(columns={'Umur': 'Umur1'}, inplace=True)\n",
        "dict_cat = {}\n",
        "dict_num = {}\n",
        "\n",
        "for cat in jumlah_tb.select_dtypes(['object']) :\n",
        "    if (cat == 'Alamat'):\n",
        "        continue\n",
        "    dict_cat[cat] = lambda x: x.value_counts().index[0]\n",
        "for num in jumlah_tb.select_dtypes(['int64', 'float64']):\n",
        "    if((num == 'tbc') or (num == 'dbd') or (num == 'tifoid')):\n",
        "        continue\n",
        "    dict_num[num] = ['mean']\n",
        "    \n",
        "data_perdesa = jumlah_tb.groupby('Alamat').agg({\n",
        "    'tbc': 'count',\n",
        "    **dict_num,\n",
        "    **dict_cat\n",
        "})\n",
        "\n",
        "data_perdesa = data_perdesa[['tbc', 'Umur1']]"
      ]
    },
    {
      "cell_type": "code",
      "execution_count": null,
      "metadata": {
        "id": "6lvGVI47cs2B"
      },
      "outputs": [],
      "source": [
        "##Data DBD\n",
        "data1 = df.copy()\n",
        "jumlah_dbd = data1.loc[(data1['dbd'] == 1)].copy()\n",
        "jumlah_dbd.rename(columns={'Umur': 'Umur2'}, inplace=True)\n",
        "dict_cat = {}\n",
        "dict_num = {}\n",
        "\n",
        "for cat in jumlah_dbd.select_dtypes(['object']) :\n",
        "    if (cat == 'Alamat'):\n",
        "        continue\n",
        "    dict_cat[cat] = lambda x: x.value_counts().index[0]\n",
        "for num in jumlah_dbd.select_dtypes(['int64', 'float64']):\n",
        "    if((num == 'tbc') or (num == 'dbd') or (num == 'tifoid')):\n",
        "        continue\n",
        "    dict_num[num] = ['mean']\n",
        "    \n",
        "data_perdesa1 = jumlah_dbd.groupby('Alamat').agg({\n",
        "    'dbd': 'count',\n",
        "    **dict_num,\n",
        "    **dict_cat\n",
        "})\n",
        "\n",
        "data_perdesa1 = data_perdesa1[['dbd', 'Umur2']]"
      ]
    },
    {
      "cell_type": "code",
      "execution_count": null,
      "metadata": {
        "id": "_V53ltlRcvf6"
      },
      "outputs": [],
      "source": [
        "##Data Tifoid\n",
        "data1 = df.copy()\n",
        "jumlah_tifoid = data1.loc[(data1['tifoid'] == 1)].copy()\n",
        "jumlah_tifoid.rename(columns={'Umur': 'Umur3'}, inplace=True)\n",
        "dict_cat = {}\n",
        "dict_num = {}\n",
        "\n",
        "for cat in jumlah_tifoid.select_dtypes(['object']) :\n",
        "    if (cat == 'Alamat'):\n",
        "        continue\n",
        "    dict_cat[cat] = lambda x: x.value_counts().index[0]\n",
        "for num in jumlah_tifoid.select_dtypes(['int64', 'float64']):\n",
        "    if((num == 'tbc') or (num == 'dbd') or (num == 'tifoid')):\n",
        "        continue\n",
        "    dict_num[num] = ['count']\n",
        "    \n",
        "data_perdesa2 = jumlah_tifoid.groupby('Alamat').agg({\n",
        "    'tifoid': 'count',\n",
        "    **dict_num,\n",
        "    **dict_cat\n",
        "})\n",
        "\n",
        "data_perdesa2 = data_perdesa2[['tifoid', 'Umur3']]"
      ]
    },
    {
      "cell_type": "code",
      "execution_count": null,
      "metadata": {
        "id": "_96V-m-YIozd"
      },
      "outputs": [],
      "source": [
        "#Data Etc\n",
        "data1 = df.copy()\n",
        "jumlah = data1.loc[(data1['Nafsu Makan Kurang'] == 1)].copy()\n",
        "dict_cat = {}\n",
        "dict_num = {}\n",
        "\n",
        "for cat in jumlah.select_dtypes(['object']) :\n",
        "    if (cat == 'Alamat'):\n",
        "        continue\n",
        "    dict_cat[cat] = lambda x: x.value_counts().index[0]\n",
        "for num in jumlah.select_dtypes(['int64', 'float64']):\n",
        "    dict_num[num] = ['count']\n",
        "    \n",
        "data_perdesa3 = jumlah.groupby('Alamat').agg({\n",
        "    **dict_num,\n",
        "    **dict_cat\n",
        "})\n",
        "\n",
        "data_perdesa3 = data_perdesa3[['Nafsu Makan Kurang']]"
      ]
    },
    {
      "cell_type": "code",
      "execution_count": null,
      "metadata": {
        "id": "gJH0LSTSIvU-"
      },
      "outputs": [],
      "source": [
        "#Data Etc\n",
        "data1 = df.copy()\n",
        "jumlah = data1.loc[(data1['Sering Jajan Diluar'] == 1)].copy()\n",
        "dict_cat = {}\n",
        "dict_num = {}\n",
        "\n",
        "for cat in jumlah.select_dtypes(['object']) :\n",
        "    if (cat == 'Alamat'):\n",
        "        continue\n",
        "    dict_cat[cat] = lambda x: x.value_counts().index[0]\n",
        "for num in jumlah.select_dtypes(['int64', 'float64']):\n",
        "    dict_num[num] = ['count']\n",
        "    \n",
        "data_perdesa4 = jumlah.groupby('Alamat').agg({\n",
        "    **dict_num,\n",
        "    **dict_cat\n",
        "})\n",
        "\n",
        "data_perdesa4 = data_perdesa4[['Sering Jajan Diluar']]"
      ]
    },
    {
      "cell_type": "code",
      "execution_count": null,
      "metadata": {
        "id": "3BeQN3R_I18R"
      },
      "outputs": [],
      "source": [
        "#Data Etc\n",
        "data1 = df.copy()\n",
        "jumlah = data1.loc[(data1['Tersedia air bersih'] == 1)].copy()\n",
        "dict_cat = {}\n",
        "dict_num = {}\n",
        "\n",
        "for cat in jumlah.select_dtypes(['object']) :\n",
        "    if (cat == 'Alamat'):\n",
        "        continue\n",
        "    dict_cat[cat] = lambda x: x.value_counts().index[0]\n",
        "for num in jumlah.select_dtypes(['int64', 'float64']):\n",
        "    dict_num[num] = ['count']\n",
        "    \n",
        "data_perdesa5 = jumlah.groupby('Alamat').agg({\n",
        "    **dict_num,\n",
        "    **dict_cat\n",
        "})\n",
        "\n",
        "data_perdesa5 = data_perdesa5[['Tersedia air bersih']]"
      ]
    },
    {
      "cell_type": "code",
      "execution_count": null,
      "metadata": {
        "id": "Kp-7NAp6I-xf"
      },
      "outputs": [],
      "source": [
        "#Data Etc\n",
        "data1 = df.copy()\n",
        "jumlah = data1.loc[(data1['Ada lalat/nyamuk di sekitar tumpukan sampah'] == 1)].copy()\n",
        "dict_cat = {}\n",
        "dict_num = {}\n",
        "\n",
        "for cat in jumlah.select_dtypes(['object']) :\n",
        "    if (cat == 'Alamat'):\n",
        "        continue\n",
        "    dict_cat[cat] = lambda x: x.value_counts().index[0]\n",
        "for num in jumlah.select_dtypes(['int64', 'float64']):\n",
        "    dict_num[num] = ['count']\n",
        "    \n",
        "data_perdesa6 = jumlah.groupby('Alamat').agg({\n",
        "    **dict_num,\n",
        "    **dict_cat\n",
        "})\n",
        "\n",
        "data_perdesa6 = data_perdesa6[['Ada lalat/nyamuk di sekitar tumpukan sampah']]"
      ]
    },
    {
      "cell_type": "code",
      "execution_count": null,
      "metadata": {
        "id": "4df1u6ElJH9F"
      },
      "outputs": [],
      "source": [
        "#Data Etc\n",
        "data1 = df.copy()\n",
        "jumlah = data1.loc[(data1['Ada ventilasi disemua ruangan'] == 1)].copy()\n",
        "dict_cat = {}\n",
        "dict_num = {}\n",
        "\n",
        "for cat in jumlah.select_dtypes(['object']) :\n",
        "    if (cat == 'Alamat'):\n",
        "        continue\n",
        "    dict_cat[cat] = lambda x: x.value_counts().index[0]\n",
        "for num in jumlah.select_dtypes(['int64', 'float64']):\n",
        "    dict_num[num] = ['count']\n",
        "    \n",
        "data_perdesa7 = jumlah.groupby('Alamat').agg({\n",
        "    **dict_num,\n",
        "    **dict_cat\n",
        "})\n",
        "\n",
        "data_perdesa7 = data_perdesa7[['Ada ventilasi disemua ruangan']]"
      ]
    },
    {
      "cell_type": "code",
      "execution_count": null,
      "metadata": {
        "id": "qSoqnsztczfM"
      },
      "outputs": [],
      "source": [
        "#Data Etc\n",
        "data1 = df.copy()\n",
        "jumlah = data1.loc[(data1['Sering Pakai Jamban/Toilet'] == 1)].copy()\n",
        "dict_cat = {}\n",
        "dict_num = {}\n",
        "\n",
        "for cat in jumlah.select_dtypes(['object']) :\n",
        "    if (cat == 'Alamat'):\n",
        "        continue\n",
        "    dict_cat[cat] = lambda x: x.value_counts().index[0]\n",
        "for num in jumlah.select_dtypes(['int64', 'float64']):\n",
        "\n",
        "    dict_num[num] = ['count']\n",
        "    \n",
        "data_perdesa8 = jumlah.groupby('Alamat').agg({\n",
        "    **dict_num,\n",
        "    **dict_cat\n",
        "})\n",
        "\n",
        "data_perdesa8 = data_perdesa8[['Sering Pakai Jamban/Toilet']]"
      ]
    },
    {
      "cell_type": "code",
      "execution_count": null,
      "metadata": {
        "id": "VxfQYOgwc72_"
      },
      "outputs": [],
      "source": [
        "##merge 4 column data\n",
        "merge_data = pd.concat([data_perdesa, \n",
        "                          data_perdesa1, \n",
        "                          data_perdesa2,\n",
        "                          data_perdesa3,\n",
        "                          data_perdesa4, \n",
        "                          data_perdesa5,\n",
        "                          data_perdesa6,\n",
        "                          data_perdesa7, \n",
        "                          data_perdesa8], axis='columns')\n",
        "\n",
        "#remove nan data\n",
        "merge_data  = merge_data .replace(np.NaN, 0)"
      ]
    },
    {
      "cell_type": "code",
      "execution_count": null,
      "metadata": {
        "id": "vtRfjmNJdGya"
      },
      "outputs": [],
      "source": [
        "##fix named columns\n",
        "merge_data.columns = merge_data.columns.map(''.join).str.strip('|')\n",
        "merge_data.columns = [\n",
        "    c.replace('mean', '').replace('count', '') for c in merge_data.columns\n",
        "]\n"
      ]
    },
    {
      "cell_type": "code",
      "execution_count": null,
      "metadata": {
        "id": "hcKscq94Kt4f"
      },
      "outputs": [],
      "source": [
        "#evarage column umur\n",
        "merge_data['Umur'] = (merge_data['Umur1']+merge_data['Umur2']+merge_data['Umur3'])/3\n",
        "merge_data = merge_data.drop(['Umur1', 'Umur2', 'Umur3'], axis=1)\n",
        "\n",
        "#convert to float columns int\n",
        "merge_data['Sering Pakai Jamban/Toilet'] = merge_data['Sering Pakai Jamban/Toilet'].astype(float)"
      ]
    },
    {
      "cell_type": "code",
      "execution_count": null,
      "metadata": {
        "id": "afPAcedqEEIU"
      },
      "outputs": [],
      "source": [
        "merge_data.index.name = None"
      ]
    },
    {
      "cell_type": "code",
      "execution_count": null,
      "metadata": {
        "colab": {
          "base_uri": "https://localhost:8080/"
        },
        "id": "tNQu2WAXNbK1",
        "outputId": "d5443dc7-ff48-4a60-9d56-42dae2128cd6"
      },
      "outputs": [
        {
          "output_type": "execute_result",
          "data": {
            "text/plain": [
              "                      tbc   dbd  tifoid  Nafsu Makan Kurang  \\\n",
              "Bili Bili (Gowa)     11.0   9.0    14.0                26.0   \n",
              "Binangae (Gowa)       1.0   0.0     0.0                 0.0   \n",
              "Bonto Bontoa (Gowa)   2.0  10.0     3.0                14.0   \n",
              "Bonto-Bonto (Gowa)    1.0   0.0     0.0                 0.0   \n",
              "Bontomanai (Gowa)    36.0  29.0    54.0               103.0   \n",
              "Bontomarannu (Gowa)   5.0   1.0     2.0                 5.0   \n",
              "Bontonompo (Gowa)     2.0   0.0     1.0                 1.0   \n",
              "Bontoramba (Gowa)     4.0   8.0     8.0                17.0   \n",
              "Bontotangnga (Gowa)   1.0   0.0     0.0                 1.0   \n",
              "Borong (Gowa)         1.0   0.0     0.0                 1.0   \n",
              "\n",
              "                     Sering Jajan Diluar  Tersedia air bersih  \\\n",
              "Bili Bili (Gowa)                    19.0                 33.0   \n",
              "Binangae (Gowa)                      1.0                  1.0   \n",
              "Bonto Bontoa (Gowa)                 13.0                 15.0   \n",
              "Bonto-Bonto (Gowa)                   1.0                  1.0   \n",
              "Bontomanai (Gowa)                   73.0                119.0   \n",
              "Bontomarannu (Gowa)                  6.0                  8.0   \n",
              "Bontonompo (Gowa)                    1.0                  3.0   \n",
              "Bontoramba (Gowa)                   16.0                 20.0   \n",
              "Bontotangnga (Gowa)                  0.0                  1.0   \n",
              "Borong (Gowa)                        0.0                  1.0   \n",
              "\n",
              "                     Ada lalat/nyamuk di sekitar tumpukan sampah  \\\n",
              "Bili Bili (Gowa)                                             1.0   \n",
              "Binangae (Gowa)                                              0.0   \n",
              "Bonto Bontoa (Gowa)                                          2.0   \n",
              "Bonto-Bonto (Gowa)                                           0.0   \n",
              "Bontomanai (Gowa)                                            5.0   \n",
              "Bontomarannu (Gowa)                                          0.0   \n",
              "Bontonompo (Gowa)                                            0.0   \n",
              "Bontoramba (Gowa)                                            1.0   \n",
              "Bontotangnga (Gowa)                                          0.0   \n",
              "Borong (Gowa)                                                0.0   \n",
              "\n",
              "                     Ada ventilasi disemua ruangan  \\\n",
              "Bili Bili (Gowa)                              18.0   \n",
              "Binangae (Gowa)                                1.0   \n",
              "Bonto Bontoa (Gowa)                            6.0   \n",
              "Bonto-Bonto (Gowa)                             0.0   \n",
              "Bontomanai (Gowa)                             63.0   \n",
              "Bontomarannu (Gowa)                            5.0   \n",
              "Bontonompo (Gowa)                              1.0   \n",
              "Bontoramba (Gowa)                             14.0   \n",
              "Bontotangnga (Gowa)                            0.0   \n",
              "Borong (Gowa)                                  0.0   \n",
              "\n",
              "                     Sering Pakai Jamban/Toilet       Umur  \n",
              "Bili Bili (Gowa)                           31.0  28.659933  \n",
              "Binangae (Gowa)                             1.0   9.666667  \n",
              "Bonto Bontoa (Gowa)                        14.0  27.333333  \n",
              "Bonto-Bonto (Gowa)                          1.0   6.000000  \n",
              "Bontomanai (Gowa)                         115.0  37.869413  \n",
              "Bontomarannu (Gowa)                         8.0  13.933333  \n",
              "Bontonompo (Gowa)                           3.0  16.500000  \n",
              "Bontoramba (Gowa)                          18.0  21.625000  \n",
              "Bontotangnga (Gowa)                         1.0  19.333333  \n",
              "Borong (Gowa)                               1.0  15.000000  "
            ],
            "text/html": [
              "\n",
              "  <div id=\"df-f6f2d3b6-202a-4c0c-ac02-a541eb245ca3\">\n",
              "    <div class=\"colab-df-container\">\n",
              "      <div>\n",
              "<style scoped>\n",
              "    .dataframe tbody tr th:only-of-type {\n",
              "        vertical-align: middle;\n",
              "    }\n",
              "\n",
              "    .dataframe tbody tr th {\n",
              "        vertical-align: top;\n",
              "    }\n",
              "\n",
              "    .dataframe thead th {\n",
              "        text-align: right;\n",
              "    }\n",
              "</style>\n",
              "<table border=\"1\" class=\"dataframe\">\n",
              "  <thead>\n",
              "    <tr style=\"text-align: right;\">\n",
              "      <th></th>\n",
              "      <th>tbc</th>\n",
              "      <th>dbd</th>\n",
              "      <th>tifoid</th>\n",
              "      <th>Nafsu Makan Kurang</th>\n",
              "      <th>Sering Jajan Diluar</th>\n",
              "      <th>Tersedia air bersih</th>\n",
              "      <th>Ada lalat/nyamuk di sekitar tumpukan sampah</th>\n",
              "      <th>Ada ventilasi disemua ruangan</th>\n",
              "      <th>Sering Pakai Jamban/Toilet</th>\n",
              "      <th>Umur</th>\n",
              "    </tr>\n",
              "  </thead>\n",
              "  <tbody>\n",
              "    <tr>\n",
              "      <th>Bili Bili (Gowa)</th>\n",
              "      <td>11.0</td>\n",
              "      <td>9.0</td>\n",
              "      <td>14.0</td>\n",
              "      <td>26.0</td>\n",
              "      <td>19.0</td>\n",
              "      <td>33.0</td>\n",
              "      <td>1.0</td>\n",
              "      <td>18.0</td>\n",
              "      <td>31.0</td>\n",
              "      <td>28.659933</td>\n",
              "    </tr>\n",
              "    <tr>\n",
              "      <th>Binangae (Gowa)</th>\n",
              "      <td>1.0</td>\n",
              "      <td>0.0</td>\n",
              "      <td>0.0</td>\n",
              "      <td>0.0</td>\n",
              "      <td>1.0</td>\n",
              "      <td>1.0</td>\n",
              "      <td>0.0</td>\n",
              "      <td>1.0</td>\n",
              "      <td>1.0</td>\n",
              "      <td>9.666667</td>\n",
              "    </tr>\n",
              "    <tr>\n",
              "      <th>Bonto Bontoa (Gowa)</th>\n",
              "      <td>2.0</td>\n",
              "      <td>10.0</td>\n",
              "      <td>3.0</td>\n",
              "      <td>14.0</td>\n",
              "      <td>13.0</td>\n",
              "      <td>15.0</td>\n",
              "      <td>2.0</td>\n",
              "      <td>6.0</td>\n",
              "      <td>14.0</td>\n",
              "      <td>27.333333</td>\n",
              "    </tr>\n",
              "    <tr>\n",
              "      <th>Bonto-Bonto (Gowa)</th>\n",
              "      <td>1.0</td>\n",
              "      <td>0.0</td>\n",
              "      <td>0.0</td>\n",
              "      <td>0.0</td>\n",
              "      <td>1.0</td>\n",
              "      <td>1.0</td>\n",
              "      <td>0.0</td>\n",
              "      <td>0.0</td>\n",
              "      <td>1.0</td>\n",
              "      <td>6.000000</td>\n",
              "    </tr>\n",
              "    <tr>\n",
              "      <th>Bontomanai (Gowa)</th>\n",
              "      <td>36.0</td>\n",
              "      <td>29.0</td>\n",
              "      <td>54.0</td>\n",
              "      <td>103.0</td>\n",
              "      <td>73.0</td>\n",
              "      <td>119.0</td>\n",
              "      <td>5.0</td>\n",
              "      <td>63.0</td>\n",
              "      <td>115.0</td>\n",
              "      <td>37.869413</td>\n",
              "    </tr>\n",
              "    <tr>\n",
              "      <th>Bontomarannu (Gowa)</th>\n",
              "      <td>5.0</td>\n",
              "      <td>1.0</td>\n",
              "      <td>2.0</td>\n",
              "      <td>5.0</td>\n",
              "      <td>6.0</td>\n",
              "      <td>8.0</td>\n",
              "      <td>0.0</td>\n",
              "      <td>5.0</td>\n",
              "      <td>8.0</td>\n",
              "      <td>13.933333</td>\n",
              "    </tr>\n",
              "    <tr>\n",
              "      <th>Bontonompo (Gowa)</th>\n",
              "      <td>2.0</td>\n",
              "      <td>0.0</td>\n",
              "      <td>1.0</td>\n",
              "      <td>1.0</td>\n",
              "      <td>1.0</td>\n",
              "      <td>3.0</td>\n",
              "      <td>0.0</td>\n",
              "      <td>1.0</td>\n",
              "      <td>3.0</td>\n",
              "      <td>16.500000</td>\n",
              "    </tr>\n",
              "    <tr>\n",
              "      <th>Bontoramba (Gowa)</th>\n",
              "      <td>4.0</td>\n",
              "      <td>8.0</td>\n",
              "      <td>8.0</td>\n",
              "      <td>17.0</td>\n",
              "      <td>16.0</td>\n",
              "      <td>20.0</td>\n",
              "      <td>1.0</td>\n",
              "      <td>14.0</td>\n",
              "      <td>18.0</td>\n",
              "      <td>21.625000</td>\n",
              "    </tr>\n",
              "    <tr>\n",
              "      <th>Bontotangnga (Gowa)</th>\n",
              "      <td>1.0</td>\n",
              "      <td>0.0</td>\n",
              "      <td>0.0</td>\n",
              "      <td>1.0</td>\n",
              "      <td>0.0</td>\n",
              "      <td>1.0</td>\n",
              "      <td>0.0</td>\n",
              "      <td>0.0</td>\n",
              "      <td>1.0</td>\n",
              "      <td>19.333333</td>\n",
              "    </tr>\n",
              "    <tr>\n",
              "      <th>Borong (Gowa)</th>\n",
              "      <td>1.0</td>\n",
              "      <td>0.0</td>\n",
              "      <td>0.0</td>\n",
              "      <td>1.0</td>\n",
              "      <td>0.0</td>\n",
              "      <td>1.0</td>\n",
              "      <td>0.0</td>\n",
              "      <td>0.0</td>\n",
              "      <td>1.0</td>\n",
              "      <td>15.000000</td>\n",
              "    </tr>\n",
              "  </tbody>\n",
              "</table>\n",
              "</div>\n",
              "      <button class=\"colab-df-convert\" onclick=\"convertToInteractive('df-f6f2d3b6-202a-4c0c-ac02-a541eb245ca3')\"\n",
              "              title=\"Convert this dataframe to an interactive table.\"\n",
              "              style=\"display:none;\">\n",
              "        \n",
              "  <svg xmlns=\"http://www.w3.org/2000/svg\" height=\"24px\"viewBox=\"0 0 24 24\"\n",
              "       width=\"24px\">\n",
              "    <path d=\"M0 0h24v24H0V0z\" fill=\"none\"/>\n",
              "    <path d=\"M18.56 5.44l.94 2.06.94-2.06 2.06-.94-2.06-.94-.94-2.06-.94 2.06-2.06.94zm-11 1L8.5 8.5l.94-2.06 2.06-.94-2.06-.94L8.5 2.5l-.94 2.06-2.06.94zm10 10l.94 2.06.94-2.06 2.06-.94-2.06-.94-.94-2.06-.94 2.06-2.06.94z\"/><path d=\"M17.41 7.96l-1.37-1.37c-.4-.4-.92-.59-1.43-.59-.52 0-1.04.2-1.43.59L10.3 9.45l-7.72 7.72c-.78.78-.78 2.05 0 2.83L4 21.41c.39.39.9.59 1.41.59.51 0 1.02-.2 1.41-.59l7.78-7.78 2.81-2.81c.8-.78.8-2.07 0-2.86zM5.41 20L4 18.59l7.72-7.72 1.47 1.35L5.41 20z\"/>\n",
              "  </svg>\n",
              "      </button>\n",
              "      \n",
              "  <style>\n",
              "    .colab-df-container {\n",
              "      display:flex;\n",
              "      flex-wrap:wrap;\n",
              "      gap: 12px;\n",
              "    }\n",
              "\n",
              "    .colab-df-convert {\n",
              "      background-color: #E8F0FE;\n",
              "      border: none;\n",
              "      border-radius: 50%;\n",
              "      cursor: pointer;\n",
              "      display: none;\n",
              "      fill: #1967D2;\n",
              "      height: 32px;\n",
              "      padding: 0 0 0 0;\n",
              "      width: 32px;\n",
              "    }\n",
              "\n",
              "    .colab-df-convert:hover {\n",
              "      background-color: #E2EBFA;\n",
              "      box-shadow: 0px 1px 2px rgba(60, 64, 67, 0.3), 0px 1px 3px 1px rgba(60, 64, 67, 0.15);\n",
              "      fill: #174EA6;\n",
              "    }\n",
              "\n",
              "    [theme=dark] .colab-df-convert {\n",
              "      background-color: #3B4455;\n",
              "      fill: #D2E3FC;\n",
              "    }\n",
              "\n",
              "    [theme=dark] .colab-df-convert:hover {\n",
              "      background-color: #434B5C;\n",
              "      box-shadow: 0px 1px 3px 1px rgba(0, 0, 0, 0.15);\n",
              "      filter: drop-shadow(0px 1px 2px rgba(0, 0, 0, 0.3));\n",
              "      fill: #FFFFFF;\n",
              "    }\n",
              "  </style>\n",
              "\n",
              "      <script>\n",
              "        const buttonEl =\n",
              "          document.querySelector('#df-f6f2d3b6-202a-4c0c-ac02-a541eb245ca3 button.colab-df-convert');\n",
              "        buttonEl.style.display =\n",
              "          google.colab.kernel.accessAllowed ? 'block' : 'none';\n",
              "\n",
              "        async function convertToInteractive(key) {\n",
              "          const element = document.querySelector('#df-f6f2d3b6-202a-4c0c-ac02-a541eb245ca3');\n",
              "          const dataTable =\n",
              "            await google.colab.kernel.invokeFunction('convertToInteractive',\n",
              "                                                     [key], {});\n",
              "          if (!dataTable) return;\n",
              "\n",
              "          const docLinkHtml = 'Like what you see? Visit the ' +\n",
              "            '<a target=\"_blank\" href=https://colab.research.google.com/notebooks/data_table.ipynb>data table notebook</a>'\n",
              "            + ' to learn more about interactive tables.';\n",
              "          element.innerHTML = '';\n",
              "          dataTable['output_type'] = 'display_data';\n",
              "          await google.colab.output.renderOutput(dataTable, element);\n",
              "          const docLink = document.createElement('div');\n",
              "          docLink.innerHTML = docLinkHtml;\n",
              "          element.appendChild(docLink);\n",
              "        }\n",
              "      </script>\n",
              "    </div>\n",
              "  </div>\n",
              "  "
            ]
          },
          "metadata": {},
          "execution_count": 85
        }
      ],
      "source": [
        "merge_data.shape\n",
        "merge_data[:10]"
      ]
    },
    {
      "cell_type": "code",
      "execution_count": null,
      "metadata": {
        "colab": {
          "base_uri": "https://localhost:8080/"
        },
        "id": "u5Jwddgwdw2-",
        "outputId": "7c1a36a5-7f2d-4bd7-85fc-42494303cbef"
      },
      "outputs": [
        {
          "output_type": "stream",
          "name": "stdout",
          "text": [
            "Bili Bili\n",
            "Binangae\n",
            "Bonto Bontoa\n",
            "Bonto-Bonto\n",
            "Bontomanai\n",
            "Bontomarannu\n",
            "Bontonompo\n",
            "Bontoramba\n",
            "Bontotangnga\n",
            "Borong\n",
            "Borongloe\n",
            "Gowa\n",
            "Jalan Bangkala, Manggala\n",
            "Jalan Danau Mawang No. 4\n",
            "Jalan Poros Malino\n",
            "Maccini Baji\n",
            "Mata Allo\n",
            "Nirannuang\n",
            "Pakatto\n",
            "Palangga\n",
            "Pattalassang\n",
            "Romang Lompoa\n",
            "Romangloe\n",
            "Samata\n",
            "Sokkolia\n",
            "Somba Opu\n",
            "Barombong\n",
            "Borong Sapiri\n",
            "Kampung Beru\n",
            "Lempangang\n",
            "Moncongloe\n",
            "Sungguminasa\n",
            "Tangkebajeng\n",
            "Buntu Alang\n",
            "Lauwa\n",
            "Pallantikang\n",
            "Panambungan\n",
            "Romang Polong\n",
            "Sapaya\n"
          ]
        }
      ],
      "source": [
        "#COUNT LOGITUDE AND LATITUDE FOR ALL DESA\n",
        "alamat = []\n",
        "for i in merge_data.index:\n",
        "  splitted = i.split(' (')\n",
        "  alamat.append(splitted[0])\n",
        "geolocator = Nominatim(user_agent=\"tes\")\n",
        "coord = []\n",
        "for i in range(0, len(alamat)):\n",
        "  loc = alamat[i]\n",
        "  location = geolocator.geocode(loc, timeout=None)\n",
        "  if location != None:\n",
        "    m = 0.0025\n",
        "    coord.append([[location.latitude, location.longitude],\n",
        "                  [location.latitude + m, location.longitude + m],\n",
        "                  [location.latitude + m, location.longitude - m],\n",
        "                  [location.latitude - m, location.longitude + m],\n",
        "                  [location.latitude - m, location.longitude - m]])\n",
        "    print(loc)\n",
        "coord1 = [i[0] for i in coord]\n",
        "coord2 = [i[1] for i in coord]\n",
        "coord3 = [i[2] for i in coord]\n",
        "coord4 = [i[3] for i in coord]\n",
        "coord5 = [i[4] for i in coord]"
      ]
    },
    {
      "cell_type": "markdown",
      "metadata": {
        "id": "0DqDoMrVmuy3"
      },
      "source": [
        "## **ALGORITHM**"
      ]
    },
    {
      "cell_type": "markdown",
      "metadata": {
        "id": "TXJ1pP3RTV3G"
      },
      "source": [
        "Kmeans from Scratch"
      ]
    },
    {
      "cell_type": "code",
      "execution_count": null,
      "metadata": {
        "id": "i7NBjXakoCxT"
      },
      "outputs": [],
      "source": [
        "class KMeans:\n",
        "    def __init__(\n",
        "            self,\n",
        "            n_cluster: int,\n",
        "            init_pp: bool = True,\n",
        "            max_iter: int = 300,\n",
        "            tolerance: float = 1e-4,\n",
        "            seed: int = None):\n",
        "        self.n_cluster = n_cluster\n",
        "        self.max_iter = max_iter\n",
        "        self.tolerance = tolerance\n",
        "        self.init_pp = init_pp\n",
        "        self.seed = seed\n",
        "        self.centroid = None\n",
        "        self.SSE = None\n",
        "\n",
        "    def fit(self, data: np.ndarray):\n",
        "        self.centroid = self._init_centroid(data)\n",
        "        for _ in range(self.max_iter):\n",
        "            distance = self._calc_distance(data)\n",
        "            cluster = self._assign_cluster(distance)\n",
        "            new_centroid = self._update_centroid(data, cluster)\n",
        "            diff = np.abs(self.centroid - new_centroid).mean()\n",
        "            self.centroid = new_centroid\n",
        "\n",
        "            if diff <= self.tolerance:\n",
        "                break\n",
        "\n",
        "        self.SSE = calc_sse(self.centroid, cluster, data)\n",
        "\n",
        "    def predict(self, data: np.ndarray):\n",
        "        distance = self._calc_distance(data)\n",
        "        # print(distance.shape)\n",
        "        cluster = self._assign_cluster(distance)\n",
        "        # print(cluster.shape)\n",
        "        return cluster\n",
        "\n",
        "    def _init_centroid(self, data: np.ndarray):\n",
        "        if self.init_pp:\n",
        "            np.random.seed(self.seed)\n",
        "            centroid = [int(np.random.uniform()*len(data))]\n",
        "            for _ in range(1, self.n_cluster):\n",
        "                dist = []\n",
        "                dist = [min([np.inner(data[c]-x, data[c]-x) for c in centroid])\n",
        "                        for i, x in enumerate(data)]\n",
        "                dist = np.array(dist)\n",
        "                dist = dist / dist.sum()\n",
        "                cumdist = np.cumsum(dist)\n",
        "\n",
        "                prob = np.random.rand()\n",
        "                for i, c in enumerate(cumdist):\n",
        "                    if prob > c and i not in centroid:\n",
        "                        centroid.append(i)\n",
        "                        break\n",
        "            centroid = np.array([data[c] for c in centroid])\n",
        "        else:\n",
        "            np.random.seed(self.seed)\n",
        "            idx = np.random.choice(range(len(data)), size=(self.n_cluster))\n",
        "            centroid = data[idx]\n",
        "        # print(centroid)\n",
        "        return centroid\n",
        "\n",
        "    def _calc_distance(self, data: np.ndarray):\n",
        "        distances = []\n",
        "        for c in self.centroid:\n",
        "            distance = np.sum((data - c) * (data - c), axis=1)\n",
        "            distances.append(distance)\n",
        "\n",
        "        distances = np.array(distances)\n",
        "        distances = distances.T\n",
        "        return distances\n",
        "\n",
        "    def _assign_cluster(self, distance: np.ndarray):\n",
        "        cluster = np.argmin(distance, axis=1)\n",
        "        return cluster\n",
        "\n",
        "    def _update_centroid(self, data: np.ndarray, cluster: np.ndarray):\n",
        "        centroids = []\n",
        "        for i in range(self.n_cluster):\n",
        "            idx = np.where(cluster == i)\n",
        "            centroid = np.mean(data[idx], axis=0)\n",
        "            centroids.append(centroid)\n",
        "        centroids = np.array(centroids)\n",
        "        return centroids"
      ]
    },
    {
      "cell_type": "markdown",
      "metadata": {
        "id": "sA3n8J2HTbkj"
      },
      "source": [
        "SSE"
      ]
    },
    {
      "cell_type": "code",
      "execution_count": null,
      "metadata": {
        "id": "ThkpxD3xn-cD"
      },
      "outputs": [],
      "source": [
        "def calc_sse(centroids: np.ndarray, labels: np.ndarray, data: np.ndarray):\n",
        "    distances = 0\n",
        "    for i, c in enumerate(centroids):\n",
        "        idx = np.where(labels == i)\n",
        "        dist = np.sum((data[idx] - c)**2)\n",
        "        distances += dist\n",
        "    return distances"
      ]
    },
    {
      "cell_type": "markdown",
      "metadata": {
        "id": "MwBSpmrCTdaA"
      },
      "source": [
        "Quantization Error"
      ]
    },
    {
      "cell_type": "code",
      "execution_count": null,
      "metadata": {
        "id": "1lpkGUnFrIy4"
      },
      "outputs": [],
      "source": [
        "def quantization_error(centroids: np.ndarray, labels: np.ndarray, data: np.ndarray) -> float:\n",
        "    error = 0.0\n",
        "    for i, c in enumerate(centroids):\n",
        "        idx = np.where(labels == i)\n",
        "        dist = np.linalg.norm(data[idx] - c)\n",
        "        dist /= len(idx)\n",
        "        error += dist\n",
        "    error /= len(centroids)\n",
        "    return error"
      ]
    },
    {
      "cell_type": "markdown",
      "metadata": {
        "id": "4P9uGlS_TgHm"
      },
      "source": [
        "Particle for PSO"
      ]
    },
    {
      "cell_type": "code",
      "execution_count": null,
      "metadata": {
        "id": "fgB6q8QHntmA"
      },
      "outputs": [],
      "source": [
        "class Particle:\n",
        "    def __init__(self,\n",
        "                 n_cluster: int,\n",
        "                 data: np.ndarray,\n",
        "                 use_kmeans: bool = False,\n",
        "                 w: float = 0.9,\n",
        "                 c1: float = 0.5,\n",
        "                 c2: float = 0.3):\n",
        "        index = np.random.choice(list(range(len(data))), n_cluster)\n",
        "        self.centroids = data[index].copy()\n",
        "        if use_kmeans:\n",
        "            kmeans = KMeans(n_cluster=n_cluster, init_pp=False)\n",
        "            kmeans.fit(data)\n",
        "            self.centroids = kmeans.centroid.copy()\n",
        "        self.best_position = self.centroids.copy()\n",
        "        self.best_score = quantization_error(self.centroids, self._predict(data), data)\n",
        "        self.best_sse = calc_sse(self.centroids, self._predict(data), data)\n",
        "        self.velocity = np.zeros_like(self.centroids)\n",
        "        self._w = w\n",
        "        self._c1 = c1\n",
        "        self._c2 = c2\n",
        "        self.r1 = 0  # tambahkana variabel r1\n",
        "        self.r2 = 0  # tambahkan variabel r2\n",
        "\n",
        "    def update(self, gbest_position: np.ndarray, data: np.ndarray):\n",
        "        self._update_velocity(gbest_position)\n",
        "        self._update_centroids(data)\n",
        "\n",
        "    def _update_velocity(self, gbest_position: np.ndarray):\n",
        "        v_old = self._w * self.velocity\n",
        "        self.r1 = np.random.random()\n",
        "        self.r2 = np.random.random()\n",
        "        cognitive_component = self._c1 * self.r1 * (self.best_position - self.centroids)\n",
        "        social_component = self._c2 * self.r2 * (gbest_position - self.centroids)\n",
        "        self.velocity = v_old + cognitive_component + social_component\n",
        "\n",
        "    def _update_centroids(self, data: np.ndarray):\n",
        "        self.centroids = self.centroids + self.velocity\n",
        "        new_score = quantization_error(self.centroids, self._predict(data), data)\n",
        "        sse = calc_sse(self.centroids, self._predict(data), data)\n",
        "        self.best_sse = min(sse, self.best_sse)\n",
        "        if new_score < self.best_score:\n",
        "            self.best_score = new_score\n",
        "            self.best_position = self.centroids.copy()\n",
        "\n",
        "    def _predict(self, data: np.ndarray) -> np.ndarray:\n",
        "        distance = self._calc_distance(data)\n",
        "        cluster = self._assign_cluster(distance)\n",
        "        return cluster\n",
        "\n",
        "    def _calc_distance(self, data: np.ndarray) -> np.ndarray:\n",
        "        distances = []\n",
        "        for c in self.centroids:\n",
        "            distance = np.sum((data - c) * (data - c), axis=1)\n",
        "            distances.append(distance)\n",
        "\n",
        "        distances = np.array(distances)\n",
        "        distances = np.transpose(distances)\n",
        "        return distances\n",
        "\n",
        "    def _assign_cluster(self, distance: np.ndarray) -> np.ndarray:\n",
        "        cluster = np.argmin(distance, axis=1)\n",
        "        return cluster\n",
        "    \n",
        "    def print_velocity(self):\n",
        "        print(self.velocity)\n",
        "\n",
        "    def print_r1(self):\n",
        "        print(self.r1)\n",
        "    \n",
        "    def print_r2(self):\n",
        "        print(self.r2)\n",
        "        \n",
        "    def print_best_position(self):\n",
        "        print(self.best_position)"
      ]
    },
    {
      "cell_type": "markdown",
      "metadata": {
        "id": "GId7j20oTvbb"
      },
      "source": [
        "PSO from Scratch"
      ]
    },
    {
      "cell_type": "code",
      "execution_count": null,
      "metadata": {
        "id": "_vHIa8EsnIEa"
      },
      "outputs": [],
      "source": [
        "class ParticleSwarmOptimizedClustering:\n",
        "    def __init__(self,\n",
        "                 n_cluster: int,\n",
        "                 n_particles: int,\n",
        "                 data: np.ndarray,\n",
        "                 hybrid: bool = True,\n",
        "                 max_iter: int = 100,\n",
        "                 print_debug: int = 10):\n",
        "        self.n_cluster = n_cluster\n",
        "        self.n_particles = n_particles\n",
        "        self.data = data\n",
        "        self.max_iter = max_iter\n",
        "        self.particles = []\n",
        "        self.hybrid = hybrid\n",
        "\n",
        "        self.print_debug = print_debug\n",
        "        self.gbest_score = np.inf\n",
        "        self.gbest_centroids = None\n",
        "        self.gbest_position = None\n",
        "        self.gbest_sse = np.inf\n",
        "        self._init_particles()\n",
        "\n",
        "    def _init_particles(self):\n",
        "        for i in range(self.n_particles):\n",
        "            particle = None\n",
        "            if i == 0 and self.hybrid:\n",
        "                particle = Particle(self.n_cluster, self.data, use_kmeans=True)\n",
        "            else:\n",
        "                particle = Particle(self.n_cluster, self.data, use_kmeans=False)\n",
        "            if particle.best_score < self.gbest_score:\n",
        "                self.gbest_centroids = particle.centroids.copy()\n",
        "                self.gbest_score = particle.best_score\n",
        "            self.particles.append(particle)\n",
        "            self.gbest_sse = min(particle.best_sse, self.gbest_sse)\n",
        "\n",
        "    def run(self):\n",
        "        print('Initial global best score', self.gbest_score)\n",
        "        history = []\n",
        "        for i in range(self.max_iter):\n",
        "            for particle in self.particles:\n",
        "                particle.update(self.gbest_centroids, self.data)\n",
        "                # print(i, particle.best_score, self.gbest_score)\n",
        "            for particle in self.particles:\n",
        "                if particle.best_score < self.gbest_score:\n",
        "                    self.gbest_centroids = particle.centroids.copy()\n",
        "                    self.gbest_score = particle.best_score\n",
        "            history.append(self.gbest_score)\n",
        "            if i % self.print_debug == 0:\n",
        "                print('Iteration {:04d}/{:04d} current gbest score {:.18f}'.format(\n",
        "                    i + 1, self.max_iter, self.gbest_score))\n",
        "        print('Finish with gbest score {:.18f}'.format(self.gbest_score))\n",
        "        return history\n",
        "    "
      ]
    },
    {
      "cell_type": "markdown",
      "metadata": {
        "id": "rCbVFNCCUZob"
      },
      "source": [
        "Perhitungan PSO terdiri atas nilai posisi partikel X(t+1) yang diupdate berdasarkan nilai kecepatan partikel U(t+1) dan memiliki persamaan :\n",
        "U(t+1) = wU(t) + c1r1(Pbest-X(t)) + c2r2(Gbest-X(t))\n",
        "\n",
        "Dimana w adalah bobot inersia dengan nilai 0,9 - 1,2;\n",
        "Pbest adalah posisi partikel S yang terbaik dari waktu awal sampai waktu skrg;\n",
        "Gbest adalah global best partikel yg dipilih dari Pbest yang memiliki posisi terbaik;\n",
        "r1 dan r2 adalah bilangan acak 0-1;\n",
        "c1=c2 adalah learning rates yang diperoleh juga secara random"
      ]
    },
    {
      "cell_type": "markdown",
      "metadata": {
        "id": "ATqHRC06Kk3-"
      },
      "source": [
        "##*Data Normalization*"
      ]
    },
    {
      "cell_type": "code",
      "execution_count": null,
      "metadata": {
        "colab": {
          "base_uri": "https://localhost:8080/"
        },
        "id": "MhApZJwXHhW7",
        "outputId": "0a426483-a5e1-4131-8f7a-6a30a8d6f2ad"
      },
      "outputs": [
        {
          "output_type": "execute_result",
          "data": {
            "text/plain": [
              "                       tbc       dbd    tifoid  Nafsu Makan Kurang  \\\n",
              "Bili Bili (Gowa)     0.275  0.169811  0.259259            0.228070   \n",
              "Binangae (Gowa)      0.025  0.000000  0.000000            0.000000   \n",
              "Bonto Bontoa (Gowa)  0.050  0.188679  0.055556            0.122807   \n",
              "Bonto-Bonto (Gowa)   0.025  0.000000  0.000000            0.000000   \n",
              "Bontomanai (Gowa)    0.900  0.547170  1.000000            0.903509   \n",
              "Bontomarannu (Gowa)  0.125  0.018868  0.037037            0.043860   \n",
              "Bontonompo (Gowa)    0.050  0.000000  0.018519            0.008772   \n",
              "Bontoramba (Gowa)    0.100  0.150943  0.148148            0.149123   \n",
              "Bontotangnga (Gowa)  0.025  0.000000  0.000000            0.008772   \n",
              "Borong (Gowa)        0.025  0.000000  0.000000            0.008772   \n",
              "\n",
              "                     Sering Jajan Diluar  Tersedia air bersih  \\\n",
              "Bili Bili (Gowa)                0.202128             0.239130   \n",
              "Binangae (Gowa)                 0.010638             0.007246   \n",
              "Bonto Bontoa (Gowa)             0.138298             0.108696   \n",
              "Bonto-Bonto (Gowa)              0.010638             0.007246   \n",
              "Bontomanai (Gowa)               0.776596             0.862319   \n",
              "Bontomarannu (Gowa)             0.063830             0.057971   \n",
              "Bontonompo (Gowa)               0.010638             0.021739   \n",
              "Bontoramba (Gowa)               0.170213             0.144928   \n",
              "Bontotangnga (Gowa)             0.000000             0.007246   \n",
              "Borong (Gowa)                   0.000000             0.007246   \n",
              "\n",
              "                     Ada lalat/nyamuk di sekitar tumpukan sampah  \\\n",
              "Bili Bili (Gowa)                                        0.166667   \n",
              "Binangae (Gowa)                                         0.000000   \n",
              "Bonto Bontoa (Gowa)                                     0.333333   \n",
              "Bonto-Bonto (Gowa)                                      0.000000   \n",
              "Bontomanai (Gowa)                                       0.833333   \n",
              "Bontomarannu (Gowa)                                     0.000000   \n",
              "Bontonompo (Gowa)                                       0.000000   \n",
              "Bontoramba (Gowa)                                       0.166667   \n",
              "Bontotangnga (Gowa)                                     0.000000   \n",
              "Borong (Gowa)                                           0.000000   \n",
              "\n",
              "                     Ada ventilasi disemua ruangan  \\\n",
              "Bili Bili (Gowa)                          0.246575   \n",
              "Binangae (Gowa)                           0.013699   \n",
              "Bonto Bontoa (Gowa)                       0.082192   \n",
              "Bonto-Bonto (Gowa)                        0.000000   \n",
              "Bontomanai (Gowa)                         0.863014   \n",
              "Bontomarannu (Gowa)                       0.068493   \n",
              "Bontonompo (Gowa)                         0.013699   \n",
              "Bontoramba (Gowa)                         0.191781   \n",
              "Bontotangnga (Gowa)                       0.000000   \n",
              "Borong (Gowa)                             0.000000   \n",
              "\n",
              "                     Sering Pakai Jamban/Toilet      Umur  \n",
              "Bili Bili (Gowa)                       0.227273  0.754650  \n",
              "Binangae (Gowa)                        0.000000  0.248650  \n",
              "Bonto Bontoa (Gowa)                    0.098485  0.719308  \n",
              "Bonto-Bonto (Gowa)                     0.000000  0.150966  \n",
              "Bontomanai (Gowa)                      0.863636  1.000000  \n",
              "Bontomarannu (Gowa)                    0.053030  0.362318  \n",
              "Bontonompo (Gowa)                      0.015152  0.430697  \n",
              "Bontoramba (Gowa)                      0.128788  0.567232  \n",
              "Bontotangnga (Gowa)                    0.000000  0.506180  \n",
              "Borong (Gowa)                          0.000000  0.390735  "
            ],
            "text/html": [
              "\n",
              "  <div id=\"df-1aa3d84b-18df-4b9c-9d05-7b9e7e3c4155\">\n",
              "    <div class=\"colab-df-container\">\n",
              "      <div>\n",
              "<style scoped>\n",
              "    .dataframe tbody tr th:only-of-type {\n",
              "        vertical-align: middle;\n",
              "    }\n",
              "\n",
              "    .dataframe tbody tr th {\n",
              "        vertical-align: top;\n",
              "    }\n",
              "\n",
              "    .dataframe thead th {\n",
              "        text-align: right;\n",
              "    }\n",
              "</style>\n",
              "<table border=\"1\" class=\"dataframe\">\n",
              "  <thead>\n",
              "    <tr style=\"text-align: right;\">\n",
              "      <th></th>\n",
              "      <th>tbc</th>\n",
              "      <th>dbd</th>\n",
              "      <th>tifoid</th>\n",
              "      <th>Nafsu Makan Kurang</th>\n",
              "      <th>Sering Jajan Diluar</th>\n",
              "      <th>Tersedia air bersih</th>\n",
              "      <th>Ada lalat/nyamuk di sekitar tumpukan sampah</th>\n",
              "      <th>Ada ventilasi disemua ruangan</th>\n",
              "      <th>Sering Pakai Jamban/Toilet</th>\n",
              "      <th>Umur</th>\n",
              "    </tr>\n",
              "  </thead>\n",
              "  <tbody>\n",
              "    <tr>\n",
              "      <th>Bili Bili (Gowa)</th>\n",
              "      <td>0.275</td>\n",
              "      <td>0.169811</td>\n",
              "      <td>0.259259</td>\n",
              "      <td>0.228070</td>\n",
              "      <td>0.202128</td>\n",
              "      <td>0.239130</td>\n",
              "      <td>0.166667</td>\n",
              "      <td>0.246575</td>\n",
              "      <td>0.227273</td>\n",
              "      <td>0.754650</td>\n",
              "    </tr>\n",
              "    <tr>\n",
              "      <th>Binangae (Gowa)</th>\n",
              "      <td>0.025</td>\n",
              "      <td>0.000000</td>\n",
              "      <td>0.000000</td>\n",
              "      <td>0.000000</td>\n",
              "      <td>0.010638</td>\n",
              "      <td>0.007246</td>\n",
              "      <td>0.000000</td>\n",
              "      <td>0.013699</td>\n",
              "      <td>0.000000</td>\n",
              "      <td>0.248650</td>\n",
              "    </tr>\n",
              "    <tr>\n",
              "      <th>Bonto Bontoa (Gowa)</th>\n",
              "      <td>0.050</td>\n",
              "      <td>0.188679</td>\n",
              "      <td>0.055556</td>\n",
              "      <td>0.122807</td>\n",
              "      <td>0.138298</td>\n",
              "      <td>0.108696</td>\n",
              "      <td>0.333333</td>\n",
              "      <td>0.082192</td>\n",
              "      <td>0.098485</td>\n",
              "      <td>0.719308</td>\n",
              "    </tr>\n",
              "    <tr>\n",
              "      <th>Bonto-Bonto (Gowa)</th>\n",
              "      <td>0.025</td>\n",
              "      <td>0.000000</td>\n",
              "      <td>0.000000</td>\n",
              "      <td>0.000000</td>\n",
              "      <td>0.010638</td>\n",
              "      <td>0.007246</td>\n",
              "      <td>0.000000</td>\n",
              "      <td>0.000000</td>\n",
              "      <td>0.000000</td>\n",
              "      <td>0.150966</td>\n",
              "    </tr>\n",
              "    <tr>\n",
              "      <th>Bontomanai (Gowa)</th>\n",
              "      <td>0.900</td>\n",
              "      <td>0.547170</td>\n",
              "      <td>1.000000</td>\n",
              "      <td>0.903509</td>\n",
              "      <td>0.776596</td>\n",
              "      <td>0.862319</td>\n",
              "      <td>0.833333</td>\n",
              "      <td>0.863014</td>\n",
              "      <td>0.863636</td>\n",
              "      <td>1.000000</td>\n",
              "    </tr>\n",
              "    <tr>\n",
              "      <th>Bontomarannu (Gowa)</th>\n",
              "      <td>0.125</td>\n",
              "      <td>0.018868</td>\n",
              "      <td>0.037037</td>\n",
              "      <td>0.043860</td>\n",
              "      <td>0.063830</td>\n",
              "      <td>0.057971</td>\n",
              "      <td>0.000000</td>\n",
              "      <td>0.068493</td>\n",
              "      <td>0.053030</td>\n",
              "      <td>0.362318</td>\n",
              "    </tr>\n",
              "    <tr>\n",
              "      <th>Bontonompo (Gowa)</th>\n",
              "      <td>0.050</td>\n",
              "      <td>0.000000</td>\n",
              "      <td>0.018519</td>\n",
              "      <td>0.008772</td>\n",
              "      <td>0.010638</td>\n",
              "      <td>0.021739</td>\n",
              "      <td>0.000000</td>\n",
              "      <td>0.013699</td>\n",
              "      <td>0.015152</td>\n",
              "      <td>0.430697</td>\n",
              "    </tr>\n",
              "    <tr>\n",
              "      <th>Bontoramba (Gowa)</th>\n",
              "      <td>0.100</td>\n",
              "      <td>0.150943</td>\n",
              "      <td>0.148148</td>\n",
              "      <td>0.149123</td>\n",
              "      <td>0.170213</td>\n",
              "      <td>0.144928</td>\n",
              "      <td>0.166667</td>\n",
              "      <td>0.191781</td>\n",
              "      <td>0.128788</td>\n",
              "      <td>0.567232</td>\n",
              "    </tr>\n",
              "    <tr>\n",
              "      <th>Bontotangnga (Gowa)</th>\n",
              "      <td>0.025</td>\n",
              "      <td>0.000000</td>\n",
              "      <td>0.000000</td>\n",
              "      <td>0.008772</td>\n",
              "      <td>0.000000</td>\n",
              "      <td>0.007246</td>\n",
              "      <td>0.000000</td>\n",
              "      <td>0.000000</td>\n",
              "      <td>0.000000</td>\n",
              "      <td>0.506180</td>\n",
              "    </tr>\n",
              "    <tr>\n",
              "      <th>Borong (Gowa)</th>\n",
              "      <td>0.025</td>\n",
              "      <td>0.000000</td>\n",
              "      <td>0.000000</td>\n",
              "      <td>0.008772</td>\n",
              "      <td>0.000000</td>\n",
              "      <td>0.007246</td>\n",
              "      <td>0.000000</td>\n",
              "      <td>0.000000</td>\n",
              "      <td>0.000000</td>\n",
              "      <td>0.390735</td>\n",
              "    </tr>\n",
              "  </tbody>\n",
              "</table>\n",
              "</div>\n",
              "      <button class=\"colab-df-convert\" onclick=\"convertToInteractive('df-1aa3d84b-18df-4b9c-9d05-7b9e7e3c4155')\"\n",
              "              title=\"Convert this dataframe to an interactive table.\"\n",
              "              style=\"display:none;\">\n",
              "        \n",
              "  <svg xmlns=\"http://www.w3.org/2000/svg\" height=\"24px\"viewBox=\"0 0 24 24\"\n",
              "       width=\"24px\">\n",
              "    <path d=\"M0 0h24v24H0V0z\" fill=\"none\"/>\n",
              "    <path d=\"M18.56 5.44l.94 2.06.94-2.06 2.06-.94-2.06-.94-.94-2.06-.94 2.06-2.06.94zm-11 1L8.5 8.5l.94-2.06 2.06-.94-2.06-.94L8.5 2.5l-.94 2.06-2.06.94zm10 10l.94 2.06.94-2.06 2.06-.94-2.06-.94-.94-2.06-.94 2.06-2.06.94z\"/><path d=\"M17.41 7.96l-1.37-1.37c-.4-.4-.92-.59-1.43-.59-.52 0-1.04.2-1.43.59L10.3 9.45l-7.72 7.72c-.78.78-.78 2.05 0 2.83L4 21.41c.39.39.9.59 1.41.59.51 0 1.02-.2 1.41-.59l7.78-7.78 2.81-2.81c.8-.78.8-2.07 0-2.86zM5.41 20L4 18.59l7.72-7.72 1.47 1.35L5.41 20z\"/>\n",
              "  </svg>\n",
              "      </button>\n",
              "      \n",
              "  <style>\n",
              "    .colab-df-container {\n",
              "      display:flex;\n",
              "      flex-wrap:wrap;\n",
              "      gap: 12px;\n",
              "    }\n",
              "\n",
              "    .colab-df-convert {\n",
              "      background-color: #E8F0FE;\n",
              "      border: none;\n",
              "      border-radius: 50%;\n",
              "      cursor: pointer;\n",
              "      display: none;\n",
              "      fill: #1967D2;\n",
              "      height: 32px;\n",
              "      padding: 0 0 0 0;\n",
              "      width: 32px;\n",
              "    }\n",
              "\n",
              "    .colab-df-convert:hover {\n",
              "      background-color: #E2EBFA;\n",
              "      box-shadow: 0px 1px 2px rgba(60, 64, 67, 0.3), 0px 1px 3px 1px rgba(60, 64, 67, 0.15);\n",
              "      fill: #174EA6;\n",
              "    }\n",
              "\n",
              "    [theme=dark] .colab-df-convert {\n",
              "      background-color: #3B4455;\n",
              "      fill: #D2E3FC;\n",
              "    }\n",
              "\n",
              "    [theme=dark] .colab-df-convert:hover {\n",
              "      background-color: #434B5C;\n",
              "      box-shadow: 0px 1px 3px 1px rgba(0, 0, 0, 0.15);\n",
              "      filter: drop-shadow(0px 1px 2px rgba(0, 0, 0, 0.3));\n",
              "      fill: #FFFFFF;\n",
              "    }\n",
              "  </style>\n",
              "\n",
              "      <script>\n",
              "        const buttonEl =\n",
              "          document.querySelector('#df-1aa3d84b-18df-4b9c-9d05-7b9e7e3c4155 button.colab-df-convert');\n",
              "        buttonEl.style.display =\n",
              "          google.colab.kernel.accessAllowed ? 'block' : 'none';\n",
              "\n",
              "        async function convertToInteractive(key) {\n",
              "          const element = document.querySelector('#df-1aa3d84b-18df-4b9c-9d05-7b9e7e3c4155');\n",
              "          const dataTable =\n",
              "            await google.colab.kernel.invokeFunction('convertToInteractive',\n",
              "                                                     [key], {});\n",
              "          if (!dataTable) return;\n",
              "\n",
              "          const docLinkHtml = 'Like what you see? Visit the ' +\n",
              "            '<a target=\"_blank\" href=https://colab.research.google.com/notebooks/data_table.ipynb>data table notebook</a>'\n",
              "            + ' to learn more about interactive tables.';\n",
              "          element.innerHTML = '';\n",
              "          dataTable['output_type'] = 'display_data';\n",
              "          await google.colab.output.renderOutput(dataTable, element);\n",
              "          const docLink = document.createElement('div');\n",
              "          docLink.innerHTML = docLinkHtml;\n",
              "          element.appendChild(docLink);\n",
              "        }\n",
              "      </script>\n",
              "    </div>\n",
              "  </div>\n",
              "  "
            ]
          },
          "metadata": {},
          "execution_count": 92
        }
      ],
      "source": [
        "test_data = merge_data.copy()\n",
        "index_awal = test_data.index\n",
        "\n",
        "# Normalize the features\n",
        "scaler = MinMaxScaler()\n",
        "X_normalized = scaler.fit_transform(test_data)\n",
        "\n",
        "# Create a new DataFrame with the normalized features\n",
        "X_normalized_df = pd.DataFrame(X_normalized, columns=test_data.columns)\n",
        "X_normalized_df.index = index_awal\n",
        "X_normalized_df.index.name = None\n",
        "X_normalized_df[:10]"
      ]
    },
    {
      "cell_type": "markdown",
      "metadata": {
        "id": "PsopwBZ9ZQWH"
      },
      "source": [
        "#**CLUSTER1**"
      ]
    },
    {
      "cell_type": "code",
      "execution_count": null,
      "metadata": {
        "id": "P_diVMKT4WgH"
      },
      "outputs": [],
      "source": [
        "data_cluster1 = merge_data[['tbc','Umur']] \n",
        "\n",
        "# Standardize data\n",
        "scaler = MinMaxScaler()\n",
        "Num_features = data_cluster1.select_dtypes(include=['int64', 'float64']).columns\n",
        "scaler.fit(data_cluster1[Num_features])\n",
        "cluster1 = scaler.transform(data_cluster1[Num_features])"
      ]
    },
    {
      "cell_type": "markdown",
      "metadata": {
        "id": "ePDcHSEfFz9q"
      },
      "source": [
        "###Elbow Method"
      ]
    },
    {
      "cell_type": "code",
      "execution_count": null,
      "metadata": {
        "colab": {
          "base_uri": "https://localhost:8080/"
        },
        "id": "Z5N_FR2kMfP6",
        "outputId": "2228848e-db0f-4660-8db9-cb01134026b5"
      },
      "outputs": [
        {
          "output_type": "stream",
          "name": "stdout",
          "text": [
            "    K       sse  silhouette\n",
            "0   2  2.035014    0.631592\n",
            "1   3  1.026626    0.504868\n",
            "2   4  0.567322    0.515763\n",
            "3   5  0.343127    0.534782\n",
            "4   6  0.252128    0.575916\n",
            "5   7  0.187420    0.561436\n",
            "6   8  0.129464    0.569742\n",
            "7   9  0.098788    0.579502\n",
            "8  10  0.070949    0.561733\n"
          ]
        }
      ],
      "source": [
        "sse = []\n",
        "silhouette_scores = []\n",
        "\n",
        "for n_clusters in range(2, 11):\n",
        "    kmeans = Kmeans1(n_clusters=n_clusters, random_state=42)\n",
        "    labels = kmeans.fit_predict(cluster1)\n",
        "    sse.append(kmeans.inertia_)\n",
        "    silhouette_avg = silhouette_score(cluster1, labels)\n",
        "    silhouette_scores.append(silhouette_avg)\n",
        "\n",
        "table_elbow = {\n",
        "    'K': range(2, 11),\n",
        "    'sse': sse,\n",
        "    'silhouette': silhouette_scores\n",
        "}\n",
        "df = pd.DataFrame(table_elbow)\n",
        "print(df)"
      ]
    },
    {
      "cell_type": "code",
      "execution_count": null,
      "metadata": {
        "colab": {
          "base_uri": "https://localhost:8080/",
          "height": 913
        },
        "id": "JV7kAK-3Ol-Y",
        "outputId": "b1fa7334-158f-4e85-d955-9f2715fe1085"
      },
      "outputs": [
        {
          "output_type": "display_data",
          "data": {
            "text/plain": [
              "<Figure size 1000x500 with 1 Axes>"
            ],
            "image/png": "[encoded data removed]"
          },
          "metadata": {}
        },
        {
          "output_type": "display_data",
          "data": {
            "text/plain": [
              "<Figure size 1000x500 with 1 Axes>"
            ],
            "image/png": "[encoded data removed]"
          },
          "metadata": {}
        }
      ],
      "source": [
        "K = list(range(2,11))\n",
        "# Plot sse against k\n",
        "plt.figure(figsize=(10, 5))\n",
        "plt.plot(K, sse, '-o')\n",
        "plt.xlabel(r'Number of clusters *k*')\n",
        "plt.ylabel('Sum of squared distance');\n",
        "\n",
        "# Plot silhouette against k\n",
        "plt.figure(figsize=(10, 5))\n",
        "plt.plot(K, silhouette_scores, '-o')\n",
        "plt.xlabel(r'Number of clusters *k*')\n",
        "plt.ylabel('Silhouette');"
      ]
    },
    {
      "cell_type": "markdown",
      "metadata": {
        "id": "Pruo0VUyrBT8"
      },
      "source": [
        "### **K-Means**"
      ]
    },
    {
      "cell_type": "code",
      "execution_count": null,
      "metadata": {
        "id": "rVSruf7dq4hk"
      },
      "outputs": [],
      "source": [
        "kmeans1 = KMeans(n_cluster=3)\n",
        "kmeans1.fit(cluster1)"
      ]
    },
    {
      "cell_type": "markdown",
      "metadata": {
        "id": "e7Hi_f97uVVk"
      },
      "source": [
        "####Jarak Terdekat Centroid\n"
      ]
    },
    {
      "cell_type": "code",
      "execution_count": null,
      "metadata": {
        "colab": {
          "base_uri": "https://localhost:8080/"
        },
        "id": "OLEX_4vk_3dy",
        "outputId": "7a693d53-20b7-4b74-e0db-900e3bb016fe"
      },
      "outputs": [
        {
          "output_type": "stream",
          "name": "stdout",
          "text": [
            "Jarak setiap data pada iterasi pertama:\n",
            "Data 0 : [0.2871216  0.48220728 0.66307725]\n",
            "Data 1 : [0.29154045 0.96304042 0.10208881]\n",
            "Data 2 : [0.19238068 0.70825307 0.57275833]\n",
            "Data 3 : [0.38715523 1.0315547  0.01827071]\n",
            "Data 4 : [0.9322516  0.19330116 1.23416459]\n",
            "Data 5 : [0.17250406 0.81268099 0.24453308]\n",
            "Data 6 : [0.11031739 0.82994863 0.28578842]\n",
            "Data 7 : [0.03581363 0.7165854  0.42926933]\n",
            "Data 8 : [0.07342751 0.81156897 0.35846447]\n",
            "Data 9 : [0.15707726 0.87334927 0.24323604]\n",
            "Data 10 : [0.7747955  0.08122739 1.05940007]\n",
            "Data 11 : [0.16510759 0.8785501  0.23438112]\n",
            "Data 12 : [0.24009006 0.92787378 0.15481799]\n",
            "Data 13 : [0.2147002  0.91095029 0.18130386]\n",
            "Data 14 : [0.18140614 0.8891266  0.21667753]\n",
            "Data 15 : [0.03741446 0.75274168 0.35917296]\n",
            "Data 16 : [0.09159581 0.71603373 0.47832019]\n",
            "Data 17 : [0.48040188 0.28510053 0.76176296]\n",
            "Data 18 : [1.01038374 0.27664457 1.29459268]\n",
            "Data 19 : [0.25715731 0.9394065  0.13719414]\n",
            "Data 20 : [0.04898497 0.73439393 0.43441613]\n",
            "Data 21 : [0.56107402 0.3215805  0.93528499]\n",
            "Data 22 : [0.2365285  0.5208016  0.61172834]\n",
            "Data 23 : [0.15707726 0.87334927 0.24323604]\n",
            "Data 24 : [0.33018472 0.49098971 0.71711817]\n",
            "Data 25 : [0.13363321 0.85810912 0.26981082]\n",
            "Data 26 : [0.29000907 0.9757534  0.10958007]\n",
            "Data 27 : [0.4009955  1.05527243 0.00923302]\n",
            "Data 28 : [0.28162016 0.9699357  0.1184439 ]\n",
            "Data 29 : [0.3494122  1.01771651 0.04770554]\n",
            "Data 30 : [0.40675402 1.05952854 0.01386878]\n",
            "Data 31 : [0.36655264 1.03008107 0.03024474]\n",
            "Data 32 : [0.36655264 1.03008107 0.03024474]\n",
            "Data 33 : [0.54016571 1.16145032 0.14833285]\n",
            "Data 34 : [0.54016571 1.16145032 0.14833285]\n",
            "Data 35 : [0.54016571 1.16145032 0.14833285]\n",
            "Data 36 : [0.54016571 1.16145032 0.14833285]\n",
            "Data 37 : [0.54016571 1.16145032 0.14833285]\n",
            "Data 38 : [0.54016571 1.16145032 0.14833285]\n"
          ]
        }
      ],
      "source": [
        "data = cluster1.copy()\n",
        "\n",
        "# Set the number of clusters\n",
        "num_clusters = 3\n",
        "\n",
        "# Initialize KMeans object\n",
        "Kmeans = Kmeans1(n_clusters=num_clusters)\n",
        "\n",
        "# Perform the initial fit to get the initial centroids\n",
        "Kmeans.fit(data)\n",
        "initial_centroids = Kmeans.cluster_centers_\n",
        "\n",
        "# Initialize an empty array to store the distances\n",
        "distances = np.zeros((len(data), num_clusters))\n",
        "\n",
        "# Calculate the distance between each data point and each centroid\n",
        "for i in range(len(data)):\n",
        "    for j in range(num_clusters):\n",
        "        distances[:, j] = np.linalg.norm(data - initial_centroids[j], axis=1)\n",
        "\n",
        "    labels = np.argmin(distances, axis=1)\n",
        "\n",
        "    for j in range(num_clusters):\n",
        "        initial_centroids[j] = np.mean(data[labels == j], axis=0)\n",
        "\n",
        "# Display the distances for each data point\n",
        "print(\"Jarak setiap data pada iterasi pertama:\")\n",
        "for i in range(len(data)):\n",
        "    print(\"Data\", i, \":\", distances[i,:])"
      ]
    },
    {
      "cell_type": "code",
      "source": [
        "Kmeans.cluster_centers_"
      ],
      "metadata": {
        "colab": {
          "base_uri": "https://localhost:8080/"
        },
        "id": "xZ6t9b6HyXfs",
        "outputId": "2ecc1a48-bbed-48ce-f5ec-778b16ec71d0"
      },
      "execution_count": null,
      "outputs": [
        {
          "output_type": "execute_result",
          "data": {
            "text/plain": [
              "array([[0.09375   , 0.53196798],\n",
              "       [0.735     , 0.89930075],\n",
              "       [0.00694444, 0.1481702 ]])"
            ]
          },
          "metadata": {},
          "execution_count": 88
        }
      ]
    },
    {
      "cell_type": "code",
      "execution_count": null,
      "metadata": {
        "colab": {
          "base_uri": "https://localhost:8080/"
        },
        "id": "oRVzdS6S__tg",
        "outputId": "f599350f-4de0-4b14-a413-a34c66db9188"
      },
      "outputs": [
        {
          "output_type": "stream",
          "name": "stdout",
          "text": [
            "Iteration 1\n",
            "[[0.00694444 0.1481702 ]\n",
            " [0.735      0.89930075]\n",
            " [0.09375    0.53196798]]\n",
            "\n",
            "\n",
            "Iteration 2\n",
            "[[0.09375    0.53196798]\n",
            " [0.735      0.89930075]\n",
            " [0.00694444 0.1481702 ]]\n",
            "\n",
            "\n",
            "Iteration 3\n",
            "[[0.09375    0.53196798]\n",
            " [0.735      0.89930075]\n",
            " [0.00694444 0.1481702 ]]\n",
            "\n",
            "\n",
            "Iteration 4\n",
            "[[0.09375    0.53196798]\n",
            " [0.735      0.89930075]\n",
            " [0.00694444 0.1481702 ]]\n",
            "\n",
            "\n"
          ]
        }
      ],
      "source": [
        "for i in range(4):\n",
        "    # Fit the model and get the cluster centroids\n",
        "    Kmeans.fit(cluster1)\n",
        "    centroids = Kmeans.cluster_centers_\n",
        "    \n",
        "    # Print the centroids\n",
        "    print(\"Iteration\", i+1)\n",
        "    print(centroids, \"\\n\", sep=\"\\n\")"
      ]
    },
    {
      "cell_type": "markdown",
      "metadata": {
        "id": "AUu96II2ugI8"
      },
      "source": [
        "####SSE and Silhoute"
      ]
    },
    {
      "cell_type": "code",
      "execution_count": null,
      "metadata": {
        "colab": {
          "base_uri": "https://localhost:8080/"
        },
        "id": "uBYwO8WTrNx7",
        "outputId": "90efc4c8-aa4e-4199-a73f-4cea840a9bf1"
      },
      "outputs": [
        {
          "output_type": "stream",
          "name": "stdout",
          "text": [
            "Silhouette: 0.5048681943696068\n",
            "SSE: 1.0266259426952054\n"
          ]
        }
      ],
      "source": [
        "predicted_kmeans1 = kmeans1.predict(cluster1)\n",
        "print('Silhouette:', silhouette_score(cluster1, predicted_kmeans1))\n",
        "print('SSE:', kmeans1.SSE)"
      ]
    },
    {
      "cell_type": "code",
      "execution_count": null,
      "metadata": {
        "colab": {
          "base_uri": "https://localhost:8080/"
        },
        "id": "zTGCbdZYnK86",
        "outputId": "9af913ba-86f2-476e-f881-ad0d1ff252f5"
      },
      "outputs": [
        {
          "output_type": "execute_result",
          "data": {
            "text/plain": [
              "2    18\n",
              "0    16\n",
              "1     5\n",
              "Name: cluster, dtype: int64"
            ]
          },
          "metadata": {},
          "execution_count": 91
        }
      ],
      "source": [
        "frame1 = pd.DataFrame(cluster1)\n",
        "frame1['cluster'] = predicted_kmeans1\n",
        "frame1['cluster'].value_counts()"
      ]
    },
    {
      "cell_type": "code",
      "execution_count": null,
      "metadata": {
        "colab": {
          "base_uri": "https://localhost:8080/"
        },
        "id": "AHfmTKksfJnW",
        "outputId": "fd2efde9-f526-4660-fbf7-43d1d52a76f5"
      },
      "outputs": [
        {
          "output_type": "execute_result",
          "data": {
            "text/plain": [
              "array([0, 2, 0, 2, 1, 0, 0, 0, 0, 0, 1, 0, 2, 2, 0, 0, 0, 1, 1, 2, 0, 1,\n",
              "       0, 0, 0, 0, 2, 2, 2, 2, 2, 2, 2, 2, 2, 2, 2, 2, 2])"
            ]
          },
          "metadata": {},
          "execution_count": 92
        }
      ],
      "source": [
        "predicted_kmeans1"
      ]
    },
    {
      "cell_type": "markdown",
      "metadata": {
        "id": "ABm_sykpAlBz"
      },
      "source": [
        "### **PSO K-Means**"
      ]
    },
    {
      "cell_type": "code",
      "execution_count": null,
      "metadata": {
        "id": "lzYR9uVirVD2"
      },
      "outputs": [],
      "source": [
        "pso1 = ParticleSwarmOptimizedClustering(n_cluster=3, \n",
        "                                       n_particles=20, \n",
        "                                       data=cluster1, \n",
        "                                       hybrid=True,\n",
        "                                       max_iter=2000, \n",
        "                                       print_debug=200)"
      ]
    },
    {
      "cell_type": "code",
      "execution_count": null,
      "metadata": {
        "colab": {
          "base_uri": "https://localhost:8080/"
        },
        "id": "K_SwY_GrBpDY",
        "outputId": "d4a453be-4f00-48db-da68-8f4b0398f6a1"
      },
      "outputs": [
        {
          "output_type": "stream",
          "name": "stdout",
          "text": [
            "Initial global best score 0.5766072101013846\n",
            "Iteration 0001/2000 current gbest score 0.576607210101384604\n",
            "Iteration 0201/2000 current gbest score 0.546978866808042863\n",
            "Iteration 0401/2000 current gbest score 0.546977298149813662\n",
            "Iteration 0601/2000 current gbest score 0.546977289689016488\n",
            "Iteration 0801/2000 current gbest score 0.546977289433026481\n",
            "Iteration 1001/2000 current gbest score 0.546977289210376472\n",
            "Iteration 1201/2000 current gbest score 0.546977289207833728\n",
            "Iteration 1401/2000 current gbest score 0.546977289207833728\n",
            "Iteration 1601/2000 current gbest score 0.546977289207833728\n",
            "Iteration 1801/2000 current gbest score 0.546977289207833728\n",
            "Finish with gbest score 0.546977289207833728\n"
          ]
        }
      ],
      "source": [
        "hist1 = pso1.run()"
      ]
    },
    {
      "cell_type": "code",
      "execution_count": null,
      "metadata": {
        "id": "VpGsL73srsHz"
      },
      "outputs": [],
      "source": [
        "pso_kmeans1 = KMeans(n_cluster=3)\n",
        "pso_kmeans1.centroid = pso1.gbest_centroids.copy()"
      ]
    },
    {
      "cell_type": "code",
      "execution_count": null,
      "metadata": {
        "colab": {
          "base_uri": "https://localhost:8080/"
        },
        "id": "TctPkf8qmVzM",
        "outputId": "b24809e1-3f8b-45ba-82c4-0ec25c049219"
      },
      "outputs": [
        {
          "output_type": "execute_result",
          "data": {
            "text/plain": [
              "array([[0.01698114, 0.21620855],\n",
              "       [0.19770801, 0.67641271],\n",
              "       [0.89999393, 0.94306845]])"
            ]
          },
          "metadata": {},
          "execution_count": 98
        }
      ],
      "source": [
        "pso_kmeans1.centroid"
      ]
    },
    {
      "cell_type": "code",
      "execution_count": null,
      "metadata": {
        "colab": {
          "base_uri": "https://localhost:8080/"
        },
        "id": "jA0QCJ97A7Jv",
        "outputId": "ad3d79f5-0fe1-47f0-ba2d-a4dac888c148"
      },
      "outputs": [
        {
          "output_type": "stream",
          "name": "stdout",
          "text": [
            "Silhouette: 0.5554906273010479\n",
            "SSE: 1.0985291486339195\n"
          ]
        }
      ],
      "source": [
        "predicted_pso1 = pso_kmeans1.predict(cluster1)\n",
        "print('Silhouette:', silhouette_score(cluster1, predicted_pso1))\n",
        "print('SSE:', calc_sse(centroids=pso1.gbest_centroids, \n",
        "                       data=cluster1, \n",
        "                       labels=predicted_pso1))"
      ]
    },
    {
      "cell_type": "code",
      "execution_count": null,
      "metadata": {
        "colab": {
          "base_uri": "https://localhost:8080/"
        },
        "id": "sielKLqmnP9D",
        "outputId": "807c10b6-3c6f-4b51-9b13-8df6fd975b90"
      },
      "outputs": [
        {
          "output_type": "execute_result",
          "data": {
            "text/plain": [
              "0    25\n",
              "1    11\n",
              "2     3\n",
              "Name: cluster, dtype: int64"
            ]
          },
          "metadata": {},
          "execution_count": 100
        }
      ],
      "source": [
        "frame1 = pd.DataFrame(cluster1)\n",
        "frame1['cluster'] = predicted_pso1\n",
        "frame1['cluster'].value_counts()"
      ]
    },
    {
      "cell_type": "code",
      "execution_count": null,
      "metadata": {
        "colab": {
          "base_uri": "https://localhost:8080/"
        },
        "id": "1BuTzqI7fnWk",
        "outputId": "3999ab5a-d379-429a-f124-7d69ee054983"
      },
      "outputs": [
        {
          "output_type": "execute_result",
          "data": {
            "text/plain": [
              "array([1, 0, 1, 0, 2, 0, 0, 1, 1, 0, 2, 0, 0, 0, 0, 1, 1, 1, 2, 0, 1, 1,\n",
              "       1, 0, 1, 0, 0, 0, 0, 0, 0, 0, 0, 0, 0, 0, 0, 0, 0])"
            ]
          },
          "metadata": {},
          "execution_count": 101
        }
      ],
      "source": [
        "predicted_pso1"
      ]
    },
    {
      "cell_type": "code",
      "source": [
        "print(pso1.particles[0].velocity)"
      ],
      "metadata": {
        "colab": {
          "base_uri": "https://localhost:8080/"
        },
        "id": "Gfw-SE_apWnj",
        "outputId": "7d801dfd-cb88-4e1d-967e-c8396dce9ee6"
      },
      "execution_count": null,
      "outputs": [
        {
          "output_type": "stream",
          "name": "stdout",
          "text": [
            "[[-4.29120521e-12  7.70442162e-12]\n",
            " [-1.18375523e-11  1.14922392e-11]\n",
            " [ 6.34681306e-11 -3.68349081e-12]]\n"
          ]
        }
      ]
    },
    {
      "cell_type": "code",
      "source": [
        "print(pso1.particles[0].centroids)"
      ],
      "metadata": {
        "colab": {
          "base_uri": "https://localhost:8080/"
        },
        "id": "gUM-pRaie7Tp",
        "outputId": "e31cfeb8-1398-4010-a00d-56a9e266d467"
      },
      "execution_count": null,
      "outputs": [
        {
          "output_type": "stream",
          "name": "stdout",
          "text": [
            "[[0.01698114 0.21620855]\n",
            " [0.19770801 0.67641271]\n",
            " [0.89999393 0.94306845]]\n"
          ]
        }
      ]
    },
    {
      "cell_type": "code",
      "source": [
        "print(pso1.gbest_score)"
      ],
      "metadata": {
        "colab": {
          "base_uri": "https://localhost:8080/"
        },
        "id": "EcT4gYpRqFty",
        "outputId": "987dbcd5-25be-446f-d8a6-481c9e7b3b63"
      },
      "execution_count": null,
      "outputs": [
        {
          "output_type": "stream",
          "name": "stdout",
          "text": [
            "0.5469772892078337\n"
          ]
        }
      ]
    },
    {
      "cell_type": "code",
      "source": [
        "print(pso1.particles[0].r1)"
      ],
      "metadata": {
        "colab": {
          "base_uri": "https://localhost:8080/"
        },
        "id": "-b9Boimu8Dsv",
        "outputId": "d25a1ace-9816-4364-80bc-8881c35d39d2"
      },
      "execution_count": null,
      "outputs": [
        {
          "output_type": "stream",
          "name": "stdout",
          "text": [
            "0.5001557909162332\n"
          ]
        }
      ]
    },
    {
      "cell_type": "code",
      "source": [
        "print(pso1.particles[0].r2)"
      ],
      "metadata": {
        "colab": {
          "base_uri": "https://localhost:8080/"
        },
        "id": "gInbIpOr9wCZ",
        "outputId": "7eeff86a-ba5d-4934-e418-00f978675ac4"
      },
      "execution_count": null,
      "outputs": [
        {
          "output_type": "stream",
          "name": "stdout",
          "text": [
            "0.4642168778784813\n"
          ]
        }
      ]
    },
    {
      "cell_type": "markdown",
      "metadata": {
        "id": "JGpU2M5KV3JL"
      },
      "source": [
        "###**Pattern Evaluation**"
      ]
    },
    {
      "cell_type": "code",
      "source": [
        "#create new column for cluster labels associated with each subject\n",
        "data_cluster1['labels'] = predicted_kmeans1\n",
        "data_cluster1['Segment'] = data_cluster1['labels'].map({0: 'First', 1: 'Second', 2: 'Third'})"
      ],
      "metadata": {
        "id": "jTJEE8huyq-H"
      },
      "execution_count": null,
      "outputs": []
    },
    {
      "cell_type": "code",
      "source": [
        "data_cluster1"
      ],
      "metadata": {
        "colab": {
          "base_uri": "https://localhost:8080/",
          "height": 1000
        },
        "id": "k3OxMnjFyt80",
        "outputId": "915c9f38-359f-4b01-f6a4-b50d3e9e8f32"
      },
      "execution_count": null,
      "outputs": [
        {
          "output_type": "execute_result",
          "data": {
            "text/plain": [
              "                                  tbc       Umur  labels Segment\n",
              "Bili Bili (Gowa)                 11.0  28.659933       0   First\n",
              "Binangae (Gowa)                   1.0   9.666667       2   Third\n",
              "Bonto Bontoa (Gowa)               2.0  27.333333       0   First\n",
              "Bonto-Bonto (Gowa)                1.0   6.000000       2   Third\n",
              "Bontomanai (Gowa)                36.0  37.869413       1  Second\n",
              "Bontomarannu (Gowa)               5.0  13.933333       0   First\n",
              "Bontonompo (Gowa)                 2.0  16.500000       0   First\n",
              "Bontoramba (Gowa)                 4.0  21.625000       0   First\n",
              "Bontotangnga (Gowa)               1.0  19.333333       0   First\n",
              "Borong (Gowa)                     1.0  15.000000       0   First\n",
              "Borongloe (Gowa)                 32.0  32.261089       1  Second\n",
              "Gowa (Gowa)                       1.0  14.666667       0   First\n",
              "Jalan Bangkala, Manggala (Gowa)   1.0  11.666667       2   Third\n",
              "Jalan Danau Mawang No. 4 (Gowa)   1.0  12.666667       2   Third\n",
              "Jalan Poros Malino (Gowa)         1.0  14.000000       0   First\n",
              "Maccini Baji (Gowa)               4.0  18.916667       0   First\n",
              "Mata Allo (Gowa)                  3.0  23.666667       0   First\n",
              "Nirannuang (Gowa)                22.0  25.946970       1  Second\n",
              "Pakatto (Gowa)                   40.0  37.070597       1  Second\n",
              "Palangga (Gowa)                   1.0  11.000000       2   Third\n",
              "Pattalassang (Gowa)               3.0  22.000000       0   First\n",
              "Romang Lompoa (Gowa)             17.0  37.299720       1  Second\n",
              "Romangloe (Gowa)                 10.0  26.966667       0   First\n",
              "Samata (Gowa)                     1.0  15.000000       0   First\n",
              "Sokkolia (Gowa)                  10.0  31.219608       0   First\n",
              "Somba Opu (Gowa)                  1.0  16.000000       0   First\n",
              "Barombong (Gowa)                  0.0  10.000000       2   Third\n",
              "Borong Sapiri (Gowa)              0.0   5.666667       2   Third\n",
              "Kampung Beru (Gowa)               0.0  10.333333       2   Third\n",
              "Lempangang (Gowa)                 0.0   7.666667       2   Third\n",
              "Moncongloe (Gowa)                 0.0   5.444444       2   Third\n",
              "Sungguminasa (Gowa)               0.0   7.000000       2   Third\n",
              "Tangkebajeng (Gowa)               0.0   7.000000       2   Third\n",
              "Buntu Alang (Gowa)                0.0   0.333333       2   Third\n",
              "Lauwa (Gowa)                      0.0   0.333333       2   Third\n",
              "Pallantikang (Gowa)               0.0   0.333333       2   Third\n",
              "Panambungan (Gowa)                0.0   0.333333       2   Third\n",
              "Romang Polong (Gowa)              0.0   0.333333       2   Third\n",
              "Sapaya (Gowa)                     0.0   0.333333       2   Third"
            ],
            "text/html": [
              "\n",
              "  <div id=\"df-2ed1932a-cd9f-456a-8e29-37b1684ea0d4\">\n",
              "    <div class=\"colab-df-container\">\n",
              "      <div>\n",
              "<style scoped>\n",
              "    .dataframe tbody tr th:only-of-type {\n",
              "        vertical-align: middle;\n",
              "    }\n",
              "\n",
              "    .dataframe tbody tr th {\n",
              "        vertical-align: top;\n",
              "    }\n",
              "\n",
              "    .dataframe thead th {\n",
              "        text-align: right;\n",
              "    }\n",
              "</style>\n",
              "<table border=\"1\" class=\"dataframe\">\n",
              "  <thead>\n",
              "    <tr style=\"text-align: right;\">\n",
              "      <th></th>\n",
              "      <th>tbc</th>\n",
              "      <th>Umur</th>\n",
              "      <th>labels</th>\n",
              "      <th>Segment</th>\n",
              "    </tr>\n",
              "  </thead>\n",
              "  <tbody>\n",
              "    <tr>\n",
              "      <th>Bili Bili (Gowa)</th>\n",
              "      <td>11.0</td>\n",
              "      <td>28.659933</td>\n",
              "      <td>0</td>\n",
              "      <td>First</td>\n",
              "    </tr>\n",
              "    <tr>\n",
              "      <th>Binangae (Gowa)</th>\n",
              "      <td>1.0</td>\n",
              "      <td>9.666667</td>\n",
              "      <td>2</td>\n",
              "      <td>Third</td>\n",
              "    </tr>\n",
              "    <tr>\n",
              "      <th>Bonto Bontoa (Gowa)</th>\n",
              "      <td>2.0</td>\n",
              "      <td>27.333333</td>\n",
              "      <td>0</td>\n",
              "      <td>First</td>\n",
              "    </tr>\n",
              "    <tr>\n",
              "      <th>Bonto-Bonto (Gowa)</th>\n",
              "      <td>1.0</td>\n",
              "      <td>6.000000</td>\n",
              "      <td>2</td>\n",
              "      <td>Third</td>\n",
              "    </tr>\n",
              "    <tr>\n",
              "      <th>Bontomanai (Gowa)</th>\n",
              "      <td>36.0</td>\n",
              "      <td>37.869413</td>\n",
              "      <td>1</td>\n",
              "      <td>Second</td>\n",
              "    </tr>\n",
              "    <tr>\n",
              "      <th>Bontomarannu (Gowa)</th>\n",
              "      <td>5.0</td>\n",
              "      <td>13.933333</td>\n",
              "      <td>0</td>\n",
              "      <td>First</td>\n",
              "    </tr>\n",
              "    <tr>\n",
              "      <th>Bontonompo (Gowa)</th>\n",
              "      <td>2.0</td>\n",
              "      <td>16.500000</td>\n",
              "      <td>0</td>\n",
              "      <td>First</td>\n",
              "    </tr>\n",
              "    <tr>\n",
              "      <th>Bontoramba (Gowa)</th>\n",
              "      <td>4.0</td>\n",
              "      <td>21.625000</td>\n",
              "      <td>0</td>\n",
              "      <td>First</td>\n",
              "    </tr>\n",
              "    <tr>\n",
              "      <th>Bontotangnga (Gowa)</th>\n",
              "      <td>1.0</td>\n",
              "      <td>19.333333</td>\n",
              "      <td>0</td>\n",
              "      <td>First</td>\n",
              "    </tr>\n",
              "    <tr>\n",
              "      <th>Borong (Gowa)</th>\n",
              "      <td>1.0</td>\n",
              "      <td>15.000000</td>\n",
              "      <td>0</td>\n",
              "      <td>First</td>\n",
              "    </tr>\n",
              "    <tr>\n",
              "      <th>Borongloe (Gowa)</th>\n",
              "      <td>32.0</td>\n",
              "      <td>32.261089</td>\n",
              "      <td>1</td>\n",
              "      <td>Second</td>\n",
              "    </tr>\n",
              "    <tr>\n",
              "      <th>Gowa (Gowa)</th>\n",
              "      <td>1.0</td>\n",
              "      <td>14.666667</td>\n",
              "      <td>0</td>\n",
              "      <td>First</td>\n",
              "    </tr>\n",
              "    <tr>\n",
              "      <th>Jalan Bangkala, Manggala (Gowa)</th>\n",
              "      <td>1.0</td>\n",
              "      <td>11.666667</td>\n",
              "      <td>2</td>\n",
              "      <td>Third</td>\n",
              "    </tr>\n",
              "    <tr>\n",
              "      <th>Jalan Danau Mawang No. 4 (Gowa)</th>\n",
              "      <td>1.0</td>\n",
              "      <td>12.666667</td>\n",
              "      <td>2</td>\n",
              "      <td>Third</td>\n",
              "    </tr>\n",
              "    <tr>\n",
              "      <th>Jalan Poros Malino (Gowa)</th>\n",
              "      <td>1.0</td>\n",
              "      <td>14.000000</td>\n",
              "      <td>0</td>\n",
              "      <td>First</td>\n",
              "    </tr>\n",
              "    <tr>\n",
              "      <th>Maccini Baji (Gowa)</th>\n",
              "      <td>4.0</td>\n",
              "      <td>18.916667</td>\n",
              "      <td>0</td>\n",
              "      <td>First</td>\n",
              "    </tr>\n",
              "    <tr>\n",
              "      <th>Mata Allo (Gowa)</th>\n",
              "      <td>3.0</td>\n",
              "      <td>23.666667</td>\n",
              "      <td>0</td>\n",
              "      <td>First</td>\n",
              "    </tr>\n",
              "    <tr>\n",
              "      <th>Nirannuang (Gowa)</th>\n",
              "      <td>22.0</td>\n",
              "      <td>25.946970</td>\n",
              "      <td>1</td>\n",
              "      <td>Second</td>\n",
              "    </tr>\n",
              "    <tr>\n",
              "      <th>Pakatto (Gowa)</th>\n",
              "      <td>40.0</td>\n",
              "      <td>37.070597</td>\n",
              "      <td>1</td>\n",
              "      <td>Second</td>\n",
              "    </tr>\n",
              "    <tr>\n",
              "      <th>Palangga (Gowa)</th>\n",
              "      <td>1.0</td>\n",
              "      <td>11.000000</td>\n",
              "      <td>2</td>\n",
              "      <td>Third</td>\n",
              "    </tr>\n",
              "    <tr>\n",
              "      <th>Pattalassang (Gowa)</th>\n",
              "      <td>3.0</td>\n",
              "      <td>22.000000</td>\n",
              "      <td>0</td>\n",
              "      <td>First</td>\n",
              "    </tr>\n",
              "    <tr>\n",
              "      <th>Romang Lompoa (Gowa)</th>\n",
              "      <td>17.0</td>\n",
              "      <td>37.299720</td>\n",
              "      <td>1</td>\n",
              "      <td>Second</td>\n",
              "    </tr>\n",
              "    <tr>\n",
              "      <th>Romangloe (Gowa)</th>\n",
              "      <td>10.0</td>\n",
              "      <td>26.966667</td>\n",
              "      <td>0</td>\n",
              "      <td>First</td>\n",
              "    </tr>\n",
              "    <tr>\n",
              "      <th>Samata (Gowa)</th>\n",
              "      <td>1.0</td>\n",
              "      <td>15.000000</td>\n",
              "      <td>0</td>\n",
              "      <td>First</td>\n",
              "    </tr>\n",
              "    <tr>\n",
              "      <th>Sokkolia (Gowa)</th>\n",
              "      <td>10.0</td>\n",
              "      <td>31.219608</td>\n",
              "      <td>0</td>\n",
              "      <td>First</td>\n",
              "    </tr>\n",
              "    <tr>\n",
              "      <th>Somba Opu (Gowa)</th>\n",
              "      <td>1.0</td>\n",
              "      <td>16.000000</td>\n",
              "      <td>0</td>\n",
              "      <td>First</td>\n",
              "    </tr>\n",
              "    <tr>\n",
              "      <th>Barombong (Gowa)</th>\n",
              "      <td>0.0</td>\n",
              "      <td>10.000000</td>\n",
              "      <td>2</td>\n",
              "      <td>Third</td>\n",
              "    </tr>\n",
              "    <tr>\n",
              "      <th>Borong Sapiri (Gowa)</th>\n",
              "      <td>0.0</td>\n",
              "      <td>5.666667</td>\n",
              "      <td>2</td>\n",
              "      <td>Third</td>\n",
              "    </tr>\n",
              "    <tr>\n",
              "      <th>Kampung Beru (Gowa)</th>\n",
              "      <td>0.0</td>\n",
              "      <td>10.333333</td>\n",
              "      <td>2</td>\n",
              "      <td>Third</td>\n",
              "    </tr>\n",
              "    <tr>\n",
              "      <th>Lempangang (Gowa)</th>\n",
              "      <td>0.0</td>\n",
              "      <td>7.666667</td>\n",
              "      <td>2</td>\n",
              "      <td>Third</td>\n",
              "    </tr>\n",
              "    <tr>\n",
              "      <th>Moncongloe (Gowa)</th>\n",
              "      <td>0.0</td>\n",
              "      <td>5.444444</td>\n",
              "      <td>2</td>\n",
              "      <td>Third</td>\n",
              "    </tr>\n",
              "    <tr>\n",
              "      <th>Sungguminasa (Gowa)</th>\n",
              "      <td>0.0</td>\n",
              "      <td>7.000000</td>\n",
              "      <td>2</td>\n",
              "      <td>Third</td>\n",
              "    </tr>\n",
              "    <tr>\n",
              "      <th>Tangkebajeng (Gowa)</th>\n",
              "      <td>0.0</td>\n",
              "      <td>7.000000</td>\n",
              "      <td>2</td>\n",
              "      <td>Third</td>\n",
              "    </tr>\n",
              "    <tr>\n",
              "      <th>Buntu Alang (Gowa)</th>\n",
              "      <td>0.0</td>\n",
              "      <td>0.333333</td>\n",
              "      <td>2</td>\n",
              "      <td>Third</td>\n",
              "    </tr>\n",
              "    <tr>\n",
              "      <th>Lauwa (Gowa)</th>\n",
              "      <td>0.0</td>\n",
              "      <td>0.333333</td>\n",
              "      <td>2</td>\n",
              "      <td>Third</td>\n",
              "    </tr>\n",
              "    <tr>\n",
              "      <th>Pallantikang (Gowa)</th>\n",
              "      <td>0.0</td>\n",
              "      <td>0.333333</td>\n",
              "      <td>2</td>\n",
              "      <td>Third</td>\n",
              "    </tr>\n",
              "    <tr>\n",
              "      <th>Panambungan (Gowa)</th>\n",
              "      <td>0.0</td>\n",
              "      <td>0.333333</td>\n",
              "      <td>2</td>\n",
              "      <td>Third</td>\n",
              "    </tr>\n",
              "    <tr>\n",
              "      <th>Romang Polong (Gowa)</th>\n",
              "      <td>0.0</td>\n",
              "      <td>0.333333</td>\n",
              "      <td>2</td>\n",
              "      <td>Third</td>\n",
              "    </tr>\n",
              "    <tr>\n",
              "      <th>Sapaya (Gowa)</th>\n",
              "      <td>0.0</td>\n",
              "      <td>0.333333</td>\n",
              "      <td>2</td>\n",
              "      <td>Third</td>\n",
              "    </tr>\n",
              "  </tbody>\n",
              "</table>\n",
              "</div>\n",
              "      <button class=\"colab-df-convert\" onclick=\"convertToInteractive('df-2ed1932a-cd9f-456a-8e29-37b1684ea0d4')\"\n",
              "              title=\"Convert this dataframe to an interactive table.\"\n",
              "              style=\"display:none;\">\n",
              "        \n",
              "  <svg xmlns=\"http://www.w3.org/2000/svg\" height=\"24px\"viewBox=\"0 0 24 24\"\n",
              "       width=\"24px\">\n",
              "    <path d=\"M0 0h24v24H0V0z\" fill=\"none\"/>\n",
              "    <path d=\"M18.56 5.44l.94 2.06.94-2.06 2.06-.94-2.06-.94-.94-2.06-.94 2.06-2.06.94zm-11 1L8.5 8.5l.94-2.06 2.06-.94-2.06-.94L8.5 2.5l-.94 2.06-2.06.94zm10 10l.94 2.06.94-2.06 2.06-.94-2.06-.94-.94-2.06-.94 2.06-2.06.94z\"/><path d=\"M17.41 7.96l-1.37-1.37c-.4-.4-.92-.59-1.43-.59-.52 0-1.04.2-1.43.59L10.3 9.45l-7.72 7.72c-.78.78-.78 2.05 0 2.83L4 21.41c.39.39.9.59 1.41.59.51 0 1.02-.2 1.41-.59l7.78-7.78 2.81-2.81c.8-.78.8-2.07 0-2.86zM5.41 20L4 18.59l7.72-7.72 1.47 1.35L5.41 20z\"/>\n",
              "  </svg>\n",
              "      </button>\n",
              "      \n",
              "  <style>\n",
              "    .colab-df-container {\n",
              "      display:flex;\n",
              "      flex-wrap:wrap;\n",
              "      gap: 12px;\n",
              "    }\n",
              "\n",
              "    .colab-df-convert {\n",
              "      background-color: #E8F0FE;\n",
              "      border: none;\n",
              "      border-radius: 50%;\n",
              "      cursor: pointer;\n",
              "      display: none;\n",
              "      fill: #1967D2;\n",
              "      height: 32px;\n",
              "      padding: 0 0 0 0;\n",
              "      width: 32px;\n",
              "    }\n",
              "\n",
              "    .colab-df-convert:hover {\n",
              "      background-color: #E2EBFA;\n",
              "      box-shadow: 0px 1px 2px rgba(60, 64, 67, 0.3), 0px 1px 3px 1px rgba(60, 64, 67, 0.15);\n",
              "      fill: #174EA6;\n",
              "    }\n",
              "\n",
              "    [theme=dark] .colab-df-convert {\n",
              "      background-color: #3B4455;\n",
              "      fill: #D2E3FC;\n",
              "    }\n",
              "\n",
              "    [theme=dark] .colab-df-convert:hover {\n",
              "      background-color: #434B5C;\n",
              "      box-shadow: 0px 1px 3px 1px rgba(0, 0, 0, 0.15);\n",
              "      filter: drop-shadow(0px 1px 2px rgba(0, 0, 0, 0.3));\n",
              "      fill: #FFFFFF;\n",
              "    }\n",
              "  </style>\n",
              "\n",
              "      <script>\n",
              "        const buttonEl =\n",
              "          document.querySelector('#df-2ed1932a-cd9f-456a-8e29-37b1684ea0d4 button.colab-df-convert');\n",
              "        buttonEl.style.display =\n",
              "          google.colab.kernel.accessAllowed ? 'block' : 'none';\n",
              "\n",
              "        async function convertToInteractive(key) {\n",
              "          const element = document.querySelector('#df-2ed1932a-cd9f-456a-8e29-37b1684ea0d4');\n",
              "          const dataTable =\n",
              "            await google.colab.kernel.invokeFunction('convertToInteractive',\n",
              "                                                     [key], {});\n",
              "          if (!dataTable) return;\n",
              "\n",
              "          const docLinkHtml = 'Like what you see? Visit the ' +\n",
              "            '<a target=\"_blank\" href=https://colab.research.google.com/notebooks/data_table.ipynb>data table notebook</a>'\n",
              "            + ' to learn more about interactive tables.';\n",
              "          element.innerHTML = '';\n",
              "          dataTable['output_type'] = 'display_data';\n",
              "          await google.colab.output.renderOutput(dataTable, element);\n",
              "          const docLink = document.createElement('div');\n",
              "          docLink.innerHTML = docLinkHtml;\n",
              "          element.appendChild(docLink);\n",
              "        }\n",
              "      </script>\n",
              "    </div>\n",
              "  </div>\n",
              "  "
            ]
          },
          "metadata": {},
          "execution_count": 108
        }
      ]
    },
    {
      "cell_type": "code",
      "execution_count": null,
      "metadata": {
        "id": "uhQfraje5HRw"
      },
      "outputs": [],
      "source": [
        "#create new column for cluster labels associated with each subject\n",
        "data_cluster1['labels'] = predicted_pso1\n",
        "data_cluster1['Segment'] = data_cluster1['labels'].map({0: 'First', 1: 'Second', 2: 'Third'})"
      ]
    },
    {
      "cell_type": "code",
      "execution_count": null,
      "metadata": {
        "colab": {
          "base_uri": "https://localhost:8080/",
          "height": 1000
        },
        "id": "jwamuxacdV6d",
        "outputId": "76133547-821c-4c98-8de9-871a4d2e6662"
      },
      "outputs": [
        {
          "output_type": "execute_result",
          "data": {
            "text/plain": [
              "                                  tbc       Umur  labels Segment\n",
              "Bili Bili (Gowa)                 11.0  28.659933       1  Second\n",
              "Binangae (Gowa)                   1.0   9.666667       0   First\n",
              "Bonto Bontoa (Gowa)               2.0  27.333333       1  Second\n",
              "Bonto-Bonto (Gowa)                1.0   6.000000       0   First\n",
              "Bontomanai (Gowa)                36.0  37.869413       2   Third\n",
              "Bontomarannu (Gowa)               5.0  13.933333       0   First\n",
              "Bontonompo (Gowa)                 2.0  16.500000       0   First\n",
              "Bontoramba (Gowa)                 4.0  21.625000       1  Second\n",
              "Bontotangnga (Gowa)               1.0  19.333333       1  Second\n",
              "Borong (Gowa)                     1.0  15.000000       0   First\n",
              "Borongloe (Gowa)                 32.0  32.261089       2   Third\n",
              "Gowa (Gowa)                       1.0  14.666667       0   First\n",
              "Jalan Bangkala, Manggala (Gowa)   1.0  11.666667       0   First\n",
              "Jalan Danau Mawang No. 4 (Gowa)   1.0  12.666667       0   First\n",
              "Jalan Poros Malino (Gowa)         1.0  14.000000       0   First\n",
              "Maccini Baji (Gowa)               4.0  18.916667       1  Second\n",
              "Mata Allo (Gowa)                  3.0  23.666667       1  Second\n",
              "Nirannuang (Gowa)                22.0  25.946970       1  Second\n",
              "Pakatto (Gowa)                   40.0  37.070597       2   Third\n",
              "Palangga (Gowa)                   1.0  11.000000       0   First\n",
              "Pattalassang (Gowa)               3.0  22.000000       1  Second\n",
              "Romang Lompoa (Gowa)             17.0  37.299720       1  Second\n",
              "Romangloe (Gowa)                 10.0  26.966667       1  Second\n",
              "Samata (Gowa)                     1.0  15.000000       0   First\n",
              "Sokkolia (Gowa)                  10.0  31.219608       1  Second\n",
              "Somba Opu (Gowa)                  1.0  16.000000       0   First\n",
              "Barombong (Gowa)                  0.0  10.000000       0   First\n",
              "Borong Sapiri (Gowa)              0.0   5.666667       0   First\n",
              "Kampung Beru (Gowa)               0.0  10.333333       0   First\n",
              "Lempangang (Gowa)                 0.0   7.666667       0   First\n",
              "Moncongloe (Gowa)                 0.0   5.444444       0   First\n",
              "Sungguminasa (Gowa)               0.0   7.000000       0   First\n",
              "Tangkebajeng (Gowa)               0.0   7.000000       0   First\n",
              "Buntu Alang (Gowa)                0.0   0.333333       0   First\n",
              "Lauwa (Gowa)                      0.0   0.333333       0   First\n",
              "Pallantikang (Gowa)               0.0   0.333333       0   First\n",
              "Panambungan (Gowa)                0.0   0.333333       0   First\n",
              "Romang Polong (Gowa)              0.0   0.333333       0   First\n",
              "Sapaya (Gowa)                     0.0   0.333333       0   First"
            ],
            "text/html": [
              "\n",
              "  <div id=\"df-22caa243-1325-4c1d-89f7-5798a27f74ff\">\n",
              "    <div class=\"colab-df-container\">\n",
              "      <div>\n",
              "<style scoped>\n",
              "    .dataframe tbody tr th:only-of-type {\n",
              "        vertical-align: middle;\n",
              "    }\n",
              "\n",
              "    .dataframe tbody tr th {\n",
              "        vertical-align: top;\n",
              "    }\n",
              "\n",
              "    .dataframe thead th {\n",
              "        text-align: right;\n",
              "    }\n",
              "</style>\n",
              "<table border=\"1\" class=\"dataframe\">\n",
              "  <thead>\n",
              "    <tr style=\"text-align: right;\">\n",
              "      <th></th>\n",
              "      <th>tbc</th>\n",
              "      <th>Umur</th>\n",
              "      <th>labels</th>\n",
              "      <th>Segment</th>\n",
              "    </tr>\n",
              "  </thead>\n",
              "  <tbody>\n",
              "    <tr>\n",
              "      <th>Bili Bili (Gowa)</th>\n",
              "      <td>11.0</td>\n",
              "      <td>28.659933</td>\n",
              "      <td>1</td>\n",
              "      <td>Second</td>\n",
              "    </tr>\n",
              "    <tr>\n",
              "      <th>Binangae (Gowa)</th>\n",
              "      <td>1.0</td>\n",
              "      <td>9.666667</td>\n",
              "      <td>0</td>\n",
              "      <td>First</td>\n",
              "    </tr>\n",
              "    <tr>\n",
              "      <th>Bonto Bontoa (Gowa)</th>\n",
              "      <td>2.0</td>\n",
              "      <td>27.333333</td>\n",
              "      <td>1</td>\n",
              "      <td>Second</td>\n",
              "    </tr>\n",
              "    <tr>\n",
              "      <th>Bonto-Bonto (Gowa)</th>\n",
              "      <td>1.0</td>\n",
              "      <td>6.000000</td>\n",
              "      <td>0</td>\n",
              "      <td>First</td>\n",
              "    </tr>\n",
              "    <tr>\n",
              "      <th>Bontomanai (Gowa)</th>\n",
              "      <td>36.0</td>\n",
              "      <td>37.869413</td>\n",
              "      <td>2</td>\n",
              "      <td>Third</td>\n",
              "    </tr>\n",
              "    <tr>\n",
              "      <th>Bontomarannu (Gowa)</th>\n",
              "      <td>5.0</td>\n",
              "      <td>13.933333</td>\n",
              "      <td>0</td>\n",
              "      <td>First</td>\n",
              "    </tr>\n",
              "    <tr>\n",
              "      <th>Bontonompo (Gowa)</th>\n",
              "      <td>2.0</td>\n",
              "      <td>16.500000</td>\n",
              "      <td>0</td>\n",
              "      <td>First</td>\n",
              "    </tr>\n",
              "    <tr>\n",
              "      <th>Bontoramba (Gowa)</th>\n",
              "      <td>4.0</td>\n",
              "      <td>21.625000</td>\n",
              "      <td>1</td>\n",
              "      <td>Second</td>\n",
              "    </tr>\n",
              "    <tr>\n",
              "      <th>Bontotangnga (Gowa)</th>\n",
              "      <td>1.0</td>\n",
              "      <td>19.333333</td>\n",
              "      <td>1</td>\n",
              "      <td>Second</td>\n",
              "    </tr>\n",
              "    <tr>\n",
              "      <th>Borong (Gowa)</th>\n",
              "      <td>1.0</td>\n",
              "      <td>15.000000</td>\n",
              "      <td>0</td>\n",
              "      <td>First</td>\n",
              "    </tr>\n",
              "    <tr>\n",
              "      <th>Borongloe (Gowa)</th>\n",
              "      <td>32.0</td>\n",
              "      <td>32.261089</td>\n",
              "      <td>2</td>\n",
              "      <td>Third</td>\n",
              "    </tr>\n",
              "    <tr>\n",
              "      <th>Gowa (Gowa)</th>\n",
              "      <td>1.0</td>\n",
              "      <td>14.666667</td>\n",
              "      <td>0</td>\n",
              "      <td>First</td>\n",
              "    </tr>\n",
              "    <tr>\n",
              "      <th>Jalan Bangkala, Manggala (Gowa)</th>\n",
              "      <td>1.0</td>\n",
              "      <td>11.666667</td>\n",
              "      <td>0</td>\n",
              "      <td>First</td>\n",
              "    </tr>\n",
              "    <tr>\n",
              "      <th>Jalan Danau Mawang No. 4 (Gowa)</th>\n",
              "      <td>1.0</td>\n",
              "      <td>12.666667</td>\n",
              "      <td>0</td>\n",
              "      <td>First</td>\n",
              "    </tr>\n",
              "    <tr>\n",
              "      <th>Jalan Poros Malino (Gowa)</th>\n",
              "      <td>1.0</td>\n",
              "      <td>14.000000</td>\n",
              "      <td>0</td>\n",
              "      <td>First</td>\n",
              "    </tr>\n",
              "    <tr>\n",
              "      <th>Maccini Baji (Gowa)</th>\n",
              "      <td>4.0</td>\n",
              "      <td>18.916667</td>\n",
              "      <td>1</td>\n",
              "      <td>Second</td>\n",
              "    </tr>\n",
              "    <tr>\n",
              "      <th>Mata Allo (Gowa)</th>\n",
              "      <td>3.0</td>\n",
              "      <td>23.666667</td>\n",
              "      <td>1</td>\n",
              "      <td>Second</td>\n",
              "    </tr>\n",
              "    <tr>\n",
              "      <th>Nirannuang (Gowa)</th>\n",
              "      <td>22.0</td>\n",
              "      <td>25.946970</td>\n",
              "      <td>1</td>\n",
              "      <td>Second</td>\n",
              "    </tr>\n",
              "    <tr>\n",
              "      <th>Pakatto (Gowa)</th>\n",
              "      <td>40.0</td>\n",
              "      <td>37.070597</td>\n",
              "      <td>2</td>\n",
              "      <td>Third</td>\n",
              "    </tr>\n",
              "    <tr>\n",
              "      <th>Palangga (Gowa)</th>\n",
              "      <td>1.0</td>\n",
              "      <td>11.000000</td>\n",
              "      <td>0</td>\n",
              "      <td>First</td>\n",
              "    </tr>\n",
              "    <tr>\n",
              "      <th>Pattalassang (Gowa)</th>\n",
              "      <td>3.0</td>\n",
              "      <td>22.000000</td>\n",
              "      <td>1</td>\n",
              "      <td>Second</td>\n",
              "    </tr>\n",
              "    <tr>\n",
              "      <th>Romang Lompoa (Gowa)</th>\n",
              "      <td>17.0</td>\n",
              "      <td>37.299720</td>\n",
              "      <td>1</td>\n",
              "      <td>Second</td>\n",
              "    </tr>\n",
              "    <tr>\n",
              "      <th>Romangloe (Gowa)</th>\n",
              "      <td>10.0</td>\n",
              "      <td>26.966667</td>\n",
              "      <td>1</td>\n",
              "      <td>Second</td>\n",
              "    </tr>\n",
              "    <tr>\n",
              "      <th>Samata (Gowa)</th>\n",
              "      <td>1.0</td>\n",
              "      <td>15.000000</td>\n",
              "      <td>0</td>\n",
              "      <td>First</td>\n",
              "    </tr>\n",
              "    <tr>\n",
              "      <th>Sokkolia (Gowa)</th>\n",
              "      <td>10.0</td>\n",
              "      <td>31.219608</td>\n",
              "      <td>1</td>\n",
              "      <td>Second</td>\n",
              "    </tr>\n",
              "    <tr>\n",
              "      <th>Somba Opu (Gowa)</th>\n",
              "      <td>1.0</td>\n",
              "      <td>16.000000</td>\n",
              "      <td>0</td>\n",
              "      <td>First</td>\n",
              "    </tr>\n",
              "    <tr>\n",
              "      <th>Barombong (Gowa)</th>\n",
              "      <td>0.0</td>\n",
              "      <td>10.000000</td>\n",
              "      <td>0</td>\n",
              "      <td>First</td>\n",
              "    </tr>\n",
              "    <tr>\n",
              "      <th>Borong Sapiri (Gowa)</th>\n",
              "      <td>0.0</td>\n",
              "      <td>5.666667</td>\n",
              "      <td>0</td>\n",
              "      <td>First</td>\n",
              "    </tr>\n",
              "    <tr>\n",
              "      <th>Kampung Beru (Gowa)</th>\n",
              "      <td>0.0</td>\n",
              "      <td>10.333333</td>\n",
              "      <td>0</td>\n",
              "      <td>First</td>\n",
              "    </tr>\n",
              "    <tr>\n",
              "      <th>Lempangang (Gowa)</th>\n",
              "      <td>0.0</td>\n",
              "      <td>7.666667</td>\n",
              "      <td>0</td>\n",
              "      <td>First</td>\n",
              "    </tr>\n",
              "    <tr>\n",
              "      <th>Moncongloe (Gowa)</th>\n",
              "      <td>0.0</td>\n",
              "      <td>5.444444</td>\n",
              "      <td>0</td>\n",
              "      <td>First</td>\n",
              "    </tr>\n",
              "    <tr>\n",
              "      <th>Sungguminasa (Gowa)</th>\n",
              "      <td>0.0</td>\n",
              "      <td>7.000000</td>\n",
              "      <td>0</td>\n",
              "      <td>First</td>\n",
              "    </tr>\n",
              "    <tr>\n",
              "      <th>Tangkebajeng (Gowa)</th>\n",
              "      <td>0.0</td>\n",
              "      <td>7.000000</td>\n",
              "      <td>0</td>\n",
              "      <td>First</td>\n",
              "    </tr>\n",
              "    <tr>\n",
              "      <th>Buntu Alang (Gowa)</th>\n",
              "      <td>0.0</td>\n",
              "      <td>0.333333</td>\n",
              "      <td>0</td>\n",
              "      <td>First</td>\n",
              "    </tr>\n",
              "    <tr>\n",
              "      <th>Lauwa (Gowa)</th>\n",
              "      <td>0.0</td>\n",
              "      <td>0.333333</td>\n",
              "      <td>0</td>\n",
              "      <td>First</td>\n",
              "    </tr>\n",
              "    <tr>\n",
              "      <th>Pallantikang (Gowa)</th>\n",
              "      <td>0.0</td>\n",
              "      <td>0.333333</td>\n",
              "      <td>0</td>\n",
              "      <td>First</td>\n",
              "    </tr>\n",
              "    <tr>\n",
              "      <th>Panambungan (Gowa)</th>\n",
              "      <td>0.0</td>\n",
              "      <td>0.333333</td>\n",
              "      <td>0</td>\n",
              "      <td>First</td>\n",
              "    </tr>\n",
              "    <tr>\n",
              "      <th>Romang Polong (Gowa)</th>\n",
              "      <td>0.0</td>\n",
              "      <td>0.333333</td>\n",
              "      <td>0</td>\n",
              "      <td>First</td>\n",
              "    </tr>\n",
              "    <tr>\n",
              "      <th>Sapaya (Gowa)</th>\n",
              "      <td>0.0</td>\n",
              "      <td>0.333333</td>\n",
              "      <td>0</td>\n",
              "      <td>First</td>\n",
              "    </tr>\n",
              "  </tbody>\n",
              "</table>\n",
              "</div>\n",
              "      <button class=\"colab-df-convert\" onclick=\"convertToInteractive('df-22caa243-1325-4c1d-89f7-5798a27f74ff')\"\n",
              "              title=\"Convert this dataframe to an interactive table.\"\n",
              "              style=\"display:none;\">\n",
              "        \n",
              "  <svg xmlns=\"http://www.w3.org/2000/svg\" height=\"24px\"viewBox=\"0 0 24 24\"\n",
              "       width=\"24px\">\n",
              "    <path d=\"M0 0h24v24H0V0z\" fill=\"none\"/>\n",
              "    <path d=\"M18.56 5.44l.94 2.06.94-2.06 2.06-.94-2.06-.94-.94-2.06-.94 2.06-2.06.94zm-11 1L8.5 8.5l.94-2.06 2.06-.94-2.06-.94L8.5 2.5l-.94 2.06-2.06.94zm10 10l.94 2.06.94-2.06 2.06-.94-2.06-.94-.94-2.06-.94 2.06-2.06.94z\"/><path d=\"M17.41 7.96l-1.37-1.37c-.4-.4-.92-.59-1.43-.59-.52 0-1.04.2-1.43.59L10.3 9.45l-7.72 7.72c-.78.78-.78 2.05 0 2.83L4 21.41c.39.39.9.59 1.41.59.51 0 1.02-.2 1.41-.59l7.78-7.78 2.81-2.81c.8-.78.8-2.07 0-2.86zM5.41 20L4 18.59l7.72-7.72 1.47 1.35L5.41 20z\"/>\n",
              "  </svg>\n",
              "      </button>\n",
              "      \n",
              "  <style>\n",
              "    .colab-df-container {\n",
              "      display:flex;\n",
              "      flex-wrap:wrap;\n",
              "      gap: 12px;\n",
              "    }\n",
              "\n",
              "    .colab-df-convert {\n",
              "      background-color: #E8F0FE;\n",
              "      border: none;\n",
              "      border-radius: 50%;\n",
              "      cursor: pointer;\n",
              "      display: none;\n",
              "      fill: #1967D2;\n",
              "      height: 32px;\n",
              "      padding: 0 0 0 0;\n",
              "      width: 32px;\n",
              "    }\n",
              "\n",
              "    .colab-df-convert:hover {\n",
              "      background-color: #E2EBFA;\n",
              "      box-shadow: 0px 1px 2px rgba(60, 64, 67, 0.3), 0px 1px 3px 1px rgba(60, 64, 67, 0.15);\n",
              "      fill: #174EA6;\n",
              "    }\n",
              "\n",
              "    [theme=dark] .colab-df-convert {\n",
              "      background-color: #3B4455;\n",
              "      fill: #D2E3FC;\n",
              "    }\n",
              "\n",
              "    [theme=dark] .colab-df-convert:hover {\n",
              "      background-color: #434B5C;\n",
              "      box-shadow: 0px 1px 3px 1px rgba(0, 0, 0, 0.15);\n",
              "      filter: drop-shadow(0px 1px 2px rgba(0, 0, 0, 0.3));\n",
              "      fill: #FFFFFF;\n",
              "    }\n",
              "  </style>\n",
              "\n",
              "      <script>\n",
              "        const buttonEl =\n",
              "          document.querySelector('#df-22caa243-1325-4c1d-89f7-5798a27f74ff button.colab-df-convert');\n",
              "        buttonEl.style.display =\n",
              "          google.colab.kernel.accessAllowed ? 'block' : 'none';\n",
              "\n",
              "        async function convertToInteractive(key) {\n",
              "          const element = document.querySelector('#df-22caa243-1325-4c1d-89f7-5798a27f74ff');\n",
              "          const dataTable =\n",
              "            await google.colab.kernel.invokeFunction('convertToInteractive',\n",
              "                                                     [key], {});\n",
              "          if (!dataTable) return;\n",
              "\n",
              "          const docLinkHtml = 'Like what you see? Visit the ' +\n",
              "            '<a target=\"_blank\" href=https://colab.research.google.com/notebooks/data_table.ipynb>data table notebook</a>'\n",
              "            + ' to learn more about interactive tables.';\n",
              "          element.innerHTML = '';\n",
              "          dataTable['output_type'] = 'display_data';\n",
              "          await google.colab.output.renderOutput(dataTable, element);\n",
              "          const docLink = document.createElement('div');\n",
              "          docLink.innerHTML = docLinkHtml;\n",
              "          element.appendChild(docLink);\n",
              "        }\n",
              "      </script>\n",
              "    </div>\n",
              "  </div>\n",
              "  "
            ]
          },
          "metadata": {},
          "execution_count": 110
        }
      ],
      "source": [
        "data_cluster1"
      ]
    },
    {
      "cell_type": "code",
      "execution_count": null,
      "metadata": {
        "id": "MOFFnEd-hqIh"
      },
      "outputs": [],
      "source": [
        "#Order the cluster\n",
        "data_cluster1['Segment'] = data_cluster1['Segment'].astype('category')\n",
        "data_cluster1['Segment'] = data_cluster1['Segment'].cat.reorder_categories(['First', 'Second', 'Third'])"
      ]
    },
    {
      "cell_type": "code",
      "execution_count": null,
      "metadata": {
        "id": "M8wdbq2Di_Si"
      },
      "outputs": [],
      "source": [
        "# ==== CREATE DICTIONARY FOR OBJECT AND NUMERICAL COLUMNS ====#\n",
        "dict_cat = {}\n",
        "dict_num = {}\n",
        "for cat in data_cluster1.select_dtypes('object'):\n",
        " dict_cat[cat] = lambda x: x.value_counts().index[0]\n",
        "for num in data_cluster1.select_dtypes(['int64', 'float64']):\n",
        "  if (num == 'Total'):\n",
        "    continue\n",
        "  dict_num[num] = ['mean']\n",
        "# ============ CREATE TABLE FOR EACH CLUSTER ============#\n",
        "data_cluster1.rename(columns={'labels': 'Total'}, inplace=True)\n",
        "data_percluster1 = data_cluster1.groupby('Segment').agg({\n",
        " 'Total': 'count',\n",
        " **dict_num,\n",
        " **dict_cat\n",
        "}).T"
      ]
    },
    {
      "cell_type": "code",
      "execution_count": null,
      "metadata": {
        "id": "OhW550ezH6Te"
      },
      "outputs": [],
      "source": [
        "data_cluster1['coord'] = coord1"
      ]
    },
    {
      "cell_type": "code",
      "execution_count": null,
      "metadata": {
        "id": "z7NzXDfMkf6s"
      },
      "outputs": [],
      "source": [
        "data_cluster1 = data_cluster1.T\n",
        "data_percluster1.to_json(r'cluster1_result.json')\n",
        "data_cluster1.to_json(r'cluster1_df.json')"
      ]
    },
    {
      "cell_type": "markdown",
      "metadata": {
        "id": "8xBS98i_PE0Z"
      },
      "source": [
        "##**Perbandingan Nilai DBI**"
      ]
    },
    {
      "cell_type": "code",
      "execution_count": null,
      "metadata": {
        "id": "9JpuJ9uTUAg4",
        "colab": {
          "base_uri": "https://localhost:8080/"
        },
        "outputId": "68c91b43-fa79-4663-e728-a736716edaf1"
      },
      "outputs": [
        {
          "output_type": "stream",
          "name": "stdout",
          "text": [
            "DBI kmeans: 0.6011317002929882\n",
            "DBI kmeans with PSO: 0.5648550704331451\n"
          ]
        }
      ],
      "source": [
        "from sklearn.metrics import davies_bouldin_score\n",
        "\n",
        "db_index1 = davies_bouldin_score(cluster1, predicted_kmeans1)\n",
        "print(\"DBI kmeans:\", db_index1)\n",
        "\n",
        "db_index2 = davies_bouldin_score(cluster1, predicted_pso1)\n",
        "print(\"DBI kmeans with PSO:\", db_index2)"
      ]
    },
    {
      "cell_type": "markdown",
      "metadata": {
        "id": "2b0jWew1I2kL"
      },
      "source": [
        "#**CLUSTER2**"
      ]
    },
    {
      "cell_type": "code",
      "execution_count": null,
      "metadata": {
        "id": "lrcOcpdJI2kM"
      },
      "outputs": [],
      "source": [
        "data_cluster2 = merge_data[['dbd','Umur']] \n",
        "\n",
        "# Standardize data\n",
        "scaler = MinMaxScaler()\n",
        "Num_features = data_cluster2.select_dtypes(include=['int64', 'float64']).columns\n",
        "scaler.fit(data_cluster2[Num_features])\n",
        "cluster2 = scaler.transform(data_cluster2[Num_features])"
      ]
    },
    {
      "cell_type": "markdown",
      "metadata": {
        "id": "dK37L-rWI2kM"
      },
      "source": [
        "###Elbow Method"
      ]
    },
    {
      "cell_type": "code",
      "execution_count": null,
      "metadata": {
        "colab": {
          "base_uri": "https://localhost:8080/"
        },
        "id": "9oWH_CFPI2kM",
        "outputId": "a254c989-bcd5-4ad5-8178-78b41122c5ca"
      },
      "outputs": [
        {
          "output_type": "stream",
          "name": "stdout",
          "text": [
            "    K       sse  silhouette\n",
            "0   2  1.914559    0.604967\n",
            "1   3  0.849121    0.533023\n",
            "2   4  0.461854    0.570023\n",
            "3   5  0.291082    0.565859\n",
            "4   6  0.181448    0.593320\n",
            "5   7  0.135579    0.574091\n",
            "6   8  0.091098    0.569651\n",
            "7   9  0.061135    0.605160\n",
            "8  10  0.044081    0.602589\n"
          ]
        }
      ],
      "source": [
        "sse = []\n",
        "silhouette_scores = []\n",
        "\n",
        "for n_clusters in range(2, 11):\n",
        "    kmeans = Kmeans1(n_clusters=n_clusters, random_state=42)\n",
        "    labels = kmeans.fit_predict(cluster2)\n",
        "    sse.append(kmeans.inertia_)\n",
        "    silhouette_avg = silhouette_score(cluster2, labels)\n",
        "    silhouette_scores.append(silhouette_avg)\n",
        "\n",
        "table_elbow = {\n",
        "    'K': range(2, 11),\n",
        "    'sse': sse,\n",
        "    'silhouette': silhouette_scores\n",
        "}\n",
        "df = pd.DataFrame(table_elbow)\n",
        "print(df)"
      ]
    },
    {
      "cell_type": "code",
      "execution_count": null,
      "metadata": {
        "colab": {
          "base_uri": "https://localhost:8080/"
        },
        "id": "n7BS6ScCI2kN",
        "outputId": "98164cc4-7fa3-42f8-99de-7981af1fd891"
      },
      "outputs": [
        {
          "output_type": "display_data",
          "data": {
            "text/plain": [
              "<Figure size 1000x500 with 1 Axes>"
            ],
            "image/png": "[encoded data removed]"
          },
          "metadata": {}
        },
        {
          "output_type": "display_data",
          "data": {
            "text/plain": [
              "<Figure size 1000x500 with 1 Axes>"
            ],
            "image/png": "[encoded data removed]"
          },
          "metadata": {}
        }
      ],
      "source": [
        "K = list(range(2,11))\n",
        "# Plot sse against k\n",
        "plt.figure(figsize=(10, 5))\n",
        "plt.plot(K, sse, '-o')\n",
        "plt.xlabel(r'Number of clusters *k*')\n",
        "plt.ylabel('Sum of squared distance');\n",
        "\n",
        "# Plot silhouette against k\n",
        "plt.figure(figsize=(10, 5))\n",
        "plt.plot(K, silhouette_scores, '-o')\n",
        "plt.xlabel(r'Number of clusters *k*')\n",
        "plt.ylabel('Silhouette');"
      ]
    },
    {
      "cell_type": "markdown",
      "metadata": {
        "id": "XzV6LrB1I2kN"
      },
      "source": [
        "### **K-Means**"
      ]
    },
    {
      "cell_type": "code",
      "execution_count": null,
      "metadata": {
        "id": "hMnClTiHI2kN"
      },
      "outputs": [],
      "source": [
        "kmeans2 = KMeans(n_cluster=3)\n",
        "kmeans2.fit(cluster2)"
      ]
    },
    {
      "cell_type": "markdown",
      "metadata": {
        "id": "xw4ySd-jI2kN"
      },
      "source": [
        "####Jarak Terdekat Centroid\n"
      ]
    },
    {
      "cell_type": "code",
      "execution_count": null,
      "metadata": {
        "colab": {
          "base_uri": "https://localhost:8080/"
        },
        "id": "VTnV9c_aI2kN",
        "outputId": "26698cfa-bc22-48da-f9d3-b3301c61fe42"
      },
      "outputs": [
        {
          "output_type": "stream",
          "name": "stdout",
          "text": [
            "Jarak setiap data pada iterasi pertama:\n",
            "Data 0 : [0.25818335 0.62732651 0.49525425]\n",
            "Data 1 : [0.28007777 0.10092136 0.92876405]\n",
            "Data 2 : [0.23710669 0.59860437 0.4915048 ]\n",
            "Data 3 : [0.3763266  0.00983948 1.00237195]\n",
            "Data 4 : [0.68495434 1.00735984 0.11315694]\n",
            "Data 5 : [0.16497194 0.21435557 0.83525587]\n",
            "Data 6 : [0.1078269  0.28268399 0.80536749]\n",
            "Data 7 : [0.10518398 0.44230956 0.6025149 ]\n",
            "Data 8 : [0.05797573 0.35813374 0.76113734]\n",
            "Data 9 : [0.14358207 0.24274837 0.83060902]\n",
            "Data 10 : [0.62252781 0.90805235 0.09113569]\n",
            "Data 11 : [0.15181284 0.23387498 0.8363741 ]\n",
            "Data 12 : [0.22809323 0.15405067 0.89056823]\n",
            "Data 13 : [0.20235424 0.18064907 0.87206398]\n",
            "Data 14 : [0.16847241 0.21612994 0.84806568]\n",
            "Data 15 : [0.04611428 0.34703728 0.75182279]\n",
            "Data 16 : [0.1004561  0.47803726 0.63671595]\n",
            "Data 17 : [0.18564414 0.55262862 0.54161089]\n",
            "Data 18 : [1.04868034 1.29268401 0.36961846]\n",
            "Data 19 : [0.24535957 0.13632765 0.9031304 ]\n",
            "Data 20 : [0.06523825 0.42915593 0.70778634]\n",
            "Data 21 : [0.57380482 0.9217353  0.24457381]\n",
            "Data 22 : [0.19037078 0.56775394 0.5819393 ]\n",
            "Data 23 : [0.14358207 0.24274837 0.83060902]\n",
            "Data 24 : [0.65824601 0.92450088 0.10482419]\n",
            "Data 25 : [0.1194494  0.26937126 0.81365027]\n",
            "Data 26 : [0.26816212 0.10976596 0.90942808]\n",
            "Data 27 : [0.38285247 0.011226   0.99752252]\n",
            "Data 28 : [0.25936751 0.1186159  0.902907  ]\n",
            "Data 29 : [0.32985309 0.048131   0.95614036]\n",
            "Data 30 : [0.3870252  0.04867349 0.97948274]\n",
            "Data 31 : [0.34750994 0.03091147 0.96980536]\n",
            "Data 32 : [0.34750994 0.03091147 0.96980536]\n",
            "Data 33 : [0.52611623 0.14847023 1.12337378]\n",
            "Data 34 : [0.52611623 0.14847023 1.12337378]\n",
            "Data 35 : [0.52611623 0.14847023 1.12337378]\n",
            "Data 36 : [0.52611623 0.14847023 1.12337378]\n",
            "Data 37 : [0.52611623 0.14847023 1.12337378]\n",
            "Data 38 : [0.52611623 0.14847023 1.12337378]\n"
          ]
        }
      ],
      "source": [
        "data = cluster2.copy()\n",
        "\n",
        "# Set the number of clusters\n",
        "num_clusters = 3\n",
        "\n",
        "# Initialize KMeans object\n",
        "Kmeans = Kmeans1(n_clusters=num_clusters)\n",
        "\n",
        "# Perform the initial fit to get the initial centroids\n",
        "Kmeans.fit(data)\n",
        "initial_centroids = Kmeans.cluster_centers_\n",
        "\n",
        "# Initialize an empty array to store the distances\n",
        "distances = np.zeros((len(data), num_clusters))\n",
        "\n",
        "# Calculate the distance between each data point and each centroid\n",
        "for i in range(len(data)):\n",
        "    for j in range(num_clusters):\n",
        "        distances[:, j] = np.linalg.norm(data - initial_centroids[j], axis=1)\n",
        "\n",
        "    labels = np.argmin(distances, axis=1)\n",
        "\n",
        "    for j in range(num_clusters):\n",
        "        initial_centroids[j] = np.mean(data[labels == j], axis=0)\n",
        "\n",
        "# Display the distances for each data point\n",
        "print(\"Jarak setiap data pada iterasi pertama:\")\n",
        "for i in range(len(data)):\n",
        "    print(\"Data\", i, \":\", distances[i,:])"
      ]
    },
    {
      "cell_type": "code",
      "execution_count": null,
      "metadata": {
        "colab": {
          "base_uri": "https://localhost:8080/"
        },
        "id": "XyENy2xA01fW",
        "outputId": "3099a7eb-2cec-4bd6-c136-040fc16f4929"
      },
      "outputs": [
        {
          "output_type": "execute_result",
          "data": {
            "text/plain": [
              "array([[0.05542453, 0.52318869],\n",
              "       [0.00943396, 0.1481702 ],\n",
              "       [0.63396226, 0.92739446]])"
            ]
          },
          "metadata": {},
          "execution_count": 122
        }
      ],
      "source": [
        "Kmeans.cluster_centers_"
      ]
    },
    {
      "cell_type": "code",
      "execution_count": null,
      "metadata": {
        "colab": {
          "base_uri": "https://localhost:8080/"
        },
        "id": "xxRZeViQI2kO",
        "outputId": "370e6480-7133-4393-9770-240ed853f1f5"
      },
      "outputs": [
        {
          "output_type": "stream",
          "name": "stdout",
          "text": [
            "Iteration 1\n",
            "[[0.05216426 0.5117407 ]\n",
            " [0.63396226 0.92739446]\n",
            " [0.0099889  0.13755829]]\n",
            "\n",
            "\n",
            "Iteration 2\n",
            "[[0.0099889  0.13755829]\n",
            " [0.05216426 0.5117407 ]\n",
            " [0.63396226 0.92739446]]\n",
            "\n",
            "\n",
            "Iteration 3\n",
            "[[0.05542453 0.52318869]\n",
            " [0.00943396 0.1481702 ]\n",
            " [0.63396226 0.92739446]]\n",
            "\n",
            "\n",
            "Iteration 4\n",
            "[[0.00943396 0.1481702 ]\n",
            " [0.63396226 0.92739446]\n",
            " [0.05542453 0.52318869]]\n",
            "\n",
            "\n",
            "Iteration 5\n",
            "[[0.05542453 0.52318869]\n",
            " [0.63396226 0.92739446]\n",
            " [0.00943396 0.1481702 ]]\n",
            "\n",
            "\n"
          ]
        }
      ],
      "source": [
        "for i in range(5):\n",
        "    # Fit the model and get the cluster centroids\n",
        "    Kmeans.fit(cluster2)\n",
        "    centroids = Kmeans.cluster_centers_\n",
        "    \n",
        "    # Print the centroids\n",
        "    print(\"Iteration\", i+1)\n",
        "    print(centroids, \"\\n\", sep=\"\\n\")"
      ]
    },
    {
      "cell_type": "markdown",
      "metadata": {
        "id": "ITBTKKprI2kO"
      },
      "source": [
        "####SSE and Silhoutte"
      ]
    },
    {
      "cell_type": "code",
      "execution_count": null,
      "metadata": {
        "colab": {
          "base_uri": "https://localhost:8080/"
        },
        "id": "rTKAZ3bqI2kO",
        "outputId": "73e47443-78ae-4c9a-bdde-8a3fb2a8ee08"
      },
      "outputs": [
        {
          "output_type": "stream",
          "name": "stdout",
          "text": [
            "Silhouette: 0.5341582204434892\n",
            "SSE: 0.853105774088605\n"
          ]
        }
      ],
      "source": [
        "predicted_kmeans2 = kmeans2.predict(cluster2)\n",
        "print('Silhouette:', silhouette_score(cluster2, predicted_kmeans2))\n",
        "print('SSE:', kmeans2.SSE)"
      ]
    },
    {
      "cell_type": "code",
      "execution_count": null,
      "metadata": {
        "colab": {
          "base_uri": "https://localhost:8080/"
        },
        "id": "8kXtSE9sI2kO",
        "outputId": "eafb8569-aeb6-4d63-d304-5240e2a31838"
      },
      "outputs": [
        {
          "output_type": "execute_result",
          "data": {
            "text/plain": [
              "0    17\n",
              "2    17\n",
              "1     5\n",
              "Name: cluster, dtype: int64"
            ]
          },
          "metadata": {},
          "execution_count": 125
        }
      ],
      "source": [
        "frame2 = pd.DataFrame(cluster2)\n",
        "frame2['cluster'] = predicted_kmeans2\n",
        "frame2['cluster'].value_counts()"
      ]
    },
    {
      "cell_type": "code",
      "execution_count": null,
      "metadata": {
        "colab": {
          "base_uri": "https://localhost:8080/"
        },
        "id": "JAasZH5nI2kP",
        "outputId": "65164b3d-d496-4224-e826-bf9767b0d55c"
      },
      "outputs": [
        {
          "output_type": "execute_result",
          "data": {
            "text/plain": [
              "array([0, 2, 0, 2, 1, 0, 0, 0, 0, 0, 1, 0, 2, 0, 0, 0, 0, 0, 1, 2, 0, 1,\n",
              "       0, 0, 1, 0, 2, 2, 2, 2, 2, 2, 2, 2, 2, 2, 2, 2, 2])"
            ]
          },
          "metadata": {},
          "execution_count": 126
        }
      ],
      "source": [
        "predicted_kmeans2"
      ]
    },
    {
      "cell_type": "markdown",
      "metadata": {
        "id": "oMpVKQkUI2kP"
      },
      "source": [
        "### **PSO K-Means**"
      ]
    },
    {
      "cell_type": "code",
      "execution_count": null,
      "metadata": {
        "id": "C_7b6m8zI2kP"
      },
      "outputs": [],
      "source": [
        "pso2 = ParticleSwarmOptimizedClustering(n_cluster=3, \n",
        "                                       n_particles=20, \n",
        "                                       data=cluster2, \n",
        "                                       hybrid=True,\n",
        "                                       max_iter=2000, \n",
        "                                       print_debug=200)"
      ]
    },
    {
      "cell_type": "code",
      "execution_count": null,
      "metadata": {
        "colab": {
          "base_uri": "https://localhost:8080/"
        },
        "id": "vgc2ACSvI2kQ",
        "outputId": "fb927004-9664-40a9-b903-5c027c9aba9b"
      },
      "outputs": [
        {
          "output_type": "stream",
          "name": "stdout",
          "text": [
            "Initial global best score 0.5197920729335739\n",
            "Iteration 0001/2000 current gbest score 0.519792072933573879\n",
            "Iteration 0201/2000 current gbest score 0.519792072933573879\n",
            "Iteration 0401/2000 current gbest score 0.519792072933573768\n",
            "Iteration 0601/2000 current gbest score 0.519792072933573768\n",
            "Iteration 0801/2000 current gbest score 0.519792072933573768\n",
            "Iteration 1001/2000 current gbest score 0.519792072933573768\n",
            "Iteration 1201/2000 current gbest score 0.519792072933573768\n",
            "Iteration 1401/2000 current gbest score 0.519792072933573768\n",
            "Iteration 1601/2000 current gbest score 0.519792072933573768\n",
            "Iteration 1801/2000 current gbest score 0.519792072933573768\n",
            "Finish with gbest score 0.519792072933573768\n"
          ]
        }
      ],
      "source": [
        "hist = pso2.run()"
      ]
    },
    {
      "cell_type": "code",
      "execution_count": null,
      "metadata": {
        "id": "XXGMtBZUI2kR"
      },
      "outputs": [],
      "source": [
        "pso_kmeans2 = KMeans(n_cluster=3)\n",
        "pso_kmeans2.centroid = pso2.gbest_centroids.copy()"
      ]
    },
    {
      "cell_type": "code",
      "execution_count": null,
      "metadata": {
        "colab": {
          "base_uri": "https://localhost:8080/"
        },
        "id": "tDfJjrpLI2kR",
        "outputId": "75ba28a5-8bf0-48a3-a3b3-17f7257a0c3e"
      },
      "outputs": [
        {
          "output_type": "stream",
          "name": "stdout",
          "text": [
            "Silhouette: 0.5508179531668816\n",
            "SSE: 0.8951517510645483\n"
          ]
        }
      ],
      "source": [
        "predicted_pso2 = pso_kmeans2.predict(cluster2)\n",
        "print('Silhouette:', silhouette_score(cluster2, predicted_pso2))\n",
        "print('SSE:', calc_sse(centroids=pso2.gbest_centroids, \n",
        "                       data=cluster2, \n",
        "                       labels=predicted_pso2))"
      ]
    },
    {
      "cell_type": "code",
      "execution_count": null,
      "metadata": {
        "colab": {
          "base_uri": "https://localhost:8080/"
        },
        "id": "rj6bL5grI2kR",
        "outputId": "4e38a0fe-ee97-415e-d1d2-4116fc0877e1"
      },
      "outputs": [
        {
          "output_type": "execute_result",
          "data": {
            "text/plain": [
              "2    25\n",
              "0     9\n",
              "1     5\n",
              "Name: cluster, dtype: int64"
            ]
          },
          "metadata": {},
          "execution_count": 147
        }
      ],
      "source": [
        "frame2 = pd.DataFrame(cluster2)\n",
        "frame2['cluster'] = predicted_pso2\n",
        "frame2['cluster'].value_counts()"
      ]
    },
    {
      "cell_type": "code",
      "execution_count": null,
      "metadata": {
        "colab": {
          "base_uri": "https://localhost:8080/"
        },
        "id": "9H8086s4I2kS",
        "outputId": "635f8796-b179-4bdd-cf17-49f8c6d6bcb8"
      },
      "outputs": [
        {
          "output_type": "execute_result",
          "data": {
            "text/plain": [
              "array([0, 2, 0, 2, 1, 2, 2, 0, 0, 2, 1, 2, 2, 2, 2, 0, 0, 0, 1, 2, 0, 1,\n",
              "       0, 2, 1, 2, 2, 2, 2, 2, 2, 2, 2, 2, 2, 2, 2, 2, 2])"
            ]
          },
          "metadata": {},
          "execution_count": 148
        }
      ],
      "source": [
        "predicted_pso2"
      ]
    },
    {
      "cell_type": "markdown",
      "metadata": {
        "id": "tAT8iMtRWH68"
      },
      "source": [
        "###**Pattern Evaluation**"
      ]
    },
    {
      "cell_type": "code",
      "execution_count": null,
      "metadata": {
        "id": "rrxfB1iKI2kT"
      },
      "outputs": [],
      "source": [
        "#create new column for cluster labels associated with each subject\n",
        "data_cluster2['labels'] = predicted_pso2\n",
        "data_cluster2['Segment'] = data_cluster2['labels'].map({0: 'First', 1: 'Second', 2: 'Third'})"
      ]
    },
    {
      "cell_type": "code",
      "execution_count": null,
      "metadata": {
        "colab": {
          "base_uri": "https://localhost:8080/"
        },
        "id": "pi7LgFcW3bbV",
        "outputId": "5e363204-da2a-4885-c271-0fadb04cb3b0"
      },
      "outputs": [
        {
          "output_type": "execute_result",
          "data": {
            "text/plain": [
              "dbd                                                     10.0\n",
              "Umur                                              211.211111\n",
              "labels                                                    50\n",
              "Segment    ThirdThirdThirdThirdThirdThirdThirdThirdThirdT...\n",
              "dtype: object"
            ]
          },
          "metadata": {},
          "execution_count": 154
        }
      ],
      "source": [
        "data_cluster2[data_cluster2['labels'] == 2].sum()\n"
      ]
    },
    {
      "cell_type": "code",
      "execution_count": null,
      "metadata": {
        "colab": {
          "base_uri": "https://localhost:8080/",
          "height": 833
        },
        "id": "nrO-wgwg3cu9",
        "outputId": "d80be944-37c0-48d2-a87f-a48ba295e924"
      },
      "outputs": [
        {
          "output_type": "execute_result",
          "data": {
            "text/plain": [
              "                                 dbd       Umur  labels Segment\n",
              "Binangae (Gowa)                  0.0   9.666667       2   Third\n",
              "Bonto-Bonto (Gowa)               0.0   6.000000       2   Third\n",
              "Bontomarannu (Gowa)              1.0  13.933333       2   Third\n",
              "Bontonompo (Gowa)                0.0  16.500000       2   Third\n",
              "Borong (Gowa)                    0.0  15.000000       2   Third\n",
              "Gowa (Gowa)                      0.0  14.666667       2   Third\n",
              "Jalan Bangkala, Manggala (Gowa)  0.0  11.666667       2   Third\n",
              "Jalan Danau Mawang No. 4 (Gowa)  0.0  12.666667       2   Third\n",
              "Jalan Poros Malino (Gowa)        0.0  14.000000       2   Third\n",
              "Palangga (Gowa)                  0.0  11.000000       2   Third\n",
              "Samata (Gowa)                    0.0  15.000000       2   Third\n",
              "Somba Opu (Gowa)                 0.0  16.000000       2   Third\n",
              "Barombong (Gowa)                 1.0  10.000000       2   Third\n",
              "Borong Sapiri (Gowa)             1.0   5.666667       2   Third\n",
              "Kampung Beru (Gowa)              1.0  10.333333       2   Third\n",
              "Lempangang (Gowa)                1.0   7.666667       2   Third\n",
              "Moncongloe (Gowa)                3.0   5.444444       2   Third\n",
              "Sungguminasa (Gowa)              1.0   7.000000       2   Third\n",
              "Tangkebajeng (Gowa)              1.0   7.000000       2   Third\n",
              "Buntu Alang (Gowa)               0.0   0.333333       2   Third\n",
              "Lauwa (Gowa)                     0.0   0.333333       2   Third\n",
              "Pallantikang (Gowa)              0.0   0.333333       2   Third\n",
              "Panambungan (Gowa)               0.0   0.333333       2   Third\n",
              "Romang Polong (Gowa)             0.0   0.333333       2   Third\n",
              "Sapaya (Gowa)                    0.0   0.333333       2   Third"
            ],
            "text/html": [
              "\n",
              "  <div id=\"df-1e75e6c0-2373-463f-9dfb-6ce45fbedf2c\">\n",
              "    <div class=\"colab-df-container\">\n",
              "      <div>\n",
              "<style scoped>\n",
              "    .dataframe tbody tr th:only-of-type {\n",
              "        vertical-align: middle;\n",
              "    }\n",
              "\n",
              "    .dataframe tbody tr th {\n",
              "        vertical-align: top;\n",
              "    }\n",
              "\n",
              "    .dataframe thead th {\n",
              "        text-align: right;\n",
              "    }\n",
              "</style>\n",
              "<table border=\"1\" class=\"dataframe\">\n",
              "  <thead>\n",
              "    <tr style=\"text-align: right;\">\n",
              "      <th></th>\n",
              "      <th>dbd</th>\n",
              "      <th>Umur</th>\n",
              "      <th>labels</th>\n",
              "      <th>Segment</th>\n",
              "    </tr>\n",
              "  </thead>\n",
              "  <tbody>\n",
              "    <tr>\n",
              "      <th>Binangae (Gowa)</th>\n",
              "      <td>0.0</td>\n",
              "      <td>9.666667</td>\n",
              "      <td>2</td>\n",
              "      <td>Third</td>\n",
              "    </tr>\n",
              "    <tr>\n",
              "      <th>Bonto-Bonto (Gowa)</th>\n",
              "      <td>0.0</td>\n",
              "      <td>6.000000</td>\n",
              "      <td>2</td>\n",
              "      <td>Third</td>\n",
              "    </tr>\n",
              "    <tr>\n",
              "      <th>Bontomarannu (Gowa)</th>\n",
              "      <td>1.0</td>\n",
              "      <td>13.933333</td>\n",
              "      <td>2</td>\n",
              "      <td>Third</td>\n",
              "    </tr>\n",
              "    <tr>\n",
              "      <th>Bontonompo (Gowa)</th>\n",
              "      <td>0.0</td>\n",
              "      <td>16.500000</td>\n",
              "      <td>2</td>\n",
              "      <td>Third</td>\n",
              "    </tr>\n",
              "    <tr>\n",
              "      <th>Borong (Gowa)</th>\n",
              "      <td>0.0</td>\n",
              "      <td>15.000000</td>\n",
              "      <td>2</td>\n",
              "      <td>Third</td>\n",
              "    </tr>\n",
              "    <tr>\n",
              "      <th>Gowa (Gowa)</th>\n",
              "      <td>0.0</td>\n",
              "      <td>14.666667</td>\n",
              "      <td>2</td>\n",
              "      <td>Third</td>\n",
              "    </tr>\n",
              "    <tr>\n",
              "      <th>Jalan Bangkala, Manggala (Gowa)</th>\n",
              "      <td>0.0</td>\n",
              "      <td>11.666667</td>\n",
              "      <td>2</td>\n",
              "      <td>Third</td>\n",
              "    </tr>\n",
              "    <tr>\n",
              "      <th>Jalan Danau Mawang No. 4 (Gowa)</th>\n",
              "      <td>0.0</td>\n",
              "      <td>12.666667</td>\n",
              "      <td>2</td>\n",
              "      <td>Third</td>\n",
              "    </tr>\n",
              "    <tr>\n",
              "      <th>Jalan Poros Malino (Gowa)</th>\n",
              "      <td>0.0</td>\n",
              "      <td>14.000000</td>\n",
              "      <td>2</td>\n",
              "      <td>Third</td>\n",
              "    </tr>\n",
              "    <tr>\n",
              "      <th>Palangga (Gowa)</th>\n",
              "      <td>0.0</td>\n",
              "      <td>11.000000</td>\n",
              "      <td>2</td>\n",
              "      <td>Third</td>\n",
              "    </tr>\n",
              "    <tr>\n",
              "      <th>Samata (Gowa)</th>\n",
              "      <td>0.0</td>\n",
              "      <td>15.000000</td>\n",
              "      <td>2</td>\n",
              "      <td>Third</td>\n",
              "    </tr>\n",
              "    <tr>\n",
              "      <th>Somba Opu (Gowa)</th>\n",
              "      <td>0.0</td>\n",
              "      <td>16.000000</td>\n",
              "      <td>2</td>\n",
              "      <td>Third</td>\n",
              "    </tr>\n",
              "    <tr>\n",
              "      <th>Barombong (Gowa)</th>\n",
              "      <td>1.0</td>\n",
              "      <td>10.000000</td>\n",
              "      <td>2</td>\n",
              "      <td>Third</td>\n",
              "    </tr>\n",
              "    <tr>\n",
              "      <th>Borong Sapiri (Gowa)</th>\n",
              "      <td>1.0</td>\n",
              "      <td>5.666667</td>\n",
              "      <td>2</td>\n",
              "      <td>Third</td>\n",
              "    </tr>\n",
              "    <tr>\n",
              "      <th>Kampung Beru (Gowa)</th>\n",
              "      <td>1.0</td>\n",
              "      <td>10.333333</td>\n",
              "      <td>2</td>\n",
              "      <td>Third</td>\n",
              "    </tr>\n",
              "    <tr>\n",
              "      <th>Lempangang (Gowa)</th>\n",
              "      <td>1.0</td>\n",
              "      <td>7.666667</td>\n",
              "      <td>2</td>\n",
              "      <td>Third</td>\n",
              "    </tr>\n",
              "    <tr>\n",
              "      <th>Moncongloe (Gowa)</th>\n",
              "      <td>3.0</td>\n",
              "      <td>5.444444</td>\n",
              "      <td>2</td>\n",
              "      <td>Third</td>\n",
              "    </tr>\n",
              "    <tr>\n",
              "      <th>Sungguminasa (Gowa)</th>\n",
              "      <td>1.0</td>\n",
              "      <td>7.000000</td>\n",
              "      <td>2</td>\n",
              "      <td>Third</td>\n",
              "    </tr>\n",
              "    <tr>\n",
              "      <th>Tangkebajeng (Gowa)</th>\n",
              "      <td>1.0</td>\n",
              "      <td>7.000000</td>\n",
              "      <td>2</td>\n",
              "      <td>Third</td>\n",
              "    </tr>\n",
              "    <tr>\n",
              "      <th>Buntu Alang (Gowa)</th>\n",
              "      <td>0.0</td>\n",
              "      <td>0.333333</td>\n",
              "      <td>2</td>\n",
              "      <td>Third</td>\n",
              "    </tr>\n",
              "    <tr>\n",
              "      <th>Lauwa (Gowa)</th>\n",
              "      <td>0.0</td>\n",
              "      <td>0.333333</td>\n",
              "      <td>2</td>\n",
              "      <td>Third</td>\n",
              "    </tr>\n",
              "    <tr>\n",
              "      <th>Pallantikang (Gowa)</th>\n",
              "      <td>0.0</td>\n",
              "      <td>0.333333</td>\n",
              "      <td>2</td>\n",
              "      <td>Third</td>\n",
              "    </tr>\n",
              "    <tr>\n",
              "      <th>Panambungan (Gowa)</th>\n",
              "      <td>0.0</td>\n",
              "      <td>0.333333</td>\n",
              "      <td>2</td>\n",
              "      <td>Third</td>\n",
              "    </tr>\n",
              "    <tr>\n",
              "      <th>Romang Polong (Gowa)</th>\n",
              "      <td>0.0</td>\n",
              "      <td>0.333333</td>\n",
              "      <td>2</td>\n",
              "      <td>Third</td>\n",
              "    </tr>\n",
              "    <tr>\n",
              "      <th>Sapaya (Gowa)</th>\n",
              "      <td>0.0</td>\n",
              "      <td>0.333333</td>\n",
              "      <td>2</td>\n",
              "      <td>Third</td>\n",
              "    </tr>\n",
              "  </tbody>\n",
              "</table>\n",
              "</div>\n",
              "      <button class=\"colab-df-convert\" onclick=\"convertToInteractive('df-1e75e6c0-2373-463f-9dfb-6ce45fbedf2c')\"\n",
              "              title=\"Convert this dataframe to an interactive table.\"\n",
              "              style=\"display:none;\">\n",
              "        \n",
              "  <svg xmlns=\"http://www.w3.org/2000/svg\" height=\"24px\"viewBox=\"0 0 24 24\"\n",
              "       width=\"24px\">\n",
              "    <path d=\"M0 0h24v24H0V0z\" fill=\"none\"/>\n",
              "    <path d=\"M18.56 5.44l.94 2.06.94-2.06 2.06-.94-2.06-.94-.94-2.06-.94 2.06-2.06.94zm-11 1L8.5 8.5l.94-2.06 2.06-.94-2.06-.94L8.5 2.5l-.94 2.06-2.06.94zm10 10l.94 2.06.94-2.06 2.06-.94-2.06-.94-.94-2.06-.94 2.06-2.06.94z\"/><path d=\"M17.41 7.96l-1.37-1.37c-.4-.4-.92-.59-1.43-.59-.52 0-1.04.2-1.43.59L10.3 9.45l-7.72 7.72c-.78.78-.78 2.05 0 2.83L4 21.41c.39.39.9.59 1.41.59.51 0 1.02-.2 1.41-.59l7.78-7.78 2.81-2.81c.8-.78.8-2.07 0-2.86zM5.41 20L4 18.59l7.72-7.72 1.47 1.35L5.41 20z\"/>\n",
              "  </svg>\n",
              "      </button>\n",
              "      \n",
              "  <style>\n",
              "    .colab-df-container {\n",
              "      display:flex;\n",
              "      flex-wrap:wrap;\n",
              "      gap: 12px;\n",
              "    }\n",
              "\n",
              "    .colab-df-convert {\n",
              "      background-color: #E8F0FE;\n",
              "      border: none;\n",
              "      border-radius: 50%;\n",
              "      cursor: pointer;\n",
              "      display: none;\n",
              "      fill: #1967D2;\n",
              "      height: 32px;\n",
              "      padding: 0 0 0 0;\n",
              "      width: 32px;\n",
              "    }\n",
              "\n",
              "    .colab-df-convert:hover {\n",
              "      background-color: #E2EBFA;\n",
              "      box-shadow: 0px 1px 2px rgba(60, 64, 67, 0.3), 0px 1px 3px 1px rgba(60, 64, 67, 0.15);\n",
              "      fill: #174EA6;\n",
              "    }\n",
              "\n",
              "    [theme=dark] .colab-df-convert {\n",
              "      background-color: #3B4455;\n",
              "      fill: #D2E3FC;\n",
              "    }\n",
              "\n",
              "    [theme=dark] .colab-df-convert:hover {\n",
              "      background-color: #434B5C;\n",
              "      box-shadow: 0px 1px 3px 1px rgba(0, 0, 0, 0.15);\n",
              "      filter: drop-shadow(0px 1px 2px rgba(0, 0, 0, 0.3));\n",
              "      fill: #FFFFFF;\n",
              "    }\n",
              "  </style>\n",
              "\n",
              "      <script>\n",
              "        const buttonEl =\n",
              "          document.querySelector('#df-1e75e6c0-2373-463f-9dfb-6ce45fbedf2c button.colab-df-convert');\n",
              "        buttonEl.style.display =\n",
              "          google.colab.kernel.accessAllowed ? 'block' : 'none';\n",
              "\n",
              "        async function convertToInteractive(key) {\n",
              "          const element = document.querySelector('#df-1e75e6c0-2373-463f-9dfb-6ce45fbedf2c');\n",
              "          const dataTable =\n",
              "            await google.colab.kernel.invokeFunction('convertToInteractive',\n",
              "                                                     [key], {});\n",
              "          if (!dataTable) return;\n",
              "\n",
              "          const docLinkHtml = 'Like what you see? Visit the ' +\n",
              "            '<a target=\"_blank\" href=https://colab.research.google.com/notebooks/data_table.ipynb>data table notebook</a>'\n",
              "            + ' to learn more about interactive tables.';\n",
              "          element.innerHTML = '';\n",
              "          dataTable['output_type'] = 'display_data';\n",
              "          await google.colab.output.renderOutput(dataTable, element);\n",
              "          const docLink = document.createElement('div');\n",
              "          docLink.innerHTML = docLinkHtml;\n",
              "          element.appendChild(docLink);\n",
              "        }\n",
              "      </script>\n",
              "    </div>\n",
              "  </div>\n",
              "  "
            ]
          },
          "metadata": {},
          "execution_count": 155
        }
      ],
      "source": [
        "data_cluster2[data_cluster2['labels'] == 2]"
      ]
    },
    {
      "cell_type": "code",
      "execution_count": null,
      "metadata": {
        "colab": {
          "base_uri": "https://localhost:8080/",
          "height": 1000
        },
        "id": "XWo46WR_I2kT",
        "outputId": "d08b3ad9-2440-4a42-d5e4-2622b26a3cfc"
      },
      "outputs": [
        {
          "output_type": "execute_result",
          "data": {
            "text/plain": [
              "                                  dbd       Umur  labels Segment\n",
              "Bili Bili (Gowa)                  9.0  28.659933       0   First\n",
              "Binangae (Gowa)                   0.0   9.666667       2   Third\n",
              "Bonto Bontoa (Gowa)              10.0  27.333333       0   First\n",
              "Bonto-Bonto (Gowa)                0.0   6.000000       2   Third\n",
              "Bontomanai (Gowa)                29.0  37.869413       1  Second\n",
              "Bontomarannu (Gowa)               1.0  13.933333       2   Third\n",
              "Bontonompo (Gowa)                 0.0  16.500000       2   Third\n",
              "Bontoramba (Gowa)                 8.0  21.625000       0   First\n",
              "Bontotangnga (Gowa)               0.0  19.333333       0   First\n",
              "Borong (Gowa)                     0.0  15.000000       2   Third\n",
              "Borongloe (Gowa)                 31.0  32.261089       1  Second\n",
              "Gowa (Gowa)                       0.0  14.666667       2   Third\n",
              "Jalan Bangkala, Manggala (Gowa)   0.0  11.666667       2   Third\n",
              "Jalan Danau Mawang No. 4 (Gowa)   0.0  12.666667       2   Third\n",
              "Jalan Poros Malino (Gowa)         0.0  14.000000       2   Third\n",
              "Maccini Baji (Gowa)               1.0  18.916667       0   First\n",
              "Mata Allo (Gowa)                  4.0  23.666667       0   First\n",
              "Nirannuang (Gowa)                 8.0  25.946970       0   First\n",
              "Pakatto (Gowa)                   53.0  37.070597       1  Second\n",
              "Palangga (Gowa)                   0.0  11.000000       2   Third\n",
              "Pattalassang (Gowa)               1.0  22.000000       0   First\n",
              "Romang Lompoa (Gowa)             21.0  37.299720       1  Second\n",
              "Romangloe (Gowa)                  5.0  26.966667       0   First\n",
              "Samata (Gowa)                     0.0  15.000000       2   Third\n",
              "Sokkolia (Gowa)                  34.0  31.219608       1  Second\n",
              "Somba Opu (Gowa)                  0.0  16.000000       2   Third\n",
              "Barombong (Gowa)                  1.0  10.000000       2   Third\n",
              "Borong Sapiri (Gowa)              1.0   5.666667       2   Third\n",
              "Kampung Beru (Gowa)               1.0  10.333333       2   Third\n",
              "Lempangang (Gowa)                 1.0   7.666667       2   Third\n",
              "Moncongloe (Gowa)                 3.0   5.444444       2   Third\n",
              "Sungguminasa (Gowa)               1.0   7.000000       2   Third\n",
              "Tangkebajeng (Gowa)               1.0   7.000000       2   Third\n",
              "Buntu Alang (Gowa)                0.0   0.333333       2   Third\n",
              "Lauwa (Gowa)                      0.0   0.333333       2   Third\n",
              "Pallantikang (Gowa)               0.0   0.333333       2   Third\n",
              "Panambungan (Gowa)                0.0   0.333333       2   Third\n",
              "Romang Polong (Gowa)              0.0   0.333333       2   Third\n",
              "Sapaya (Gowa)                     0.0   0.333333       2   Third"
            ],
            "text/html": [
              "\n",
              "  <div id=\"df-a3b10945-2c76-4de1-b814-9e7d80dd3cb1\">\n",
              "    <div class=\"colab-df-container\">\n",
              "      <div>\n",
              "<style scoped>\n",
              "    .dataframe tbody tr th:only-of-type {\n",
              "        vertical-align: middle;\n",
              "    }\n",
              "\n",
              "    .dataframe tbody tr th {\n",
              "        vertical-align: top;\n",
              "    }\n",
              "\n",
              "    .dataframe thead th {\n",
              "        text-align: right;\n",
              "    }\n",
              "</style>\n",
              "<table border=\"1\" class=\"dataframe\">\n",
              "  <thead>\n",
              "    <tr style=\"text-align: right;\">\n",
              "      <th></th>\n",
              "      <th>dbd</th>\n",
              "      <th>Umur</th>\n",
              "      <th>labels</th>\n",
              "      <th>Segment</th>\n",
              "    </tr>\n",
              "  </thead>\n",
              "  <tbody>\n",
              "    <tr>\n",
              "      <th>Bili Bili (Gowa)</th>\n",
              "      <td>9.0</td>\n",
              "      <td>28.659933</td>\n",
              "      <td>0</td>\n",
              "      <td>First</td>\n",
              "    </tr>\n",
              "    <tr>\n",
              "      <th>Binangae (Gowa)</th>\n",
              "      <td>0.0</td>\n",
              "      <td>9.666667</td>\n",
              "      <td>2</td>\n",
              "      <td>Third</td>\n",
              "    </tr>\n",
              "    <tr>\n",
              "      <th>Bonto Bontoa (Gowa)</th>\n",
              "      <td>10.0</td>\n",
              "      <td>27.333333</td>\n",
              "      <td>0</td>\n",
              "      <td>First</td>\n",
              "    </tr>\n",
              "    <tr>\n",
              "      <th>Bonto-Bonto (Gowa)</th>\n",
              "      <td>0.0</td>\n",
              "      <td>6.000000</td>\n",
              "      <td>2</td>\n",
              "      <td>Third</td>\n",
              "    </tr>\n",
              "    <tr>\n",
              "      <th>Bontomanai (Gowa)</th>\n",
              "      <td>29.0</td>\n",
              "      <td>37.869413</td>\n",
              "      <td>1</td>\n",
              "      <td>Second</td>\n",
              "    </tr>\n",
              "    <tr>\n",
              "      <th>Bontomarannu (Gowa)</th>\n",
              "      <td>1.0</td>\n",
              "      <td>13.933333</td>\n",
              "      <td>2</td>\n",
              "      <td>Third</td>\n",
              "    </tr>\n",
              "    <tr>\n",
              "      <th>Bontonompo (Gowa)</th>\n",
              "      <td>0.0</td>\n",
              "      <td>16.500000</td>\n",
              "      <td>2</td>\n",
              "      <td>Third</td>\n",
              "    </tr>\n",
              "    <tr>\n",
              "      <th>Bontoramba (Gowa)</th>\n",
              "      <td>8.0</td>\n",
              "      <td>21.625000</td>\n",
              "      <td>0</td>\n",
              "      <td>First</td>\n",
              "    </tr>\n",
              "    <tr>\n",
              "      <th>Bontotangnga (Gowa)</th>\n",
              "      <td>0.0</td>\n",
              "      <td>19.333333</td>\n",
              "      <td>0</td>\n",
              "      <td>First</td>\n",
              "    </tr>\n",
              "    <tr>\n",
              "      <th>Borong (Gowa)</th>\n",
              "      <td>0.0</td>\n",
              "      <td>15.000000</td>\n",
              "      <td>2</td>\n",
              "      <td>Third</td>\n",
              "    </tr>\n",
              "    <tr>\n",
              "      <th>Borongloe (Gowa)</th>\n",
              "      <td>31.0</td>\n",
              "      <td>32.261089</td>\n",
              "      <td>1</td>\n",
              "      <td>Second</td>\n",
              "    </tr>\n",
              "    <tr>\n",
              "      <th>Gowa (Gowa)</th>\n",
              "      <td>0.0</td>\n",
              "      <td>14.666667</td>\n",
              "      <td>2</td>\n",
              "      <td>Third</td>\n",
              "    </tr>\n",
              "    <tr>\n",
              "      <th>Jalan Bangkala, Manggala (Gowa)</th>\n",
              "      <td>0.0</td>\n",
              "      <td>11.666667</td>\n",
              "      <td>2</td>\n",
              "      <td>Third</td>\n",
              "    </tr>\n",
              "    <tr>\n",
              "      <th>Jalan Danau Mawang No. 4 (Gowa)</th>\n",
              "      <td>0.0</td>\n",
              "      <td>12.666667</td>\n",
              "      <td>2</td>\n",
              "      <td>Third</td>\n",
              "    </tr>\n",
              "    <tr>\n",
              "      <th>Jalan Poros Malino (Gowa)</th>\n",
              "      <td>0.0</td>\n",
              "      <td>14.000000</td>\n",
              "      <td>2</td>\n",
              "      <td>Third</td>\n",
              "    </tr>\n",
              "    <tr>\n",
              "      <th>Maccini Baji (Gowa)</th>\n",
              "      <td>1.0</td>\n",
              "      <td>18.916667</td>\n",
              "      <td>0</td>\n",
              "      <td>First</td>\n",
              "    </tr>\n",
              "    <tr>\n",
              "      <th>Mata Allo (Gowa)</th>\n",
              "      <td>4.0</td>\n",
              "      <td>23.666667</td>\n",
              "      <td>0</td>\n",
              "      <td>First</td>\n",
              "    </tr>\n",
              "    <tr>\n",
              "      <th>Nirannuang (Gowa)</th>\n",
              "      <td>8.0</td>\n",
              "      <td>25.946970</td>\n",
              "      <td>0</td>\n",
              "      <td>First</td>\n",
              "    </tr>\n",
              "    <tr>\n",
              "      <th>Pakatto (Gowa)</th>\n",
              "      <td>53.0</td>\n",
              "      <td>37.070597</td>\n",
              "      <td>1</td>\n",
              "      <td>Second</td>\n",
              "    </tr>\n",
              "    <tr>\n",
              "      <th>Palangga (Gowa)</th>\n",
              "      <td>0.0</td>\n",
              "      <td>11.000000</td>\n",
              "      <td>2</td>\n",
              "      <td>Third</td>\n",
              "    </tr>\n",
              "    <tr>\n",
              "      <th>Pattalassang (Gowa)</th>\n",
              "      <td>1.0</td>\n",
              "      <td>22.000000</td>\n",
              "      <td>0</td>\n",
              "      <td>First</td>\n",
              "    </tr>\n",
              "    <tr>\n",
              "      <th>Romang Lompoa (Gowa)</th>\n",
              "      <td>21.0</td>\n",
              "      <td>37.299720</td>\n",
              "      <td>1</td>\n",
              "      <td>Second</td>\n",
              "    </tr>\n",
              "    <tr>\n",
              "      <th>Romangloe (Gowa)</th>\n",
              "      <td>5.0</td>\n",
              "      <td>26.966667</td>\n",
              "      <td>0</td>\n",
              "      <td>First</td>\n",
              "    </tr>\n",
              "    <tr>\n",
              "      <th>Samata (Gowa)</th>\n",
              "      <td>0.0</td>\n",
              "      <td>15.000000</td>\n",
              "      <td>2</td>\n",
              "      <td>Third</td>\n",
              "    </tr>\n",
              "    <tr>\n",
              "      <th>Sokkolia (Gowa)</th>\n",
              "      <td>34.0</td>\n",
              "      <td>31.219608</td>\n",
              "      <td>1</td>\n",
              "      <td>Second</td>\n",
              "    </tr>\n",
              "    <tr>\n",
              "      <th>Somba Opu (Gowa)</th>\n",
              "      <td>0.0</td>\n",
              "      <td>16.000000</td>\n",
              "      <td>2</td>\n",
              "      <td>Third</td>\n",
              "    </tr>\n",
              "    <tr>\n",
              "      <th>Barombong (Gowa)</th>\n",
              "      <td>1.0</td>\n",
              "      <td>10.000000</td>\n",
              "      <td>2</td>\n",
              "      <td>Third</td>\n",
              "    </tr>\n",
              "    <tr>\n",
              "      <th>Borong Sapiri (Gowa)</th>\n",
              "      <td>1.0</td>\n",
              "      <td>5.666667</td>\n",
              "      <td>2</td>\n",
              "      <td>Third</td>\n",
              "    </tr>\n",
              "    <tr>\n",
              "      <th>Kampung Beru (Gowa)</th>\n",
              "      <td>1.0</td>\n",
              "      <td>10.333333</td>\n",
              "      <td>2</td>\n",
              "      <td>Third</td>\n",
              "    </tr>\n",
              "    <tr>\n",
              "      <th>Lempangang (Gowa)</th>\n",
              "      <td>1.0</td>\n",
              "      <td>7.666667</td>\n",
              "      <td>2</td>\n",
              "      <td>Third</td>\n",
              "    </tr>\n",
              "    <tr>\n",
              "      <th>Moncongloe (Gowa)</th>\n",
              "      <td>3.0</td>\n",
              "      <td>5.444444</td>\n",
              "      <td>2</td>\n",
              "      <td>Third</td>\n",
              "    </tr>\n",
              "    <tr>\n",
              "      <th>Sungguminasa (Gowa)</th>\n",
              "      <td>1.0</td>\n",
              "      <td>7.000000</td>\n",
              "      <td>2</td>\n",
              "      <td>Third</td>\n",
              "    </tr>\n",
              "    <tr>\n",
              "      <th>Tangkebajeng (Gowa)</th>\n",
              "      <td>1.0</td>\n",
              "      <td>7.000000</td>\n",
              "      <td>2</td>\n",
              "      <td>Third</td>\n",
              "    </tr>\n",
              "    <tr>\n",
              "      <th>Buntu Alang (Gowa)</th>\n",
              "      <td>0.0</td>\n",
              "      <td>0.333333</td>\n",
              "      <td>2</td>\n",
              "      <td>Third</td>\n",
              "    </tr>\n",
              "    <tr>\n",
              "      <th>Lauwa (Gowa)</th>\n",
              "      <td>0.0</td>\n",
              "      <td>0.333333</td>\n",
              "      <td>2</td>\n",
              "      <td>Third</td>\n",
              "    </tr>\n",
              "    <tr>\n",
              "      <th>Pallantikang (Gowa)</th>\n",
              "      <td>0.0</td>\n",
              "      <td>0.333333</td>\n",
              "      <td>2</td>\n",
              "      <td>Third</td>\n",
              "    </tr>\n",
              "    <tr>\n",
              "      <th>Panambungan (Gowa)</th>\n",
              "      <td>0.0</td>\n",
              "      <td>0.333333</td>\n",
              "      <td>2</td>\n",
              "      <td>Third</td>\n",
              "    </tr>\n",
              "    <tr>\n",
              "      <th>Romang Polong (Gowa)</th>\n",
              "      <td>0.0</td>\n",
              "      <td>0.333333</td>\n",
              "      <td>2</td>\n",
              "      <td>Third</td>\n",
              "    </tr>\n",
              "    <tr>\n",
              "      <th>Sapaya (Gowa)</th>\n",
              "      <td>0.0</td>\n",
              "      <td>0.333333</td>\n",
              "      <td>2</td>\n",
              "      <td>Third</td>\n",
              "    </tr>\n",
              "  </tbody>\n",
              "</table>\n",
              "</div>\n",
              "      <button class=\"colab-df-convert\" onclick=\"convertToInteractive('df-a3b10945-2c76-4de1-b814-9e7d80dd3cb1')\"\n",
              "              title=\"Convert this dataframe to an interactive table.\"\n",
              "              style=\"display:none;\">\n",
              "        \n",
              "  <svg xmlns=\"http://www.w3.org/2000/svg\" height=\"24px\"viewBox=\"0 0 24 24\"\n",
              "       width=\"24px\">\n",
              "    <path d=\"M0 0h24v24H0V0z\" fill=\"none\"/>\n",
              "    <path d=\"M18.56 5.44l.94 2.06.94-2.06 2.06-.94-2.06-.94-.94-2.06-.94 2.06-2.06.94zm-11 1L8.5 8.5l.94-2.06 2.06-.94-2.06-.94L8.5 2.5l-.94 2.06-2.06.94zm10 10l.94 2.06.94-2.06 2.06-.94-2.06-.94-.94-2.06-.94 2.06-2.06.94z\"/><path d=\"M17.41 7.96l-1.37-1.37c-.4-.4-.92-.59-1.43-.59-.52 0-1.04.2-1.43.59L10.3 9.45l-7.72 7.72c-.78.78-.78 2.05 0 2.83L4 21.41c.39.39.9.59 1.41.59.51 0 1.02-.2 1.41-.59l7.78-7.78 2.81-2.81c.8-.78.8-2.07 0-2.86zM5.41 20L4 18.59l7.72-7.72 1.47 1.35L5.41 20z\"/>\n",
              "  </svg>\n",
              "      </button>\n",
              "      \n",
              "  <style>\n",
              "    .colab-df-container {\n",
              "      display:flex;\n",
              "      flex-wrap:wrap;\n",
              "      gap: 12px;\n",
              "    }\n",
              "\n",
              "    .colab-df-convert {\n",
              "      background-color: #E8F0FE;\n",
              "      border: none;\n",
              "      border-radius: 50%;\n",
              "      cursor: pointer;\n",
              "      display: none;\n",
              "      fill: #1967D2;\n",
              "      height: 32px;\n",
              "      padding: 0 0 0 0;\n",
              "      width: 32px;\n",
              "    }\n",
              "\n",
              "    .colab-df-convert:hover {\n",
              "      background-color: #E2EBFA;\n",
              "      box-shadow: 0px 1px 2px rgba(60, 64, 67, 0.3), 0px 1px 3px 1px rgba(60, 64, 67, 0.15);\n",
              "      fill: #174EA6;\n",
              "    }\n",
              "\n",
              "    [theme=dark] .colab-df-convert {\n",
              "      background-color: #3B4455;\n",
              "      fill: #D2E3FC;\n",
              "    }\n",
              "\n",
              "    [theme=dark] .colab-df-convert:hover {\n",
              "      background-color: #434B5C;\n",
              "      box-shadow: 0px 1px 3px 1px rgba(0, 0, 0, 0.15);\n",
              "      filter: drop-shadow(0px 1px 2px rgba(0, 0, 0, 0.3));\n",
              "      fill: #FFFFFF;\n",
              "    }\n",
              "  </style>\n",
              "\n",
              "      <script>\n",
              "        const buttonEl =\n",
              "          document.querySelector('#df-a3b10945-2c76-4de1-b814-9e7d80dd3cb1 button.colab-df-convert');\n",
              "        buttonEl.style.display =\n",
              "          google.colab.kernel.accessAllowed ? 'block' : 'none';\n",
              "\n",
              "        async function convertToInteractive(key) {\n",
              "          const element = document.querySelector('#df-a3b10945-2c76-4de1-b814-9e7d80dd3cb1');\n",
              "          const dataTable =\n",
              "            await google.colab.kernel.invokeFunction('convertToInteractive',\n",
              "                                                     [key], {});\n",
              "          if (!dataTable) return;\n",
              "\n",
              "          const docLinkHtml = 'Like what you see? Visit the ' +\n",
              "            '<a target=\"_blank\" href=https://colab.research.google.com/notebooks/data_table.ipynb>data table notebook</a>'\n",
              "            + ' to learn more about interactive tables.';\n",
              "          element.innerHTML = '';\n",
              "          dataTable['output_type'] = 'display_data';\n",
              "          await google.colab.output.renderOutput(dataTable, element);\n",
              "          const docLink = document.createElement('div');\n",
              "          docLink.innerHTML = docLinkHtml;\n",
              "          element.appendChild(docLink);\n",
              "        }\n",
              "      </script>\n",
              "    </div>\n",
              "  </div>\n",
              "  "
            ]
          },
          "metadata": {},
          "execution_count": 156
        }
      ],
      "source": [
        "data_cluster2"
      ]
    },
    {
      "cell_type": "code",
      "execution_count": null,
      "metadata": {
        "id": "qX0swsSFI2kU"
      },
      "outputs": [],
      "source": [
        "#Order the cluster\n",
        "data_cluster2['Segment'] = data_cluster2['Segment'].astype('category')\n",
        "data_cluster2['Segment'] = data_cluster2['Segment'].cat.reorder_categories(['First', 'Second', 'Third'])"
      ]
    },
    {
      "cell_type": "code",
      "execution_count": null,
      "metadata": {
        "id": "plIZ1ZdcI2kU"
      },
      "outputs": [],
      "source": [
        "# ==== CREATE DICTIONARY FOR OBJECT AND NUMERICAL COLUMNS ====#\n",
        "dict_cat = {}\n",
        "dict_num = {}\n",
        "for cat in data_cluster2.select_dtypes('object'):\n",
        " dict_cat[cat] = lambda x: x.value_counts().index[0]\n",
        "for num in data_cluster2.select_dtypes(['int64', 'float64']):\n",
        "  if (num == 'Total'):\n",
        "    continue\n",
        "  dict_num[num] = ['mean']\n",
        "# ============ CREATE TABLE FOR EACH CLUSTER ============#\n",
        "data_cluster2.rename(columns={'labels': 'Total'}, inplace=True)\n",
        "data_percluster2 = data_cluster2.groupby('Segment').agg({\n",
        " 'Total': 'count',\n",
        " **dict_num,\n",
        " **dict_cat\n",
        "}).T"
      ]
    },
    {
      "cell_type": "code",
      "execution_count": null,
      "metadata": {
        "id": "RNEWKS0xI2kU"
      },
      "outputs": [],
      "source": [
        "data_cluster2['coord'] = coord2"
      ]
    },
    {
      "cell_type": "code",
      "execution_count": null,
      "metadata": {
        "id": "RsmlUtvjI2kU"
      },
      "outputs": [],
      "source": [
        "data_cluster2 = data_cluster2.T\n",
        "data_percluster2.to_json(r'cluster2_result.json')\n",
        "data_cluster2.to_json(r'cluster2_df.json')"
      ]
    },
    {
      "cell_type": "markdown",
      "metadata": {
        "id": "i8CZ99zQI2kV"
      },
      "source": [
        "##**Perbandingan Nilai DBI**"
      ]
    },
    {
      "cell_type": "code",
      "execution_count": null,
      "metadata": {
        "colab": {
          "base_uri": "https://localhost:8080/"
        },
        "id": "e_qkZKpkI2kV",
        "outputId": "8c95c090-bc6e-4787-9b48-1d35de3e58ff"
      },
      "outputs": [
        {
          "output_type": "stream",
          "name": "stdout",
          "text": [
            "DBI kmeans: 0.5822406190667454\n",
            "DBI kmeans with PSO: 0.529741433913013\n"
          ]
        }
      ],
      "source": [
        "db_index3 = davies_bouldin_score(cluster2, predicted_kmeans2)\n",
        "print(\"DBI kmeans:\", db_index3)\n",
        "\n",
        "db_index4 = davies_bouldin_score(cluster2, predicted_pso2)\n",
        "print(\"DBI kmeans with PSO:\", db_index4)"
      ]
    },
    {
      "cell_type": "markdown",
      "metadata": {
        "id": "R15CVHx_I8a-"
      },
      "source": [
        "#**CLUSTER3**"
      ]
    },
    {
      "cell_type": "code",
      "execution_count": null,
      "metadata": {
        "id": "PbiejzO4I8a-"
      },
      "outputs": [],
      "source": [
        "data_cluster3 = merge_data[['tifoid','Umur']] \n",
        "\n",
        "# Standardize data\n",
        "scaler = MinMaxScaler()\n",
        "Num_features = data_cluster3.select_dtypes(include=['int64', 'float64']).columns\n",
        "scaler.fit(data_cluster3[Num_features])\n",
        "cluster3 = scaler.transform(data_cluster3[Num_features])"
      ]
    },
    {
      "cell_type": "markdown",
      "metadata": {
        "id": "UWKv03fzI8a_"
      },
      "source": [
        "###Elbow Method"
      ]
    },
    {
      "cell_type": "code",
      "execution_count": null,
      "metadata": {
        "colab": {
          "base_uri": "https://localhost:8080/"
        },
        "id": "7vcTx2QMI8a_",
        "outputId": "e3e271df-362d-4eeb-9845-12359a7305ea"
      },
      "outputs": [
        {
          "output_type": "stream",
          "name": "stdout",
          "text": [
            "    K       sse  silhouette\n",
            "0   2  1.931668    0.658320\n",
            "1   3  0.929495    0.517865\n",
            "2   4  0.467684    0.560446\n",
            "3   5  0.341691    0.585736\n",
            "4   6  0.217529    0.585028\n",
            "5   7  0.127375    0.600282\n",
            "6   8  0.090909    0.623939\n",
            "7   9  0.064363    0.646418\n",
            "8  10  0.049336    0.651152\n"
          ]
        }
      ],
      "source": [
        "sse = []\n",
        "silhouette_scores = []\n",
        "\n",
        "for n_clusters in range(2, 11):\n",
        "    kmeans = Kmeans1(n_clusters=n_clusters, random_state=42)\n",
        "    labels = kmeans.fit_predict(cluster3)\n",
        "    sse.append(kmeans.inertia_)\n",
        "    silhouette_avg = silhouette_score(cluster3, labels)\n",
        "    silhouette_scores.append(silhouette_avg)\n",
        "\n",
        "table_elbow = {\n",
        "    'K': range(2, 11),\n",
        "    'sse': sse,\n",
        "    'silhouette': silhouette_scores\n",
        "}\n",
        "df = pd.DataFrame(table_elbow)\n",
        "print(df)"
      ]
    },
    {
      "cell_type": "code",
      "execution_count": null,
      "metadata": {
        "colab": {
          "base_uri": "https://localhost:8080/"
        },
        "id": "SuVJ-Hg1I8a_",
        "outputId": "11b17fb4-b28a-46c1-e088-d1fb2cdb8eb0"
      },
      "outputs": [
        {
          "output_type": "display_data",
          "data": {
            "text/plain": [
              "<Figure size 1000x500 with 1 Axes>"
            ],
            "image/png": "[encoded data removed]"
          },
          "metadata": {}
        },
        {
          "output_type": "display_data",
          "data": {
            "text/plain": [
              "<Figure size 1000x500 with 1 Axes>"
            ],
            "image/png": "[encoded data removed]"
          },
          "metadata": {}
        }
      ],
      "source": [
        "K = list(range(2,11))\n",
        "# Plot sse against k\n",
        "plt.figure(figsize=(10, 5))\n",
        "plt.plot(K, sse, '-o')\n",
        "plt.xlabel(r'Number of clusters *k*')\n",
        "plt.ylabel('Sum of squared distance');\n",
        "\n",
        "# Plot silhouette against k\n",
        "plt.figure(figsize=(10, 5))\n",
        "plt.plot(K, silhouette_scores, '-o')\n",
        "plt.xlabel(r'Number of clusters *k*')\n",
        "plt.ylabel('Silhouette');"
      ]
    },
    {
      "cell_type": "markdown",
      "metadata": {
        "id": "qo8zhLZKI8bA"
      },
      "source": [
        "### **K-Means**"
      ]
    },
    {
      "cell_type": "code",
      "execution_count": null,
      "metadata": {
        "id": "p9N8K1gtI8bA"
      },
      "outputs": [],
      "source": [
        "kmeans3 = KMeans(n_cluster=3)\n",
        "kmeans3.fit(cluster3)"
      ]
    },
    {
      "cell_type": "markdown",
      "metadata": {
        "id": "8uhRlI69I8bA"
      },
      "source": [
        "####Jarak Terdekat Centroid\n"
      ]
    },
    {
      "cell_type": "code",
      "execution_count": null,
      "metadata": {
        "colab": {
          "base_uri": "https://localhost:8080/"
        },
        "id": "pkL9FOR1I8bA",
        "outputId": "028e5a4e-9b24-4c7a-dfa9-d9cf8675b199"
      },
      "outputs": [
        {
          "output_type": "stream",
          "name": "stdout",
          "text": [
            "Jarak setiap data pada iterasi pertama:\n",
            "Data 0 : [0.65598602 0.56766295 0.28933565]\n",
            "Data 1 : [0.10090518 1.04913989 0.28758874]\n",
            "Data 2 : [0.57301106 0.77297964 0.19841453]\n",
            "Data 3 : [0.00967211 1.11482795 0.38194952]\n",
            "Data 4 : [1.30659145 0.21277115 1.03120722]\n",
            "Data 5 : [0.21594193 0.94943341 0.16805474]\n",
            "Data 6 : [0.28267822 0.92597081 0.11428539]\n",
            "Data 7 : [0.44147814 0.74473338 0.07645957]\n",
            "Data 8 : [0.35812918 0.90411388 0.08732074]\n",
            "Data 9 : [0.24274164 0.96332922 0.15773249]\n",
            "Data 10 : [0.97481652 0.13813618 0.68310706]\n",
            "Data 11 : [0.233868   0.96830444 0.16525999]\n",
            "Data 12 : [0.15404007 1.01548197 0.23725566]\n",
            "Data 13 : [0.18064003 0.99929346 0.2126287 ]\n",
            "Data 14 : [0.21612238 0.97842079 0.18068392]\n",
            "Data 15 : [0.34703258 0.89309001 0.07277726]\n",
            "Data 16 : [0.48851578 0.736812   0.10781424]\n",
            "Data 17 : [0.61541666 0.54354374 0.27902913]\n",
            "Data 18 : [1.20977649 0.10264218 0.92341936]\n",
            "Data 19 : [0.13631567 1.02651662 0.25389967]\n",
            "Data 20 : [0.42915212 0.87328143 0.10126821]\n",
            "Data 21 : [1.18741309 0.07737331 0.89452455]\n",
            "Data 22 : [0.67768298 0.4652667  0.35592358]\n",
            "Data 23 : [0.24274164 0.96332922 0.15773249]\n",
            "Data 24 : [0.87988536 0.24894512 0.57302023]\n",
            "Data 25 : [0.2693652  0.94874581 0.13613187]\n",
            "Data 26 : [0.10975109 1.04341669 0.27912389]\n",
            "Data 27 : [0.01107959 1.12103084 0.3906088 ]\n",
            "Data 28 : [0.11860214 1.03773792 0.27068565]\n",
            "Data 29 : [0.04809706 1.08437233 0.33882485]\n",
            "Data 30 : [0.01516086 1.12518603 0.39638708]\n",
            "Data 31 : [0.0308586  1.08300263 0.35204142]\n",
            "Data 32 : [0.04047375 1.06971672 0.34898398]\n",
            "Data 33 : [0.14845923 1.21275463 0.52747777]\n",
            "Data 34 : [0.14845923 1.21275463 0.52747777]\n",
            "Data 35 : [0.14845923 1.21275463 0.52747777]\n",
            "Data 36 : [0.14845923 1.21275463 0.52747777]\n",
            "Data 37 : [0.14845923 1.21275463 0.52747777]\n",
            "Data 38 : [0.14845923 1.21275463 0.52747777]\n"
          ]
        }
      ],
      "source": [
        "data = cluster3.copy()\n",
        "\n",
        "# Set the number of clusters\n",
        "num_clusters = 3\n",
        "\n",
        "# Initialize KMeans object\n",
        "Kmeans = Kmeans1(n_clusters=num_clusters)\n",
        "\n",
        "# Perform the initial fit to get the initial centroids\n",
        "Kmeans.fit(data)\n",
        "initial_centroids = Kmeans.cluster_centers_\n",
        "\n",
        "# Initialize an empty array to store the distances\n",
        "distances = np.zeros((len(data), num_clusters))\n",
        "\n",
        "# Calculate the distance between each data point and each centroid\n",
        "for i in range(len(data)):\n",
        "    for j in range(num_clusters):\n",
        "        distances[:, j] = np.linalg.norm(data - initial_centroids[j], axis=1)\n",
        "\n",
        "    labels = np.argmin(distances, axis=1)\n",
        "\n",
        "    for j in range(num_clusters):\n",
        "        initial_centroids[j] = np.mean(data[labels == j], axis=0)\n",
        "\n",
        "# Display the distances for each data point\n",
        "print(\"Jarak setiap data pada iterasi pertama:\")\n",
        "for i in range(len(data)):\n",
        "    print(\"Data\", i, \":\", distances[i,:])"
      ]
    },
    {
      "cell_type": "code",
      "execution_count": null,
      "metadata": {
        "colab": {
          "base_uri": "https://localhost:8080/"
        },
        "id": "vz4w8-Z7QlJc",
        "outputId": "030c9e06-809a-42ba-a395-f2ee5a5a0a33"
      },
      "outputs": [
        {
          "output_type": "execute_result",
          "data": {
            "text/plain": [
              "array([[0.00925926, 0.1481702 ],\n",
              "       [0.8       , 0.92739446],\n",
              "       [0.08564815, 0.52318869]])"
            ]
          },
          "metadata": {},
          "execution_count": 167
        }
      ],
      "source": [
        "Kmeans.cluster_centers_"
      ]
    },
    {
      "cell_type": "code",
      "execution_count": null,
      "metadata": {
        "colab": {
          "base_uri": "https://localhost:8080/"
        },
        "id": "vR3zpT3HI8bA",
        "outputId": "51228373-4dd1-4530-d804-011ab8824e33"
      },
      "outputs": [
        {
          "output_type": "stream",
          "name": "stdout",
          "text": [
            "Iteration 2\n",
            "[[0.08564815 0.52318869]\n",
            " [0.00925926 0.1481702 ]\n",
            " [0.8        0.92739446]]\n",
            "\n",
            "\n",
            "Iteration 3\n",
            "[[0.08564815 0.52318869]\n",
            " [0.8        0.92739446]\n",
            " [0.00925926 0.1481702 ]]\n",
            "\n",
            "\n",
            "Iteration 4\n",
            "[[0.08564815 0.52318869]\n",
            " [0.8        0.92739446]\n",
            " [0.00925926 0.1481702 ]]\n",
            "\n",
            "\n",
            "Iteration 5\n",
            "[[0.08564815 0.52318869]\n",
            " [0.8        0.92739446]\n",
            " [0.00925926 0.1481702 ]]\n",
            "\n",
            "\n"
          ]
        }
      ],
      "source": [
        "for i in range(1,5):\n",
        "    # Fit the model and get the cluster centroids\n",
        "    Kmeans.fit(cluster3)\n",
        "    centroids = Kmeans.cluster_centers_\n",
        "    \n",
        "    # Print the centroids\n",
        "    print(\"Iteration\", i+1)\n",
        "    print(centroids, \"\\n\", sep=\"\\n\")"
      ]
    },
    {
      "cell_type": "markdown",
      "metadata": {
        "id": "_zevS4cgI8bB"
      },
      "source": [
        "####SSE and Silhoute"
      ]
    },
    {
      "cell_type": "code",
      "execution_count": null,
      "metadata": {
        "id": "yAIkp_dfI8bB",
        "colab": {
          "base_uri": "https://localhost:8080/"
        },
        "outputId": "eedf321a-60b7-4713-a262-809321c5f22c"
      },
      "outputs": [
        {
          "output_type": "stream",
          "name": "stdout",
          "text": [
            "Silhouette: 0.5217472179922131\n",
            "SSE: 0.9381690132298144\n"
          ]
        }
      ],
      "source": [
        "predicted_kmeans3 = kmeans3.predict(cluster3)\n",
        "print('Silhouette:', silhouette_score(cluster3, predicted_kmeans3))\n",
        "print('SSE:', kmeans3.SSE)"
      ]
    },
    {
      "cell_type": "code",
      "execution_count": null,
      "metadata": {
        "id": "9PLa2xEdI8bB",
        "colab": {
          "base_uri": "https://localhost:8080/"
        },
        "outputId": "a5484bc0-b084-4a79-e763-7c7decc8cae2"
      },
      "outputs": [
        {
          "output_type": "execute_result",
          "data": {
            "text/plain": [
              "2    18\n",
              "0    16\n",
              "1     5\n",
              "Name: cluster, dtype: int64"
            ]
          },
          "metadata": {},
          "execution_count": 170
        }
      ],
      "source": [
        "frame1 = pd.DataFrame(cluster1)\n",
        "frame1['cluster'] = predicted_kmeans1\n",
        "frame1['cluster'].value_counts()"
      ]
    },
    {
      "cell_type": "code",
      "execution_count": null,
      "metadata": {
        "id": "f1S0rDdXI8bC",
        "colab": {
          "base_uri": "https://localhost:8080/"
        },
        "outputId": "00119ce8-d3ec-420a-ab00-358de7f5c641"
      },
      "outputs": [
        {
          "output_type": "execute_result",
          "data": {
            "text/plain": [
              "array([0, 2, 0, 2, 1, 0, 0, 0, 0, 0, 1, 0, 2, 2, 0, 0, 0, 1, 1, 2, 0, 1,\n",
              "       0, 0, 0, 0, 2, 2, 2, 2, 2, 2, 2, 2, 2, 2, 2, 2, 2])"
            ]
          },
          "metadata": {},
          "execution_count": 171
        }
      ],
      "source": [
        "predicted_kmeans1"
      ]
    },
    {
      "cell_type": "markdown",
      "metadata": {
        "id": "beA3WltfI8bC"
      },
      "source": [
        "### **PSO K-Means**"
      ]
    },
    {
      "cell_type": "code",
      "execution_count": null,
      "metadata": {
        "id": "l0-Nwr51I8bC"
      },
      "outputs": [],
      "source": [
        "pso3 = ParticleSwarmOptimizedClustering(n_cluster=3, \n",
        "                                       n_particles=10, \n",
        "                                       data=cluster3, \n",
        "                                       hybrid=True,\n",
        "                                       max_iter=2000, \n",
        "                                       print_debug=100)"
      ]
    },
    {
      "cell_type": "code",
      "execution_count": null,
      "metadata": {
        "colab": {
          "base_uri": "https://localhost:8080/"
        },
        "id": "zHtcBUW4I8bC",
        "outputId": "271401c1-0e1d-4df5-b8b4-0a3b0e5c1d13"
      },
      "outputs": [
        {
          "output_type": "stream",
          "name": "stdout",
          "text": [
            "Initial global best score 0.5763259408830909\n",
            "Iteration 0001/2000 current gbest score 0.576325940883090859\n",
            "Iteration 0101/2000 current gbest score 0.548384340094017375\n",
            "Iteration 0201/2000 current gbest score 0.546490556404645944\n",
            "Iteration 0301/2000 current gbest score 0.546489935098782298\n",
            "Iteration 0401/2000 current gbest score 0.546489933246887105\n",
            "Iteration 0501/2000 current gbest score 0.546489933198143096\n",
            "Iteration 0601/2000 current gbest score 0.546489933197946587\n",
            "Iteration 0701/2000 current gbest score 0.546489933196085631\n",
            "Iteration 0801/2000 current gbest score 0.546489933195981270\n",
            "Iteration 0901/2000 current gbest score 0.546489933195630884\n",
            "Iteration 1001/2000 current gbest score 0.546489933195630884\n",
            "Iteration 1101/2000 current gbest score 0.546489933195630884\n",
            "Iteration 1201/2000 current gbest score 0.546489933195630884\n",
            "Iteration 1301/2000 current gbest score 0.546489933195630884\n",
            "Iteration 1401/2000 current gbest score 0.546489933195630884\n",
            "Iteration 1501/2000 current gbest score 0.546489933195630884\n",
            "Iteration 1601/2000 current gbest score 0.546489933195630884\n",
            "Iteration 1701/2000 current gbest score 0.546489933195630884\n",
            "Iteration 1801/2000 current gbest score 0.546489933195630884\n",
            "Iteration 1901/2000 current gbest score 0.546489933195630884\n",
            "Finish with gbest score 0.546489933195630884\n"
          ]
        }
      ],
      "source": [
        "hist3 = pso3.run()"
      ]
    },
    {
      "cell_type": "code",
      "execution_count": null,
      "metadata": {
        "id": "5TVJqn12I8bC"
      },
      "outputs": [],
      "source": [
        "pso_kmeans3 = KMeans(n_cluster=3)\n",
        "pso_kmeans3.centroid = pso3.gbest_centroids.copy()"
      ]
    },
    {
      "cell_type": "code",
      "execution_count": null,
      "metadata": {
        "colab": {
          "base_uri": "https://localhost:8080/"
        },
        "id": "3727kGeBI8bD",
        "outputId": "12353319-9797-4f66-fafd-d0083ee72258"
      },
      "outputs": [
        {
          "output_type": "stream",
          "name": "stdout",
          "text": [
            "Silhouette: 0.49124701897928913\n",
            "SSE: 1.156503845037275\n"
          ]
        }
      ],
      "source": [
        "predicted_pso3 = pso_kmeans3.predict(cluster3)\n",
        "print('Silhouette:', silhouette_score(cluster3, predicted_pso3))\n",
        "print('SSE:', calc_sse(centroids=pso3.gbest_centroids, \n",
        "                       data=cluster3, \n",
        "                       labels=predicted_pso3))"
      ]
    },
    {
      "cell_type": "code",
      "execution_count": null,
      "metadata": {
        "colab": {
          "base_uri": "https://localhost:8080/"
        },
        "id": "6z39AlIiI8bD",
        "outputId": "fbad1cef-d658-473b-cfbf-a76ca873cc6e"
      },
      "outputs": [
        {
          "output_type": "execute_result",
          "data": {
            "text/plain": [
              "0    25\n",
              "1    11\n",
              "2     3\n",
              "Name: cluster, dtype: int64"
            ]
          },
          "metadata": {},
          "execution_count": 176
        }
      ],
      "source": [
        "frame1 = pd.DataFrame(cluster1)\n",
        "frame1['cluster'] = predicted_pso1\n",
        "frame1['cluster'].value_counts()"
      ]
    },
    {
      "cell_type": "code",
      "execution_count": null,
      "metadata": {
        "colab": {
          "base_uri": "https://localhost:8080/"
        },
        "id": "Q89sWO88I8bD",
        "outputId": "cfe4adc0-c532-4b4b-9a3e-8acf9e44aaa0"
      },
      "outputs": [
        {
          "output_type": "execute_result",
          "data": {
            "text/plain": [
              "array([1, 0, 1, 0, 2, 0, 0, 1, 1, 0, 2, 0, 0, 0, 0, 1, 1, 1, 2, 0, 1, 1,\n",
              "       1, 0, 1, 0, 0, 0, 0, 0, 0, 0, 0, 0, 0, 0, 0, 0, 0])"
            ]
          },
          "metadata": {},
          "execution_count": 177
        }
      ],
      "source": [
        "predicted_pso1"
      ]
    },
    {
      "cell_type": "markdown",
      "metadata": {
        "id": "wKUKPYjmI8bE"
      },
      "source": [
        "### **Pattern Evaluation**"
      ]
    },
    {
      "cell_type": "code",
      "execution_count": null,
      "metadata": {
        "id": "ezdFZNMvI8bF"
      },
      "outputs": [],
      "source": [
        "#create new column for cluster labels associated with each subject\n",
        "data_cluster3['labels'] = predicted_pso3\n",
        "data_cluster3['Segment'] = data_cluster3['labels'].map({0: 'First', 1: 'Second', 2: 'Third'})"
      ]
    },
    {
      "cell_type": "code",
      "execution_count": null,
      "metadata": {
        "colab": {
          "base_uri": "https://localhost:8080/"
        },
        "id": "I3-ZEGFBUsn3",
        "outputId": "9f417f42-9f90-49a9-d5d5-792d0bf56eb9"
      },
      "outputs": [
        {
          "output_type": "execute_result",
          "data": {
            "text/plain": [
              "tifoid                         216.0\n",
              "Umur                      175.720426\n",
              "labels                             0\n",
              "Segment    FirstFirstFirstFirstFirst\n",
              "dtype: object"
            ]
          },
          "metadata": {},
          "execution_count": 179
        }
      ],
      "source": [
        "data_cluster3[data_cluster3['labels'] == 0].sum()\n"
      ]
    },
    {
      "cell_type": "code",
      "execution_count": null,
      "metadata": {
        "colab": {
          "base_uri": "https://localhost:8080/",
          "height": 206
        },
        "id": "BSOVQkPiU5RX",
        "outputId": "63f76f95-7606-44fa-e46e-1ea26615e08a"
      },
      "outputs": [
        {
          "output_type": "execute_result",
          "data": {
            "text/plain": [
              "                      tifoid       Umur  labels Segment\n",
              "Bontomanai (Gowa)       54.0  37.869413       0   First\n",
              "Borongloe (Gowa)        37.0  32.261089       0   First\n",
              "Pakatto (Gowa)          48.0  37.070597       0   First\n",
              "Romang Lompoa (Gowa)    46.0  37.299720       0   First\n",
              "Sokkolia (Gowa)         31.0  31.219608       0   First"
            ],
            "text/html": [
              "\n",
              "  <div id=\"df-7e56d340-7180-4096-aae4-2d82bb07abb5\">\n",
              "    <div class=\"colab-df-container\">\n",
              "      <div>\n",
              "<style scoped>\n",
              "    .dataframe tbody tr th:only-of-type {\n",
              "        vertical-align: middle;\n",
              "    }\n",
              "\n",
              "    .dataframe tbody tr th {\n",
              "        vertical-align: top;\n",
              "    }\n",
              "\n",
              "    .dataframe thead th {\n",
              "        text-align: right;\n",
              "    }\n",
              "</style>\n",
              "<table border=\"1\" class=\"dataframe\">\n",
              "  <thead>\n",
              "    <tr style=\"text-align: right;\">\n",
              "      <th></th>\n",
              "      <th>tifoid</th>\n",
              "      <th>Umur</th>\n",
              "      <th>labels</th>\n",
              "      <th>Segment</th>\n",
              "    </tr>\n",
              "  </thead>\n",
              "  <tbody>\n",
              "    <tr>\n",
              "      <th>Bontomanai (Gowa)</th>\n",
              "      <td>54.0</td>\n",
              "      <td>37.869413</td>\n",
              "      <td>0</td>\n",
              "      <td>First</td>\n",
              "    </tr>\n",
              "    <tr>\n",
              "      <th>Borongloe (Gowa)</th>\n",
              "      <td>37.0</td>\n",
              "      <td>32.261089</td>\n",
              "      <td>0</td>\n",
              "      <td>First</td>\n",
              "    </tr>\n",
              "    <tr>\n",
              "      <th>Pakatto (Gowa)</th>\n",
              "      <td>48.0</td>\n",
              "      <td>37.070597</td>\n",
              "      <td>0</td>\n",
              "      <td>First</td>\n",
              "    </tr>\n",
              "    <tr>\n",
              "      <th>Romang Lompoa (Gowa)</th>\n",
              "      <td>46.0</td>\n",
              "      <td>37.299720</td>\n",
              "      <td>0</td>\n",
              "      <td>First</td>\n",
              "    </tr>\n",
              "    <tr>\n",
              "      <th>Sokkolia (Gowa)</th>\n",
              "      <td>31.0</td>\n",
              "      <td>31.219608</td>\n",
              "      <td>0</td>\n",
              "      <td>First</td>\n",
              "    </tr>\n",
              "  </tbody>\n",
              "</table>\n",
              "</div>\n",
              "      <button class=\"colab-df-convert\" onclick=\"convertToInteractive('df-7e56d340-7180-4096-aae4-2d82bb07abb5')\"\n",
              "              title=\"Convert this dataframe to an interactive table.\"\n",
              "              style=\"display:none;\">\n",
              "        \n",
              "  <svg xmlns=\"http://www.w3.org/2000/svg\" height=\"24px\"viewBox=\"0 0 24 24\"\n",
              "       width=\"24px\">\n",
              "    <path d=\"M0 0h24v24H0V0z\" fill=\"none\"/>\n",
              "    <path d=\"M18.56 5.44l.94 2.06.94-2.06 2.06-.94-2.06-.94-.94-2.06-.94 2.06-2.06.94zm-11 1L8.5 8.5l.94-2.06 2.06-.94-2.06-.94L8.5 2.5l-.94 2.06-2.06.94zm10 10l.94 2.06.94-2.06 2.06-.94-2.06-.94-.94-2.06-.94 2.06-2.06.94z\"/><path d=\"M17.41 7.96l-1.37-1.37c-.4-.4-.92-.59-1.43-.59-.52 0-1.04.2-1.43.59L10.3 9.45l-7.72 7.72c-.78.78-.78 2.05 0 2.83L4 21.41c.39.39.9.59 1.41.59.51 0 1.02-.2 1.41-.59l7.78-7.78 2.81-2.81c.8-.78.8-2.07 0-2.86zM5.41 20L4 18.59l7.72-7.72 1.47 1.35L5.41 20z\"/>\n",
              "  </svg>\n",
              "      </button>\n",
              "      \n",
              "  <style>\n",
              "    .colab-df-container {\n",
              "      display:flex;\n",
              "      flex-wrap:wrap;\n",
              "      gap: 12px;\n",
              "    }\n",
              "\n",
              "    .colab-df-convert {\n",
              "      background-color: #E8F0FE;\n",
              "      border: none;\n",
              "      border-radius: 50%;\n",
              "      cursor: pointer;\n",
              "      display: none;\n",
              "      fill: #1967D2;\n",
              "      height: 32px;\n",
              "      padding: 0 0 0 0;\n",
              "      width: 32px;\n",
              "    }\n",
              "\n",
              "    .colab-df-convert:hover {\n",
              "      background-color: #E2EBFA;\n",
              "      box-shadow: 0px 1px 2px rgba(60, 64, 67, 0.3), 0px 1px 3px 1px rgba(60, 64, 67, 0.15);\n",
              "      fill: #174EA6;\n",
              "    }\n",
              "\n",
              "    [theme=dark] .colab-df-convert {\n",
              "      background-color: #3B4455;\n",
              "      fill: #D2E3FC;\n",
              "    }\n",
              "\n",
              "    [theme=dark] .colab-df-convert:hover {\n",
              "      background-color: #434B5C;\n",
              "      box-shadow: 0px 1px 3px 1px rgba(0, 0, 0, 0.15);\n",
              "      filter: drop-shadow(0px 1px 2px rgba(0, 0, 0, 0.3));\n",
              "      fill: #FFFFFF;\n",
              "    }\n",
              "  </style>\n",
              "\n",
              "      <script>\n",
              "        const buttonEl =\n",
              "          document.querySelector('#df-7e56d340-7180-4096-aae4-2d82bb07abb5 button.colab-df-convert');\n",
              "        buttonEl.style.display =\n",
              "          google.colab.kernel.accessAllowed ? 'block' : 'none';\n",
              "\n",
              "        async function convertToInteractive(key) {\n",
              "          const element = document.querySelector('#df-7e56d340-7180-4096-aae4-2d82bb07abb5');\n",
              "          const dataTable =\n",
              "            await google.colab.kernel.invokeFunction('convertToInteractive',\n",
              "                                                     [key], {});\n",
              "          if (!dataTable) return;\n",
              "\n",
              "          const docLinkHtml = 'Like what you see? Visit the ' +\n",
              "            '<a target=\"_blank\" href=https://colab.research.google.com/notebooks/data_table.ipynb>data table notebook</a>'\n",
              "            + ' to learn more about interactive tables.';\n",
              "          element.innerHTML = '';\n",
              "          dataTable['output_type'] = 'display_data';\n",
              "          await google.colab.output.renderOutput(dataTable, element);\n",
              "          const docLink = document.createElement('div');\n",
              "          docLink.innerHTML = docLinkHtml;\n",
              "          element.appendChild(docLink);\n",
              "        }\n",
              "      </script>\n",
              "    </div>\n",
              "  </div>\n",
              "  "
            ]
          },
          "metadata": {},
          "execution_count": 180
        }
      ],
      "source": [
        "data_cluster3[data_cluster3['labels'] == 0]"
      ]
    },
    {
      "cell_type": "code",
      "execution_count": null,
      "metadata": {
        "colab": {
          "base_uri": "https://localhost:8080/"
        },
        "id": "_EV3cKhPUsKP",
        "outputId": "84e95852-e168-4705-a273-fa51f80fceeb"
      },
      "outputs": [
        {
          "output_type": "execute_result",
          "data": {
            "text/plain": [
              "tifoid                                                  74.0\n",
              "Umur                                              384.881902\n",
              "labels                                                    22\n",
              "Segment    SecondSecondSecondSecondSecondSecondSecondSeco...\n",
              "dtype: object"
            ]
          },
          "metadata": {},
          "execution_count": 181
        }
      ],
      "source": [
        "data_cluster3[data_cluster3['labels'] == 1].sum()\n"
      ]
    },
    {
      "cell_type": "code",
      "execution_count": null,
      "metadata": {
        "colab": {
          "base_uri": "https://localhost:8080/",
          "height": 739
        },
        "id": "0kfJwMqVU7ZV",
        "outputId": "6f314476-c18a-44ca-b396-20cd43ad9750"
      },
      "outputs": [
        {
          "output_type": "execute_result",
          "data": {
            "text/plain": [
              "                                 tifoid       Umur  labels Segment\n",
              "Bili Bili (Gowa)                   14.0  28.659933       1  Second\n",
              "Binangae (Gowa)                     0.0   9.666667       1  Second\n",
              "Bonto Bontoa (Gowa)                 3.0  27.333333       1  Second\n",
              "Bontomarannu (Gowa)                 2.0  13.933333       1  Second\n",
              "Bontonompo (Gowa)                   1.0  16.500000       1  Second\n",
              "Bontoramba (Gowa)                   8.0  21.625000       1  Second\n",
              "Bontotangnga (Gowa)                 0.0  19.333333       1  Second\n",
              "Borong (Gowa)                       0.0  15.000000       1  Second\n",
              "Gowa (Gowa)                         0.0  14.666667       1  Second\n",
              "Jalan Bangkala, Manggala (Gowa)     0.0  11.666667       1  Second\n",
              "Jalan Danau Mawang No. 4 (Gowa)     0.0  12.666667       1  Second\n",
              "Jalan Poros Malino (Gowa)           0.0  14.000000       1  Second\n",
              "Maccini Baji (Gowa)                 1.0  18.916667       1  Second\n",
              "Mata Allo (Gowa)                    7.0  23.666667       1  Second\n",
              "Nirannuang (Gowa)                  17.0  25.946970       1  Second\n",
              "Palangga (Gowa)                     0.0  11.000000       1  Second\n",
              "Pattalassang (Gowa)                 0.0  22.000000       1  Second\n",
              "Romangloe (Gowa)                   21.0  26.966667       1  Second\n",
              "Samata (Gowa)                       0.0  15.000000       1  Second\n",
              "Somba Opu (Gowa)                    0.0  16.000000       1  Second\n",
              "Barombong (Gowa)                    0.0  10.000000       1  Second\n",
              "Kampung Beru (Gowa)                 0.0  10.333333       1  Second"
            ],
            "text/html": [
              "\n",
              "  <div id=\"df-c45e2226-7a24-48be-8f69-e81339002dd3\">\n",
              "    <div class=\"colab-df-container\">\n",
              "      <div>\n",
              "<style scoped>\n",
              "    .dataframe tbody tr th:only-of-type {\n",
              "        vertical-align: middle;\n",
              "    }\n",
              "\n",
              "    .dataframe tbody tr th {\n",
              "        vertical-align: top;\n",
              "    }\n",
              "\n",
              "    .dataframe thead th {\n",
              "        text-align: right;\n",
              "    }\n",
              "</style>\n",
              "<table border=\"1\" class=\"dataframe\">\n",
              "  <thead>\n",
              "    <tr style=\"text-align: right;\">\n",
              "      <th></th>\n",
              "      <th>tifoid</th>\n",
              "      <th>Umur</th>\n",
              "      <th>labels</th>\n",
              "      <th>Segment</th>\n",
              "    </tr>\n",
              "  </thead>\n",
              "  <tbody>\n",
              "    <tr>\n",
              "      <th>Bili Bili (Gowa)</th>\n",
              "      <td>14.0</td>\n",
              "      <td>28.659933</td>\n",
              "      <td>1</td>\n",
              "      <td>Second</td>\n",
              "    </tr>\n",
              "    <tr>\n",
              "      <th>Binangae (Gowa)</th>\n",
              "      <td>0.0</td>\n",
              "      <td>9.666667</td>\n",
              "      <td>1</td>\n",
              "      <td>Second</td>\n",
              "    </tr>\n",
              "    <tr>\n",
              "      <th>Bonto Bontoa (Gowa)</th>\n",
              "      <td>3.0</td>\n",
              "      <td>27.333333</td>\n",
              "      <td>1</td>\n",
              "      <td>Second</td>\n",
              "    </tr>\n",
              "    <tr>\n",
              "      <th>Bontomarannu (Gowa)</th>\n",
              "      <td>2.0</td>\n",
              "      <td>13.933333</td>\n",
              "      <td>1</td>\n",
              "      <td>Second</td>\n",
              "    </tr>\n",
              "    <tr>\n",
              "      <th>Bontonompo (Gowa)</th>\n",
              "      <td>1.0</td>\n",
              "      <td>16.500000</td>\n",
              "      <td>1</td>\n",
              "      <td>Second</td>\n",
              "    </tr>\n",
              "    <tr>\n",
              "      <th>Bontoramba (Gowa)</th>\n",
              "      <td>8.0</td>\n",
              "      <td>21.625000</td>\n",
              "      <td>1</td>\n",
              "      <td>Second</td>\n",
              "    </tr>\n",
              "    <tr>\n",
              "      <th>Bontotangnga (Gowa)</th>\n",
              "      <td>0.0</td>\n",
              "      <td>19.333333</td>\n",
              "      <td>1</td>\n",
              "      <td>Second</td>\n",
              "    </tr>\n",
              "    <tr>\n",
              "      <th>Borong (Gowa)</th>\n",
              "      <td>0.0</td>\n",
              "      <td>15.000000</td>\n",
              "      <td>1</td>\n",
              "      <td>Second</td>\n",
              "    </tr>\n",
              "    <tr>\n",
              "      <th>Gowa (Gowa)</th>\n",
              "      <td>0.0</td>\n",
              "      <td>14.666667</td>\n",
              "      <td>1</td>\n",
              "      <td>Second</td>\n",
              "    </tr>\n",
              "    <tr>\n",
              "      <th>Jalan Bangkala, Manggala (Gowa)</th>\n",
              "      <td>0.0</td>\n",
              "      <td>11.666667</td>\n",
              "      <td>1</td>\n",
              "      <td>Second</td>\n",
              "    </tr>\n",
              "    <tr>\n",
              "      <th>Jalan Danau Mawang No. 4 (Gowa)</th>\n",
              "      <td>0.0</td>\n",
              "      <td>12.666667</td>\n",
              "      <td>1</td>\n",
              "      <td>Second</td>\n",
              "    </tr>\n",
              "    <tr>\n",
              "      <th>Jalan Poros Malino (Gowa)</th>\n",
              "      <td>0.0</td>\n",
              "      <td>14.000000</td>\n",
              "      <td>1</td>\n",
              "      <td>Second</td>\n",
              "    </tr>\n",
              "    <tr>\n",
              "      <th>Maccini Baji (Gowa)</th>\n",
              "      <td>1.0</td>\n",
              "      <td>18.916667</td>\n",
              "      <td>1</td>\n",
              "      <td>Second</td>\n",
              "    </tr>\n",
              "    <tr>\n",
              "      <th>Mata Allo (Gowa)</th>\n",
              "      <td>7.0</td>\n",
              "      <td>23.666667</td>\n",
              "      <td>1</td>\n",
              "      <td>Second</td>\n",
              "    </tr>\n",
              "    <tr>\n",
              "      <th>Nirannuang (Gowa)</th>\n",
              "      <td>17.0</td>\n",
              "      <td>25.946970</td>\n",
              "      <td>1</td>\n",
              "      <td>Second</td>\n",
              "    </tr>\n",
              "    <tr>\n",
              "      <th>Palangga (Gowa)</th>\n",
              "      <td>0.0</td>\n",
              "      <td>11.000000</td>\n",
              "      <td>1</td>\n",
              "      <td>Second</td>\n",
              "    </tr>\n",
              "    <tr>\n",
              "      <th>Pattalassang (Gowa)</th>\n",
              "      <td>0.0</td>\n",
              "      <td>22.000000</td>\n",
              "      <td>1</td>\n",
              "      <td>Second</td>\n",
              "    </tr>\n",
              "    <tr>\n",
              "      <th>Romangloe (Gowa)</th>\n",
              "      <td>21.0</td>\n",
              "      <td>26.966667</td>\n",
              "      <td>1</td>\n",
              "      <td>Second</td>\n",
              "    </tr>\n",
              "    <tr>\n",
              "      <th>Samata (Gowa)</th>\n",
              "      <td>0.0</td>\n",
              "      <td>15.000000</td>\n",
              "      <td>1</td>\n",
              "      <td>Second</td>\n",
              "    </tr>\n",
              "    <tr>\n",
              "      <th>Somba Opu (Gowa)</th>\n",
              "      <td>0.0</td>\n",
              "      <td>16.000000</td>\n",
              "      <td>1</td>\n",
              "      <td>Second</td>\n",
              "    </tr>\n",
              "    <tr>\n",
              "      <th>Barombong (Gowa)</th>\n",
              "      <td>0.0</td>\n",
              "      <td>10.000000</td>\n",
              "      <td>1</td>\n",
              "      <td>Second</td>\n",
              "    </tr>\n",
              "    <tr>\n",
              "      <th>Kampung Beru (Gowa)</th>\n",
              "      <td>0.0</td>\n",
              "      <td>10.333333</td>\n",
              "      <td>1</td>\n",
              "      <td>Second</td>\n",
              "    </tr>\n",
              "  </tbody>\n",
              "</table>\n",
              "</div>\n",
              "      <button class=\"colab-df-convert\" onclick=\"convertToInteractive('df-c45e2226-7a24-48be-8f69-e81339002dd3')\"\n",
              "              title=\"Convert this dataframe to an interactive table.\"\n",
              "              style=\"display:none;\">\n",
              "        \n",
              "  <svg xmlns=\"http://www.w3.org/2000/svg\" height=\"24px\"viewBox=\"0 0 24 24\"\n",
              "       width=\"24px\">\n",
              "    <path d=\"M0 0h24v24H0V0z\" fill=\"none\"/>\n",
              "    <path d=\"M18.56 5.44l.94 2.06.94-2.06 2.06-.94-2.06-.94-.94-2.06-.94 2.06-2.06.94zm-11 1L8.5 8.5l.94-2.06 2.06-.94-2.06-.94L8.5 2.5l-.94 2.06-2.06.94zm10 10l.94 2.06.94-2.06 2.06-.94-2.06-.94-.94-2.06-.94 2.06-2.06.94z\"/><path d=\"M17.41 7.96l-1.37-1.37c-.4-.4-.92-.59-1.43-.59-.52 0-1.04.2-1.43.59L10.3 9.45l-7.72 7.72c-.78.78-.78 2.05 0 2.83L4 21.41c.39.39.9.59 1.41.59.51 0 1.02-.2 1.41-.59l7.78-7.78 2.81-2.81c.8-.78.8-2.07 0-2.86zM5.41 20L4 18.59l7.72-7.72 1.47 1.35L5.41 20z\"/>\n",
              "  </svg>\n",
              "      </button>\n",
              "      \n",
              "  <style>\n",
              "    .colab-df-container {\n",
              "      display:flex;\n",
              "      flex-wrap:wrap;\n",
              "      gap: 12px;\n",
              "    }\n",
              "\n",
              "    .colab-df-convert {\n",
              "      background-color: #E8F0FE;\n",
              "      border: none;\n",
              "      border-radius: 50%;\n",
              "      cursor: pointer;\n",
              "      display: none;\n",
              "      fill: #1967D2;\n",
              "      height: 32px;\n",
              "      padding: 0 0 0 0;\n",
              "      width: 32px;\n",
              "    }\n",
              "\n",
              "    .colab-df-convert:hover {\n",
              "      background-color: #E2EBFA;\n",
              "      box-shadow: 0px 1px 2px rgba(60, 64, 67, 0.3), 0px 1px 3px 1px rgba(60, 64, 67, 0.15);\n",
              "      fill: #174EA6;\n",
              "    }\n",
              "\n",
              "    [theme=dark] .colab-df-convert {\n",
              "      background-color: #3B4455;\n",
              "      fill: #D2E3FC;\n",
              "    }\n",
              "\n",
              "    [theme=dark] .colab-df-convert:hover {\n",
              "      background-color: #434B5C;\n",
              "      box-shadow: 0px 1px 3px 1px rgba(0, 0, 0, 0.15);\n",
              "      filter: drop-shadow(0px 1px 2px rgba(0, 0, 0, 0.3));\n",
              "      fill: #FFFFFF;\n",
              "    }\n",
              "  </style>\n",
              "\n",
              "      <script>\n",
              "        const buttonEl =\n",
              "          document.querySelector('#df-c45e2226-7a24-48be-8f69-e81339002dd3 button.colab-df-convert');\n",
              "        buttonEl.style.display =\n",
              "          google.colab.kernel.accessAllowed ? 'block' : 'none';\n",
              "\n",
              "        async function convertToInteractive(key) {\n",
              "          const element = document.querySelector('#df-c45e2226-7a24-48be-8f69-e81339002dd3');\n",
              "          const dataTable =\n",
              "            await google.colab.kernel.invokeFunction('convertToInteractive',\n",
              "                                                     [key], {});\n",
              "          if (!dataTable) return;\n",
              "\n",
              "          const docLinkHtml = 'Like what you see? Visit the ' +\n",
              "            '<a target=\"_blank\" href=https://colab.research.google.com/notebooks/data_table.ipynb>data table notebook</a>'\n",
              "            + ' to learn more about interactive tables.';\n",
              "          element.innerHTML = '';\n",
              "          dataTable['output_type'] = 'display_data';\n",
              "          await google.colab.output.renderOutput(dataTable, element);\n",
              "          const docLink = document.createElement('div');\n",
              "          docLink.innerHTML = docLinkHtml;\n",
              "          element.appendChild(docLink);\n",
              "        }\n",
              "      </script>\n",
              "    </div>\n",
              "  </div>\n",
              "  "
            ]
          },
          "metadata": {},
          "execution_count": 182
        }
      ],
      "source": [
        "data_cluster3[data_cluster3['labels'] == 1]"
      ]
    },
    {
      "cell_type": "code",
      "execution_count": null,
      "metadata": {
        "colab": {
          "base_uri": "https://localhost:8080/"
        },
        "id": "fuLo_AjPUrjt",
        "outputId": "83f86662-a0c4-4bc2-c2f2-5483207bdb73"
      },
      "outputs": [
        {
          "output_type": "execute_result",
          "data": {
            "text/plain": [
              "tifoid                                                   9.0\n",
              "Umur                                               40.777778\n",
              "labels                                                    24\n",
              "Segment    ThirdThirdThirdThirdThirdThirdThirdThirdThirdT...\n",
              "dtype: object"
            ]
          },
          "metadata": {},
          "execution_count": 183
        }
      ],
      "source": [
        "data_cluster3[data_cluster3['labels'] == 2].sum()\n"
      ]
    },
    {
      "cell_type": "code",
      "execution_count": null,
      "metadata": {
        "colab": {
          "base_uri": "https://localhost:8080/",
          "height": 426
        },
        "id": "nbXmE2x4U91M",
        "outputId": "e0d4ba9c-246b-4167-f189-7e4e0bbddd2d"
      },
      "outputs": [
        {
          "output_type": "execute_result",
          "data": {
            "text/plain": [
              "                      tifoid      Umur  labels Segment\n",
              "Bonto-Bonto (Gowa)       0.0  6.000000       2   Third\n",
              "Borong Sapiri (Gowa)     0.0  5.666667       2   Third\n",
              "Lempangang (Gowa)        0.0  7.666667       2   Third\n",
              "Moncongloe (Gowa)        0.0  5.444444       2   Third\n",
              "Sungguminasa (Gowa)      1.0  7.000000       2   Third\n",
              "Tangkebajeng (Gowa)      2.0  7.000000       2   Third\n",
              "Buntu Alang (Gowa)       1.0  0.333333       2   Third\n",
              "Lauwa (Gowa)             1.0  0.333333       2   Third\n",
              "Pallantikang (Gowa)      1.0  0.333333       2   Third\n",
              "Panambungan (Gowa)       1.0  0.333333       2   Third\n",
              "Romang Polong (Gowa)     1.0  0.333333       2   Third\n",
              "Sapaya (Gowa)            1.0  0.333333       2   Third"
            ],
            "text/html": [
              "\n",
              "  <div id=\"df-52cff268-0c08-4cf0-8b0a-a9a4d492b380\">\n",
              "    <div class=\"colab-df-container\">\n",
              "      <div>\n",
              "<style scoped>\n",
              "    .dataframe tbody tr th:only-of-type {\n",
              "        vertical-align: middle;\n",
              "    }\n",
              "\n",
              "    .dataframe tbody tr th {\n",
              "        vertical-align: top;\n",
              "    }\n",
              "\n",
              "    .dataframe thead th {\n",
              "        text-align: right;\n",
              "    }\n",
              "</style>\n",
              "<table border=\"1\" class=\"dataframe\">\n",
              "  <thead>\n",
              "    <tr style=\"text-align: right;\">\n",
              "      <th></th>\n",
              "      <th>tifoid</th>\n",
              "      <th>Umur</th>\n",
              "      <th>labels</th>\n",
              "      <th>Segment</th>\n",
              "    </tr>\n",
              "  </thead>\n",
              "  <tbody>\n",
              "    <tr>\n",
              "      <th>Bonto-Bonto (Gowa)</th>\n",
              "      <td>0.0</td>\n",
              "      <td>6.000000</td>\n",
              "      <td>2</td>\n",
              "      <td>Third</td>\n",
              "    </tr>\n",
              "    <tr>\n",
              "      <th>Borong Sapiri (Gowa)</th>\n",
              "      <td>0.0</td>\n",
              "      <td>5.666667</td>\n",
              "      <td>2</td>\n",
              "      <td>Third</td>\n",
              "    </tr>\n",
              "    <tr>\n",
              "      <th>Lempangang (Gowa)</th>\n",
              "      <td>0.0</td>\n",
              "      <td>7.666667</td>\n",
              "      <td>2</td>\n",
              "      <td>Third</td>\n",
              "    </tr>\n",
              "    <tr>\n",
              "      <th>Moncongloe (Gowa)</th>\n",
              "      <td>0.0</td>\n",
              "      <td>5.444444</td>\n",
              "      <td>2</td>\n",
              "      <td>Third</td>\n",
              "    </tr>\n",
              "    <tr>\n",
              "      <th>Sungguminasa (Gowa)</th>\n",
              "      <td>1.0</td>\n",
              "      <td>7.000000</td>\n",
              "      <td>2</td>\n",
              "      <td>Third</td>\n",
              "    </tr>\n",
              "    <tr>\n",
              "      <th>Tangkebajeng (Gowa)</th>\n",
              "      <td>2.0</td>\n",
              "      <td>7.000000</td>\n",
              "      <td>2</td>\n",
              "      <td>Third</td>\n",
              "    </tr>\n",
              "    <tr>\n",
              "      <th>Buntu Alang (Gowa)</th>\n",
              "      <td>1.0</td>\n",
              "      <td>0.333333</td>\n",
              "      <td>2</td>\n",
              "      <td>Third</td>\n",
              "    </tr>\n",
              "    <tr>\n",
              "      <th>Lauwa (Gowa)</th>\n",
              "      <td>1.0</td>\n",
              "      <td>0.333333</td>\n",
              "      <td>2</td>\n",
              "      <td>Third</td>\n",
              "    </tr>\n",
              "    <tr>\n",
              "      <th>Pallantikang (Gowa)</th>\n",
              "      <td>1.0</td>\n",
              "      <td>0.333333</td>\n",
              "      <td>2</td>\n",
              "      <td>Third</td>\n",
              "    </tr>\n",
              "    <tr>\n",
              "      <th>Panambungan (Gowa)</th>\n",
              "      <td>1.0</td>\n",
              "      <td>0.333333</td>\n",
              "      <td>2</td>\n",
              "      <td>Third</td>\n",
              "    </tr>\n",
              "    <tr>\n",
              "      <th>Romang Polong (Gowa)</th>\n",
              "      <td>1.0</td>\n",
              "      <td>0.333333</td>\n",
              "      <td>2</td>\n",
              "      <td>Third</td>\n",
              "    </tr>\n",
              "    <tr>\n",
              "      <th>Sapaya (Gowa)</th>\n",
              "      <td>1.0</td>\n",
              "      <td>0.333333</td>\n",
              "      <td>2</td>\n",
              "      <td>Third</td>\n",
              "    </tr>\n",
              "  </tbody>\n",
              "</table>\n",
              "</div>\n",
              "      <button class=\"colab-df-convert\" onclick=\"convertToInteractive('df-52cff268-0c08-4cf0-8b0a-a9a4d492b380')\"\n",
              "              title=\"Convert this dataframe to an interactive table.\"\n",
              "              style=\"display:none;\">\n",
              "        \n",
              "  <svg xmlns=\"http://www.w3.org/2000/svg\" height=\"24px\"viewBox=\"0 0 24 24\"\n",
              "       width=\"24px\">\n",
              "    <path d=\"M0 0h24v24H0V0z\" fill=\"none\"/>\n",
              "    <path d=\"M18.56 5.44l.94 2.06.94-2.06 2.06-.94-2.06-.94-.94-2.06-.94 2.06-2.06.94zm-11 1L8.5 8.5l.94-2.06 2.06-.94-2.06-.94L8.5 2.5l-.94 2.06-2.06.94zm10 10l.94 2.06.94-2.06 2.06-.94-2.06-.94-.94-2.06-.94 2.06-2.06.94z\"/><path d=\"M17.41 7.96l-1.37-1.37c-.4-.4-.92-.59-1.43-.59-.52 0-1.04.2-1.43.59L10.3 9.45l-7.72 7.72c-.78.78-.78 2.05 0 2.83L4 21.41c.39.39.9.59 1.41.59.51 0 1.02-.2 1.41-.59l7.78-7.78 2.81-2.81c.8-.78.8-2.07 0-2.86zM5.41 20L4 18.59l7.72-7.72 1.47 1.35L5.41 20z\"/>\n",
              "  </svg>\n",
              "      </button>\n",
              "      \n",
              "  <style>\n",
              "    .colab-df-container {\n",
              "      display:flex;\n",
              "      flex-wrap:wrap;\n",
              "      gap: 12px;\n",
              "    }\n",
              "\n",
              "    .colab-df-convert {\n",
              "      background-color: #E8F0FE;\n",
              "      border: none;\n",
              "      border-radius: 50%;\n",
              "      cursor: pointer;\n",
              "      display: none;\n",
              "      fill: #1967D2;\n",
              "      height: 32px;\n",
              "      padding: 0 0 0 0;\n",
              "      width: 32px;\n",
              "    }\n",
              "\n",
              "    .colab-df-convert:hover {\n",
              "      background-color: #E2EBFA;\n",
              "      box-shadow: 0px 1px 2px rgba(60, 64, 67, 0.3), 0px 1px 3px 1px rgba(60, 64, 67, 0.15);\n",
              "      fill: #174EA6;\n",
              "    }\n",
              "\n",
              "    [theme=dark] .colab-df-convert {\n",
              "      background-color: #3B4455;\n",
              "      fill: #D2E3FC;\n",
              "    }\n",
              "\n",
              "    [theme=dark] .colab-df-convert:hover {\n",
              "      background-color: #434B5C;\n",
              "      box-shadow: 0px 1px 3px 1px rgba(0, 0, 0, 0.15);\n",
              "      filter: drop-shadow(0px 1px 2px rgba(0, 0, 0, 0.3));\n",
              "      fill: #FFFFFF;\n",
              "    }\n",
              "  </style>\n",
              "\n",
              "      <script>\n",
              "        const buttonEl =\n",
              "          document.querySelector('#df-52cff268-0c08-4cf0-8b0a-a9a4d492b380 button.colab-df-convert');\n",
              "        buttonEl.style.display =\n",
              "          google.colab.kernel.accessAllowed ? 'block' : 'none';\n",
              "\n",
              "        async function convertToInteractive(key) {\n",
              "          const element = document.querySelector('#df-52cff268-0c08-4cf0-8b0a-a9a4d492b380');\n",
              "          const dataTable =\n",
              "            await google.colab.kernel.invokeFunction('convertToInteractive',\n",
              "                                                     [key], {});\n",
              "          if (!dataTable) return;\n",
              "\n",
              "          const docLinkHtml = 'Like what you see? Visit the ' +\n",
              "            '<a target=\"_blank\" href=https://colab.research.google.com/notebooks/data_table.ipynb>data table notebook</a>'\n",
              "            + ' to learn more about interactive tables.';\n",
              "          element.innerHTML = '';\n",
              "          dataTable['output_type'] = 'display_data';\n",
              "          await google.colab.output.renderOutput(dataTable, element);\n",
              "          const docLink = document.createElement('div');\n",
              "          docLink.innerHTML = docLinkHtml;\n",
              "          element.appendChild(docLink);\n",
              "        }\n",
              "      </script>\n",
              "    </div>\n",
              "  </div>\n",
              "  "
            ]
          },
          "metadata": {},
          "execution_count": 184
        }
      ],
      "source": [
        "data_cluster3[data_cluster3['labels'] == 2]"
      ]
    },
    {
      "cell_type": "code",
      "execution_count": null,
      "metadata": {
        "colab": {
          "base_uri": "https://localhost:8080/",
          "height": 1000
        },
        "id": "f0Sb7plZI8bF",
        "outputId": "8c2f2b37-a6bf-4661-da27-eb0842bf4898"
      },
      "outputs": [
        {
          "output_type": "execute_result",
          "data": {
            "text/plain": [
              "                                 tifoid       Umur  labels Segment\n",
              "Bili Bili (Gowa)                   14.0  28.659933       1  Second\n",
              "Binangae (Gowa)                     0.0   9.666667       1  Second\n",
              "Bonto Bontoa (Gowa)                 3.0  27.333333       1  Second\n",
              "Bonto-Bonto (Gowa)                  0.0   6.000000       2   Third\n",
              "Bontomanai (Gowa)                  54.0  37.869413       0   First\n",
              "Bontomarannu (Gowa)                 2.0  13.933333       1  Second\n",
              "Bontonompo (Gowa)                   1.0  16.500000       1  Second\n",
              "Bontoramba (Gowa)                   8.0  21.625000       1  Second\n",
              "Bontotangnga (Gowa)                 0.0  19.333333       1  Second\n",
              "Borong (Gowa)                       0.0  15.000000       1  Second\n",
              "Borongloe (Gowa)                   37.0  32.261089       0   First\n",
              "Gowa (Gowa)                         0.0  14.666667       1  Second\n",
              "Jalan Bangkala, Manggala (Gowa)     0.0  11.666667       1  Second\n",
              "Jalan Danau Mawang No. 4 (Gowa)     0.0  12.666667       1  Second\n",
              "Jalan Poros Malino (Gowa)           0.0  14.000000       1  Second\n",
              "Maccini Baji (Gowa)                 1.0  18.916667       1  Second\n",
              "Mata Allo (Gowa)                    7.0  23.666667       1  Second\n",
              "Nirannuang (Gowa)                  17.0  25.946970       1  Second\n",
              "Pakatto (Gowa)                     48.0  37.070597       0   First\n",
              "Palangga (Gowa)                     0.0  11.000000       1  Second\n",
              "Pattalassang (Gowa)                 0.0  22.000000       1  Second\n",
              "Romang Lompoa (Gowa)               46.0  37.299720       0   First\n",
              "Romangloe (Gowa)                   21.0  26.966667       1  Second\n",
              "Samata (Gowa)                       0.0  15.000000       1  Second\n",
              "Sokkolia (Gowa)                    31.0  31.219608       0   First\n",
              "Somba Opu (Gowa)                    0.0  16.000000       1  Second\n",
              "Barombong (Gowa)                    0.0  10.000000       1  Second\n",
              "Borong Sapiri (Gowa)                0.0   5.666667       2   Third\n",
              "Kampung Beru (Gowa)                 0.0  10.333333       1  Second\n",
              "Lempangang (Gowa)                   0.0   7.666667       2   Third\n",
              "Moncongloe (Gowa)                   0.0   5.444444       2   Third\n",
              "Sungguminasa (Gowa)                 1.0   7.000000       2   Third\n",
              "Tangkebajeng (Gowa)                 2.0   7.000000       2   Third\n",
              "Buntu Alang (Gowa)                  1.0   0.333333       2   Third\n",
              "Lauwa (Gowa)                        1.0   0.333333       2   Third\n",
              "Pallantikang (Gowa)                 1.0   0.333333       2   Third\n",
              "Panambungan (Gowa)                  1.0   0.333333       2   Third\n",
              "Romang Polong (Gowa)                1.0   0.333333       2   Third\n",
              "Sapaya (Gowa)                       1.0   0.333333       2   Third"
            ],
            "text/html": [
              "\n",
              "  <div id=\"df-99011de5-07b1-4682-8470-147f0cb4b6d5\">\n",
              "    <div class=\"colab-df-container\">\n",
              "      <div>\n",
              "<style scoped>\n",
              "    .dataframe tbody tr th:only-of-type {\n",
              "        vertical-align: middle;\n",
              "    }\n",
              "\n",
              "    .dataframe tbody tr th {\n",
              "        vertical-align: top;\n",
              "    }\n",
              "\n",
              "    .dataframe thead th {\n",
              "        text-align: right;\n",
              "    }\n",
              "</style>\n",
              "<table border=\"1\" class=\"dataframe\">\n",
              "  <thead>\n",
              "    <tr style=\"text-align: right;\">\n",
              "      <th></th>\n",
              "      <th>tifoid</th>\n",
              "      <th>Umur</th>\n",
              "      <th>labels</th>\n",
              "      <th>Segment</th>\n",
              "    </tr>\n",
              "  </thead>\n",
              "  <tbody>\n",
              "    <tr>\n",
              "      <th>Bili Bili (Gowa)</th>\n",
              "      <td>14.0</td>\n",
              "      <td>28.659933</td>\n",
              "      <td>1</td>\n",
              "      <td>Second</td>\n",
              "    </tr>\n",
              "    <tr>\n",
              "      <th>Binangae (Gowa)</th>\n",
              "      <td>0.0</td>\n",
              "      <td>9.666667</td>\n",
              "      <td>1</td>\n",
              "      <td>Second</td>\n",
              "    </tr>\n",
              "    <tr>\n",
              "      <th>Bonto Bontoa (Gowa)</th>\n",
              "      <td>3.0</td>\n",
              "      <td>27.333333</td>\n",
              "      <td>1</td>\n",
              "      <td>Second</td>\n",
              "    </tr>\n",
              "    <tr>\n",
              "      <th>Bonto-Bonto (Gowa)</th>\n",
              "      <td>0.0</td>\n",
              "      <td>6.000000</td>\n",
              "      <td>2</td>\n",
              "      <td>Third</td>\n",
              "    </tr>\n",
              "    <tr>\n",
              "      <th>Bontomanai (Gowa)</th>\n",
              "      <td>54.0</td>\n",
              "      <td>37.869413</td>\n",
              "      <td>0</td>\n",
              "      <td>First</td>\n",
              "    </tr>\n",
              "    <tr>\n",
              "      <th>Bontomarannu (Gowa)</th>\n",
              "      <td>2.0</td>\n",
              "      <td>13.933333</td>\n",
              "      <td>1</td>\n",
              "      <td>Second</td>\n",
              "    </tr>\n",
              "    <tr>\n",
              "      <th>Bontonompo (Gowa)</th>\n",
              "      <td>1.0</td>\n",
              "      <td>16.500000</td>\n",
              "      <td>1</td>\n",
              "      <td>Second</td>\n",
              "    </tr>\n",
              "    <tr>\n",
              "      <th>Bontoramba (Gowa)</th>\n",
              "      <td>8.0</td>\n",
              "      <td>21.625000</td>\n",
              "      <td>1</td>\n",
              "      <td>Second</td>\n",
              "    </tr>\n",
              "    <tr>\n",
              "      <th>Bontotangnga (Gowa)</th>\n",
              "      <td>0.0</td>\n",
              "      <td>19.333333</td>\n",
              "      <td>1</td>\n",
              "      <td>Second</td>\n",
              "    </tr>\n",
              "    <tr>\n",
              "      <th>Borong (Gowa)</th>\n",
              "      <td>0.0</td>\n",
              "      <td>15.000000</td>\n",
              "      <td>1</td>\n",
              "      <td>Second</td>\n",
              "    </tr>\n",
              "    <tr>\n",
              "      <th>Borongloe (Gowa)</th>\n",
              "      <td>37.0</td>\n",
              "      <td>32.261089</td>\n",
              "      <td>0</td>\n",
              "      <td>First</td>\n",
              "    </tr>\n",
              "    <tr>\n",
              "      <th>Gowa (Gowa)</th>\n",
              "      <td>0.0</td>\n",
              "      <td>14.666667</td>\n",
              "      <td>1</td>\n",
              "      <td>Second</td>\n",
              "    </tr>\n",
              "    <tr>\n",
              "      <th>Jalan Bangkala, Manggala (Gowa)</th>\n",
              "      <td>0.0</td>\n",
              "      <td>11.666667</td>\n",
              "      <td>1</td>\n",
              "      <td>Second</td>\n",
              "    </tr>\n",
              "    <tr>\n",
              "      <th>Jalan Danau Mawang No. 4 (Gowa)</th>\n",
              "      <td>0.0</td>\n",
              "      <td>12.666667</td>\n",
              "      <td>1</td>\n",
              "      <td>Second</td>\n",
              "    </tr>\n",
              "    <tr>\n",
              "      <th>Jalan Poros Malino (Gowa)</th>\n",
              "      <td>0.0</td>\n",
              "      <td>14.000000</td>\n",
              "      <td>1</td>\n",
              "      <td>Second</td>\n",
              "    </tr>\n",
              "    <tr>\n",
              "      <th>Maccini Baji (Gowa)</th>\n",
              "      <td>1.0</td>\n",
              "      <td>18.916667</td>\n",
              "      <td>1</td>\n",
              "      <td>Second</td>\n",
              "    </tr>\n",
              "    <tr>\n",
              "      <th>Mata Allo (Gowa)</th>\n",
              "      <td>7.0</td>\n",
              "      <td>23.666667</td>\n",
              "      <td>1</td>\n",
              "      <td>Second</td>\n",
              "    </tr>\n",
              "    <tr>\n",
              "      <th>Nirannuang (Gowa)</th>\n",
              "      <td>17.0</td>\n",
              "      <td>25.946970</td>\n",
              "      <td>1</td>\n",
              "      <td>Second</td>\n",
              "    </tr>\n",
              "    <tr>\n",
              "      <th>Pakatto (Gowa)</th>\n",
              "      <td>48.0</td>\n",
              "      <td>37.070597</td>\n",
              "      <td>0</td>\n",
              "      <td>First</td>\n",
              "    </tr>\n",
              "    <tr>\n",
              "      <th>Palangga (Gowa)</th>\n",
              "      <td>0.0</td>\n",
              "      <td>11.000000</td>\n",
              "      <td>1</td>\n",
              "      <td>Second</td>\n",
              "    </tr>\n",
              "    <tr>\n",
              "      <th>Pattalassang (Gowa)</th>\n",
              "      <td>0.0</td>\n",
              "      <td>22.000000</td>\n",
              "      <td>1</td>\n",
              "      <td>Second</td>\n",
              "    </tr>\n",
              "    <tr>\n",
              "      <th>Romang Lompoa (Gowa)</th>\n",
              "      <td>46.0</td>\n",
              "      <td>37.299720</td>\n",
              "      <td>0</td>\n",
              "      <td>First</td>\n",
              "    </tr>\n",
              "    <tr>\n",
              "      <th>Romangloe (Gowa)</th>\n",
              "      <td>21.0</td>\n",
              "      <td>26.966667</td>\n",
              "      <td>1</td>\n",
              "      <td>Second</td>\n",
              "    </tr>\n",
              "    <tr>\n",
              "      <th>Samata (Gowa)</th>\n",
              "      <td>0.0</td>\n",
              "      <td>15.000000</td>\n",
              "      <td>1</td>\n",
              "      <td>Second</td>\n",
              "    </tr>\n",
              "    <tr>\n",
              "      <th>Sokkolia (Gowa)</th>\n",
              "      <td>31.0</td>\n",
              "      <td>31.219608</td>\n",
              "      <td>0</td>\n",
              "      <td>First</td>\n",
              "    </tr>\n",
              "    <tr>\n",
              "      <th>Somba Opu (Gowa)</th>\n",
              "      <td>0.0</td>\n",
              "      <td>16.000000</td>\n",
              "      <td>1</td>\n",
              "      <td>Second</td>\n",
              "    </tr>\n",
              "    <tr>\n",
              "      <th>Barombong (Gowa)</th>\n",
              "      <td>0.0</td>\n",
              "      <td>10.000000</td>\n",
              "      <td>1</td>\n",
              "      <td>Second</td>\n",
              "    </tr>\n",
              "    <tr>\n",
              "      <th>Borong Sapiri (Gowa)</th>\n",
              "      <td>0.0</td>\n",
              "      <td>5.666667</td>\n",
              "      <td>2</td>\n",
              "      <td>Third</td>\n",
              "    </tr>\n",
              "    <tr>\n",
              "      <th>Kampung Beru (Gowa)</th>\n",
              "      <td>0.0</td>\n",
              "      <td>10.333333</td>\n",
              "      <td>1</td>\n",
              "      <td>Second</td>\n",
              "    </tr>\n",
              "    <tr>\n",
              "      <th>Lempangang (Gowa)</th>\n",
              "      <td>0.0</td>\n",
              "      <td>7.666667</td>\n",
              "      <td>2</td>\n",
              "      <td>Third</td>\n",
              "    </tr>\n",
              "    <tr>\n",
              "      <th>Moncongloe (Gowa)</th>\n",
              "      <td>0.0</td>\n",
              "      <td>5.444444</td>\n",
              "      <td>2</td>\n",
              "      <td>Third</td>\n",
              "    </tr>\n",
              "    <tr>\n",
              "      <th>Sungguminasa (Gowa)</th>\n",
              "      <td>1.0</td>\n",
              "      <td>7.000000</td>\n",
              "      <td>2</td>\n",
              "      <td>Third</td>\n",
              "    </tr>\n",
              "    <tr>\n",
              "      <th>Tangkebajeng (Gowa)</th>\n",
              "      <td>2.0</td>\n",
              "      <td>7.000000</td>\n",
              "      <td>2</td>\n",
              "      <td>Third</td>\n",
              "    </tr>\n",
              "    <tr>\n",
              "      <th>Buntu Alang (Gowa)</th>\n",
              "      <td>1.0</td>\n",
              "      <td>0.333333</td>\n",
              "      <td>2</td>\n",
              "      <td>Third</td>\n",
              "    </tr>\n",
              "    <tr>\n",
              "      <th>Lauwa (Gowa)</th>\n",
              "      <td>1.0</td>\n",
              "      <td>0.333333</td>\n",
              "      <td>2</td>\n",
              "      <td>Third</td>\n",
              "    </tr>\n",
              "    <tr>\n",
              "      <th>Pallantikang (Gowa)</th>\n",
              "      <td>1.0</td>\n",
              "      <td>0.333333</td>\n",
              "      <td>2</td>\n",
              "      <td>Third</td>\n",
              "    </tr>\n",
              "    <tr>\n",
              "      <th>Panambungan (Gowa)</th>\n",
              "      <td>1.0</td>\n",
              "      <td>0.333333</td>\n",
              "      <td>2</td>\n",
              "      <td>Third</td>\n",
              "    </tr>\n",
              "    <tr>\n",
              "      <th>Romang Polong (Gowa)</th>\n",
              "      <td>1.0</td>\n",
              "      <td>0.333333</td>\n",
              "      <td>2</td>\n",
              "      <td>Third</td>\n",
              "    </tr>\n",
              "    <tr>\n",
              "      <th>Sapaya (Gowa)</th>\n",
              "      <td>1.0</td>\n",
              "      <td>0.333333</td>\n",
              "      <td>2</td>\n",
              "      <td>Third</td>\n",
              "    </tr>\n",
              "  </tbody>\n",
              "</table>\n",
              "</div>\n",
              "      <button class=\"colab-df-convert\" onclick=\"convertToInteractive('df-99011de5-07b1-4682-8470-147f0cb4b6d5')\"\n",
              "              title=\"Convert this dataframe to an interactive table.\"\n",
              "              style=\"display:none;\">\n",
              "        \n",
              "  <svg xmlns=\"http://www.w3.org/2000/svg\" height=\"24px\"viewBox=\"0 0 24 24\"\n",
              "       width=\"24px\">\n",
              "    <path d=\"M0 0h24v24H0V0z\" fill=\"none\"/>\n",
              "    <path d=\"M18.56 5.44l.94 2.06.94-2.06 2.06-.94-2.06-.94-.94-2.06-.94 2.06-2.06.94zm-11 1L8.5 8.5l.94-2.06 2.06-.94-2.06-.94L8.5 2.5l-.94 2.06-2.06.94zm10 10l.94 2.06.94-2.06 2.06-.94-2.06-.94-.94-2.06-.94 2.06-2.06.94z\"/><path d=\"M17.41 7.96l-1.37-1.37c-.4-.4-.92-.59-1.43-.59-.52 0-1.04.2-1.43.59L10.3 9.45l-7.72 7.72c-.78.78-.78 2.05 0 2.83L4 21.41c.39.39.9.59 1.41.59.51 0 1.02-.2 1.41-.59l7.78-7.78 2.81-2.81c.8-.78.8-2.07 0-2.86zM5.41 20L4 18.59l7.72-7.72 1.47 1.35L5.41 20z\"/>\n",
              "  </svg>\n",
              "      </button>\n",
              "      \n",
              "  <style>\n",
              "    .colab-df-container {\n",
              "      display:flex;\n",
              "      flex-wrap:wrap;\n",
              "      gap: 12px;\n",
              "    }\n",
              "\n",
              "    .colab-df-convert {\n",
              "      background-color: #E8F0FE;\n",
              "      border: none;\n",
              "      border-radius: 50%;\n",
              "      cursor: pointer;\n",
              "      display: none;\n",
              "      fill: #1967D2;\n",
              "      height: 32px;\n",
              "      padding: 0 0 0 0;\n",
              "      width: 32px;\n",
              "    }\n",
              "\n",
              "    .colab-df-convert:hover {\n",
              "      background-color: #E2EBFA;\n",
              "      box-shadow: 0px 1px 2px rgba(60, 64, 67, 0.3), 0px 1px 3px 1px rgba(60, 64, 67, 0.15);\n",
              "      fill: #174EA6;\n",
              "    }\n",
              "\n",
              "    [theme=dark] .colab-df-convert {\n",
              "      background-color: #3B4455;\n",
              "      fill: #D2E3FC;\n",
              "    }\n",
              "\n",
              "    [theme=dark] .colab-df-convert:hover {\n",
              "      background-color: #434B5C;\n",
              "      box-shadow: 0px 1px 3px 1px rgba(0, 0, 0, 0.15);\n",
              "      filter: drop-shadow(0px 1px 2px rgba(0, 0, 0, 0.3));\n",
              "      fill: #FFFFFF;\n",
              "    }\n",
              "  </style>\n",
              "\n",
              "      <script>\n",
              "        const buttonEl =\n",
              "          document.querySelector('#df-99011de5-07b1-4682-8470-147f0cb4b6d5 button.colab-df-convert');\n",
              "        buttonEl.style.display =\n",
              "          google.colab.kernel.accessAllowed ? 'block' : 'none';\n",
              "\n",
              "        async function convertToInteractive(key) {\n",
              "          const element = document.querySelector('#df-99011de5-07b1-4682-8470-147f0cb4b6d5');\n",
              "          const dataTable =\n",
              "            await google.colab.kernel.invokeFunction('convertToInteractive',\n",
              "                                                     [key], {});\n",
              "          if (!dataTable) return;\n",
              "\n",
              "          const docLinkHtml = 'Like what you see? Visit the ' +\n",
              "            '<a target=\"_blank\" href=https://colab.research.google.com/notebooks/data_table.ipynb>data table notebook</a>'\n",
              "            + ' to learn more about interactive tables.';\n",
              "          element.innerHTML = '';\n",
              "          dataTable['output_type'] = 'display_data';\n",
              "          await google.colab.output.renderOutput(dataTable, element);\n",
              "          const docLink = document.createElement('div');\n",
              "          docLink.innerHTML = docLinkHtml;\n",
              "          element.appendChild(docLink);\n",
              "        }\n",
              "      </script>\n",
              "    </div>\n",
              "  </div>\n",
              "  "
            ]
          },
          "metadata": {},
          "execution_count": 185
        }
      ],
      "source": [
        "data_cluster3"
      ]
    },
    {
      "cell_type": "code",
      "execution_count": null,
      "metadata": {
        "id": "Y5nraQlMI8bF"
      },
      "outputs": [],
      "source": [
        "#Order the cluster\n",
        "data_cluster3['Segment'] = data_cluster3['Segment'].astype('category')\n",
        "data_cluster3['Segment'] = data_cluster3['Segment'].cat.reorder_categories(['First', 'Second', 'Third'])"
      ]
    },
    {
      "cell_type": "code",
      "execution_count": null,
      "metadata": {
        "id": "0wC0kMXHI8bG"
      },
      "outputs": [],
      "source": [
        "# ==== CREATE DICTIONARY FOR OBJECT AND NUMERICAL COLUMNS ====#\n",
        "dict_cat = {}\n",
        "dict_num = {}\n",
        "for cat in data_cluster3.select_dtypes('object'):\n",
        " dict_cat[cat] = lambda x: x.value_counts().index[0]\n",
        "for num in data_cluster3.select_dtypes(['int64', 'float64']):\n",
        "  if (num == 'Total'):\n",
        "    continue\n",
        "  dict_num[num] = ['mean']\n",
        "# ============ CREATE TABLE FOR EACH CLUSTER ============#\n",
        "data_cluster3.rename(columns={'labels': 'Total'}, inplace=True)\n",
        "data_percluster3 = data_cluster3.groupby('Segment').agg({\n",
        " 'Total': 'count',\n",
        " **dict_num,\n",
        " **dict_cat\n",
        "}).T"
      ]
    },
    {
      "cell_type": "code",
      "execution_count": null,
      "metadata": {
        "id": "19tuPJyLI8bG"
      },
      "outputs": [],
      "source": [
        "data_cluster3['coord'] = coord3"
      ]
    },
    {
      "cell_type": "code",
      "execution_count": null,
      "metadata": {
        "id": "Ehy9YnjuI8bH"
      },
      "outputs": [],
      "source": [
        "data_cluster3 = data_cluster3.T\n",
        "data_percluster3.to_json(r'cluster3_result.json')\n",
        "data_cluster3.to_json(r'cluster3_df.json')"
      ]
    },
    {
      "cell_type": "markdown",
      "metadata": {
        "id": "X6K9bewkI8bH"
      },
      "source": [
        "##**Perbandingan Nilai DBI**"
      ]
    },
    {
      "cell_type": "code",
      "execution_count": null,
      "metadata": {
        "colab": {
          "base_uri": "https://localhost:8080/"
        },
        "id": "v8_sjE78I8bH",
        "outputId": "e9b8fb37-7ef8-41b3-b7c7-911a9f63002d"
      },
      "outputs": [
        {
          "output_type": "stream",
          "name": "stdout",
          "text": [
            "DBI kmeans: 0.5996568343593284\n",
            "DBI kmeans with PSO: 0.5643803250510376\n"
          ]
        }
      ],
      "source": [
        "db_index5 = davies_bouldin_score(cluster3, predicted_kmeans3)\n",
        "print(\"DBI kmeans:\", db_index5)\n",
        "\n",
        "db_index6 = davies_bouldin_score(cluster3, predicted_pso3)\n",
        "print(\"DBI kmeans with PSO:\", db_index6)"
      ]
    },
    {
      "cell_type": "markdown",
      "metadata": {
        "id": "NGJoq_0iIotk"
      },
      "source": [
        "#**CLUSTER4**"
      ]
    },
    {
      "cell_type": "code",
      "execution_count": null,
      "metadata": {
        "id": "wgjEq5agngmh"
      },
      "outputs": [],
      "source": [
        "data_cluster4 = merge_data[['Tersedia air bersih', \n",
        "                       'Ada lalat/nyamuk di sekitar tumpukan sampah',\n",
        "                       'Ada ventilasi disemua ruangan']]\n",
        "\n",
        "# Standardize data\n",
        "scaler = MinMaxScaler()\n",
        "Num_features = data_cluster4.select_dtypes(include=['int64', 'float64']).columns\n",
        "scaler.fit(data_cluster4[Num_features])\n",
        "cluster4 = scaler.transform(data_cluster4[Num_features])"
      ]
    },
    {
      "cell_type": "markdown",
      "metadata": {
        "id": "t64jQILN2W3c"
      },
      "source": [
        "###Elbow Method"
      ]
    },
    {
      "cell_type": "code",
      "execution_count": null,
      "metadata": {
        "colab": {
          "base_uri": "https://localhost:8080/"
        },
        "id": "-XC6p-Hp2W3c",
        "outputId": "bc066c0c-37f7-4dd9-9a38-4dcb3e269180"
      },
      "outputs": [
        {
          "output_type": "stream",
          "name": "stdout",
          "text": [
            "    K       sse  silhouette\n",
            "0   2  1.180882    0.842564\n",
            "1   3  0.691205    0.738468\n",
            "2   4  0.341623    0.735576\n",
            "3   5  0.214514    0.739827\n",
            "4   6  0.140297    0.729447\n",
            "5   7  0.106125    0.706129\n",
            "6   8  0.080283    0.692837\n",
            "7   9  0.050388    0.694326\n",
            "8  10  0.031544    0.684031\n"
          ]
        }
      ],
      "source": [
        "sse = []\n",
        "silhouette_scores = []\n",
        "\n",
        "for n_clusters in range(2, 11):\n",
        "    kmeans = Kmeans1(n_clusters=n_clusters, random_state=42)\n",
        "    labels = kmeans.fit_predict(cluster4)\n",
        "    sse.append(kmeans.inertia_)\n",
        "    silhouette_avg = silhouette_score(cluster4, labels)\n",
        "    silhouette_scores.append(silhouette_avg)\n",
        "\n",
        "table_elbow = {\n",
        "    'K': range(2, 11),\n",
        "    'sse': sse,\n",
        "    'silhouette': silhouette_scores\n",
        "}\n",
        "df = pd.DataFrame(table_elbow)\n",
        "print(df)"
      ]
    },
    {
      "cell_type": "code",
      "execution_count": null,
      "metadata": {
        "colab": {
          "base_uri": "https://localhost:8080/"
        },
        "id": "30bCknlg2W3c",
        "outputId": "147bb506-8a09-4119-8be2-ba9c0ea2a483"
      },
      "outputs": [
        {
          "output_type": "display_data",
          "data": {
            "text/plain": [
              "<Figure size 1000x500 with 1 Axes>"
            ],
            "image/png": "[encoded data removed]"
          },
          "metadata": {}
        },
        {
          "output_type": "display_data",
          "data": {
            "text/plain": [
              "<Figure size 1000x500 with 1 Axes>"
            ],
            "image/png": "[encoded data removed]"
          },
          "metadata": {}
        }
      ],
      "source": [
        "K = list(range(2,11))\n",
        "# Plot sse against k\n",
        "plt.figure(figsize=(10, 5))\n",
        "plt.plot(K, sse, '-o')\n",
        "plt.xlabel(r'Number of clusters *k*')\n",
        "plt.ylabel('Sum of squared error');\n",
        "\n",
        "# Plot silhouette against k\n",
        "plt.figure(figsize=(10, 5))\n",
        "plt.plot(K, silhouette_scores, '-o')\n",
        "plt.xlabel(r'Number of clusters *k*')\n",
        "plt.ylabel('Silhouette');"
      ]
    },
    {
      "cell_type": "markdown",
      "metadata": {
        "id": "dnb_FG2F2qoq"
      },
      "source": [
        "### **K-Means**"
      ]
    },
    {
      "cell_type": "code",
      "execution_count": null,
      "metadata": {
        "id": "TY3Zc6tS2qor"
      },
      "outputs": [],
      "source": [
        "kmeans4 = KMeans(n_cluster=4)\n",
        "kmeans4.fit(cluster4)"
      ]
    },
    {
      "cell_type": "markdown",
      "metadata": {
        "id": "s5xf32PE2qor"
      },
      "source": [
        "####Jarak Terdekat Centroid\n"
      ]
    },
    {
      "cell_type": "code",
      "execution_count": null,
      "metadata": {
        "colab": {
          "base_uri": "https://localhost:8080/"
        },
        "id": "F1EaJ-1i2qor",
        "outputId": "5f30bbb9-59bd-4cfa-8efd-94bd3e95c3c3"
      },
      "outputs": [
        {
          "output_type": "stream",
          "name": "stdout",
          "text": [
            "Jarak setiap data pada iterasi pertama:\n",
            "Data 0 : [1.22903836 0.35484575 0.69514132 0.0233497 ]\n",
            "Data 1 : [1.59256555 0.01916423 1.0613874  0.35255451]\n",
            "Data 2 : [1.31835523 0.33630372 0.81666974 0.25575045]\n",
            "Data 3 : [1.60049933 0.02436688 1.07004472 0.36164549]\n",
            "Data 4 : [0.12796399 1.44984562 0.41235673 1.11607747]\n",
            "Data 5 : [1.53216462 0.07036234 0.99853017 0.2889249 ]\n",
            "Data 6 : [1.58420168 0.01839285 1.05310963 0.34417376]\n",
            "Data 7 : [1.31447905 0.26512632 0.78363593 0.08804976]\n",
            "Data 8 : [1.60049933 0.02436688 1.07004472 0.36164549]\n",
            "Data 9 : [1.60049933 0.02436688 1.07004472 0.36164549]\n",
            "Data 10 : [0.34719213 1.25599242 0.21183373 0.91893473]\n",
            "Data 11 : [1.60469332 0.02767238 1.07419965 0.36587504]\n",
            "Data 12 : [1.59256555 0.01916423 1.0613874  0.35255451]\n",
            "Data 13 : [1.59256555 0.01916423 1.0613874  0.35255451]\n",
            "Data 14 : [1.60049933 0.02436688 1.07004472 0.36164549]\n",
            "Data 15 : [1.47237631 0.15251875 0.95293649 0.27674774]\n",
            "Data 16 : [1.4922974  0.11920748 0.95783452 0.2505477 ]\n",
            "Data 17 : [1.25287096 0.44175053 0.71950352 0.21707843]\n",
            "Data 18 : [0.12796399 1.70442572 0.66734415 1.37148676]\n",
            "Data 19 : [1.60049933 0.02436688 1.07004472 0.36164549]\n",
            "Data 20 : [1.49803965 0.1507928  0.98055639 0.30725974]\n",
            "Data 21 : [0.61085488 0.97706328 0.07678014 0.63949644]\n",
            "Data 22 : [1.15205568 0.4564905  0.61273473 0.13379607]\n",
            "Data 23 : [1.59256555 0.01916423 1.0613874  0.35255451]\n",
            "Data 24 : [0.67138727 0.90866886 0.140439   0.57296412]\n",
            "Data 25 : [1.59256555 0.01916423 1.0613874  0.35255451]\n",
            "Data 26 : [1.59256555 0.01916423 1.0613874  0.35255451]\n",
            "Data 27 : [1.51123139 0.15041408 0.99377477 0.32095122]\n",
            "Data 28 : [1.60049933 0.02436688 1.07004472 0.36164549]\n",
            "Data 29 : [1.60049933 0.02436688 1.07004472 0.36164549]\n",
            "Data 30 : [1.57630492 0.0220709  1.0444916  0.33516877]\n",
            "Data 31 : [1.58837259 0.01732837 1.05723178 0.34831397]\n",
            "Data 32 : [1.56848804 0.03180027 1.03598302 0.32649034]\n",
            "Data 33 : [1.59256555 0.01916423 1.0613874  0.35255451]\n",
            "Data 34 : [1.59256555 0.01916423 1.0613874  0.35255451]\n",
            "Data 35 : [1.59256555 0.01916423 1.0613874  0.35255451]\n",
            "Data 36 : [1.59678038 0.02322247 1.06557609 0.35689182]\n",
            "Data 37 : [1.59256555 0.01916423 1.0613874  0.35255451]\n",
            "Data 38 : [1.60049933 0.02436688 1.07004472 0.36164549]\n"
          ]
        }
      ],
      "source": [
        "data = cluster4.copy()\n",
        "\n",
        "# Set the number of clusters\n",
        "num_clusters = 4\n",
        "\n",
        "# Initialize KMeans object\n",
        "Kmeans = Kmeans1(n_clusters=num_clusters)\n",
        "\n",
        "# Perform the initial fit to get the initial centroids\n",
        "Kmeans.fit(data)\n",
        "initial_centroids = Kmeans.cluster_centers_\n",
        "\n",
        "# Initialize an empty array to store the distances\n",
        "distances = np.zeros((len(data), num_clusters))\n",
        "\n",
        "# Calculate the distance between each data point and each centroid\n",
        "for i in range(len(data)):\n",
        "    for j in range(num_clusters):\n",
        "        distances[:, j] = np.linalg.norm(data - initial_centroids[j], axis=1)\n",
        "\n",
        "    labels = np.argmin(distances, axis=1)\n",
        "\n",
        "    for j in range(num_clusters):\n",
        "        initial_centroids[j] = np.mean(data[labels == j], axis=0)\n",
        "\n",
        "# Display the distances for each data point\n",
        "print(\"Jarak setiap data pada iterasi pertama:\")\n",
        "for i in range(len(data)):\n",
        "    print(\"Data\", i, \":\", distances[i,:])"
      ]
    },
    {
      "cell_type": "code",
      "execution_count": null,
      "metadata": {
        "colab": {
          "base_uri": "https://localhost:8080/"
        },
        "id": "5lAyuBMjhZWE",
        "outputId": "dae58f0d-7b99-4c37-b945-61eeeefa9855"
      },
      "outputs": [
        {
          "output_type": "execute_result",
          "data": {
            "text/plain": [
              "array([[0.93115942, 0.91666667, 0.93150685],\n",
              "       [0.01549225, 0.01724138, 0.01511573],\n",
              "       [0.61835749, 0.55555556, 0.6803653 ],\n",
              "       [0.21594203, 0.16666667, 0.24383562]])"
            ]
          },
          "metadata": {},
          "execution_count": 197
        }
      ],
      "source": [
        "Kmeans.cluster_centers_"
      ]
    },
    {
      "cell_type": "code",
      "execution_count": null,
      "metadata": {
        "colab": {
          "base_uri": "https://localhost:8080/"
        },
        "id": "N8uWAdu92qos",
        "outputId": "99b162ec-2e1e-4286-8930-d05a48e10595"
      },
      "outputs": [
        {
          "output_type": "stream",
          "name": "stdout",
          "text": [
            "Iteration 2\n",
            "[[0.21594203 0.16666667 0.24383562]\n",
            " [0.01549225 0.01724138 0.01511573]\n",
            " [0.61835749 0.55555556 0.6803653 ]\n",
            " [0.93115942 0.91666667 0.93150685]]\n",
            "\n",
            "\n",
            "Iteration 3\n",
            "[[0.21594203 0.16666667 0.24383562]\n",
            " [0.61835749 0.55555556 0.6803653 ]\n",
            " [0.01549225 0.01724138 0.01511573]\n",
            " [0.93115942 0.91666667 0.93150685]]\n",
            "\n",
            "\n",
            "Iteration 4\n",
            "[[0.61835749 0.55555556 0.6803653 ]\n",
            " [0.01549225 0.01724138 0.01511573]\n",
            " [0.21594203 0.16666667 0.24383562]\n",
            " [0.93115942 0.91666667 0.93150685]]\n",
            "\n",
            "\n",
            "Iteration 5\n",
            "[[0.61835749 0.55555556 0.6803653 ]\n",
            " [0.01549225 0.01724138 0.01511573]\n",
            " [0.93115942 0.91666667 0.93150685]\n",
            " [0.21594203 0.16666667 0.24383562]]\n",
            "\n",
            "\n"
          ]
        }
      ],
      "source": [
        "for i in range(1,5):\n",
        "    # Fit the model and get the cluster centroids\n",
        "    Kmeans.fit(cluster4)\n",
        "    centroids = Kmeans.cluster_centers_\n",
        "    \n",
        "    # Print the centroids\n",
        "    print(\"Iteration\", i+1)\n",
        "    print(centroids, \"\\n\", sep=\"\\n\")"
      ]
    },
    {
      "cell_type": "markdown",
      "metadata": {
        "id": "Io5GlOKO2qos"
      },
      "source": [
        "####SSE and Silhoute"
      ]
    },
    {
      "cell_type": "code",
      "execution_count": null,
      "metadata": {
        "colab": {
          "base_uri": "https://localhost:8080/"
        },
        "id": "1spVeaDW2qos",
        "outputId": "b285661f-b7c4-4c2f-c878-9cf1ab0b84f8"
      },
      "outputs": [
        {
          "output_type": "stream",
          "name": "stdout",
          "text": [
            "Silhouette: 0.7412668949649509\n",
            "SSE: 0.5640964895690705\n"
          ]
        }
      ],
      "source": [
        "predicted_kmeans4 = kmeans4.predict(cluster4)\n",
        "print('Silhouette:', silhouette_score(cluster4, predicted_kmeans4))\n",
        "print('SSE:', kmeans4.SSE)"
      ]
    },
    {
      "cell_type": "code",
      "execution_count": null,
      "metadata": {
        "colab": {
          "base_uri": "https://localhost:8080/"
        },
        "id": "cACCPxOq2qos",
        "outputId": "7df419c8-ee34-408a-cdba-82c93c858d1c"
      },
      "outputs": [
        {
          "output_type": "execute_result",
          "data": {
            "text/plain": [
              "2    26\n",
              "1     5\n",
              "3     4\n",
              "0     4\n",
              "Name: cluster, dtype: int64"
            ]
          },
          "metadata": {},
          "execution_count": 200
        }
      ],
      "source": [
        "frame4 = pd.DataFrame(cluster4)\n",
        "frame4['cluster'] = predicted_kmeans4\n",
        "frame4['cluster'].value_counts()"
      ]
    },
    {
      "cell_type": "code",
      "execution_count": null,
      "metadata": {
        "colab": {
          "base_uri": "https://localhost:8080/"
        },
        "id": "SJBGYfFF2qos",
        "outputId": "638d6cde-4636-4b6d-b4b1-1079d0ce0453"
      },
      "outputs": [
        {
          "output_type": "execute_result",
          "data": {
            "text/plain": [
              "array([3, 2, 0, 2, 1, 2, 2, 3, 2, 2, 1, 2, 2, 2, 2, 0, 2, 3, 1, 2, 0, 1,\n",
              "       3, 2, 1, 2, 2, 0, 2, 2, 2, 2, 2, 2, 2, 2, 2, 2, 2])"
            ]
          },
          "metadata": {},
          "execution_count": 201
        }
      ],
      "source": [
        "predicted_kmeans4"
      ]
    },
    {
      "cell_type": "markdown",
      "metadata": {
        "id": "-A9SAtV53W39"
      },
      "source": [
        "### **PSO K-Means**"
      ]
    },
    {
      "cell_type": "code",
      "execution_count": null,
      "metadata": {
        "id": "_XVFMw3z3W39"
      },
      "outputs": [],
      "source": [
        "pso4 = ParticleSwarmOptimizedClustering(n_cluster=4, \n",
        "                                       n_particles=10, \n",
        "                                       data=cluster4, \n",
        "                                       hybrid=True,\n",
        "                                       max_iter=2000, \n",
        "                                       print_debug=100)"
      ]
    },
    {
      "cell_type": "code",
      "execution_count": null,
      "metadata": {
        "colab": {
          "base_uri": "https://localhost:8080/"
        },
        "id": "zyzsADGm3W3-",
        "outputId": "38441c73-9b1f-4de0-98b8-2c2f77c68f4e"
      },
      "outputs": [
        {
          "output_type": "stream",
          "name": "stdout",
          "text": [
            "Initial global best score 0.36741651861840097\n",
            "Iteration 0001/2000 current gbest score 0.367416518618400967\n",
            "Iteration 0101/2000 current gbest score 0.289030114590469511\n",
            "Iteration 0201/2000 current gbest score 0.286118580105099662\n",
            "Iteration 0301/2000 current gbest score 0.286114982987358435\n",
            "Iteration 0401/2000 current gbest score 0.286114466654428634\n",
            "Iteration 0501/2000 current gbest score 0.286114368951489451\n",
            "Iteration 0601/2000 current gbest score 0.286114347892167664\n",
            "Iteration 0701/2000 current gbest score 0.286114345397071368\n",
            "Iteration 0801/2000 current gbest score 0.286114345175717932\n",
            "Iteration 0901/2000 current gbest score 0.286114345126913694\n",
            "Iteration 1001/2000 current gbest score 0.286114345113630486\n",
            "Iteration 1101/2000 current gbest score 0.286114345105899004\n",
            "Iteration 1201/2000 current gbest score 0.286114345104472090\n",
            "Iteration 1301/2000 current gbest score 0.286114345104039325\n",
            "Iteration 1401/2000 current gbest score 0.286114345103915368\n",
            "Iteration 1501/2000 current gbest score 0.286114345103844370\n",
            "Iteration 1601/2000 current gbest score 0.286114345103817003\n",
            "Iteration 1701/2000 current gbest score 0.286114345103806289\n",
            "Iteration 1801/2000 current gbest score 0.286114345103794465\n",
            "Iteration 1901/2000 current gbest score 0.286114345103785306\n",
            "Finish with gbest score 0.286114345103772760\n"
          ]
        }
      ],
      "source": [
        "hist4 = pso4.run()"
      ]
    },
    {
      "cell_type": "code",
      "execution_count": null,
      "metadata": {
        "id": "TiL9G63y3W3-"
      },
      "outputs": [],
      "source": [
        "pso_kmeans4 = KMeans(n_cluster=4)\n",
        "pso_kmeans4.centroid = pso4.gbest_centroids.copy()"
      ]
    },
    {
      "cell_type": "code",
      "execution_count": null,
      "metadata": {
        "colab": {
          "base_uri": "https://localhost:8080/"
        },
        "id": "9rOi8mJg3W3-",
        "outputId": "81b561a5-ddec-4658-90c1-8ce697c436fe"
      },
      "outputs": [
        {
          "output_type": "stream",
          "name": "stdout",
          "text": [
            "Silhouette: 0.7416692513509283\n",
            "SSE: 0.37473658885825223\n"
          ]
        }
      ],
      "source": [
        "predicted_pso4 = pso_kmeans4.predict(cluster4)\n",
        "print('Silhouette:', silhouette_score(cluster4, predicted_pso4))\n",
        "print('SSE:', calc_sse(centroids=pso4.gbest_centroids, \n",
        "                       data=cluster4, \n",
        "                       labels=predicted_pso4))"
      ]
    },
    {
      "cell_type": "code",
      "execution_count": null,
      "metadata": {
        "colab": {
          "base_uri": "https://localhost:8080/"
        },
        "id": "eSXfZXHW3W3-",
        "outputId": "75c65d9a-d4c9-476b-c7cc-ecebc7a9722c"
      },
      "outputs": [
        {
          "output_type": "execute_result",
          "data": {
            "text/plain": [
              "1    29\n",
              "0     5\n",
              "2     3\n",
              "3     2\n",
              "Name: cluster, dtype: int64"
            ]
          },
          "metadata": {},
          "execution_count": 206
        }
      ],
      "source": [
        "frame4 = pd.DataFrame(cluster4)\n",
        "frame4['cluster'] = predicted_pso4\n",
        "frame4['cluster'].value_counts()"
      ]
    },
    {
      "cell_type": "code",
      "execution_count": null,
      "metadata": {
        "colab": {
          "base_uri": "https://localhost:8080/"
        },
        "id": "QD77b3o73W3_",
        "outputId": "d4508ea0-09bd-44bc-f972-be45ec4ec43e"
      },
      "outputs": [
        {
          "output_type": "execute_result",
          "data": {
            "text/plain": [
              "array([0, 1, 0, 1, 2, 1, 1, 0, 1, 1, 2, 1, 1, 1, 1, 1, 1, 0, 2, 1, 1, 3,\n",
              "       0, 1, 3, 1, 1, 1, 1, 1, 1, 1, 1, 1, 1, 1, 1, 1, 1])"
            ]
          },
          "metadata": {},
          "execution_count": 207
        }
      ],
      "source": [
        "predicted_pso4"
      ]
    },
    {
      "cell_type": "markdown",
      "metadata": {
        "id": "-0Z_5KI435ab"
      },
      "source": [
        "###**Pattern Evaluation**"
      ]
    },
    {
      "cell_type": "code",
      "execution_count": null,
      "metadata": {
        "id": "zUIuigdviuf8"
      },
      "outputs": [],
      "source": [
        "#create new column for cluster labels associated with each subject\n",
        "data_cluster4['labels'] = predicted_pso4\n",
        "data_cluster4['Segment'] = data_cluster4['labels'].map({0: 'First', 1: 'Second', 2: 'Third', 3: 'Fourth'})"
      ]
    },
    {
      "cell_type": "code",
      "execution_count": null,
      "metadata": {
        "id": "XbDXnWOKie2f"
      },
      "outputs": [],
      "source": [
        "#Order the cluster\n",
        "data_cluster4['Segment'] = data_cluster4['Segment'].astype('category')\n",
        "data_cluster4['Segment'] = data_cluster4['Segment'].cat.reorder_categories(['First', 'Second', 'Third', 'Fourth'])"
      ]
    },
    {
      "cell_type": "code",
      "execution_count": null,
      "metadata": {
        "id": "dEHr6T3qi_nn"
      },
      "outputs": [],
      "source": [
        "# ==== CREATE DICTIONARY FOR OBJECT AND NUMERICAL COLUMNS ====#\n",
        "dict_cat = {}\n",
        "dict_num = {}\n",
        "for cat in data_cluster4.select_dtypes('object'):\n",
        " dict_cat[cat] = lambda x: x.value_counts().index[0]\n",
        "for num in data_cluster4.select_dtypes(['int64', 'float64']):\n",
        "  if (num == 'Total'):\n",
        "    continue\n",
        "  dict_num[num] = ['mean']\n",
        "# ============ CREATE TABLE FOR EACH CLUSTER ============#\n",
        "data_cluster4.rename(columns={'labels': 'Total'}, inplace=True)\n",
        "data_percluster4 = data_cluster4.groupby('Segment').agg({\n",
        " 'Total': 'count',\n",
        " **dict_num,\n",
        " **dict_cat\n",
        "}).T"
      ]
    },
    {
      "cell_type": "code",
      "execution_count": null,
      "metadata": {
        "id": "inDGK_RvInLe"
      },
      "outputs": [],
      "source": [
        "data_cluster4['coord'] = coord4"
      ]
    },
    {
      "cell_type": "code",
      "execution_count": null,
      "metadata": {
        "id": "55Ax1T9MjTHH"
      },
      "outputs": [],
      "source": [
        "data_cluster4 = data_cluster4.T\n",
        "data_percluster4.to_json(r'cluster4_result.json')\n",
        "data_cluster4.to_json(r'cluster4_df.json')"
      ]
    },
    {
      "cell_type": "markdown",
      "metadata": {
        "id": "KYK4o893Vpmt"
      },
      "source": [
        "##**Perbandingan Nilai DBI**"
      ]
    },
    {
      "cell_type": "code",
      "execution_count": null,
      "metadata": {
        "colab": {
          "base_uri": "https://localhost:8080/"
        },
        "id": "_1Pafl-WVozj",
        "outputId": "a3e79410-91b2-4d75-c8b6-f5af68df419d"
      },
      "outputs": [
        {
          "output_type": "stream",
          "name": "stdout",
          "text": [
            "DBI kmeans: 0.503481400306679\n",
            "DBI kmeans with PSO: 0.4694611682632531\n"
          ]
        }
      ],
      "source": [
        "db_index7 = davies_bouldin_score(cluster4, predicted_kmeans4)\n",
        "print(\"DBI kmeans:\", db_index7)\n",
        "\n",
        "db_index8 = davies_bouldin_score(cluster4, predicted_pso4)\n",
        "print(\"DBI kmeans with PSO:\", db_index8)"
      ]
    },
    {
      "cell_type": "markdown",
      "metadata": {
        "id": "lxm_sO5pyoQP"
      },
      "source": [
        "#**CLUSTER 5**"
      ]
    },
    {
      "cell_type": "code",
      "execution_count": null,
      "metadata": {
        "id": "RchsIMjJym7Y"
      },
      "outputs": [],
      "source": [
        "data_cluster5 = merge_data[['Nafsu Makan Kurang',\n",
        "                            'Sering Jajan Diluar',\n",
        "                            'Sering Pakai Jamban/Toilet']] \n",
        "\n",
        "# Standardize data\n",
        "scaler = MinMaxScaler()\n",
        "Num_features = data_cluster5.select_dtypes(include=['int64', 'float64']).columns\n",
        "scaler.fit(data_cluster5[Num_features])\n",
        "cluster5 = scaler.transform(data_cluster5[Num_features])"
      ]
    },
    {
      "cell_type": "markdown",
      "metadata": {
        "id": "QbU3tA4s5h53"
      },
      "source": [
        "###Elbow Method"
      ]
    },
    {
      "cell_type": "code",
      "execution_count": null,
      "metadata": {
        "colab": {
          "base_uri": "https://localhost:8080/"
        },
        "id": "osTbFHJu5h54",
        "outputId": "529890b1-b08d-49e8-d024-c53f93203e5d"
      },
      "outputs": [
        {
          "output_type": "stream",
          "name": "stdout",
          "text": [
            "    K       sse  silhouette\n",
            "0   2  1.056586    0.861212\n",
            "1   3  0.522329    0.793298\n",
            "2   4  0.209714    0.789620\n",
            "3   5  0.120669    0.793350\n",
            "4   6  0.059387    0.778083\n",
            "5   7  0.036406    0.760120\n",
            "6   8  0.024433    0.738794\n",
            "7   9  0.017342    0.598175\n",
            "8  10  0.010354    0.595479\n"
          ]
        }
      ],
      "source": [
        "sse = []\n",
        "silhouette_scores = []\n",
        "\n",
        "for n_clusters in range(2, 11):\n",
        "    kmeans = Kmeans1(n_clusters=n_clusters, random_state=42)\n",
        "    labels = kmeans.fit_predict(cluster5)\n",
        "    sse.append(kmeans.inertia_)\n",
        "    silhouette_avg = silhouette_score(cluster5, labels)\n",
        "    silhouette_scores.append(silhouette_avg)\n",
        "\n",
        "table_elbow = {\n",
        "    'K': range(2, 11),\n",
        "    'sse': sse,\n",
        "    'silhouette': silhouette_scores\n",
        "}\n",
        "df = pd.DataFrame(table_elbow)\n",
        "print(df)"
      ]
    },
    {
      "cell_type": "code",
      "execution_count": null,
      "metadata": {
        "colab": {
          "base_uri": "https://localhost:8080/"
        },
        "id": "jYUE5Au05h55",
        "outputId": "512ed476-60f9-42af-ebc9-8df56f3f75cc"
      },
      "outputs": [
        {
          "output_type": "display_data",
          "data": {
            "text/plain": [
              "<Figure size 1000x500 with 1 Axes>"
            ],
            "image/png": "[encoded data removed]"
          },
          "metadata": {}
        },
        {
          "output_type": "display_data",
          "data": {
            "text/plain": [
              "<Figure size 1000x500 with 1 Axes>"
            ],
            "image/png": "[encoded data removed]"
          },
          "metadata": {}
        }
      ],
      "source": [
        "K = list(range(2,11))\n",
        "# Plot sse against k\n",
        "plt.figure(figsize=(10, 5))\n",
        "plt.plot(K, sse, '-o')\n",
        "plt.xlabel(r'Number of clusters *k*')\n",
        "plt.ylabel('Sum of squared error');\n",
        "\n",
        "# Plot silhouette against k\n",
        "plt.figure(figsize=(10, 5))\n",
        "plt.plot(K, silhouette_scores, '-o')\n",
        "plt.xlabel(r'Number of clusters *k*')\n",
        "plt.ylabel('Silhouette');"
      ]
    },
    {
      "cell_type": "markdown",
      "metadata": {
        "id": "SX5Q7epq5k-6"
      },
      "source": [
        "### **K-Means**"
      ]
    },
    {
      "cell_type": "code",
      "execution_count": null,
      "metadata": {
        "id": "cz8XOanm5k-7"
      },
      "outputs": [],
      "source": [
        "kmeans5 = KMeans(n_cluster=3)\n",
        "kmeans5.fit(cluster5)"
      ]
    },
    {
      "cell_type": "markdown",
      "metadata": {
        "id": "yu31MVYQ5k-9"
      },
      "source": [
        "####Jarak Terdekat Centroid\n"
      ]
    },
    {
      "cell_type": "code",
      "execution_count": null,
      "metadata": {
        "colab": {
          "base_uri": "https://localhost:8080/"
        },
        "id": "HI03_E-35k-9",
        "outputId": "0bdfd3b2-fba7-45ab-b23a-54351fa5f2ee"
      },
      "outputs": [
        {
          "output_type": "stream",
          "name": "stdout",
          "text": [
            "Jarak setiap data pada iterasi pertama:\n",
            "Data 0 : [0.35314072 0.91642393 0.03986418]\n",
            "Data 1 : [0.02243583 1.28994947 0.41043445]\n",
            "Data 2 : [0.18193824 1.08872389 0.21085601]\n",
            "Data 3 : [0.02243583 1.28994947 0.41043445]\n",
            "Data 4 : [1.444379   0.18875558 1.05566742]\n",
            "Data 5 : [0.0672123  1.20351661 0.32437073]\n",
            "Data 6 : [0.01203994 1.2760956  0.3964883 ]\n",
            "Data 7 : [0.23284375 1.03774798 0.16094916]\n",
            "Data 8 : [0.02305358 1.29081043 0.41111297]\n",
            "Data 9 : [0.02305358 1.29081043 0.41111297]\n",
            "Data 10 : [1.23502318 0.04133481 0.8459786 ]\n",
            "Data 11 : [0.02305358 1.29081043 0.41111297]\n",
            "Data 12 : [0.02243583 1.28994947 0.41043445]\n",
            "Data 13 : [0.02305358 1.29081043 0.41111297]\n",
            "Data 14 : [0.02305358 1.29081043 0.41111297]\n",
            "Data 15 : [0.02494591 1.24495231 0.3653867 ]\n",
            "Data 16 : [0.14694229 1.12214795 0.24285195]\n",
            "Data 17 : [0.5156941  0.7538965  0.12777399]\n",
            "Data 18 : [1.70481718 0.4368615  1.31596084]\n",
            "Data 19 : [0.01635226 1.28475534 0.40515111]\n",
            "Data 20 : [0.00984764 1.25966901 0.38000857]\n",
            "Data 21 : [1.02896654 0.24020404 0.64005774]\n",
            "Data 22 : [0.4577364  0.81196593 0.07125052]\n",
            "Data 23 : [0.02305358 1.29081043 0.41111297]\n",
            "Data 24 : [0.93557222 0.34347459 0.549272  ]\n",
            "Data 25 : [0.02305358 1.29081043 0.41111297]\n",
            "Data 26 : [0.01635226 1.28475534 0.40515111]\n",
            "Data 27 : [0.01635226 1.28475534 0.40515111]\n",
            "Data 28 : [0.02305358 1.29081043 0.41111297]\n",
            "Data 29 : [0.01635226 1.28475534 0.40515111]\n",
            "Data 30 : [0.00501588 1.26484449 0.38523725]\n",
            "Data 31 : [0.01219779 1.28041038 0.40077151]\n",
            "Data 32 : [0.00984764 1.25966901 0.38000857]\n",
            "Data 33 : [0.01635226 1.28475534 0.40515111]\n",
            "Data 34 : [0.01635226 1.28475534 0.40515111]\n",
            "Data 35 : [0.02305358 1.29081043 0.41111297]\n",
            "Data 36 : [0.01635226 1.28475534 0.40515111]\n",
            "Data 37 : [0.02305358 1.29081043 0.41111297]\n",
            "Data 38 : [0.02305358 1.29081043 0.41111297]\n"
          ]
        }
      ],
      "source": [
        "data = cluster5.copy()\n",
        "\n",
        "# Set the number of clusters\n",
        "num_clusters = 3\n",
        "\n",
        "# Initialize KMeans object\n",
        "Kmeans = Kmeans1(n_clusters=num_clusters)\n",
        "\n",
        "# Perform the initial fit to get the initial centroids\n",
        "Kmeans.fit(data)\n",
        "initial_centroids = Kmeans.cluster_centers_\n",
        "\n",
        "# Initialize an empty array to store the distances\n",
        "distances = np.zeros((len(data), num_clusters))\n",
        "\n",
        "# Calculate the distance between each data point and each centroid\n",
        "for i in range(len(data)):\n",
        "    for j in range(num_clusters):\n",
        "        distances[:, j] = np.linalg.norm(data - initial_centroids[j], axis=1)\n",
        "\n",
        "    labels = np.argmin(distances, axis=1)\n",
        "\n",
        "    for j in range(num_clusters):\n",
        "        initial_centroids[j] = np.mean(data[labels == j], axis=0)\n",
        "\n",
        "# Display the distances for each data point\n",
        "print(\"Jarak setiap data pada iterasi pertama:\")\n",
        "for i in range(len(data)):\n",
        "    print(\"Data\", i, \":\", distances[i,:])"
      ]
    },
    {
      "cell_type": "code",
      "execution_count": null,
      "metadata": {
        "colab": {
          "base_uri": "https://localhost:8080/"
        },
        "id": "j8zsRKnu5k--",
        "outputId": "a698c115-571c-48a1-ceaa-c4c2bfb00725"
      },
      "outputs": [
        {
          "output_type": "stream",
          "name": "stdout",
          "text": [
            "Iteration 1\n",
            "[[0.01783626 0.0177305  0.01161616]\n",
            " [0.76666667 0.73829787 0.73939394]\n",
            " [0.25       0.23404255 0.23674242]]\n",
            "\n",
            "\n",
            "Iteration 2\n",
            "[[0.01783626 0.0177305  0.01161616]\n",
            " [0.76666667 0.73829787 0.73939394]\n",
            " [0.25       0.23404255 0.23674242]]\n",
            "\n",
            "\n",
            "Iteration 3\n",
            "[[0.01783626 0.0177305  0.01161616]\n",
            " [0.76666667 0.73829787 0.73939394]\n",
            " [0.25       0.23404255 0.23674242]]\n",
            "\n",
            "\n",
            "Iteration 4\n",
            "[[0.01783626 0.0177305  0.01161616]\n",
            " [0.76666667 0.73829787 0.73939394]\n",
            " [0.25       0.23404255 0.23674242]]\n",
            "\n",
            "\n",
            "Iteration 5\n",
            "[[0.01783626 0.0177305  0.01161616]\n",
            " [0.76666667 0.73829787 0.73939394]\n",
            " [0.25       0.23404255 0.23674242]]\n",
            "\n",
            "\n"
          ]
        }
      ],
      "source": [
        "for i in range(5):\n",
        "    # Fit the model and get the cluster centroids\n",
        "    Kmeans.fit(cluster5)\n",
        "    centroids = Kmeans.cluster_centers_\n",
        "    \n",
        "    # Print the centroids\n",
        "    print(\"Iteration\", i+1)\n",
        "    print(centroids, \"\\n\", sep=\"\\n\")"
      ]
    },
    {
      "cell_type": "markdown",
      "metadata": {
        "id": "VIe_Lhy65k-_"
      },
      "source": [
        "####SSE and Silhoute"
      ]
    },
    {
      "cell_type": "code",
      "execution_count": null,
      "metadata": {
        "colab": {
          "base_uri": "https://localhost:8080/"
        },
        "id": "6lska8H25k-_",
        "outputId": "e8b7fb1e-0f04-49f9-efcd-236dbc9be733"
      },
      "outputs": [
        {
          "output_type": "stream",
          "name": "stdout",
          "text": [
            "Silhouette: 0.7932049113399259\n",
            "SSE: 0.4332845230992879\n"
          ]
        }
      ],
      "source": [
        "predicted_kmeans5 = kmeans5.predict(cluster5)\n",
        "print('Silhouette:', silhouette_score(cluster5, predicted_kmeans5))\n",
        "print('SSE:', kmeans5.SSE)"
      ]
    },
    {
      "cell_type": "code",
      "execution_count": null,
      "metadata": {
        "colab": {
          "base_uri": "https://localhost:8080/"
        },
        "id": "DZB4LkIY5k_A",
        "outputId": "bd940885-b035-44e3-b673-953f8557a18b"
      },
      "outputs": [
        {
          "output_type": "execute_result",
          "data": {
            "text/plain": [
              "2    29\n",
              "0     5\n",
              "1     5\n",
              "Name: cluster, dtype: int64"
            ]
          },
          "metadata": {},
          "execution_count": 100
        }
      ],
      "source": [
        "frame5 = pd.DataFrame(cluster5)\n",
        "frame5['cluster'] = predicted_kmeans5\n",
        "frame5['cluster'].value_counts()"
      ]
    },
    {
      "cell_type": "code",
      "execution_count": null,
      "metadata": {
        "colab": {
          "base_uri": "https://localhost:8080/"
        },
        "id": "KaYvR1sM5k_A",
        "outputId": "32c99749-d02d-4be7-ed9b-624417366b2e"
      },
      "outputs": [
        {
          "output_type": "execute_result",
          "data": {
            "text/plain": [
              "array([0, 2, 0, 2, 1, 2, 2, 0, 2, 2, 1, 2, 2, 2, 2, 2, 2, 0, 1, 2, 2, 1,\n",
              "       0, 2, 1, 2, 2, 2, 2, 2, 2, 2, 2, 2, 2, 2, 2, 2, 2])"
            ]
          },
          "metadata": {},
          "execution_count": 101
        }
      ],
      "source": [
        "predicted_kmeans5"
      ]
    },
    {
      "cell_type": "markdown",
      "metadata": {
        "id": "WpGnww_r51Sk"
      },
      "source": [
        "### **PSO K-Means**"
      ]
    },
    {
      "cell_type": "code",
      "execution_count": null,
      "metadata": {
        "id": "v5JSROMt51Sl"
      },
      "outputs": [],
      "source": [
        "pso5 = ParticleSwarmOptimizedClustering(n_cluster=3, \n",
        "                                       n_particles=10, \n",
        "                                       data=cluster5, \n",
        "                                       hybrid=True,\n",
        "                                       max_iter=2000, \n",
        "                                       print_debug=200)"
      ]
    },
    {
      "cell_type": "code",
      "execution_count": null,
      "metadata": {
        "colab": {
          "base_uri": "https://localhost:8080/"
        },
        "id": "1t2QFroy51Sl",
        "outputId": "687a8ac6-03f6-428f-a04b-9ddf5b217afe"
      },
      "outputs": [
        {
          "output_type": "stream",
          "name": "stdout",
          "text": [
            "Initial global best score 0.3713642276406366\n",
            "Iteration 0001/2000 current gbest score 0.371364227640636591\n",
            "Iteration 0201/2000 current gbest score 0.361750116679776135\n",
            "Iteration 0401/2000 current gbest score 0.361721091768783143\n",
            "Iteration 0601/2000 current gbest score 0.361721071692509888\n",
            "Iteration 0801/2000 current gbest score 0.361721071639951541\n",
            "Iteration 1001/2000 current gbest score 0.361721066495341415\n",
            "Iteration 1201/2000 current gbest score 0.361721065103664197\n",
            "Iteration 1401/2000 current gbest score 0.361721064914946933\n",
            "Iteration 1601/2000 current gbest score 0.361721064908536505\n",
            "Iteration 1801/2000 current gbest score 0.361721064907074286\n",
            "Finish with gbest score 0.361721064906791179\n"
          ]
        }
      ],
      "source": [
        "hist5 = pso5.run()"
      ]
    },
    {
      "cell_type": "code",
      "execution_count": null,
      "metadata": {
        "id": "xoxKUdnt51Sl"
      },
      "outputs": [],
      "source": [
        "pso_kmeans5 = KMeans(n_cluster=3)\n",
        "pso_kmeans5.centroid = pso5.gbest_centroids.copy()"
      ]
    },
    {
      "cell_type": "code",
      "execution_count": null,
      "metadata": {
        "colab": {
          "base_uri": "https://localhost:8080/"
        },
        "id": "VPGC0iet51Sl",
        "outputId": "929368b9-b1c3-4c18-c024-ec21a8a4363f"
      },
      "outputs": [
        {
          "output_type": "stream",
          "name": "stdout",
          "text": [
            "Silhouette: 0.7931353732920494\n",
            "SSE: 0.5336950834657452\n"
          ]
        }
      ],
      "source": [
        "predicted_pso5 = pso_kmeans5.predict(cluster5)\n",
        "print('Silhouette:', silhouette_score(cluster5, predicted_pso5))\n",
        "print('SSE:', calc_sse(centroids=pso5.gbest_centroids, \n",
        "                       data=cluster5, \n",
        "                       labels=predicted_pso5))"
      ]
    },
    {
      "cell_type": "code",
      "execution_count": null,
      "metadata": {
        "colab": {
          "base_uri": "https://localhost:8080/"
        },
        "id": "aVIg6BGP51Sm",
        "outputId": "210fd28a-d9bd-4889-c1f6-8db22e744ca7"
      },
      "outputs": [
        {
          "output_type": "execute_result",
          "data": {
            "text/plain": [
              "1    28\n",
              "2     6\n",
              "0     5\n",
              "Name: cluster, dtype: int64"
            ]
          },
          "metadata": {},
          "execution_count": 126
        }
      ],
      "source": [
        "frame5 = pd.DataFrame(cluster5)\n",
        "frame5['cluster'] = predicted_pso5\n",
        "frame5['cluster'].value_counts()"
      ]
    },
    {
      "cell_type": "code",
      "execution_count": null,
      "metadata": {
        "colab": {
          "base_uri": "https://localhost:8080/"
        },
        "id": "6115vSzh51Sm",
        "outputId": "1072f852-5214-45e8-eed0-5df698138e1d"
      },
      "outputs": [
        {
          "output_type": "execute_result",
          "data": {
            "text/plain": [
              "array([0, 2, 2, 2, 1, 2, 2, 2, 2, 2, 1, 2, 2, 2, 2, 2, 2, 0, 1, 2, 2, 1,\n",
              "       0, 2, 1, 2, 2, 2, 2, 2, 2, 2, 2, 2, 2, 2, 2, 2, 2])"
            ]
          },
          "metadata": {},
          "execution_count": 107
        }
      ],
      "source": [
        "predicted_pso5"
      ]
    },
    {
      "cell_type": "markdown",
      "metadata": {
        "id": "NHCo0kln2ame"
      },
      "source": [
        "###**Pattern Evaluation**"
      ]
    },
    {
      "cell_type": "code",
      "execution_count": null,
      "metadata": {
        "id": "HepZzp0Y5ISG"
      },
      "outputs": [],
      "source": [
        "#create new column for cluster labels associated with each subject\n",
        "data_cluster5['labels'] = predicted_pso5\n",
        "data_cluster5['Segment'] = data_cluster5['labels'].map({0: 'First', 1: 'Second', 2: 'Third'})"
      ]
    },
    {
      "cell_type": "code",
      "execution_count": null,
      "metadata": {
        "id": "kWvGnCCK5Sa_"
      },
      "outputs": [],
      "source": [
        "#Order the cluster\n",
        "data_cluster5['Segment'] = data_cluster5['Segment'].astype('category')\n",
        "data_cluster5['Segment'] = data_cluster5['Segment'].cat.reorder_categories(['First', 'Second', 'Third'])\n"
      ]
    },
    {
      "cell_type": "code",
      "execution_count": null,
      "metadata": {
        "id": "ILQmk2s15ZbM"
      },
      "outputs": [],
      "source": [
        "# ==== CREATE DICTIONARY FOR OBJECT AND NUMERICAL COLUMNS ====#\n",
        "dict_cat = {}\n",
        "dict_num = {}\n",
        "for cat in data_cluster5.select_dtypes('object'):\n",
        " dict_cat[cat] = lambda x: x.value_counts().index[0]\n",
        "for num in data_cluster5.select_dtypes(['int64', 'float64']):\n",
        "  if (num == 'Total'):\n",
        "    continue\n",
        "  dict_num[num] = ['mean']\n",
        "# ============ CREATE TABLE FOR EACH CLUSTER ============#\n",
        "data_cluster5.rename(columns={'labels': 'Total'}, inplace=True)\n",
        "data_percluster5 = data_cluster5.groupby('Segment').agg({\n",
        " 'Total': 'count',\n",
        " **dict_num,\n",
        " **dict_cat\n",
        "}).T"
      ]
    },
    {
      "cell_type": "code",
      "execution_count": null,
      "metadata": {
        "id": "kr4LjlSKJApm"
      },
      "outputs": [],
      "source": [
        "data_cluster5['coord'] = coord5"
      ]
    },
    {
      "cell_type": "code",
      "execution_count": null,
      "metadata": {
        "id": "lhHfhlOY5nn1"
      },
      "outputs": [],
      "source": [
        "data_cluster5 = data_cluster5.T\n",
        "data_percluster5.to_json(r'cluster5_result.json')\n",
        "data_cluster5.to_json(r'cluster5_df.json')"
      ]
    },
    {
      "cell_type": "markdown",
      "metadata": {
        "id": "-lb-fNqVhI84"
      },
      "source": [
        "##**Perbandingan Nilai DBI**"
      ]
    },
    {
      "cell_type": "code",
      "execution_count": null,
      "metadata": {
        "colab": {
          "base_uri": "https://localhost:8080/"
        },
        "id": "RPwCs7fJPZeW",
        "outputId": "47c4fdc5-de7d-49e4-8baa-d2d1dcbbfa43"
      },
      "outputs": [
        {
          "output_type": "stream",
          "name": "stdout",
          "text": [
            "DBI kmeans: 0.3985965997249397\n",
            "DBI kmeans with PSO: 0.33301278884485613\n"
          ]
        }
      ],
      "source": [
        "db_index9 = davies_bouldin_score(cluster5, predicted_kmeans5)\n",
        "print(\"DBI kmeans:\", db_index9)\n",
        "\n",
        "db_index10 = davies_bouldin_score(cluster5, predicted_pso5)\n",
        "print(\"DBI kmeans with PSO:\", db_index10)"
      ]
    }
  ],
  "metadata": {
    "colab": {
      "collapsed_sections": [
        "VL3tK-3DsM3e",
        "ot8Wz5HQsRuu",
        "HZW00V7ScBk_",
        "ATqHRC06Kk3-",
        "Pruo0VUyrBT8",
        "2b0jWew1I2kL",
        "dK37L-rWI2kM",
        "xw4ySd-jI2kN",
        "oMpVKQkUI2kP",
        "tAT8iMtRWH68",
        "UWKv03fzI8a_",
        "qo8zhLZKI8bA",
        "8uhRlI69I8bA",
        "beA3WltfI8bC",
        "t64jQILN2W3c",
        "dnb_FG2F2qoq",
        "s5xf32PE2qor",
        "-A9SAtV53W39",
        "-0Z_5KI435ab",
        "KYK4o893Vpmt",
        "WpGnww_r51Sk",
        "NHCo0kln2ame",
        "-lb-fNqVhI84"
      ],
      "provenance": []
    },
    "kernelspec": {
      "display_name": "Python 3 (ipykernel)",
      "language": "python",
      "name": "python3"
    }
  },
  "nbformat": 4,
  "nbformat_minor": 0
}