{
  "cells": [
    {
      "cell_type": "markdown",
      "metadata": {
        "id": "VL3tK-3DsM3e"
      },
      "source": [
        "##Import Library Package"
      ]
    },
    {
      "cell_type": "code",
      "execution_count": null,
      "metadata": {
        "id": "LOspBXedlNTH"
      },
      "outputs": [],
      "source": [
        "import pandas as pd\n",
        "import numpy as np\n",
        "import random as rd\n",
        "import matplotlib.pyplot as plt \n",
        "import seaborn as sns\n",
        "\n",
        "from sklearn.preprocessing import MinMaxScaler\n",
        "from sklearn.cluster import KMeans as Kmeans1\n",
        "from sklearn.metrics import silhouette_samples, silhouette_score\n",
        "from sklearn.metrics import davies_bouldin_score\n",
        "\n",
        "from sklearn.preprocessing import MultiLabelBinarizer\n",
        "from sklearn.linear_model import LinearRegression, Ridge, Lasso\n",
        "\n",
        "import geopy\n",
        "from geopy.geocoders import Nominatim\n",
        "from geopy.exc import GeocoderTimedOut\n",
        "from datetime import datetime\n",
        "from tqdm import tqdm_notebook\n",
        "\n",
        "from sklearn.metrics import davies_bouldin_score\n",
        "\n",
        "import warnings\n",
        "warnings.filterwarnings('ignore')\n"
      ]
    },
    {
      "cell_type": "markdown",
      "metadata": {
        "id": "ot8Wz5HQsRuu"
      },
      "source": [
        "##Read Dataset"
      ]
    },
    {
      "cell_type": "code",
      "execution_count": null,
      "metadata": {
        "colab": {
          "base_uri": "https://localhost:8080/"
        },
        "id": "awfRILqYl4VR",
        "outputId": "0afaba36-c4fa-43f1-b2f6-17e914530662"
      },
      "outputs": [
        {
          "output_type": "execute_result",
          "data": {
            "text/plain": [
              "   Umur  Berat Badan Jenis Kelamin               Alamat  \\\n",
              "0  60.0           42             L  Maccini Baji (Gowa)   \n",
              "1  29.0           39             L  Maccini Baji (Gowa)   \n",
              "2  18.0           56             P  Maccini Baji (Gowa)   \n",
              "3   9.0           45             L  Maccini Baji (Gowa)   \n",
              "4  28.0           42             L  Maccini Baji (Gowa)   \n",
              "\n",
              "  Gejala apa yang dirasakan?  \\\n",
              "0               batuk, demam   \n",
              "1               demam, diare   \n",
              "2               demam, diare   \n",
              "3               demam, diare   \n",
              "4                      demam   \n",
              "\n",
              "  Jika pasien mengalami demam, apakah demam yang dialami terus menerus sepanjang hari?  \\\n",
              "0                                      Demam Konstan                                     \n",
              "1                                      Demam Konstan                                     \n",
              "2                                      Demam Konstan                                     \n",
              "3                                      Demam Konstan                                     \n",
              "4                                      Demam Konstan                                     \n",
              "\n",
              "  Apakah pasien mual/muntah? Apakah pasien pernah mengalami mimisan?  \\\n",
              "0                     Muntah                           Tidak Mimisan   \n",
              "1                     Muntah                           Tidak Mimisan   \n",
              "2               Tidak Muntah                           Tidak Mimisan   \n",
              "3                     Muntah                           Tidak Mimisan   \n",
              "4                     Muntah                           Tidak Mimisan   \n",
              "\n",
              "   Berapa suhu badan pasien? Apakah sudah menerima imunisasi BCG?  ...  \\\n",
              "0                       37.8                     Sudah Vaksin BCG  ...   \n",
              "1                       38.7                     Sudah Vaksin BCG  ...   \n",
              "2                       39.0                     Sudah Vaksin BCG  ...   \n",
              "3                       38.0                     Sudah Vaksin BCG  ...   \n",
              "4                       38.2                     Sudah Vaksin BCG  ...   \n",
              "\n",
              "  Jika iya, karena apa? Apakah nafsu makan berkurang?  \\\n",
              "0                     -            Nafsu Makan Normal   \n",
              "1                     -            Nafsu Makan Normal   \n",
              "2                     -            Nafsu Makan Kurang   \n",
              "3                     -            Nafsu Makan Kurang   \n",
              "4                     -            Nafsu Makan Kurang   \n",
              "\n",
              "  Apakah sering jajan diluar rumah? Berapa luas rumah pasien?  \\\n",
              "0               Jarang Jajan Diluar               54 - 120 m2   \n",
              "1               Sering Jajan Diluar                36 - 54 m2   \n",
              "2               Sering Jajan Diluar                   > 36 m2   \n",
              "3               Jarang Jajan Diluar               54 - 120 m2   \n",
              "4               Sering Jajan Diluar                36 - 54 m2   \n",
              "\n",
              "  Berapa jumlah penghuni rumah pasien?  \\\n",
              "0                              7 orang   \n",
              "1                              3 orang   \n",
              "2                              2 orang   \n",
              "3                              6 orang   \n",
              "4                              3 orang   \n",
              "\n",
              "  Bagaimana kondisi pembuangan sampah disekitar rumah?  \\\n",
              "0                  Ada sampah dan jarang dibersihkan     \n",
              "1                            Bersih tanpa ada sampah     \n",
              "2        Ada lalat/nyamuk di sekitar tumpukan sampah     \n",
              "3                       Ada sampah tapi tidak banyak     \n",
              "4                  Ada sampah dan jarang dibersihkan     \n",
              "\n",
              "  Apakah tersedia air bersih di rumah?  \\\n",
              "0                  Tersedia air bersih   \n",
              "1                  Tersedia air bersih   \n",
              "2                  Tersedia air bersih   \n",
              "3                  Tersedia air bersih   \n",
              "4                  Tersedia air bersih   \n",
              "\n",
              "  Bagaimana sistem ventilasi di rumah pasien?  \\\n",
              "0           Ada ventilasi tapi jarang terbuka   \n",
              "1            Ada ventilasi tapi hanya sedikit   \n",
              "2               Ada ventilasi disemua ruangan   \n",
              "3            Ada ventilasi tapi hanya sedikit   \n",
              "4           Ada ventilasi tapi jarang terbuka   \n",
              "\n",
              "  Apakah sering menggunakan jamban/toilet?  \\\n",
              "0               Sering Pakai Jamban/Toilet   \n",
              "1               Sering Pakai Jamban/Toilet   \n",
              "2               Sering Pakai Jamban/Toilet   \n",
              "3               Jarang pakai jamban/toilet   \n",
              "4               Sering Pakai Jamban/Toilet   \n",
              "\n",
              "  Apa diagnosa/hasil tes darah pasien?  \n",
              "0                                  tbc  \n",
              "1                                  tbc  \n",
              "2                                  dbd  \n",
              "3                               tifoid  \n",
              "4                                  tbc  \n",
              "\n",
              "[5 rows x 21 columns]"
            ],
            "text/html": [
              "\n",
              "  <div id=\"df-8ab2a421-9148-429c-8be5-43eff919a5f3\">\n",
              "    <div class=\"colab-df-container\">\n",
              "      <div>\n",
              "<style scoped>\n",
              "    .dataframe tbody tr th:only-of-type {\n",
              "        vertical-align: middle;\n",
              "    }\n",
              "\n",
              "    .dataframe tbody tr th {\n",
              "        vertical-align: top;\n",
              "    }\n",
              "\n",
              "    .dataframe thead th {\n",
              "        text-align: right;\n",
              "    }\n",
              "</style>\n",
              "<table border=\"1\" class=\"dataframe\">\n",
              "  <thead>\n",
              "    <tr style=\"text-align: right;\">\n",
              "      <th></th>\n",
              "      <th>Umur</th>\n",
              "      <th>Berat Badan</th>\n",
              "      <th>Jenis Kelamin</th>\n",
              "      <th>Alamat</th>\n",
              "      <th>Gejala apa yang dirasakan?</th>\n",
              "      <th>Jika pasien mengalami demam, apakah demam yang dialami terus menerus sepanjang hari?</th>\n",
              "      <th>Apakah pasien mual/muntah?</th>\n",
              "      <th>Apakah pasien pernah mengalami mimisan?</th>\n",
              "      <th>Berapa suhu badan pasien?</th>\n",
              "      <th>Apakah sudah menerima imunisasi BCG?</th>\n",
              "      <th>...</th>\n",
              "      <th>Jika iya, karena apa?</th>\n",
              "      <th>Apakah nafsu makan berkurang?</th>\n",
              "      <th>Apakah sering jajan diluar rumah?</th>\n",
              "      <th>Berapa luas rumah pasien?</th>\n",
              "      <th>Berapa jumlah penghuni rumah pasien?</th>\n",
              "      <th>Bagaimana kondisi pembuangan sampah disekitar rumah?</th>\n",
              "      <th>Apakah tersedia air bersih di rumah?</th>\n",
              "      <th>Bagaimana sistem ventilasi di rumah pasien?</th>\n",
              "      <th>Apakah sering menggunakan jamban/toilet?</th>\n",
              "      <th>Apa diagnosa/hasil tes darah pasien?</th>\n",
              "    </tr>\n",
              "  </thead>\n",
              "  <tbody>\n",
              "    <tr>\n",
              "      <th>0</th>\n",
              "      <td>60.0</td>\n",
              "      <td>42</td>\n",
              "      <td>L</td>\n",
              "      <td>Maccini Baji (Gowa)</td>\n",
              "      <td>batuk, demam</td>\n",
              "      <td>Demam Konstan</td>\n",
              "      <td>Muntah</td>\n",
              "      <td>Tidak Mimisan</td>\n",
              "      <td>37.8</td>\n",
              "      <td>Sudah Vaksin BCG</td>\n",
              "      <td>...</td>\n",
              "      <td>-</td>\n",
              "      <td>Nafsu Makan Normal</td>\n",
              "      <td>Jarang Jajan Diluar</td>\n",
              "      <td>54 - 120 m2</td>\n",
              "      <td>7 orang</td>\n",
              "      <td>Ada sampah dan jarang dibersihkan</td>\n",
              "      <td>Tersedia air bersih</td>\n",
              "      <td>Ada ventilasi tapi jarang terbuka</td>\n",
              "      <td>Sering Pakai Jamban/Toilet</td>\n",
              "      <td>tbc</td>\n",
              "    </tr>\n",
              "    <tr>\n",
              "      <th>1</th>\n",
              "      <td>29.0</td>\n",
              "      <td>39</td>\n",
              "      <td>L</td>\n",
              "      <td>Maccini Baji (Gowa)</td>\n",
              "      <td>demam, diare</td>\n",
              "      <td>Demam Konstan</td>\n",
              "      <td>Muntah</td>\n",
              "      <td>Tidak Mimisan</td>\n",
              "      <td>38.7</td>\n",
              "      <td>Sudah Vaksin BCG</td>\n",
              "      <td>...</td>\n",
              "      <td>-</td>\n",
              "      <td>Nafsu Makan Normal</td>\n",
              "      <td>Sering Jajan Diluar</td>\n",
              "      <td>36 - 54 m2</td>\n",
              "      <td>3 orang</td>\n",
              "      <td>Bersih tanpa ada sampah</td>\n",
              "      <td>Tersedia air bersih</td>\n",
              "      <td>Ada ventilasi tapi hanya sedikit</td>\n",
              "      <td>Sering Pakai Jamban/Toilet</td>\n",
              "      <td>tbc</td>\n",
              "    </tr>\n",
              "    <tr>\n",
              "      <th>2</th>\n",
              "      <td>18.0</td>\n",
              "      <td>56</td>\n",
              "      <td>P</td>\n",
              "      <td>Maccini Baji (Gowa)</td>\n",
              "      <td>demam, diare</td>\n",
              "      <td>Demam Konstan</td>\n",
              "      <td>Tidak Muntah</td>\n",
              "      <td>Tidak Mimisan</td>\n",
              "      <td>39.0</td>\n",
              "      <td>Sudah Vaksin BCG</td>\n",
              "      <td>...</td>\n",
              "      <td>-</td>\n",
              "      <td>Nafsu Makan Kurang</td>\n",
              "      <td>Sering Jajan Diluar</td>\n",
              "      <td>&gt; 36 m2</td>\n",
              "      <td>2 orang</td>\n",
              "      <td>Ada lalat/nyamuk di sekitar tumpukan sampah</td>\n",
              "      <td>Tersedia air bersih</td>\n",
              "      <td>Ada ventilasi disemua ruangan</td>\n",
              "      <td>Sering Pakai Jamban/Toilet</td>\n",
              "      <td>dbd</td>\n",
              "    </tr>\n",
              "    <tr>\n",
              "      <th>3</th>\n",
              "      <td>9.0</td>\n",
              "      <td>45</td>\n",
              "      <td>L</td>\n",
              "      <td>Maccini Baji (Gowa)</td>\n",
              "      <td>demam, diare</td>\n",
              "      <td>Demam Konstan</td>\n",
              "      <td>Muntah</td>\n",
              "      <td>Tidak Mimisan</td>\n",
              "      <td>38.0</td>\n",
              "      <td>Sudah Vaksin BCG</td>\n",
              "      <td>...</td>\n",
              "      <td>-</td>\n",
              "      <td>Nafsu Makan Kurang</td>\n",
              "      <td>Jarang Jajan Diluar</td>\n",
              "      <td>54 - 120 m2</td>\n",
              "      <td>6 orang</td>\n",
              "      <td>Ada sampah tapi tidak banyak</td>\n",
              "      <td>Tersedia air bersih</td>\n",
              "      <td>Ada ventilasi tapi hanya sedikit</td>\n",
              "      <td>Jarang pakai jamban/toilet</td>\n",
              "      <td>tifoid</td>\n",
              "    </tr>\n",
              "    <tr>\n",
              "      <th>4</th>\n",
              "      <td>28.0</td>\n",
              "      <td>42</td>\n",
              "      <td>L</td>\n",
              "      <td>Maccini Baji (Gowa)</td>\n",
              "      <td>demam</td>\n",
              "      <td>Demam Konstan</td>\n",
              "      <td>Muntah</td>\n",
              "      <td>Tidak Mimisan</td>\n",
              "      <td>38.2</td>\n",
              "      <td>Sudah Vaksin BCG</td>\n",
              "      <td>...</td>\n",
              "      <td>-</td>\n",
              "      <td>Nafsu Makan Kurang</td>\n",
              "      <td>Sering Jajan Diluar</td>\n",
              "      <td>36 - 54 m2</td>\n",
              "      <td>3 orang</td>\n",
              "      <td>Ada sampah dan jarang dibersihkan</td>\n",
              "      <td>Tersedia air bersih</td>\n",
              "      <td>Ada ventilasi tapi jarang terbuka</td>\n",
              "      <td>Sering Pakai Jamban/Toilet</td>\n",
              "      <td>tbc</td>\n",
              "    </tr>\n",
              "  </tbody>\n",
              "</table>\n",
              "<p>5 rows × 21 columns</p>\n",
              "</div>\n",
              "      <button class=\"colab-df-convert\" onclick=\"convertToInteractive('df-8ab2a421-9148-429c-8be5-43eff919a5f3')\"\n",
              "              title=\"Convert this dataframe to an interactive table.\"\n",
              "              style=\"display:none;\">\n",
              "        \n",
              "  <svg xmlns=\"http://www.w3.org/2000/svg\" height=\"24px\"viewBox=\"0 0 24 24\"\n",
              "       width=\"24px\">\n",
              "    <path d=\"M0 0h24v24H0V0z\" fill=\"none\"/>\n",
              "    <path d=\"M18.56 5.44l.94 2.06.94-2.06 2.06-.94-2.06-.94-.94-2.06-.94 2.06-2.06.94zm-11 1L8.5 8.5l.94-2.06 2.06-.94-2.06-.94L8.5 2.5l-.94 2.06-2.06.94zm10 10l.94 2.06.94-2.06 2.06-.94-2.06-.94-.94-2.06-.94 2.06-2.06.94z\"/><path d=\"M17.41 7.96l-1.37-1.37c-.4-.4-.92-.59-1.43-.59-.52 0-1.04.2-1.43.59L10.3 9.45l-7.72 7.72c-.78.78-.78 2.05 0 2.83L4 21.41c.39.39.9.59 1.41.59.51 0 1.02-.2 1.41-.59l7.78-7.78 2.81-2.81c.8-.78.8-2.07 0-2.86zM5.41 20L4 18.59l7.72-7.72 1.47 1.35L5.41 20z\"/>\n",
              "  </svg>\n",
              "      </button>\n",
              "      \n",
              "  <style>\n",
              "    .colab-df-container {\n",
              "      display:flex;\n",
              "      flex-wrap:wrap;\n",
              "      gap: 12px;\n",
              "    }\n",
              "\n",
              "    .colab-df-convert {\n",
              "      background-color: #E8F0FE;\n",
              "      border: none;\n",
              "      border-radius: 50%;\n",
              "      cursor: pointer;\n",
              "      display: none;\n",
              "      fill: #1967D2;\n",
              "      height: 32px;\n",
              "      padding: 0 0 0 0;\n",
              "      width: 32px;\n",
              "    }\n",
              "\n",
              "    .colab-df-convert:hover {\n",
              "      background-color: #E2EBFA;\n",
              "      box-shadow: 0px 1px 2px rgba(60, 64, 67, 0.3), 0px 1px 3px 1px rgba(60, 64, 67, 0.15);\n",
              "      fill: #174EA6;\n",
              "    }\n",
              "\n",
              "    [theme=dark] .colab-df-convert {\n",
              "      background-color: #3B4455;\n",
              "      fill: #D2E3FC;\n",
              "    }\n",
              "\n",
              "    [theme=dark] .colab-df-convert:hover {\n",
              "      background-color: #434B5C;\n",
              "      box-shadow: 0px 1px 3px 1px rgba(0, 0, 0, 0.15);\n",
              "      filter: drop-shadow(0px 1px 2px rgba(0, 0, 0, 0.3));\n",
              "      fill: #FFFFFF;\n",
              "    }\n",
              "  </style>\n",
              "\n",
              "      <script>\n",
              "        const buttonEl =\n",
              "          document.querySelector('#df-8ab2a421-9148-429c-8be5-43eff919a5f3 button.colab-df-convert');\n",
              "        buttonEl.style.display =\n",
              "          google.colab.kernel.accessAllowed ? 'block' : 'none';\n",
              "\n",
              "        async function convertToInteractive(key) {\n",
              "          const element = document.querySelector('#df-8ab2a421-9148-429c-8be5-43eff919a5f3');\n",
              "          const dataTable =\n",
              "            await google.colab.kernel.invokeFunction('convertToInteractive',\n",
              "                                                     [key], {});\n",
              "          if (!dataTable) return;\n",
              "\n",
              "          const docLinkHtml = 'Like what you see? Visit the ' +\n",
              "            '<a target=\"_blank\" href=https://colab.research.google.com/notebooks/data_table.ipynb>data table notebook</a>'\n",
              "            + ' to learn more about interactive tables.';\n",
              "          element.innerHTML = '';\n",
              "          dataTable['output_type'] = 'display_data';\n",
              "          await google.colab.output.renderOutput(dataTable, element);\n",
              "          const docLink = document.createElement('div');\n",
              "          docLink.innerHTML = docLinkHtml;\n",
              "          element.appendChild(docLink);\n",
              "        }\n",
              "      </script>\n",
              "    </div>\n",
              "  </div>\n",
              "  "
            ]
          },
          "metadata": {},
          "execution_count": 2
        }
      ],
      "source": [
        "data = pd.read_csv('data.csv')\n",
        "data.head()"
      ]
    },
    {
      "cell_type": "code",
      "execution_count": null,
      "metadata": {
        "id": "100UszI1b0D9"
      },
      "outputs": [],
      "source": [
        "# rename column\n",
        "\n",
        "data = data.copy()\n",
        "data = data.rename(columns={'Gejala apa yang dirasakan?': 'Gejala', \n",
        "                            'Jika pasien mengalami demam, apakah demam yang dialami terus menerus sepanjang hari?': 'Demam Panjang',\n",
        "                            'Apakah pasien mual/muntah?': 'Mual/Muntah',\n",
        "                            'Apakah pasien pernah mengalami mimisan?': 'Riwayat Mimisan',\n",
        "                            'Berapa suhu badan pasien?': 'Suhu Badan',\n",
        "                            'Apakah sudah menerima imunisasi BCG?': 'Riwayat Vaksin BCG',\n",
        "                            'Apakah ada orang serumah yang pernah sakit atau diopname?': 'Riwayat Penyakit Orang Serumah',\n",
        "                            'Jika iya, karena apa?': 'Daftar Penyakit Orang Serumah',\n",
        "                            'Apakah nafsu makan berkurang?': 'Nafsu Makan',\n",
        "                            'Apakah sering jajan diluar rumah?': 'Kebiasaan Jajan',\n",
        "                            'Berapa luas rumah pasien?': 'Luas Rumah',\n",
        "                            'Berapa jumlah penghuni rumah pasien?': 'Jumlah Penghuni Rumah',\n",
        "                            'Bagaimana kondisi pembuangan sampah disekitar rumah?': 'Kondisi Pembuangan Sampah',\n",
        "                            'Apakah tersedia air bersih di rumah?': 'Ketersediaan Air Bersih',\n",
        "                            'Bagaimana sistem ventilasi di rumah pasien?': 'Sistem Ventilasi Rumah',\n",
        "                            'Apakah sering menggunakan jamban/toilet?': 'Riwayat Pemakaian Jamban/Toilet',\n",
        "                            'Apa diagnosa/hasil tes darah pasien?': 'Diagnosa/Tes Darah'})"
      ]
    },
    {
      "cell_type": "markdown",
      "metadata": {
        "id": "vpSk_v2sb7Ic"
      },
      "source": [
        "#Preprocessing\n"
      ]
    },
    {
      "cell_type": "markdown",
      "metadata": {
        "id": "bLv87Bhc36Vx"
      },
      "source": [
        "##Feature Selection"
      ]
    },
    {
      "cell_type": "code",
      "execution_count": null,
      "metadata": {
        "colab": {
          "base_uri": "https://localhost:8080/"
        },
        "id": "amwk2bonb5Rq",
        "outputId": "7fb00cdc-afa3-4bb8-db4f-c5c3ed497118"
      },
      "outputs": [
        {
          "output_type": "execute_result",
          "data": {
            "text/plain": [
              "    Umur               Alamat         Nafsu Makan      Kebiasaan Jajan  \\\n",
              "0   60.0  Maccini Baji (Gowa)  Nafsu Makan Normal  Jarang Jajan Diluar   \n",
              "1   29.0  Maccini Baji (Gowa)  Nafsu Makan Normal  Sering Jajan Diluar   \n",
              "2   18.0  Maccini Baji (Gowa)  Nafsu Makan Kurang  Sering Jajan Diluar   \n",
              "3    9.0  Maccini Baji (Gowa)  Nafsu Makan Kurang  Jarang Jajan Diluar   \n",
              "4   28.0  Maccini Baji (Gowa)  Nafsu Makan Kurang  Sering Jajan Diluar   \n",
              "..   ...                  ...                 ...                  ...   \n",
              "78   4.0    Bontomanai (Gowa)  Nafsu Makan Kurang  Sering Jajan Diluar   \n",
              "79  39.0    Bontomanai (Gowa)  Nafsu Makan Kurang  Jarang Jajan Diluar   \n",
              "80  23.0    Bontomanai (Gowa)  Nafsu Makan Kurang  Sering Jajan Diluar   \n",
              "81  30.0    Bontomanai (Gowa)  Nafsu Makan Kurang  Jarang Jajan Diluar   \n",
              "82  16.0    Bontomanai (Gowa)  Nafsu Makan Kurang  Sering Jajan Diluar   \n",
              "\n",
              "                      Kondisi Pembuangan Sampah Ketersediaan Air Bersih  \\\n",
              "0             Ada sampah dan jarang dibersihkan     Tersedia air bersih   \n",
              "1                       Bersih tanpa ada sampah     Tersedia air bersih   \n",
              "2   Ada lalat/nyamuk di sekitar tumpukan sampah     Tersedia air bersih   \n",
              "3                  Ada sampah tapi tidak banyak     Tersedia air bersih   \n",
              "4             Ada sampah dan jarang dibersihkan     Tersedia air bersih   \n",
              "..                                          ...                     ...   \n",
              "78                 Ada sampah tapi tidak banyak     Tersedia air bersih   \n",
              "79            Ada sampah dan jarang dibersihkan     Tersedia air bersih   \n",
              "80                 Ada sampah tapi tidak banyak     Tersedia air bersih   \n",
              "81            Ada sampah dan jarang dibersihkan     Tersedia air bersih   \n",
              "82                      Bersih tanpa ada sampah     Tersedia air bersih   \n",
              "\n",
              "               Sistem Ventilasi Rumah Riwayat Pemakaian Jamban/Toilet  \\\n",
              "0   Ada ventilasi tapi jarang terbuka      Sering Pakai Jamban/Toilet   \n",
              "1    Ada ventilasi tapi hanya sedikit      Sering Pakai Jamban/Toilet   \n",
              "2       Ada ventilasi disemua ruangan      Sering Pakai Jamban/Toilet   \n",
              "3    Ada ventilasi tapi hanya sedikit      Jarang pakai jamban/toilet   \n",
              "4   Ada ventilasi tapi jarang terbuka      Sering Pakai Jamban/Toilet   \n",
              "..                                ...                             ...   \n",
              "78   Ada ventilasi tapi hanya sedikit      Sering Pakai Jamban/Toilet   \n",
              "79      Ada ventilasi disemua ruangan      Sering Pakai Jamban/Toilet   \n",
              "80   Ada ventilasi tapi hanya sedikit      Sering Pakai Jamban/Toilet   \n",
              "81      Ada ventilasi disemua ruangan      Sering Pakai Jamban/Toilet   \n",
              "82      Ada ventilasi disemua ruangan      Sering Pakai Jamban/Toilet   \n",
              "\n",
              "   Diagnosa/Tes Darah  \n",
              "0                 tbc  \n",
              "1                 tbc  \n",
              "2                 dbd  \n",
              "3              tifoid  \n",
              "4                 tbc  \n",
              "..                ...  \n",
              "78             tifoid  \n",
              "79                tbc  \n",
              "80             tifoid  \n",
              "81                dbd  \n",
              "82             tifoid  \n",
              "\n",
              "[83 rows x 9 columns]"
            ],
            "text/html": [
              "\n",
              "  <div id=\"df-bdaeba00-b8b8-431e-99cb-4fbf61538cf7\">\n",
              "    <div class=\"colab-df-container\">\n",
              "      <div>\n",
              "<style scoped>\n",
              "    .dataframe tbody tr th:only-of-type {\n",
              "        vertical-align: middle;\n",
              "    }\n",
              "\n",
              "    .dataframe tbody tr th {\n",
              "        vertical-align: top;\n",
              "    }\n",
              "\n",
              "    .dataframe thead th {\n",
              "        text-align: right;\n",
              "    }\n",
              "</style>\n",
              "<table border=\"1\" class=\"dataframe\">\n",
              "  <thead>\n",
              "    <tr style=\"text-align: right;\">\n",
              "      <th></th>\n",
              "      <th>Umur</th>\n",
              "      <th>Alamat</th>\n",
              "      <th>Nafsu Makan</th>\n",
              "      <th>Kebiasaan Jajan</th>\n",
              "      <th>Kondisi Pembuangan Sampah</th>\n",
              "      <th>Ketersediaan Air Bersih</th>\n",
              "      <th>Sistem Ventilasi Rumah</th>\n",
              "      <th>Riwayat Pemakaian Jamban/Toilet</th>\n",
              "      <th>Diagnosa/Tes Darah</th>\n",
              "    </tr>\n",
              "  </thead>\n",
              "  <tbody>\n",
              "    <tr>\n",
              "      <th>0</th>\n",
              "      <td>60.0</td>\n",
              "      <td>Maccini Baji (Gowa)</td>\n",
              "      <td>Nafsu Makan Normal</td>\n",
              "      <td>Jarang Jajan Diluar</td>\n",
              "      <td>Ada sampah dan jarang dibersihkan</td>\n",
              "      <td>Tersedia air bersih</td>\n",
              "      <td>Ada ventilasi tapi jarang terbuka</td>\n",
              "      <td>Sering Pakai Jamban/Toilet</td>\n",
              "      <td>tbc</td>\n",
              "    </tr>\n",
              "    <tr>\n",
              "      <th>1</th>\n",
              "      <td>29.0</td>\n",
              "      <td>Maccini Baji (Gowa)</td>\n",
              "      <td>Nafsu Makan Normal</td>\n",
              "      <td>Sering Jajan Diluar</td>\n",
              "      <td>Bersih tanpa ada sampah</td>\n",
              "      <td>Tersedia air bersih</td>\n",
              "      <td>Ada ventilasi tapi hanya sedikit</td>\n",
              "      <td>Sering Pakai Jamban/Toilet</td>\n",
              "      <td>tbc</td>\n",
              "    </tr>\n",
              "    <tr>\n",
              "      <th>2</th>\n",
              "      <td>18.0</td>\n",
              "      <td>Maccini Baji (Gowa)</td>\n",
              "      <td>Nafsu Makan Kurang</td>\n",
              "      <td>Sering Jajan Diluar</td>\n",
              "      <td>Ada lalat/nyamuk di sekitar tumpukan sampah</td>\n",
              "      <td>Tersedia air bersih</td>\n",
              "      <td>Ada ventilasi disemua ruangan</td>\n",
              "      <td>Sering Pakai Jamban/Toilet</td>\n",
              "      <td>dbd</td>\n",
              "    </tr>\n",
              "    <tr>\n",
              "      <th>3</th>\n",
              "      <td>9.0</td>\n",
              "      <td>Maccini Baji (Gowa)</td>\n",
              "      <td>Nafsu Makan Kurang</td>\n",
              "      <td>Jarang Jajan Diluar</td>\n",
              "      <td>Ada sampah tapi tidak banyak</td>\n",
              "      <td>Tersedia air bersih</td>\n",
              "      <td>Ada ventilasi tapi hanya sedikit</td>\n",
              "      <td>Jarang pakai jamban/toilet</td>\n",
              "      <td>tifoid</td>\n",
              "    </tr>\n",
              "    <tr>\n",
              "      <th>4</th>\n",
              "      <td>28.0</td>\n",
              "      <td>Maccini Baji (Gowa)</td>\n",
              "      <td>Nafsu Makan Kurang</td>\n",
              "      <td>Sering Jajan Diluar</td>\n",
              "      <td>Ada sampah dan jarang dibersihkan</td>\n",
              "      <td>Tersedia air bersih</td>\n",
              "      <td>Ada ventilasi tapi jarang terbuka</td>\n",
              "      <td>Sering Pakai Jamban/Toilet</td>\n",
              "      <td>tbc</td>\n",
              "    </tr>\n",
              "    <tr>\n",
              "      <th>...</th>\n",
              "      <td>...</td>\n",
              "      <td>...</td>\n",
              "      <td>...</td>\n",
              "      <td>...</td>\n",
              "      <td>...</td>\n",
              "      <td>...</td>\n",
              "      <td>...</td>\n",
              "      <td>...</td>\n",
              "      <td>...</td>\n",
              "    </tr>\n",
              "    <tr>\n",
              "      <th>78</th>\n",
              "      <td>4.0</td>\n",
              "      <td>Bontomanai (Gowa)</td>\n",
              "      <td>Nafsu Makan Kurang</td>\n",
              "      <td>Sering Jajan Diluar</td>\n",
              "      <td>Ada sampah tapi tidak banyak</td>\n",
              "      <td>Tersedia air bersih</td>\n",
              "      <td>Ada ventilasi tapi hanya sedikit</td>\n",
              "      <td>Sering Pakai Jamban/Toilet</td>\n",
              "      <td>tifoid</td>\n",
              "    </tr>\n",
              "    <tr>\n",
              "      <th>79</th>\n",
              "      <td>39.0</td>\n",
              "      <td>Bontomanai (Gowa)</td>\n",
              "      <td>Nafsu Makan Kurang</td>\n",
              "      <td>Jarang Jajan Diluar</td>\n",
              "      <td>Ada sampah dan jarang dibersihkan</td>\n",
              "      <td>Tersedia air bersih</td>\n",
              "      <td>Ada ventilasi disemua ruangan</td>\n",
              "      <td>Sering Pakai Jamban/Toilet</td>\n",
              "      <td>tbc</td>\n",
              "    </tr>\n",
              "    <tr>\n",
              "      <th>80</th>\n",
              "      <td>23.0</td>\n",
              "      <td>Bontomanai (Gowa)</td>\n",
              "      <td>Nafsu Makan Kurang</td>\n",
              "      <td>Sering Jajan Diluar</td>\n",
              "      <td>Ada sampah tapi tidak banyak</td>\n",
              "      <td>Tersedia air bersih</td>\n",
              "      <td>Ada ventilasi tapi hanya sedikit</td>\n",
              "      <td>Sering Pakai Jamban/Toilet</td>\n",
              "      <td>tifoid</td>\n",
              "    </tr>\n",
              "    <tr>\n",
              "      <th>81</th>\n",
              "      <td>30.0</td>\n",
              "      <td>Bontomanai (Gowa)</td>\n",
              "      <td>Nafsu Makan Kurang</td>\n",
              "      <td>Jarang Jajan Diluar</td>\n",
              "      <td>Ada sampah dan jarang dibersihkan</td>\n",
              "      <td>Tersedia air bersih</td>\n",
              "      <td>Ada ventilasi disemua ruangan</td>\n",
              "      <td>Sering Pakai Jamban/Toilet</td>\n",
              "      <td>dbd</td>\n",
              "    </tr>\n",
              "    <tr>\n",
              "      <th>82</th>\n",
              "      <td>16.0</td>\n",
              "      <td>Bontomanai (Gowa)</td>\n",
              "      <td>Nafsu Makan Kurang</td>\n",
              "      <td>Sering Jajan Diluar</td>\n",
              "      <td>Bersih tanpa ada sampah</td>\n",
              "      <td>Tersedia air bersih</td>\n",
              "      <td>Ada ventilasi disemua ruangan</td>\n",
              "      <td>Sering Pakai Jamban/Toilet</td>\n",
              "      <td>tifoid</td>\n",
              "    </tr>\n",
              "  </tbody>\n",
              "</table>\n",
              "<p>83 rows × 9 columns</p>\n",
              "</div>\n",
              "      <button class=\"colab-df-convert\" onclick=\"convertToInteractive('df-bdaeba00-b8b8-431e-99cb-4fbf61538cf7')\"\n",
              "              title=\"Convert this dataframe to an interactive table.\"\n",
              "              style=\"display:none;\">\n",
              "        \n",
              "  <svg xmlns=\"http://www.w3.org/2000/svg\" height=\"24px\"viewBox=\"0 0 24 24\"\n",
              "       width=\"24px\">\n",
              "    <path d=\"M0 0h24v24H0V0z\" fill=\"none\"/>\n",
              "    <path d=\"M18.56 5.44l.94 2.06.94-2.06 2.06-.94-2.06-.94-.94-2.06-.94 2.06-2.06.94zm-11 1L8.5 8.5l.94-2.06 2.06-.94-2.06-.94L8.5 2.5l-.94 2.06-2.06.94zm10 10l.94 2.06.94-2.06 2.06-.94-2.06-.94-.94-2.06-.94 2.06-2.06.94z\"/><path d=\"M17.41 7.96l-1.37-1.37c-.4-.4-.92-.59-1.43-.59-.52 0-1.04.2-1.43.59L10.3 9.45l-7.72 7.72c-.78.78-.78 2.05 0 2.83L4 21.41c.39.39.9.59 1.41.59.51 0 1.02-.2 1.41-.59l7.78-7.78 2.81-2.81c.8-.78.8-2.07 0-2.86zM5.41 20L4 18.59l7.72-7.72 1.47 1.35L5.41 20z\"/>\n",
              "  </svg>\n",
              "      </button>\n",
              "      \n",
              "  <style>\n",
              "    .colab-df-container {\n",
              "      display:flex;\n",
              "      flex-wrap:wrap;\n",
              "      gap: 12px;\n",
              "    }\n",
              "\n",
              "    .colab-df-convert {\n",
              "      background-color: #E8F0FE;\n",
              "      border: none;\n",
              "      border-radius: 50%;\n",
              "      cursor: pointer;\n",
              "      display: none;\n",
              "      fill: #1967D2;\n",
              "      height: 32px;\n",
              "      padding: 0 0 0 0;\n",
              "      width: 32px;\n",
              "    }\n",
              "\n",
              "    .colab-df-convert:hover {\n",
              "      background-color: #E2EBFA;\n",
              "      box-shadow: 0px 1px 2px rgba(60, 64, 67, 0.3), 0px 1px 3px 1px rgba(60, 64, 67, 0.15);\n",
              "      fill: #174EA6;\n",
              "    }\n",
              "\n",
              "    [theme=dark] .colab-df-convert {\n",
              "      background-color: #3B4455;\n",
              "      fill: #D2E3FC;\n",
              "    }\n",
              "\n",
              "    [theme=dark] .colab-df-convert:hover {\n",
              "      background-color: #434B5C;\n",
              "      box-shadow: 0px 1px 3px 1px rgba(0, 0, 0, 0.15);\n",
              "      filter: drop-shadow(0px 1px 2px rgba(0, 0, 0, 0.3));\n",
              "      fill: #FFFFFF;\n",
              "    }\n",
              "  </style>\n",
              "\n",
              "      <script>\n",
              "        const buttonEl =\n",
              "          document.querySelector('#df-bdaeba00-b8b8-431e-99cb-4fbf61538cf7 button.colab-df-convert');\n",
              "        buttonEl.style.display =\n",
              "          google.colab.kernel.accessAllowed ? 'block' : 'none';\n",
              "\n",
              "        async function convertToInteractive(key) {\n",
              "          const element = document.querySelector('#df-bdaeba00-b8b8-431e-99cb-4fbf61538cf7');\n",
              "          const dataTable =\n",
              "            await google.colab.kernel.invokeFunction('convertToInteractive',\n",
              "                                                     [key], {});\n",
              "          if (!dataTable) return;\n",
              "\n",
              "          const docLinkHtml = 'Like what you see? Visit the ' +\n",
              "            '<a target=\"_blank\" href=https://colab.research.google.com/notebooks/data_table.ipynb>data table notebook</a>'\n",
              "            + ' to learn more about interactive tables.';\n",
              "          element.innerHTML = '';\n",
              "          dataTable['output_type'] = 'display_data';\n",
              "          await google.colab.output.renderOutput(dataTable, element);\n",
              "          const docLink = document.createElement('div');\n",
              "          docLink.innerHTML = docLinkHtml;\n",
              "          element.appendChild(docLink);\n",
              "        }\n",
              "      </script>\n",
              "    </div>\n",
              "  </div>\n",
              "  "
            ]
          },
          "metadata": {},
          "execution_count": 4
        }
      ],
      "source": [
        "features_data = data[[\"Umur\", \n",
        "                      \"Alamat\", \n",
        "                      \"Nafsu Makan\", \n",
        "                      \"Kebiasaan Jajan\", \n",
        "                      \"Kondisi Pembuangan Sampah\", \n",
        "                      \"Ketersediaan Air Bersih\",\n",
        "                     \"Sistem Ventilasi Rumah\",\n",
        "                     \"Riwayat Pemakaian Jamban/Toilet\",\n",
        "                     \"Diagnosa/Tes Darah\"]].copy()\n",
        "features_data.iloc[:83]"
      ]
    },
    {
      "cell_type": "markdown",
      "metadata": {
        "id": "HZW00V7ScBk_"
      },
      "source": [
        "##Check Missing Value"
      ]
    },
    {
      "cell_type": "code",
      "execution_count": null,
      "metadata": {
        "colab": {
          "base_uri": "https://localhost:8080/"
        },
        "id": "Sby56QUacDkB",
        "outputId": "8f69ccdc-64d0-49cd-f459-354390857c33"
      },
      "outputs": [
        {
          "output_type": "execute_result",
          "data": {
            "text/plain": [
              "Umur                               0\n",
              "Alamat                             0\n",
              "Nafsu Makan                        0\n",
              "Kebiasaan Jajan                    0\n",
              "Kondisi Pembuangan Sampah          0\n",
              "Ketersediaan Air Bersih            0\n",
              "Sistem Ventilasi Rumah             0\n",
              "Riwayat Pemakaian Jamban/Toilet    0\n",
              "Diagnosa/Tes Darah                 0\n",
              "dtype: int64"
            ]
          },
          "metadata": {},
          "execution_count": 5
        }
      ],
      "source": [
        "#check missing value\n",
        "features_data.isnull().sum()"
      ]
    },
    {
      "cell_type": "code",
      "source": [
        "features_data.info()"
      ],
      "metadata": {
        "colab": {
          "base_uri": "https://localhost:8080/"
        },
        "id": "JFZ84Zi1-C0n",
        "outputId": "cdd9cc39-0d07-41f4-9a12-f8637be2e231"
      },
      "execution_count": null,
      "outputs": [
        {
          "output_type": "stream",
          "name": "stdout",
          "text": [
            "<class 'pandas.core.frame.DataFrame'>\n",
            "RangeIndex: 735 entries, 0 to 734\n",
            "Data columns (total 9 columns):\n",
            " #   Column                           Non-Null Count  Dtype  \n",
            "---  ------                           --------------  -----  \n",
            " 0   Umur                             735 non-null    float64\n",
            " 1   Alamat                           735 non-null    object \n",
            " 2   Nafsu Makan                      735 non-null    object \n",
            " 3   Kebiasaan Jajan                  735 non-null    object \n",
            " 4   Kondisi Pembuangan Sampah        735 non-null    object \n",
            " 5   Ketersediaan Air Bersih          735 non-null    object \n",
            " 6   Sistem Ventilasi Rumah           735 non-null    object \n",
            " 7   Riwayat Pemakaian Jamban/Toilet  735 non-null    object \n",
            " 8   Diagnosa/Tes Darah               735 non-null    object \n",
            "dtypes: float64(1), object(8)\n",
            "memory usage: 51.8+ KB\n"
          ]
        }
      ]
    },
    {
      "cell_type": "markdown",
      "metadata": {
        "id": "QVkz23vbcQT8"
      },
      "source": [
        "##Multilabel Binarizer"
      ]
    },
    {
      "cell_type": "code",
      "execution_count": null,
      "metadata": {
        "id": "szDIKKhqcSj7"
      },
      "outputs": [],
      "source": [
        "mlb = MultiLabelBinarizer()"
      ]
    },
    {
      "cell_type": "code",
      "execution_count": null,
      "metadata": {
        "id": "aBDz2QjkcURT"
      },
      "outputs": [],
      "source": [
        "features_data['Nafsu Makan']=features_data['Nafsu Makan'].str.split(',\\s*')\n",
        "features_data['Kebiasaan Jajan']=features_data['Kebiasaan Jajan'].str.split(',\\s*')\n",
        "features_data['Kondisi Pembuangan Sampah']=features_data['Kondisi Pembuangan Sampah'].str.split(',\\s*')\n",
        "features_data['Ketersediaan Air Bersih']=features_data['Ketersediaan Air Bersih'].str.split(',\\s*')\n",
        "features_data['Sistem Ventilasi Rumah']=features_data['Sistem Ventilasi Rumah'].str.split(',\\s*')\n",
        "features_data['Riwayat Pemakaian Jamban/Toilet']=features_data['Riwayat Pemakaian Jamban/Toilet'].str.split(',\\s*')\n",
        "features_data['Diagnosa/Tes Darah']=features_data['Diagnosa/Tes Darah'].str.split(',\\s*')"
      ]
    },
    {
      "cell_type": "code",
      "execution_count": null,
      "metadata": {
        "colab": {
          "base_uri": "https://localhost:8080/"
        },
        "id": "jJHXfVQ8cWOo",
        "outputId": "8573e84e-cca8-40c6-c984-a53a2a018b8b"
      },
      "outputs": [
        {
          "output_type": "execute_result",
          "data": {
            "text/plain": [
              "MultiLabelBinarizer()"
            ],
            "text/html": [
              "<style>#sk-container-id-1 {color: black;background-color: white;}#sk-container-id-1 pre{padding: 0;}#sk-container-id-1 div.sk-toggleable {background-color: white;}#sk-container-id-1 label.sk-toggleable__label {cursor: pointer;display: block;width: 100%;margin-bottom: 0;padding: 0.3em;box-sizing: border-box;text-align: center;}#sk-container-id-1 label.sk-toggleable__label-arrow:before {content: \"▸\";float: left;margin-right: 0.25em;color: #696969;}#sk-container-id-1 label.sk-toggleable__label-arrow:hover:before {color: black;}#sk-container-id-1 div.sk-estimator:hover label.sk-toggleable__label-arrow:before {color: black;}#sk-container-id-1 div.sk-toggleable__content {max-height: 0;max-width: 0;overflow: hidden;text-align: left;background-color: #f0f8ff;}#sk-container-id-1 div.sk-toggleable__content pre {margin: 0.2em;color: black;border-radius: 0.25em;background-color: #f0f8ff;}#sk-container-id-1 input.sk-toggleable__control:checked~div.sk-toggleable__content {max-height: 200px;max-width: 100%;overflow: auto;}#sk-container-id-1 input.sk-toggleable__control:checked~label.sk-toggleable__label-arrow:before {content: \"▾\";}#sk-container-id-1 div.sk-estimator input.sk-toggleable__control:checked~label.sk-toggleable__label {background-color: #d4ebff;}#sk-container-id-1 div.sk-label input.sk-toggleable__control:checked~label.sk-toggleable__label {background-color: #d4ebff;}#sk-container-id-1 input.sk-hidden--visually {border: 0;clip: rect(1px 1px 1px 1px);clip: rect(1px, 1px, 1px, 1px);height: 1px;margin: -1px;overflow: hidden;padding: 0;position: absolute;width: 1px;}#sk-container-id-1 div.sk-estimator {font-family: monospace;background-color: #f0f8ff;border: 1px dotted black;border-radius: 0.25em;box-sizing: border-box;margin-bottom: 0.5em;}#sk-container-id-1 div.sk-estimator:hover {background-color: #d4ebff;}#sk-container-id-1 div.sk-parallel-item::after {content: \"\";width: 100%;border-bottom: 1px solid gray;flex-grow: 1;}#sk-container-id-1 div.sk-label:hover label.sk-toggleable__label {background-color: #d4ebff;}#sk-container-id-1 div.sk-serial::before {content: \"\";position: absolute;border-left: 1px solid gray;box-sizing: border-box;top: 0;bottom: 0;left: 50%;z-index: 0;}#sk-container-id-1 div.sk-serial {display: flex;flex-direction: column;align-items: center;background-color: white;padding-right: 0.2em;padding-left: 0.2em;position: relative;}#sk-container-id-1 div.sk-item {position: relative;z-index: 1;}#sk-container-id-1 div.sk-parallel {display: flex;align-items: stretch;justify-content: center;background-color: white;position: relative;}#sk-container-id-1 div.sk-item::before, #sk-container-id-1 div.sk-parallel-item::before {content: \"\";position: absolute;border-left: 1px solid gray;box-sizing: border-box;top: 0;bottom: 0;left: 50%;z-index: -1;}#sk-container-id-1 div.sk-parallel-item {display: flex;flex-direction: column;z-index: 1;position: relative;background-color: white;}#sk-container-id-1 div.sk-parallel-item:first-child::after {align-self: flex-end;width: 50%;}#sk-container-id-1 div.sk-parallel-item:last-child::after {align-self: flex-start;width: 50%;}#sk-container-id-1 div.sk-parallel-item:only-child::after {width: 0;}#sk-container-id-1 div.sk-dashed-wrapped {border: 1px dashed gray;margin: 0 0.4em 0.5em 0.4em;box-sizing: border-box;padding-bottom: 0.4em;background-color: white;}#sk-container-id-1 div.sk-label label {font-family: monospace;font-weight: bold;display: inline-block;line-height: 1.2em;}#sk-container-id-1 div.sk-label-container {text-align: center;}#sk-container-id-1 div.sk-container {/* jupyter's `normalize.less` sets `[hidden] { display: none; }` but bootstrap.min.css set `[hidden] { display: none !important; }` so we also need the `!important` here to be able to override the default hidden behavior on the sphinx rendered scikit-learn.org. See: https://github.com/scikit-learn/scikit-learn/issues/21755 */display: inline-block !important;position: relative;}#sk-container-id-1 div.sk-text-repr-fallback {display: none;}</style><div id=\"sk-container-id-1\" class=\"sk-top-container\"><div class=\"sk-text-repr-fallback\"><pre>MultiLabelBinarizer()</pre><b>In a Jupyter environment, please rerun this cell to show the HTML representation or trust the notebook. <br />On GitHub, the HTML representation is unable to render, please try loading this page with nbviewer.org.</b></div><div class=\"sk-container\" hidden><div class=\"sk-item\"><div class=\"sk-estimator sk-toggleable\"><input class=\"sk-toggleable__control sk-hidden--visually\" id=\"sk-estimator-id-1\" type=\"checkbox\" checked><label for=\"sk-estimator-id-1\" class=\"sk-toggleable__label sk-toggleable__label-arrow\">MultiLabelBinarizer</label><div class=\"sk-toggleable__content\"><pre>MultiLabelBinarizer()</pre></div></div></div></div></div>"
            ]
          },
          "metadata": {},
          "execution_count": 9
        }
      ],
      "source": [
        "mlb.fit(features_data['Nafsu Makan'])\n",
        "mlb.fit(features_data['Kebiasaan Jajan'])\n",
        "mlb.fit(features_data['Kondisi Pembuangan Sampah'])\n",
        "mlb.fit(features_data['Ketersediaan Air Bersih'])\n",
        "mlb.fit(features_data['Sistem Ventilasi Rumah'])\n",
        "mlb.fit(features_data['Riwayat Pemakaian Jamban/Toilet'])\n",
        "mlb.fit(features_data['Diagnosa/Tes Darah'])"
      ]
    },
    {
      "cell_type": "code",
      "execution_count": null,
      "metadata": {
        "id": "ksf58PqmcXyH"
      },
      "outputs": [],
      "source": [
        "mlb.classes_\n",
        "\n",
        "features_data['Nafsu Makan'].explode().unique()\n",
        "features_data['Kebiasaan Jajan'].explode().unique()\n",
        "features_data['Ketersediaan Air Bersih'].explode().unique()\n",
        "features_data['Kondisi Pembuangan Sampah'].explode().unique()\n",
        "features_data['Sistem Ventilasi Rumah'].explode().unique()\n",
        "features_data['Riwayat Pemakaian Jamban/Toilet'].explode().unique()\n",
        "features_data['Diagnosa/Tes Darah'].explode().unique()\n",
        "\n",
        "mlb.transform(features_data['Nafsu Makan'])\n",
        "mlb.transform(features_data['Kebiasaan Jajan'])\n",
        "mlb.transform(features_data['Ketersediaan Air Bersih'])\n",
        "mlb.transform(features_data['Kondisi Pembuangan Sampah'])\n",
        "mlb.transform(features_data['Sistem Ventilasi Rumah'])\n",
        "mlb.transform(features_data['Riwayat Pemakaian Jamban/Toilet'])\n",
        "mlb.transform(features_data['Diagnosa/Tes Darah'])\n",
        "\n",
        "a1 = pd.DataFrame(mlb.fit_transform(features_data['Nafsu Makan']), columns=mlb.classes_)\n",
        "a2 = pd.DataFrame(mlb.fit_transform(features_data['Kebiasaan Jajan']), columns=mlb.classes_)\n",
        "a3 = pd.DataFrame(mlb.fit_transform(features_data['Ketersediaan Air Bersih']), columns=mlb.classes_)\n",
        "a4 = pd.DataFrame(mlb.fit_transform(features_data['Kondisi Pembuangan Sampah']), columns=mlb.classes_)\n",
        "a5 = pd.DataFrame(mlb.fit_transform(features_data['Sistem Ventilasi Rumah']), columns=mlb.classes_)\n",
        "a6 = pd.DataFrame(mlb.fit_transform(features_data['Riwayat Pemakaian Jamban/Toilet']), columns=mlb.classes_)\n",
        "a7 = pd.DataFrame(mlb.fit_transform(features_data['Diagnosa/Tes Darah']), columns=mlb.classes_)"
      ]
    },
    {
      "cell_type": "code",
      "execution_count": null,
      "metadata": {
        "id": "J_x3L6WNcaA0"
      },
      "outputs": [],
      "source": [
        "# concat data column after transformation\n",
        "data_features=pd.concat([features_data,a1, a2, a3, a4, a5, a6, a7], axis='columns')\n"
      ]
    },
    {
      "cell_type": "code",
      "source": [
        "df = data_features.drop(['Nafsu Makan','Nafsu Makan Normal','Jarang Jajan Diluar','Tidak tersedia air bersih',\n",
        "                         'Ada ventilasi tapi hanya sedikit','Ada sampah dan jarang dibersihkan','Ada sampah tapi tidak banyak','Ada sampah tapi tidak banyak',\n",
        "                         'Bersih tanpa ada sampah', 'Ada ventilasi tapi jarang terbuka', 'Ada ventilasi tapi selalu tertutup','Jarang pakai jamban/toilet','Kondisi Pembuangan Sampah', 'Kebiasaan Jajan', 'Ketersediaan Air Bersih', 'Sistem Ventilasi Rumah', 'Riwayat Pemakaian Jamban/Toilet', 'Diagnosa/Tes Darah'], axis=1)"
      ],
      "metadata": {
        "id": "w909ixXK_MxY"
      },
      "execution_count": null,
      "outputs": []
    },
    {
      "cell_type": "code",
      "execution_count": null,
      "metadata": {
        "colab": {
          "base_uri": "https://localhost:8080/"
        },
        "id": "HOaqcEnFcJxW",
        "outputId": "f5b42674-51ba-4f22-b9eb-7d60ee79d34c"
      },
      "outputs": [
        {
          "output_type": "execute_result",
          "data": {
            "text/plain": [
              "   Umur               Alamat  Nafsu Makan Kurang  Sering Jajan Diluar  \\\n",
              "0  60.0  Maccini Baji (Gowa)                   0                    0   \n",
              "1  29.0  Maccini Baji (Gowa)                   0                    1   \n",
              "2  18.0  Maccini Baji (Gowa)                   1                    1   \n",
              "3   9.0  Maccini Baji (Gowa)                   1                    0   \n",
              "4  28.0  Maccini Baji (Gowa)                   1                    1   \n",
              "5  34.0  Maccini Baji (Gowa)                   0                    0   \n",
              "6  30.0     Barombong (Gowa)                   1                    1   \n",
              "7   3.0        Sapaya (Gowa)                   1                    0   \n",
              "8  71.0     Bili Bili (Gowa)                   1                    0   \n",
              "9  18.0     Bili Bili (Gowa)                   1                    1   \n",
              "\n",
              "   Tersedia air bersih  Ada lalat/nyamuk di sekitar tumpukan sampah  \\\n",
              "0                    1                                            0   \n",
              "1                    1                                            0   \n",
              "2                    1                                            1   \n",
              "3                    1                                            0   \n",
              "4                    1                                            0   \n",
              "5                    1                                            0   \n",
              "6                    1                                            0   \n",
              "7                    1                                            0   \n",
              "8                    1                                            0   \n",
              "9                    1                                            0   \n",
              "\n",
              "   Ada ventilasi disemua ruangan  Sering Pakai Jamban/Toilet  dbd  tbc  tifoid  \n",
              "0                              0                           1    0    1       0  \n",
              "1                              0                           1    0    1       0  \n",
              "2                              1                           1    1    0       0  \n",
              "3                              0                           0    0    0       1  \n",
              "4                              0                           1    0    1       0  \n",
              "5                              1                           1    0    1       0  \n",
              "6                              1                           1    1    0       0  \n",
              "7                              0                           1    0    0       1  \n",
              "8                              1                           1    0    1       0  \n",
              "9                              0                           1    1    0       0  "
            ],
            "text/html": [
              "\n",
              "  <div id=\"df-2a038aa0-9066-4b88-ae2f-81359e62fad6\">\n",
              "    <div class=\"colab-df-container\">\n",
              "      <div>\n",
              "<style scoped>\n",
              "    .dataframe tbody tr th:only-of-type {\n",
              "        vertical-align: middle;\n",
              "    }\n",
              "\n",
              "    .dataframe tbody tr th {\n",
              "        vertical-align: top;\n",
              "    }\n",
              "\n",
              "    .dataframe thead th {\n",
              "        text-align: right;\n",
              "    }\n",
              "</style>\n",
              "<table border=\"1\" class=\"dataframe\">\n",
              "  <thead>\n",
              "    <tr style=\"text-align: right;\">\n",
              "      <th></th>\n",
              "      <th>Umur</th>\n",
              "      <th>Alamat</th>\n",
              "      <th>Nafsu Makan Kurang</th>\n",
              "      <th>Sering Jajan Diluar</th>\n",
              "      <th>Tersedia air bersih</th>\n",
              "      <th>Ada lalat/nyamuk di sekitar tumpukan sampah</th>\n",
              "      <th>Ada ventilasi disemua ruangan</th>\n",
              "      <th>Sering Pakai Jamban/Toilet</th>\n",
              "      <th>dbd</th>\n",
              "      <th>tbc</th>\n",
              "      <th>tifoid</th>\n",
              "    </tr>\n",
              "  </thead>\n",
              "  <tbody>\n",
              "    <tr>\n",
              "      <th>0</th>\n",
              "      <td>60.0</td>\n",
              "      <td>Maccini Baji (Gowa)</td>\n",
              "      <td>0</td>\n",
              "      <td>0</td>\n",
              "      <td>1</td>\n",
              "      <td>0</td>\n",
              "      <td>0</td>\n",
              "      <td>1</td>\n",
              "      <td>0</td>\n",
              "      <td>1</td>\n",
              "      <td>0</td>\n",
              "    </tr>\n",
              "    <tr>\n",
              "      <th>1</th>\n",
              "      <td>29.0</td>\n",
              "      <td>Maccini Baji (Gowa)</td>\n",
              "      <td>0</td>\n",
              "      <td>1</td>\n",
              "      <td>1</td>\n",
              "      <td>0</td>\n",
              "      <td>0</td>\n",
              "      <td>1</td>\n",
              "      <td>0</td>\n",
              "      <td>1</td>\n",
              "      <td>0</td>\n",
              "    </tr>\n",
              "    <tr>\n",
              "      <th>2</th>\n",
              "      <td>18.0</td>\n",
              "      <td>Maccini Baji (Gowa)</td>\n",
              "      <td>1</td>\n",
              "      <td>1</td>\n",
              "      <td>1</td>\n",
              "      <td>1</td>\n",
              "      <td>1</td>\n",
              "      <td>1</td>\n",
              "      <td>1</td>\n",
              "      <td>0</td>\n",
              "      <td>0</td>\n",
              "    </tr>\n",
              "    <tr>\n",
              "      <th>3</th>\n",
              "      <td>9.0</td>\n",
              "      <td>Maccini Baji (Gowa)</td>\n",
              "      <td>1</td>\n",
              "      <td>0</td>\n",
              "      <td>1</td>\n",
              "      <td>0</td>\n",
              "      <td>0</td>\n",
              "      <td>0</td>\n",
              "      <td>0</td>\n",
              "      <td>0</td>\n",
              "      <td>1</td>\n",
              "    </tr>\n",
              "    <tr>\n",
              "      <th>4</th>\n",
              "      <td>28.0</td>\n",
              "      <td>Maccini Baji (Gowa)</td>\n",
              "      <td>1</td>\n",
              "      <td>1</td>\n",
              "      <td>1</td>\n",
              "      <td>0</td>\n",
              "      <td>0</td>\n",
              "      <td>1</td>\n",
              "      <td>0</td>\n",
              "      <td>1</td>\n",
              "      <td>0</td>\n",
              "    </tr>\n",
              "    <tr>\n",
              "      <th>5</th>\n",
              "      <td>34.0</td>\n",
              "      <td>Maccini Baji (Gowa)</td>\n",
              "      <td>0</td>\n",
              "      <td>0</td>\n",
              "      <td>1</td>\n",
              "      <td>0</td>\n",
              "      <td>1</td>\n",
              "      <td>1</td>\n",
              "      <td>0</td>\n",
              "      <td>1</td>\n",
              "      <td>0</td>\n",
              "    </tr>\n",
              "    <tr>\n",
              "      <th>6</th>\n",
              "      <td>30.0</td>\n",
              "      <td>Barombong (Gowa)</td>\n",
              "      <td>1</td>\n",
              "      <td>1</td>\n",
              "      <td>1</td>\n",
              "      <td>0</td>\n",
              "      <td>1</td>\n",
              "      <td>1</td>\n",
              "      <td>1</td>\n",
              "      <td>0</td>\n",
              "      <td>0</td>\n",
              "    </tr>\n",
              "    <tr>\n",
              "      <th>7</th>\n",
              "      <td>3.0</td>\n",
              "      <td>Sapaya (Gowa)</td>\n",
              "      <td>1</td>\n",
              "      <td>0</td>\n",
              "      <td>1</td>\n",
              "      <td>0</td>\n",
              "      <td>0</td>\n",
              "      <td>1</td>\n",
              "      <td>0</td>\n",
              "      <td>0</td>\n",
              "      <td>1</td>\n",
              "    </tr>\n",
              "    <tr>\n",
              "      <th>8</th>\n",
              "      <td>71.0</td>\n",
              "      <td>Bili Bili (Gowa)</td>\n",
              "      <td>1</td>\n",
              "      <td>0</td>\n",
              "      <td>1</td>\n",
              "      <td>0</td>\n",
              "      <td>1</td>\n",
              "      <td>1</td>\n",
              "      <td>0</td>\n",
              "      <td>1</td>\n",
              "      <td>0</td>\n",
              "    </tr>\n",
              "    <tr>\n",
              "      <th>9</th>\n",
              "      <td>18.0</td>\n",
              "      <td>Bili Bili (Gowa)</td>\n",
              "      <td>1</td>\n",
              "      <td>1</td>\n",
              "      <td>1</td>\n",
              "      <td>0</td>\n",
              "      <td>0</td>\n",
              "      <td>1</td>\n",
              "      <td>1</td>\n",
              "      <td>0</td>\n",
              "      <td>0</td>\n",
              "    </tr>\n",
              "  </tbody>\n",
              "</table>\n",
              "</div>\n",
              "      <button class=\"colab-df-convert\" onclick=\"convertToInteractive('df-2a038aa0-9066-4b88-ae2f-81359e62fad6')\"\n",
              "              title=\"Convert this dataframe to an interactive table.\"\n",
              "              style=\"display:none;\">\n",
              "        \n",
              "  <svg xmlns=\"http://www.w3.org/2000/svg\" height=\"24px\"viewBox=\"0 0 24 24\"\n",
              "       width=\"24px\">\n",
              "    <path d=\"M0 0h24v24H0V0z\" fill=\"none\"/>\n",
              "    <path d=\"M18.56 5.44l.94 2.06.94-2.06 2.06-.94-2.06-.94-.94-2.06-.94 2.06-2.06.94zm-11 1L8.5 8.5l.94-2.06 2.06-.94-2.06-.94L8.5 2.5l-.94 2.06-2.06.94zm10 10l.94 2.06.94-2.06 2.06-.94-2.06-.94-.94-2.06-.94 2.06-2.06.94z\"/><path d=\"M17.41 7.96l-1.37-1.37c-.4-.4-.92-.59-1.43-.59-.52 0-1.04.2-1.43.59L10.3 9.45l-7.72 7.72c-.78.78-.78 2.05 0 2.83L4 21.41c.39.39.9.59 1.41.59.51 0 1.02-.2 1.41-.59l7.78-7.78 2.81-2.81c.8-.78.8-2.07 0-2.86zM5.41 20L4 18.59l7.72-7.72 1.47 1.35L5.41 20z\"/>\n",
              "  </svg>\n",
              "      </button>\n",
              "      \n",
              "  <style>\n",
              "    .colab-df-container {\n",
              "      display:flex;\n",
              "      flex-wrap:wrap;\n",
              "      gap: 12px;\n",
              "    }\n",
              "\n",
              "    .colab-df-convert {\n",
              "      background-color: #E8F0FE;\n",
              "      border: none;\n",
              "      border-radius: 50%;\n",
              "      cursor: pointer;\n",
              "      display: none;\n",
              "      fill: #1967D2;\n",
              "      height: 32px;\n",
              "      padding: 0 0 0 0;\n",
              "      width: 32px;\n",
              "    }\n",
              "\n",
              "    .colab-df-convert:hover {\n",
              "      background-color: #E2EBFA;\n",
              "      box-shadow: 0px 1px 2px rgba(60, 64, 67, 0.3), 0px 1px 3px 1px rgba(60, 64, 67, 0.15);\n",
              "      fill: #174EA6;\n",
              "    }\n",
              "\n",
              "    [theme=dark] .colab-df-convert {\n",
              "      background-color: #3B4455;\n",
              "      fill: #D2E3FC;\n",
              "    }\n",
              "\n",
              "    [theme=dark] .colab-df-convert:hover {\n",
              "      background-color: #434B5C;\n",
              "      box-shadow: 0px 1px 3px 1px rgba(0, 0, 0, 0.15);\n",
              "      filter: drop-shadow(0px 1px 2px rgba(0, 0, 0, 0.3));\n",
              "      fill: #FFFFFF;\n",
              "    }\n",
              "  </style>\n",
              "\n",
              "      <script>\n",
              "        const buttonEl =\n",
              "          document.querySelector('#df-2a038aa0-9066-4b88-ae2f-81359e62fad6 button.colab-df-convert');\n",
              "        buttonEl.style.display =\n",
              "          google.colab.kernel.accessAllowed ? 'block' : 'none';\n",
              "\n",
              "        async function convertToInteractive(key) {\n",
              "          const element = document.querySelector('#df-2a038aa0-9066-4b88-ae2f-81359e62fad6');\n",
              "          const dataTable =\n",
              "            await google.colab.kernel.invokeFunction('convertToInteractive',\n",
              "                                                     [key], {});\n",
              "          if (!dataTable) return;\n",
              "\n",
              "          const docLinkHtml = 'Like what you see? Visit the ' +\n",
              "            '<a target=\"_blank\" href=https://colab.research.google.com/notebooks/data_table.ipynb>data table notebook</a>'\n",
              "            + ' to learn more about interactive tables.';\n",
              "          element.innerHTML = '';\n",
              "          dataTable['output_type'] = 'display_data';\n",
              "          await google.colab.output.renderOutput(dataTable, element);\n",
              "          const docLink = document.createElement('div');\n",
              "          docLink.innerHTML = docLinkHtml;\n",
              "          element.appendChild(docLink);\n",
              "        }\n",
              "      </script>\n",
              "    </div>\n",
              "  </div>\n",
              "  "
            ]
          },
          "metadata": {},
          "execution_count": 13
        }
      ],
      "source": [
        "df[:10]"
      ]
    },
    {
      "cell_type": "markdown",
      "metadata": {
        "id": "RQCM7xLBcdcm"
      },
      "source": [
        "##Grouping Data by Address"
      ]
    },
    {
      "cell_type": "code",
      "execution_count": null,
      "metadata": {
        "id": "lTl4MA3PcdAG"
      },
      "outputs": [],
      "source": [
        "##Data TB\n",
        "data1 = df.copy()\n",
        "jumlah_tb = data1.loc[(data1['tbc'] == 1)].copy()\n",
        "jumlah_tb.rename(columns={'Umur': 'Umur1'}, inplace=True)\n",
        "dict_cat = {}\n",
        "dict_num = {}\n",
        "\n",
        "for cat in jumlah_tb.select_dtypes(['object']) :\n",
        "    if (cat == 'Alamat'):\n",
        "        continue\n",
        "    dict_cat[cat] = lambda x: x.value_counts().index[0]\n",
        "for num in jumlah_tb.select_dtypes(['int64', 'float64']):\n",
        "    if((num == 'tbc') or (num == 'dbd') or (num == 'tifoid')):\n",
        "        continue\n",
        "    dict_num[num] = ['mean']\n",
        "    \n",
        "data_perdesa = jumlah_tb.groupby('Alamat').agg({\n",
        "    'tbc': 'count',\n",
        "    **dict_num,\n",
        "    **dict_cat\n",
        "})\n",
        "\n",
        "data_perdesa = data_perdesa[['tbc', 'Umur1']]"
      ]
    },
    {
      "cell_type": "code",
      "execution_count": null,
      "metadata": {
        "id": "6lvGVI47cs2B"
      },
      "outputs": [],
      "source": [
        "##Data DBD\n",
        "data1 = df.copy()\n",
        "jumlah_dbd = data1.loc[(data1['dbd'] == 1)].copy()\n",
        "jumlah_dbd.rename(columns={'Umur': 'Umur2'}, inplace=True)\n",
        "dict_cat = {}\n",
        "dict_num = {}\n",
        "\n",
        "for cat in jumlah_dbd.select_dtypes(['object']) :\n",
        "    if (cat == 'Alamat'):\n",
        "        continue\n",
        "    dict_cat[cat] = lambda x: x.value_counts().index[0]\n",
        "for num in jumlah_dbd.select_dtypes(['int64', 'float64']):\n",
        "    if((num == 'tbc') or (num == 'dbd') or (num == 'tifoid')):\n",
        "        continue\n",
        "    dict_num[num] = ['mean']\n",
        "    \n",
        "data_perdesa1 = jumlah_dbd.groupby('Alamat').agg({\n",
        "    'dbd': 'count',\n",
        "    **dict_num,\n",
        "    **dict_cat\n",
        "})\n",
        "\n",
        "data_perdesa1 = data_perdesa1[['dbd', 'Umur2']]"
      ]
    },
    {
      "cell_type": "code",
      "execution_count": null,
      "metadata": {
        "id": "_V53ltlRcvf6"
      },
      "outputs": [],
      "source": [
        "##Data Tifoid\n",
        "data1 = df.copy()\n",
        "jumlah_tifoid = data1.loc[(data1['tifoid'] == 1)].copy()\n",
        "jumlah_tifoid.rename(columns={'Umur': 'Umur3'}, inplace=True)\n",
        "dict_cat = {}\n",
        "dict_num = {}\n",
        "\n",
        "for cat in jumlah_tifoid.select_dtypes(['object']) :\n",
        "    if (cat == 'Alamat'):\n",
        "        continue\n",
        "    dict_cat[cat] = lambda x: x.value_counts().index[0]\n",
        "for num in jumlah_tifoid.select_dtypes(['int64', 'float64']):\n",
        "    if((num == 'tbc') or (num == 'dbd') or (num == 'tifoid')):\n",
        "        continue\n",
        "    dict_num[num] = ['count']\n",
        "    \n",
        "data_perdesa2 = jumlah_tifoid.groupby('Alamat').agg({\n",
        "    'tifoid': 'count',\n",
        "    **dict_num,\n",
        "    **dict_cat\n",
        "})\n",
        "\n",
        "data_perdesa2 = data_perdesa2[['tifoid', 'Umur3']]"
      ]
    },
    {
      "cell_type": "code",
      "execution_count": null,
      "metadata": {
        "id": "_96V-m-YIozd"
      },
      "outputs": [],
      "source": [
        "#Data Etc\n",
        "data1 = df.copy()\n",
        "jumlah = data1.loc[(data1['Nafsu Makan Kurang'] == 1)].copy()\n",
        "dict_cat = {}\n",
        "dict_num = {}\n",
        "\n",
        "for cat in jumlah.select_dtypes(['object']) :\n",
        "    if (cat == 'Alamat'):\n",
        "        continue\n",
        "    dict_cat[cat] = lambda x: x.value_counts().index[0]\n",
        "for num in jumlah.select_dtypes(['int64', 'float64']):\n",
        "    dict_num[num] = ['count']\n",
        "    \n",
        "data_perdesa3 = jumlah.groupby('Alamat').agg({\n",
        "    **dict_num,\n",
        "    **dict_cat\n",
        "})\n",
        "\n",
        "data_perdesa3 = data_perdesa3[['Nafsu Makan Kurang']]"
      ]
    },
    {
      "cell_type": "code",
      "execution_count": null,
      "metadata": {
        "id": "gJH0LSTSIvU-"
      },
      "outputs": [],
      "source": [
        "#Data Etc\n",
        "data1 = df.copy()\n",
        "jumlah = data1.loc[(data1['Sering Jajan Diluar'] == 1)].copy()\n",
        "dict_cat = {}\n",
        "dict_num = {}\n",
        "\n",
        "for cat in jumlah.select_dtypes(['object']) :\n",
        "    if (cat == 'Alamat'):\n",
        "        continue\n",
        "    dict_cat[cat] = lambda x: x.value_counts().index[0]\n",
        "for num in jumlah.select_dtypes(['int64', 'float64']):\n",
        "    dict_num[num] = ['count']\n",
        "    \n",
        "data_perdesa4 = jumlah.groupby('Alamat').agg({\n",
        "    **dict_num,\n",
        "    **dict_cat\n",
        "})\n",
        "\n",
        "data_perdesa4 = data_perdesa4[['Sering Jajan Diluar']]"
      ]
    },
    {
      "cell_type": "code",
      "execution_count": null,
      "metadata": {
        "id": "3BeQN3R_I18R"
      },
      "outputs": [],
      "source": [
        "#Data Etc\n",
        "data1 = df.copy()\n",
        "jumlah = data1.loc[(data1['Tersedia air bersih'] == 1)].copy()\n",
        "dict_cat = {}\n",
        "dict_num = {}\n",
        "\n",
        "for cat in jumlah.select_dtypes(['object']) :\n",
        "    if (cat == 'Alamat'):\n",
        "        continue\n",
        "    dict_cat[cat] = lambda x: x.value_counts().index[0]\n",
        "for num in jumlah.select_dtypes(['int64', 'float64']):\n",
        "    dict_num[num] = ['count']\n",
        "    \n",
        "data_perdesa5 = jumlah.groupby('Alamat').agg({\n",
        "    **dict_num,\n",
        "    **dict_cat\n",
        "})\n",
        "\n",
        "data_perdesa5 = data_perdesa5[['Tersedia air bersih']]"
      ]
    },
    {
      "cell_type": "code",
      "execution_count": null,
      "metadata": {
        "id": "Kp-7NAp6I-xf"
      },
      "outputs": [],
      "source": [
        "#Data Etc\n",
        "data1 = df.copy()\n",
        "jumlah = data1.loc[(data1['Ada lalat/nyamuk di sekitar tumpukan sampah'] == 1)].copy()\n",
        "dict_cat = {}\n",
        "dict_num = {}\n",
        "\n",
        "for cat in jumlah.select_dtypes(['object']) :\n",
        "    if (cat == 'Alamat'):\n",
        "        continue\n",
        "    dict_cat[cat] = lambda x: x.value_counts().index[0]\n",
        "for num in jumlah.select_dtypes(['int64', 'float64']):\n",
        "    dict_num[num] = ['count']\n",
        "    \n",
        "data_perdesa6 = jumlah.groupby('Alamat').agg({\n",
        "    **dict_num,\n",
        "    **dict_cat\n",
        "})\n",
        "\n",
        "data_perdesa6 = data_perdesa6[['Ada lalat/nyamuk di sekitar tumpukan sampah']]"
      ]
    },
    {
      "cell_type": "code",
      "execution_count": null,
      "metadata": {
        "id": "4df1u6ElJH9F"
      },
      "outputs": [],
      "source": [
        "#Data Etc\n",
        "data1 = df.copy()\n",
        "jumlah = data1.loc[(data1['Ada ventilasi disemua ruangan'] == 1)].copy()\n",
        "dict_cat = {}\n",
        "dict_num = {}\n",
        "\n",
        "for cat in jumlah.select_dtypes(['object']) :\n",
        "    if (cat == 'Alamat'):\n",
        "        continue\n",
        "    dict_cat[cat] = lambda x: x.value_counts().index[0]\n",
        "for num in jumlah.select_dtypes(['int64', 'float64']):\n",
        "    dict_num[num] = ['count']\n",
        "    \n",
        "data_perdesa7 = jumlah.groupby('Alamat').agg({\n",
        "    **dict_num,\n",
        "    **dict_cat\n",
        "})\n",
        "\n",
        "data_perdesa7 = data_perdesa7[['Ada ventilasi disemua ruangan']]"
      ]
    },
    {
      "cell_type": "code",
      "execution_count": null,
      "metadata": {
        "id": "qSoqnsztczfM"
      },
      "outputs": [],
      "source": [
        "#Data Etc\n",
        "data1 = df.copy()\n",
        "jumlah = data1.loc[(data1['Sering Pakai Jamban/Toilet'] == 1)].copy()\n",
        "dict_cat = {}\n",
        "dict_num = {}\n",
        "\n",
        "for cat in jumlah.select_dtypes(['object']) :\n",
        "    if (cat == 'Alamat'):\n",
        "        continue\n",
        "    dict_cat[cat] = lambda x: x.value_counts().index[0]\n",
        "for num in jumlah.select_dtypes(['int64', 'float64']):\n",
        "\n",
        "    dict_num[num] = ['count']\n",
        "    \n",
        "data_perdesa8 = jumlah.groupby('Alamat').agg({\n",
        "    **dict_num,\n",
        "    **dict_cat\n",
        "})\n",
        "\n",
        "data_perdesa8 = data_perdesa8[['Sering Pakai Jamban/Toilet']]"
      ]
    },
    {
      "cell_type": "code",
      "execution_count": null,
      "metadata": {
        "id": "VxfQYOgwc72_"
      },
      "outputs": [],
      "source": [
        "##merge 4 column data\n",
        "merge_data = pd.concat([data_perdesa, \n",
        "                          data_perdesa1, \n",
        "                          data_perdesa2,\n",
        "                          data_perdesa3,\n",
        "                          data_perdesa4, \n",
        "                          data_perdesa5,\n",
        "                          data_perdesa6,\n",
        "                          data_perdesa7, \n",
        "                          data_perdesa8], axis='columns')\n",
        "\n",
        "#remove nan data\n",
        "merge_data  = merge_data .replace(np.NaN, 0)"
      ]
    },
    {
      "cell_type": "code",
      "execution_count": null,
      "metadata": {
        "id": "vtRfjmNJdGya"
      },
      "outputs": [],
      "source": [
        "##fix named columns\n",
        "merge_data.columns = merge_data.columns.map(''.join).str.strip('|')\n",
        "merge_data.columns = [\n",
        "    c.replace('mean', '').replace('count', '') for c in merge_data.columns\n",
        "]\n"
      ]
    },
    {
      "cell_type": "code",
      "execution_count": null,
      "metadata": {
        "id": "hcKscq94Kt4f"
      },
      "outputs": [],
      "source": [
        "#evarage column umur\n",
        "merge_data['Umur'] = (merge_data['Umur1']+merge_data['Umur2']+merge_data['Umur3'])/3\n",
        "merge_data = merge_data.drop(['Umur1', 'Umur2', 'Umur3'], axis=1)\n",
        "\n",
        "#convert to float columns int\n",
        "merge_data['Sering Pakai Jamban/Toilet'] = merge_data['Sering Pakai Jamban/Toilet'].astype(float)"
      ]
    },
    {
      "cell_type": "code",
      "execution_count": null,
      "metadata": {
        "id": "afPAcedqEEIU"
      },
      "outputs": [],
      "source": [
        "merge_data.index.name = None"
      ]
    },
    {
      "cell_type": "code",
      "execution_count": null,
      "metadata": {
        "colab": {
          "base_uri": "https://localhost:8080/"
        },
        "id": "tNQu2WAXNbK1",
        "outputId": "8fbd19ac-169e-48fe-b73e-98c69fda5e8f"
      },
      "outputs": [
        {
          "output_type": "execute_result",
          "data": {
            "text/plain": [
              "                      tbc   dbd  tifoid  Nafsu Makan Kurang  \\\n",
              "Bili Bili (Gowa)     11.0   9.0    14.0                26.0   \n",
              "Binangae (Gowa)       1.0   0.0     0.0                 0.0   \n",
              "Bonto Bontoa (Gowa)   2.0  10.0     3.0                14.0   \n",
              "Bonto-Bonto (Gowa)    1.0   0.0     0.0                 0.0   \n",
              "Bontomanai (Gowa)    36.0  29.0    54.0               103.0   \n",
              "Bontomarannu (Gowa)   5.0   1.0     2.0                 5.0   \n",
              "Bontonompo (Gowa)     2.0   0.0     1.0                 1.0   \n",
              "Bontoramba (Gowa)     4.0   8.0     8.0                17.0   \n",
              "Bontotangnga (Gowa)   1.0   0.0     0.0                 1.0   \n",
              "Borong (Gowa)         1.0   0.0     0.0                 1.0   \n",
              "\n",
              "                     Sering Jajan Diluar  Tersedia air bersih  \\\n",
              "Bili Bili (Gowa)                    19.0                 33.0   \n",
              "Binangae (Gowa)                      1.0                  1.0   \n",
              "Bonto Bontoa (Gowa)                 13.0                 15.0   \n",
              "Bonto-Bonto (Gowa)                   1.0                  1.0   \n",
              "Bontomanai (Gowa)                   73.0                119.0   \n",
              "Bontomarannu (Gowa)                  6.0                  8.0   \n",
              "Bontonompo (Gowa)                    1.0                  3.0   \n",
              "Bontoramba (Gowa)                   16.0                 20.0   \n",
              "Bontotangnga (Gowa)                  0.0                  1.0   \n",
              "Borong (Gowa)                        0.0                  1.0   \n",
              "\n",
              "                     Ada lalat/nyamuk di sekitar tumpukan sampah  \\\n",
              "Bili Bili (Gowa)                                             1.0   \n",
              "Binangae (Gowa)                                              0.0   \n",
              "Bonto Bontoa (Gowa)                                          2.0   \n",
              "Bonto-Bonto (Gowa)                                           0.0   \n",
              "Bontomanai (Gowa)                                            5.0   \n",
              "Bontomarannu (Gowa)                                          0.0   \n",
              "Bontonompo (Gowa)                                            0.0   \n",
              "Bontoramba (Gowa)                                            1.0   \n",
              "Bontotangnga (Gowa)                                          0.0   \n",
              "Borong (Gowa)                                                0.0   \n",
              "\n",
              "                     Ada ventilasi disemua ruangan  \\\n",
              "Bili Bili (Gowa)                              18.0   \n",
              "Binangae (Gowa)                                1.0   \n",
              "Bonto Bontoa (Gowa)                            6.0   \n",
              "Bonto-Bonto (Gowa)                             0.0   \n",
              "Bontomanai (Gowa)                             63.0   \n",
              "Bontomarannu (Gowa)                            5.0   \n",
              "Bontonompo (Gowa)                              1.0   \n",
              "Bontoramba (Gowa)                             14.0   \n",
              "Bontotangnga (Gowa)                            0.0   \n",
              "Borong (Gowa)                                  0.0   \n",
              "\n",
              "                     Sering Pakai Jamban/Toilet       Umur  \n",
              "Bili Bili (Gowa)                           31.0  28.659933  \n",
              "Binangae (Gowa)                             1.0   9.666667  \n",
              "Bonto Bontoa (Gowa)                        14.0  27.333333  \n",
              "Bonto-Bonto (Gowa)                          1.0   6.000000  \n",
              "Bontomanai (Gowa)                         115.0  37.869413  \n",
              "Bontomarannu (Gowa)                         8.0  13.933333  \n",
              "Bontonompo (Gowa)                           3.0  16.500000  \n",
              "Bontoramba (Gowa)                          18.0  21.625000  \n",
              "Bontotangnga (Gowa)                         1.0  19.333333  \n",
              "Borong (Gowa)                               1.0  15.000000  "
            ],
            "text/html": [
              "\n",
              "  <div id=\"df-b01e0a83-35d8-48ae-aec9-0568590a0b3c\">\n",
              "    <div class=\"colab-df-container\">\n",
              "      <div>\n",
              "<style scoped>\n",
              "    .dataframe tbody tr th:only-of-type {\n",
              "        vertical-align: middle;\n",
              "    }\n",
              "\n",
              "    .dataframe tbody tr th {\n",
              "        vertical-align: top;\n",
              "    }\n",
              "\n",
              "    .dataframe thead th {\n",
              "        text-align: right;\n",
              "    }\n",
              "</style>\n",
              "<table border=\"1\" class=\"dataframe\">\n",
              "  <thead>\n",
              "    <tr style=\"text-align: right;\">\n",
              "      <th></th>\n",
              "      <th>tbc</th>\n",
              "      <th>dbd</th>\n",
              "      <th>tifoid</th>\n",
              "      <th>Nafsu Makan Kurang</th>\n",
              "      <th>Sering Jajan Diluar</th>\n",
              "      <th>Tersedia air bersih</th>\n",
              "      <th>Ada lalat/nyamuk di sekitar tumpukan sampah</th>\n",
              "      <th>Ada ventilasi disemua ruangan</th>\n",
              "      <th>Sering Pakai Jamban/Toilet</th>\n",
              "      <th>Umur</th>\n",
              "    </tr>\n",
              "  </thead>\n",
              "  <tbody>\n",
              "    <tr>\n",
              "      <th>Bili Bili (Gowa)</th>\n",
              "      <td>11.0</td>\n",
              "      <td>9.0</td>\n",
              "      <td>14.0</td>\n",
              "      <td>26.0</td>\n",
              "      <td>19.0</td>\n",
              "      <td>33.0</td>\n",
              "      <td>1.0</td>\n",
              "      <td>18.0</td>\n",
              "      <td>31.0</td>\n",
              "      <td>28.659933</td>\n",
              "    </tr>\n",
              "    <tr>\n",
              "      <th>Binangae (Gowa)</th>\n",
              "      <td>1.0</td>\n",
              "      <td>0.0</td>\n",
              "      <td>0.0</td>\n",
              "      <td>0.0</td>\n",
              "      <td>1.0</td>\n",
              "      <td>1.0</td>\n",
              "      <td>0.0</td>\n",
              "      <td>1.0</td>\n",
              "      <td>1.0</td>\n",
              "      <td>9.666667</td>\n",
              "    </tr>\n",
              "    <tr>\n",
              "      <th>Bonto Bontoa (Gowa)</th>\n",
              "      <td>2.0</td>\n",
              "      <td>10.0</td>\n",
              "      <td>3.0</td>\n",
              "      <td>14.0</td>\n",
              "      <td>13.0</td>\n",
              "      <td>15.0</td>\n",
              "      <td>2.0</td>\n",
              "      <td>6.0</td>\n",
              "      <td>14.0</td>\n",
              "      <td>27.333333</td>\n",
              "    </tr>\n",
              "    <tr>\n",
              "      <th>Bonto-Bonto (Gowa)</th>\n",
              "      <td>1.0</td>\n",
              "      <td>0.0</td>\n",
              "      <td>0.0</td>\n",
              "      <td>0.0</td>\n",
              "      <td>1.0</td>\n",
              "      <td>1.0</td>\n",
              "      <td>0.0</td>\n",
              "      <td>0.0</td>\n",
              "      <td>1.0</td>\n",
              "      <td>6.000000</td>\n",
              "    </tr>\n",
              "    <tr>\n",
              "      <th>Bontomanai (Gowa)</th>\n",
              "      <td>36.0</td>\n",
              "      <td>29.0</td>\n",
              "      <td>54.0</td>\n",
              "      <td>103.0</td>\n",
              "      <td>73.0</td>\n",
              "      <td>119.0</td>\n",
              "      <td>5.0</td>\n",
              "      <td>63.0</td>\n",
              "      <td>115.0</td>\n",
              "      <td>37.869413</td>\n",
              "    </tr>\n",
              "    <tr>\n",
              "      <th>Bontomarannu (Gowa)</th>\n",
              "      <td>5.0</td>\n",
              "      <td>1.0</td>\n",
              "      <td>2.0</td>\n",
              "      <td>5.0</td>\n",
              "      <td>6.0</td>\n",
              "      <td>8.0</td>\n",
              "      <td>0.0</td>\n",
              "      <td>5.0</td>\n",
              "      <td>8.0</td>\n",
              "      <td>13.933333</td>\n",
              "    </tr>\n",
              "    <tr>\n",
              "      <th>Bontonompo (Gowa)</th>\n",
              "      <td>2.0</td>\n",
              "      <td>0.0</td>\n",
              "      <td>1.0</td>\n",
              "      <td>1.0</td>\n",
              "      <td>1.0</td>\n",
              "      <td>3.0</td>\n",
              "      <td>0.0</td>\n",
              "      <td>1.0</td>\n",
              "      <td>3.0</td>\n",
              "      <td>16.500000</td>\n",
              "    </tr>\n",
              "    <tr>\n",
              "      <th>Bontoramba (Gowa)</th>\n",
              "      <td>4.0</td>\n",
              "      <td>8.0</td>\n",
              "      <td>8.0</td>\n",
              "      <td>17.0</td>\n",
              "      <td>16.0</td>\n",
              "      <td>20.0</td>\n",
              "      <td>1.0</td>\n",
              "      <td>14.0</td>\n",
              "      <td>18.0</td>\n",
              "      <td>21.625000</td>\n",
              "    </tr>\n",
              "    <tr>\n",
              "      <th>Bontotangnga (Gowa)</th>\n",
              "      <td>1.0</td>\n",
              "      <td>0.0</td>\n",
              "      <td>0.0</td>\n",
              "      <td>1.0</td>\n",
              "      <td>0.0</td>\n",
              "      <td>1.0</td>\n",
              "      <td>0.0</td>\n",
              "      <td>0.0</td>\n",
              "      <td>1.0</td>\n",
              "      <td>19.333333</td>\n",
              "    </tr>\n",
              "    <tr>\n",
              "      <th>Borong (Gowa)</th>\n",
              "      <td>1.0</td>\n",
              "      <td>0.0</td>\n",
              "      <td>0.0</td>\n",
              "      <td>1.0</td>\n",
              "      <td>0.0</td>\n",
              "      <td>1.0</td>\n",
              "      <td>0.0</td>\n",
              "      <td>0.0</td>\n",
              "      <td>1.0</td>\n",
              "      <td>15.000000</td>\n",
              "    </tr>\n",
              "  </tbody>\n",
              "</table>\n",
              "</div>\n",
              "      <button class=\"colab-df-convert\" onclick=\"convertToInteractive('df-b01e0a83-35d8-48ae-aec9-0568590a0b3c')\"\n",
              "              title=\"Convert this dataframe to an interactive table.\"\n",
              "              style=\"display:none;\">\n",
              "        \n",
              "  <svg xmlns=\"http://www.w3.org/2000/svg\" height=\"24px\"viewBox=\"0 0 24 24\"\n",
              "       width=\"24px\">\n",
              "    <path d=\"M0 0h24v24H0V0z\" fill=\"none\"/>\n",
              "    <path d=\"M18.56 5.44l.94 2.06.94-2.06 2.06-.94-2.06-.94-.94-2.06-.94 2.06-2.06.94zm-11 1L8.5 8.5l.94-2.06 2.06-.94-2.06-.94L8.5 2.5l-.94 2.06-2.06.94zm10 10l.94 2.06.94-2.06 2.06-.94-2.06-.94-.94-2.06-.94 2.06-2.06.94z\"/><path d=\"M17.41 7.96l-1.37-1.37c-.4-.4-.92-.59-1.43-.59-.52 0-1.04.2-1.43.59L10.3 9.45l-7.72 7.72c-.78.78-.78 2.05 0 2.83L4 21.41c.39.39.9.59 1.41.59.51 0 1.02-.2 1.41-.59l7.78-7.78 2.81-2.81c.8-.78.8-2.07 0-2.86zM5.41 20L4 18.59l7.72-7.72 1.47 1.35L5.41 20z\"/>\n",
              "  </svg>\n",
              "      </button>\n",
              "      \n",
              "  <style>\n",
              "    .colab-df-container {\n",
              "      display:flex;\n",
              "      flex-wrap:wrap;\n",
              "      gap: 12px;\n",
              "    }\n",
              "\n",
              "    .colab-df-convert {\n",
              "      background-color: #E8F0FE;\n",
              "      border: none;\n",
              "      border-radius: 50%;\n",
              "      cursor: pointer;\n",
              "      display: none;\n",
              "      fill: #1967D2;\n",
              "      height: 32px;\n",
              "      padding: 0 0 0 0;\n",
              "      width: 32px;\n",
              "    }\n",
              "\n",
              "    .colab-df-convert:hover {\n",
              "      background-color: #E2EBFA;\n",
              "      box-shadow: 0px 1px 2px rgba(60, 64, 67, 0.3), 0px 1px 3px 1px rgba(60, 64, 67, 0.15);\n",
              "      fill: #174EA6;\n",
              "    }\n",
              "\n",
              "    [theme=dark] .colab-df-convert {\n",
              "      background-color: #3B4455;\n",
              "      fill: #D2E3FC;\n",
              "    }\n",
              "\n",
              "    [theme=dark] .colab-df-convert:hover {\n",
              "      background-color: #434B5C;\n",
              "      box-shadow: 0px 1px 3px 1px rgba(0, 0, 0, 0.15);\n",
              "      filter: drop-shadow(0px 1px 2px rgba(0, 0, 0, 0.3));\n",
              "      fill: #FFFFFF;\n",
              "    }\n",
              "  </style>\n",
              "\n",
              "      <script>\n",
              "        const buttonEl =\n",
              "          document.querySelector('#df-b01e0a83-35d8-48ae-aec9-0568590a0b3c button.colab-df-convert');\n",
              "        buttonEl.style.display =\n",
              "          google.colab.kernel.accessAllowed ? 'block' : 'none';\n",
              "\n",
              "        async function convertToInteractive(key) {\n",
              "          const element = document.querySelector('#df-b01e0a83-35d8-48ae-aec9-0568590a0b3c');\n",
              "          const dataTable =\n",
              "            await google.colab.kernel.invokeFunction('convertToInteractive',\n",
              "                                                     [key], {});\n",
              "          if (!dataTable) return;\n",
              "\n",
              "          const docLinkHtml = 'Like what you see? Visit the ' +\n",
              "            '<a target=\"_blank\" href=https://colab.research.google.com/notebooks/data_table.ipynb>data table notebook</a>'\n",
              "            + ' to learn more about interactive tables.';\n",
              "          element.innerHTML = '';\n",
              "          dataTable['output_type'] = 'display_data';\n",
              "          await google.colab.output.renderOutput(dataTable, element);\n",
              "          const docLink = document.createElement('div');\n",
              "          docLink.innerHTML = docLinkHtml;\n",
              "          element.appendChild(docLink);\n",
              "        }\n",
              "      </script>\n",
              "    </div>\n",
              "  </div>\n",
              "  "
            ]
          },
          "metadata": {},
          "execution_count": 27
        }
      ],
      "source": [
        "merge_data.shape\n",
        "merge_data[:10]"
      ]
    },
    {
      "cell_type": "code",
      "execution_count": null,
      "metadata": {
        "colab": {
          "base_uri": "https://localhost:8080/"
        },
        "id": "u5Jwddgwdw2-",
        "outputId": "df945025-8d8c-4ec6-c7bc-53ff5ac06231"
      },
      "outputs": [
        {
          "output_type": "stream",
          "name": "stdout",
          "text": [
            "Bili Bili\n",
            "Binangae\n",
            "Bonto Bontoa\n",
            "Bonto-Bonto\n",
            "Bontomanai\n",
            "Bontomarannu\n",
            "Bontonompo\n",
            "Bontoramba\n",
            "Bontotangnga\n",
            "Borong\n",
            "Borongloe\n",
            "Gowa\n",
            "Jalan Bangkala, Manggala\n",
            "Jalan Danau Mawang No. 4\n",
            "Jalan Poros Malino\n",
            "Maccini Baji\n",
            "Mata Allo\n",
            "Nirannuang\n",
            "Pakatto\n",
            "Palangga\n",
            "Pattalassang\n",
            "Romang Lompoa\n",
            "Romangloe\n",
            "Samata\n",
            "Sokkolia\n",
            "Somba Opu\n",
            "Barombong\n",
            "Borong Sapiri\n",
            "Kampung Beru\n",
            "Lempangang\n",
            "Moncongloe\n",
            "Sungguminasa\n",
            "Tangkebajeng\n",
            "Buntu Alang\n",
            "Lauwa\n",
            "Pallantikang\n",
            "Panambungan\n",
            "Romang Polong\n",
            "Sapaya\n"
          ]
        }
      ],
      "source": [
        "#COUNT LOGITUDE AND LATITUDE FOR ALL DESA\n",
        "alamat = []\n",
        "for i in merge_data.index:\n",
        "  splitted = i.split(' (')\n",
        "  alamat.append(splitted[0])\n",
        "geolocator = Nominatim(user_agent=\"tes\")\n",
        "coord = []\n",
        "for i in range(0, len(alamat)):\n",
        "  loc = alamat[i]\n",
        "  location = geolocator.geocode(loc, timeout=None)\n",
        "  if location != None:\n",
        "    m = 0.0025\n",
        "    coord.append([[location.latitude, location.longitude],\n",
        "                  [location.latitude + m, location.longitude + m],\n",
        "                  [location.latitude + m, location.longitude - m],\n",
        "                  [location.latitude - m, location.longitude + m],\n",
        "                  [location.latitude - m, location.longitude - m]])\n",
        "    print(loc)\n",
        "coord1 = [i[0] for i in coord]\n",
        "coord2 = [i[1] for i in coord]\n",
        "coord3 = [i[2] for i in coord]\n",
        "coord4 = [i[3] for i in coord]\n",
        "coord5 = [i[4] for i in coord]"
      ]
    },
    {
      "cell_type": "markdown",
      "metadata": {
        "id": "0DqDoMrVmuy3"
      },
      "source": [
        "## **ALGORITHM**"
      ]
    },
    {
      "cell_type": "markdown",
      "metadata": {
        "id": "TXJ1pP3RTV3G"
      },
      "source": [
        "Kmeans from Scratch"
      ]
    },
    {
      "cell_type": "code",
      "execution_count": null,
      "metadata": {
        "id": "i7NBjXakoCxT"
      },
      "outputs": [],
      "source": [
        "class KMeans:\n",
        "    def __init__(\n",
        "            self,\n",
        "            n_cluster: int,\n",
        "            init_pp: bool = True,\n",
        "            max_iter: int = 300,\n",
        "            tolerance: float = 1e-4,\n",
        "            seed: int = None):\n",
        "        self.n_cluster = n_cluster\n",
        "        self.max_iter = max_iter\n",
        "        self.tolerance = tolerance\n",
        "        self.init_pp = init_pp\n",
        "        self.seed = seed\n",
        "        self.centroid = None\n",
        "        self.SSE = None\n",
        "  \n",
        "    def fit(self, data: np.ndarray):\n",
        "        self.centroid = self._init_centroid(data)\n",
        "        for _ in range(self.max_iter):\n",
        "            distance = self._calc_distance(data)\n",
        "            cluster = self._assign_cluster(distance)\n",
        "            new_centroid = self._update_centroid(data, cluster)\n",
        "            diff = np.abs(self.centroid - new_centroid).mean()\n",
        "            self.centroid = new_centroid\n",
        "\n",
        "            if diff <= self.tolerance:\n",
        "                break\n",
        "\n",
        "        self.SSE = calc_sse(self.centroid, cluster, data)\n",
        "\n",
        "    def predict(self, data: np.ndarray):\n",
        "        distance = self._calc_distance(data)\n",
        "        # print(distance.shape)\n",
        "        cluster = self._assign_cluster(distance)\n",
        "        # print(cluster.shape)\n",
        "        return cluster\n",
        "\n",
        "    def _init_centroid(self, data: np.ndarray):\n",
        "        if self.init_pp:\n",
        "            np.random.seed(self.seed)\n",
        "            centroid = [int(np.random.uniform()*len(data))]\n",
        "            for _ in range(1, self.n_cluster):\n",
        "                dist = []\n",
        "                dist = [min([np.inner(data[c]-x, data[c]-x) for c in centroid])\n",
        "                        for i, x in enumerate(data)]\n",
        "                dist = np.array(dist)\n",
        "                dist = dist / dist.sum()\n",
        "                cumdist = np.cumsum(dist)\n",
        "\n",
        "                prob = np.random.rand()\n",
        "                for i, c in enumerate(cumdist):\n",
        "                    if prob > c and i not in centroid:\n",
        "                        centroid.append(i)\n",
        "                        break\n",
        "            centroid = np.array([data[c] for c in centroid])\n",
        "        else:\n",
        "            np.random.seed(self.seed)\n",
        "            idx = np.random.choice(range(len(data)), size=(self.n_cluster))\n",
        "            centroid = data[idx]\n",
        "        # print(centroid)\n",
        "        return centroid\n",
        "\n",
        "    def _calc_distance(self, data: np.ndarray):\n",
        "        distances = []\n",
        "        for c in self.centroid:\n",
        "            distance = np.sum((data - c) * (data - c), axis=1)\n",
        "            distances.append(distance)\n",
        "\n",
        "        distances = np.array(distances)\n",
        "        distances = distances.T\n",
        "        return distances\n",
        "\n",
        "    def _assign_cluster(self, distance: np.ndarray):\n",
        "        cluster = np.argmin(distance, axis=1)\n",
        "        return cluster\n",
        "\n",
        "    def _update_centroid(self, data: np.ndarray, cluster: np.ndarray):\n",
        "        centroids = []\n",
        "        for i in range(self.n_cluster):\n",
        "            idx = np.where(cluster == i)\n",
        "            centroid = np.mean(data[idx], axis=0)\n",
        "            centroids.append(centroid)\n",
        "        centroids = np.array(centroids)\n",
        "        return centroids"
      ]
    },
    {
      "cell_type": "markdown",
      "metadata": {
        "id": "sA3n8J2HTbkj"
      },
      "source": [
        "SSE"
      ]
    },
    {
      "cell_type": "code",
      "execution_count": null,
      "metadata": {
        "id": "ThkpxD3xn-cD"
      },
      "outputs": [],
      "source": [
        "def calc_sse(centroids: np.ndarray, labels: np.ndarray, data: np.ndarray):\n",
        "    distances = 0\n",
        "    for i, c in enumerate(centroids):\n",
        "        idx = np.where(labels == i)\n",
        "        dist = np.sum((data[idx] - c)**2)\n",
        "        distances += dist\n",
        "    return distances"
      ]
    },
    {
      "cell_type": "markdown",
      "metadata": {
        "id": "MwBSpmrCTdaA"
      },
      "source": [
        "Quantization Error"
      ]
    },
    {
      "cell_type": "code",
      "execution_count": null,
      "metadata": {
        "id": "1lpkGUnFrIy4"
      },
      "outputs": [],
      "source": [
        "def quantization_error(centroids: np.ndarray, labels: np.ndarray, data: np.ndarray) -> float:\n",
        "    error = 0.0\n",
        "    for i, c in enumerate(centroids):\n",
        "        idx = np.where(labels == i)\n",
        "        dist = np.linalg.norm(data[idx] - c)\n",
        "        dist /= len(idx)\n",
        "        error += dist\n",
        "    error /= len(centroids)\n",
        "    return error"
      ]
    },
    {
      "cell_type": "markdown",
      "metadata": {
        "id": "4P9uGlS_TgHm"
      },
      "source": [
        "Particle for PSO"
      ]
    },
    {
      "cell_type": "code",
      "execution_count": null,
      "metadata": {
        "id": "fgB6q8QHntmA"
      },
      "outputs": [],
      "source": [
        "class Particle:\n",
        "    def __init__(self,\n",
        "                 n_cluster: int,\n",
        "                 data: np.ndarray,\n",
        "                 use_kmeans: bool = False,\n",
        "                 w: float = 0.9,\n",
        "                 c1: float = 0.5,\n",
        "                 c2: float = 0.3):\n",
        "        index = np.random.choice(list(range(len(data))), n_cluster)\n",
        "        self.centroids = data[index].copy()\n",
        "        if use_kmeans:\n",
        "            kmeans = KMeans(n_cluster=n_cluster, init_pp=False)\n",
        "            kmeans.fit(data)\n",
        "            self.centroids = kmeans.centroid.copy()\n",
        "        self.best_position = self.centroids.copy()\n",
        "        self.best_score = quantization_error(self.centroids, self._predict(data), data)\n",
        "        self.best_sse = calc_sse(self.centroids, self._predict(data), data)\n",
        "        self.velocity = np.zeros_like(self.centroids)\n",
        "        self._w = w\n",
        "        self._c1 = c1\n",
        "        self._c2 = c2\n",
        "        self.r1 = 0  # tambahkana variabel r1\n",
        "        self.r2 = 0  # tambahkan variabel r2\n",
        "\n",
        "    def update(self, gbest_position: np.ndarray, data: np.ndarray):\n",
        "        self._update_velocity(gbest_position)\n",
        "        self._update_centroids(data)\n",
        "\n",
        "    def _update_velocity(self, gbest_position: np.ndarray):\n",
        "        v_old = self._w * self.velocity\n",
        "        self.r1 = np.random.random()\n",
        "        self.r2 = np.random.random()\n",
        "        cognitive_component = self._c1 * self.r1 * (self.best_position - self.centroids)\n",
        "        social_component = self._c2 * self.r2 * (gbest_position - self.centroids)\n",
        "        self.velocity = v_old + cognitive_component + social_component\n",
        "\n",
        "    def _update_centroids(self, data: np.ndarray):\n",
        "        self.centroids = self.centroids + self.velocity\n",
        "        new_score = quantization_error(self.centroids, self._predict(data), data)\n",
        "        sse = calc_sse(self.centroids, self._predict(data), data)\n",
        "        self.best_sse = min(sse, self.best_sse)\n",
        "        if new_score < self.best_score:\n",
        "            self.best_score = new_score\n",
        "            self.best_position = self.centroids.copy()\n",
        "\n",
        "    def _predict(self, data: np.ndarray) -> np.ndarray:\n",
        "        distance = self._calc_distance(data)\n",
        "        cluster = self._assign_cluster(distance)\n",
        "        return cluster\n",
        "\n",
        "    def _calc_distance(self, data: np.ndarray) -> np.ndarray:\n",
        "        distances = []\n",
        "        for c in self.centroids:\n",
        "            distance = np.sum((data - c) * (data - c), axis=1)\n",
        "            distances.append(distance)\n",
        "\n",
        "        distances = np.array(distances)\n",
        "        distances = np.transpose(distances)\n",
        "        return distances\n",
        "\n",
        "    def _assign_cluster(self, distance: np.ndarray) -> np.ndarray:\n",
        "        cluster = np.argmin(distance, axis=1)\n",
        "        return cluster\n",
        "    \n",
        "    def print_velocity(self):\n",
        "        print(self.velocity)\n",
        "\n",
        "    def print_r1(self):\n",
        "        print(self.r1)\n",
        "    \n",
        "    def print_r2(self):\n",
        "        print(self.r2)\n",
        "        \n",
        "    def print_best_position(self):\n",
        "        print(self.best_position)"
      ]
    },
    {
      "cell_type": "markdown",
      "metadata": {
        "id": "GId7j20oTvbb"
      },
      "source": [
        "PSO from Scratch"
      ]
    },
    {
      "cell_type": "code",
      "execution_count": null,
      "metadata": {
        "id": "_vHIa8EsnIEa"
      },
      "outputs": [],
      "source": [
        "class ParticleSwarmOptimizedClustering:\n",
        "    def __init__(self,\n",
        "                 n_cluster: int,\n",
        "                 n_particles: int,\n",
        "                 data: np.ndarray,\n",
        "                 hybrid: bool = True,\n",
        "                 max_iter: int = 100,\n",
        "                 print_debug: int = 10):\n",
        "        self.n_cluster = n_cluster\n",
        "        self.n_particles = n_particles\n",
        "        self.data = data\n",
        "        self.max_iter = max_iter\n",
        "        self.particles = []\n",
        "        self.hybrid = hybrid\n",
        "\n",
        "        self.print_debug = print_debug\n",
        "        self.gbest_score = np.inf\n",
        "        self.gbest_centroids = None\n",
        "        self.gbest_position = None\n",
        "        self.gbest_sse = np.inf\n",
        "        self._init_particles()\n",
        "\n",
        "    def _init_particles(self):\n",
        "        for i in range(self.n_particles):\n",
        "            particle = None\n",
        "            if i == 0 and self.hybrid:\n",
        "                particle = Particle(self.n_cluster, self.data, use_kmeans=True)\n",
        "            else:\n",
        "                particle = Particle(self.n_cluster, self.data, use_kmeans=False)\n",
        "            if particle.best_score < self.gbest_score:\n",
        "                self.gbest_centroids = particle.centroids.copy()\n",
        "                self.gbest_score = particle.best_score\n",
        "            self.particles.append(particle)\n",
        "            self.gbest_sse = min(particle.best_sse, self.gbest_sse)\n",
        "\n",
        "    def run(self):\n",
        "        print('Initial global best score', self.gbest_score)\n",
        "        history = []\n",
        "        for i in range(self.max_iter):\n",
        "            for particle in self.particles:\n",
        "                particle.update(self.gbest_centroids, self.data)\n",
        "                # print(i, particle.best_score, self.gbest_score)\n",
        "            for particle in self.particles:\n",
        "                if particle.best_score < self.gbest_score:\n",
        "                    self.gbest_centroids = particle.centroids.copy()\n",
        "                    self.gbest_score = particle.best_score\n",
        "            history.append(self.gbest_score)\n",
        "            if i % self.print_debug == 0:\n",
        "                print('Iteration {:04d}/{:04d} current gbest score {:.18f}'.format(\n",
        "                    i + 1, self.max_iter, self.gbest_score))\n",
        "        print('Finish with gbest score {:.18f}'.format(self.gbest_score))\n",
        "        return history\n",
        "    "
      ]
    },
    {
      "cell_type": "markdown",
      "metadata": {
        "id": "rCbVFNCCUZob"
      },
      "source": [
        "Perhitungan PSO terdiri atas nilai posisi partikel X(t+1) yang diupdate berdasarkan nilai kecepatan partikel U(t+1) dan memiliki persamaan :\n",
        "U(t+1) = wU(t) + c1r1(Pbest-X(t)) + c2r2(Gbest-X(t))\n",
        "\n",
        "Dimana w adalah bobot inersia dengan nilai 0,9 - 1,2;\n",
        "Pbest adalah posisi partikel S yang terbaik dari waktu awal sampai waktu skrg;\n",
        "Gbest adalah global best partikel yg dipilih dari Pbest yang memiliki posisi terbaik;\n",
        "r1 dan r2 adalah bilangan acak 0-1;\n",
        "c1=c2 adalah learning rates yang diperoleh juga secara random"
      ]
    },
    {
      "cell_type": "markdown",
      "metadata": {
        "id": "ATqHRC06Kk3-"
      },
      "source": [
        "##*Data Normalization*"
      ]
    },
    {
      "cell_type": "code",
      "execution_count": null,
      "metadata": {
        "id": "MhApZJwXHhW7",
        "colab": {
          "base_uri": "https://localhost:8080/"
        },
        "outputId": "ba526f35-0ebf-46b6-eeef-a64078ef2f9b"
      },
      "outputs": [
        {
          "output_type": "execute_result",
          "data": {
            "text/plain": [
              "                       tbc       dbd    tifoid  Nafsu Makan Kurang  \\\n",
              "Bili Bili (Gowa)     0.275  0.169811  0.259259            0.228070   \n",
              "Binangae (Gowa)      0.025  0.000000  0.000000            0.000000   \n",
              "Bonto Bontoa (Gowa)  0.050  0.188679  0.055556            0.122807   \n",
              "Bonto-Bonto (Gowa)   0.025  0.000000  0.000000            0.000000   \n",
              "Bontomanai (Gowa)    0.900  0.547170  1.000000            0.903509   \n",
              "Bontomarannu (Gowa)  0.125  0.018868  0.037037            0.043860   \n",
              "Bontonompo (Gowa)    0.050  0.000000  0.018519            0.008772   \n",
              "Bontoramba (Gowa)    0.100  0.150943  0.148148            0.149123   \n",
              "Bontotangnga (Gowa)  0.025  0.000000  0.000000            0.008772   \n",
              "Borong (Gowa)        0.025  0.000000  0.000000            0.008772   \n",
              "\n",
              "                     Sering Jajan Diluar  Tersedia air bersih  \\\n",
              "Bili Bili (Gowa)                0.202128             0.239130   \n",
              "Binangae (Gowa)                 0.010638             0.007246   \n",
              "Bonto Bontoa (Gowa)             0.138298             0.108696   \n",
              "Bonto-Bonto (Gowa)              0.010638             0.007246   \n",
              "Bontomanai (Gowa)               0.776596             0.862319   \n",
              "Bontomarannu (Gowa)             0.063830             0.057971   \n",
              "Bontonompo (Gowa)               0.010638             0.021739   \n",
              "Bontoramba (Gowa)               0.170213             0.144928   \n",
              "Bontotangnga (Gowa)             0.000000             0.007246   \n",
              "Borong (Gowa)                   0.000000             0.007246   \n",
              "\n",
              "                     Ada lalat/nyamuk di sekitar tumpukan sampah  \\\n",
              "Bili Bili (Gowa)                                        0.166667   \n",
              "Binangae (Gowa)                                         0.000000   \n",
              "Bonto Bontoa (Gowa)                                     0.333333   \n",
              "Bonto-Bonto (Gowa)                                      0.000000   \n",
              "Bontomanai (Gowa)                                       0.833333   \n",
              "Bontomarannu (Gowa)                                     0.000000   \n",
              "Bontonompo (Gowa)                                       0.000000   \n",
              "Bontoramba (Gowa)                                       0.166667   \n",
              "Bontotangnga (Gowa)                                     0.000000   \n",
              "Borong (Gowa)                                           0.000000   \n",
              "\n",
              "                     Ada ventilasi disemua ruangan  \\\n",
              "Bili Bili (Gowa)                          0.246575   \n",
              "Binangae (Gowa)                           0.013699   \n",
              "Bonto Bontoa (Gowa)                       0.082192   \n",
              "Bonto-Bonto (Gowa)                        0.000000   \n",
              "Bontomanai (Gowa)                         0.863014   \n",
              "Bontomarannu (Gowa)                       0.068493   \n",
              "Bontonompo (Gowa)                         0.013699   \n",
              "Bontoramba (Gowa)                         0.191781   \n",
              "Bontotangnga (Gowa)                       0.000000   \n",
              "Borong (Gowa)                             0.000000   \n",
              "\n",
              "                     Sering Pakai Jamban/Toilet      Umur  \n",
              "Bili Bili (Gowa)                       0.227273  0.754650  \n",
              "Binangae (Gowa)                        0.000000  0.248650  \n",
              "Bonto Bontoa (Gowa)                    0.098485  0.719308  \n",
              "Bonto-Bonto (Gowa)                     0.000000  0.150966  \n",
              "Bontomanai (Gowa)                      0.863636  1.000000  \n",
              "Bontomarannu (Gowa)                    0.053030  0.362318  \n",
              "Bontonompo (Gowa)                      0.015152  0.430697  \n",
              "Bontoramba (Gowa)                      0.128788  0.567232  \n",
              "Bontotangnga (Gowa)                    0.000000  0.506180  \n",
              "Borong (Gowa)                          0.000000  0.390735  "
            ],
            "text/html": [
              "\n",
              "  <div id=\"df-74735579-e826-48af-a889-8fa9e95ded52\">\n",
              "    <div class=\"colab-df-container\">\n",
              "      <div>\n",
              "<style scoped>\n",
              "    .dataframe tbody tr th:only-of-type {\n",
              "        vertical-align: middle;\n",
              "    }\n",
              "\n",
              "    .dataframe tbody tr th {\n",
              "        vertical-align: top;\n",
              "    }\n",
              "\n",
              "    .dataframe thead th {\n",
              "        text-align: right;\n",
              "    }\n",
              "</style>\n",
              "<table border=\"1\" class=\"dataframe\">\n",
              "  <thead>\n",
              "    <tr style=\"text-align: right;\">\n",
              "      <th></th>\n",
              "      <th>tbc</th>\n",
              "      <th>dbd</th>\n",
              "      <th>tifoid</th>\n",
              "      <th>Nafsu Makan Kurang</th>\n",
              "      <th>Sering Jajan Diluar</th>\n",
              "      <th>Tersedia air bersih</th>\n",
              "      <th>Ada lalat/nyamuk di sekitar tumpukan sampah</th>\n",
              "      <th>Ada ventilasi disemua ruangan</th>\n",
              "      <th>Sering Pakai Jamban/Toilet</th>\n",
              "      <th>Umur</th>\n",
              "    </tr>\n",
              "  </thead>\n",
              "  <tbody>\n",
              "    <tr>\n",
              "      <th>Bili Bili (Gowa)</th>\n",
              "      <td>0.275</td>\n",
              "      <td>0.169811</td>\n",
              "      <td>0.259259</td>\n",
              "      <td>0.228070</td>\n",
              "      <td>0.202128</td>\n",
              "      <td>0.239130</td>\n",
              "      <td>0.166667</td>\n",
              "      <td>0.246575</td>\n",
              "      <td>0.227273</td>\n",
              "      <td>0.754650</td>\n",
              "    </tr>\n",
              "    <tr>\n",
              "      <th>Binangae (Gowa)</th>\n",
              "      <td>0.025</td>\n",
              "      <td>0.000000</td>\n",
              "      <td>0.000000</td>\n",
              "      <td>0.000000</td>\n",
              "      <td>0.010638</td>\n",
              "      <td>0.007246</td>\n",
              "      <td>0.000000</td>\n",
              "      <td>0.013699</td>\n",
              "      <td>0.000000</td>\n",
              "      <td>0.248650</td>\n",
              "    </tr>\n",
              "    <tr>\n",
              "      <th>Bonto Bontoa (Gowa)</th>\n",
              "      <td>0.050</td>\n",
              "      <td>0.188679</td>\n",
              "      <td>0.055556</td>\n",
              "      <td>0.122807</td>\n",
              "      <td>0.138298</td>\n",
              "      <td>0.108696</td>\n",
              "      <td>0.333333</td>\n",
              "      <td>0.082192</td>\n",
              "      <td>0.098485</td>\n",
              "      <td>0.719308</td>\n",
              "    </tr>\n",
              "    <tr>\n",
              "      <th>Bonto-Bonto (Gowa)</th>\n",
              "      <td>0.025</td>\n",
              "      <td>0.000000</td>\n",
              "      <td>0.000000</td>\n",
              "      <td>0.000000</td>\n",
              "      <td>0.010638</td>\n",
              "      <td>0.007246</td>\n",
              "      <td>0.000000</td>\n",
              "      <td>0.000000</td>\n",
              "      <td>0.000000</td>\n",
              "      <td>0.150966</td>\n",
              "    </tr>\n",
              "    <tr>\n",
              "      <th>Bontomanai (Gowa)</th>\n",
              "      <td>0.900</td>\n",
              "      <td>0.547170</td>\n",
              "      <td>1.000000</td>\n",
              "      <td>0.903509</td>\n",
              "      <td>0.776596</td>\n",
              "      <td>0.862319</td>\n",
              "      <td>0.833333</td>\n",
              "      <td>0.863014</td>\n",
              "      <td>0.863636</td>\n",
              "      <td>1.000000</td>\n",
              "    </tr>\n",
              "    <tr>\n",
              "      <th>Bontomarannu (Gowa)</th>\n",
              "      <td>0.125</td>\n",
              "      <td>0.018868</td>\n",
              "      <td>0.037037</td>\n",
              "      <td>0.043860</td>\n",
              "      <td>0.063830</td>\n",
              "      <td>0.057971</td>\n",
              "      <td>0.000000</td>\n",
              "      <td>0.068493</td>\n",
              "      <td>0.053030</td>\n",
              "      <td>0.362318</td>\n",
              "    </tr>\n",
              "    <tr>\n",
              "      <th>Bontonompo (Gowa)</th>\n",
              "      <td>0.050</td>\n",
              "      <td>0.000000</td>\n",
              "      <td>0.018519</td>\n",
              "      <td>0.008772</td>\n",
              "      <td>0.010638</td>\n",
              "      <td>0.021739</td>\n",
              "      <td>0.000000</td>\n",
              "      <td>0.013699</td>\n",
              "      <td>0.015152</td>\n",
              "      <td>0.430697</td>\n",
              "    </tr>\n",
              "    <tr>\n",
              "      <th>Bontoramba (Gowa)</th>\n",
              "      <td>0.100</td>\n",
              "      <td>0.150943</td>\n",
              "      <td>0.148148</td>\n",
              "      <td>0.149123</td>\n",
              "      <td>0.170213</td>\n",
              "      <td>0.144928</td>\n",
              "      <td>0.166667</td>\n",
              "      <td>0.191781</td>\n",
              "      <td>0.128788</td>\n",
              "      <td>0.567232</td>\n",
              "    </tr>\n",
              "    <tr>\n",
              "      <th>Bontotangnga (Gowa)</th>\n",
              "      <td>0.025</td>\n",
              "      <td>0.000000</td>\n",
              "      <td>0.000000</td>\n",
              "      <td>0.008772</td>\n",
              "      <td>0.000000</td>\n",
              "      <td>0.007246</td>\n",
              "      <td>0.000000</td>\n",
              "      <td>0.000000</td>\n",
              "      <td>0.000000</td>\n",
              "      <td>0.506180</td>\n",
              "    </tr>\n",
              "    <tr>\n",
              "      <th>Borong (Gowa)</th>\n",
              "      <td>0.025</td>\n",
              "      <td>0.000000</td>\n",
              "      <td>0.000000</td>\n",
              "      <td>0.008772</td>\n",
              "      <td>0.000000</td>\n",
              "      <td>0.007246</td>\n",
              "      <td>0.000000</td>\n",
              "      <td>0.000000</td>\n",
              "      <td>0.000000</td>\n",
              "      <td>0.390735</td>\n",
              "    </tr>\n",
              "  </tbody>\n",
              "</table>\n",
              "</div>\n",
              "      <button class=\"colab-df-convert\" onclick=\"convertToInteractive('df-74735579-e826-48af-a889-8fa9e95ded52')\"\n",
              "              title=\"Convert this dataframe to an interactive table.\"\n",
              "              style=\"display:none;\">\n",
              "        \n",
              "  <svg xmlns=\"http://www.w3.org/2000/svg\" height=\"24px\"viewBox=\"0 0 24 24\"\n",
              "       width=\"24px\">\n",
              "    <path d=\"M0 0h24v24H0V0z\" fill=\"none\"/>\n",
              "    <path d=\"M18.56 5.44l.94 2.06.94-2.06 2.06-.94-2.06-.94-.94-2.06-.94 2.06-2.06.94zm-11 1L8.5 8.5l.94-2.06 2.06-.94-2.06-.94L8.5 2.5l-.94 2.06-2.06.94zm10 10l.94 2.06.94-2.06 2.06-.94-2.06-.94-.94-2.06-.94 2.06-2.06.94z\"/><path d=\"M17.41 7.96l-1.37-1.37c-.4-.4-.92-.59-1.43-.59-.52 0-1.04.2-1.43.59L10.3 9.45l-7.72 7.72c-.78.78-.78 2.05 0 2.83L4 21.41c.39.39.9.59 1.41.59.51 0 1.02-.2 1.41-.59l7.78-7.78 2.81-2.81c.8-.78.8-2.07 0-2.86zM5.41 20L4 18.59l7.72-7.72 1.47 1.35L5.41 20z\"/>\n",
              "  </svg>\n",
              "      </button>\n",
              "      \n",
              "  <style>\n",
              "    .colab-df-container {\n",
              "      display:flex;\n",
              "      flex-wrap:wrap;\n",
              "      gap: 12px;\n",
              "    }\n",
              "\n",
              "    .colab-df-convert {\n",
              "      background-color: #E8F0FE;\n",
              "      border: none;\n",
              "      border-radius: 50%;\n",
              "      cursor: pointer;\n",
              "      display: none;\n",
              "      fill: #1967D2;\n",
              "      height: 32px;\n",
              "      padding: 0 0 0 0;\n",
              "      width: 32px;\n",
              "    }\n",
              "\n",
              "    .colab-df-convert:hover {\n",
              "      background-color: #E2EBFA;\n",
              "      box-shadow: 0px 1px 2px rgba(60, 64, 67, 0.3), 0px 1px 3px 1px rgba(60, 64, 67, 0.15);\n",
              "      fill: #174EA6;\n",
              "    }\n",
              "\n",
              "    [theme=dark] .colab-df-convert {\n",
              "      background-color: #3B4455;\n",
              "      fill: #D2E3FC;\n",
              "    }\n",
              "\n",
              "    [theme=dark] .colab-df-convert:hover {\n",
              "      background-color: #434B5C;\n",
              "      box-shadow: 0px 1px 3px 1px rgba(0, 0, 0, 0.15);\n",
              "      filter: drop-shadow(0px 1px 2px rgba(0, 0, 0, 0.3));\n",
              "      fill: #FFFFFF;\n",
              "    }\n",
              "  </style>\n",
              "\n",
              "      <script>\n",
              "        const buttonEl =\n",
              "          document.querySelector('#df-74735579-e826-48af-a889-8fa9e95ded52 button.colab-df-convert');\n",
              "        buttonEl.style.display =\n",
              "          google.colab.kernel.accessAllowed ? 'block' : 'none';\n",
              "\n",
              "        async function convertToInteractive(key) {\n",
              "          const element = document.querySelector('#df-74735579-e826-48af-a889-8fa9e95ded52');\n",
              "          const dataTable =\n",
              "            await google.colab.kernel.invokeFunction('convertToInteractive',\n",
              "                                                     [key], {});\n",
              "          if (!dataTable) return;\n",
              "\n",
              "          const docLinkHtml = 'Like what you see? Visit the ' +\n",
              "            '<a target=\"_blank\" href=https://colab.research.google.com/notebooks/data_table.ipynb>data table notebook</a>'\n",
              "            + ' to learn more about interactive tables.';\n",
              "          element.innerHTML = '';\n",
              "          dataTable['output_type'] = 'display_data';\n",
              "          await google.colab.output.renderOutput(dataTable, element);\n",
              "          const docLink = document.createElement('div');\n",
              "          docLink.innerHTML = docLinkHtml;\n",
              "          element.appendChild(docLink);\n",
              "        }\n",
              "      </script>\n",
              "    </div>\n",
              "  </div>\n",
              "  "
            ]
          },
          "metadata": {},
          "execution_count": 34
        }
      ],
      "source": [
        "test_data = merge_data.copy()\n",
        "index_awal = test_data.index\n",
        "\n",
        "# Normalize the features\n",
        "scaler = MinMaxScaler()\n",
        "X_normalized = scaler.fit_transform(test_data)\n",
        "\n",
        "# Create a new DataFrame with the normalized features\n",
        "X_normalized_df = pd.DataFrame(X_normalized, columns=test_data.columns)\n",
        "X_normalized_df.index = index_awal\n",
        "X_normalized_df.index.name = None\n",
        "X_normalized_df[:10]"
      ]
    },
    {
      "cell_type": "markdown",
      "metadata": {
        "id": "PsopwBZ9ZQWH"
      },
      "source": [
        "#**CLUSTER1**"
      ]
    },
    {
      "cell_type": "code",
      "execution_count": null,
      "metadata": {
        "id": "P_diVMKT4WgH"
      },
      "outputs": [],
      "source": [
        "data_cluster1 = merge_data[['tbc','Umur']] \n",
        "\n",
        "# Standardize data\n",
        "scaler = MinMaxScaler()\n",
        "Num_features = data_cluster1.select_dtypes(include=['int64', 'float64']).columns\n",
        "scaler.fit(data_cluster1[Num_features])\n",
        "cluster1 = scaler.transform(data_cluster1[Num_features])"
      ]
    },
    {
      "cell_type": "markdown",
      "metadata": {
        "id": "ePDcHSEfFz9q"
      },
      "source": [
        "###Elbow Method"
      ]
    },
    {
      "cell_type": "code",
      "execution_count": null,
      "metadata": {
        "colab": {
          "base_uri": "https://localhost:8080/"
        },
        "id": "Z5N_FR2kMfP6",
        "outputId": "d1ccac45-d150-4b43-c4f0-90a26c94b523"
      },
      "outputs": [
        {
          "output_type": "stream",
          "name": "stdout",
          "text": [
            "    K       sse  silhouette\n",
            "0   2  2.035014    0.631592\n",
            "1   3  1.026626    0.504868\n",
            "2   4  0.567322    0.515763\n",
            "3   5  0.343127    0.534782\n",
            "4   6  0.252128    0.575916\n",
            "5   7  0.187420    0.561436\n",
            "6   8  0.129464    0.569742\n",
            "7   9  0.098788    0.579502\n",
            "8  10  0.070949    0.561733\n"
          ]
        }
      ],
      "source": [
        "sse = []\n",
        "silhouette_scores = []\n",
        "\n",
        "for n_clusters in range(2, 11):\n",
        "    kmeans = Kmeans1(n_clusters=n_clusters, random_state=42)\n",
        "    labels = kmeans.fit_predict(cluster1)\n",
        "    sse.append(kmeans.inertia_)\n",
        "    silhouette_avg = silhouette_score(cluster1, labels)\n",
        "    silhouette_scores.append(silhouette_avg)\n",
        "\n",
        "table_elbow = {\n",
        "    'K': range(2, 11),\n",
        "    'sse': sse,\n",
        "    'silhouette': silhouette_scores\n",
        "}\n",
        "df = pd.DataFrame(table_elbow)\n",
        "print(df)"
      ]
    },
    {
      "cell_type": "code",
      "execution_count": null,
      "metadata": {
        "colab": {
          "base_uri": "https://localhost:8080/",
          "height": 918
        },
        "id": "JV7kAK-3Ol-Y",
        "outputId": "0a95176f-f322-40ea-96b6-cbf237f59142"
      },
      "outputs": [
        {
          "output_type": "display_data",
          "data": {
            "text/plain": [
              "<Figure size 1000x500 with 1 Axes>"
            ],
            "image/png": "[encoded data removed]"
          },
          "metadata": {}
        },
        {
          "output_type": "display_data",
          "data": {
            "text/plain": [
              "<Figure size 1000x500 with 1 Axes>"
            ],
            "image/png": "[encoded data removed]"
          },
          "metadata": {}
        }
      ],
      "source": [
        "K = list(range(2,11))\n",
        "# Plot sse against k\n",
        "plt.figure(figsize=(10, 5))\n",
        "plt.plot(K, sse, '-o')\n",
        "plt.xlabel(r'Number of clusters *k*')\n",
        "plt.ylabel('Sum of squared distance');\n",
        "\n",
        "# Plot silhouette against k\n",
        "plt.figure(figsize=(10, 5))\n",
        "plt.plot(K, silhouette_scores, '-o')\n",
        "plt.xlabel(r'Number of clusters *k*')\n",
        "plt.ylabel('Silhouette');"
      ]
    },
    {
      "cell_type": "markdown",
      "metadata": {
        "id": "Pruo0VUyrBT8"
      },
      "source": [
        "### **K-Means**"
      ]
    },
    {
      "cell_type": "code",
      "execution_count": null,
      "metadata": {
        "id": "rVSruf7dq4hk"
      },
      "outputs": [],
      "source": [
        "kmeans1 = KMeans(n_cluster=3)\n",
        "kmeans1.fit(cluster1)"
      ]
    },
    {
      "cell_type": "code",
      "execution_count": null,
      "metadata": {
        "colab": {
          "base_uri": "https://localhost:8080/"
        },
        "id": "uBYwO8WTrNx7",
        "outputId": "ea0f88f2-26c5-47a0-e673-2743b5ad8cdc"
      },
      "outputs": [
        {
          "output_type": "stream",
          "name": "stdout",
          "text": [
            "Silhouette: 0.4866491948321337\n",
            "SSE: 1.1438891868068402\n"
          ]
        }
      ],
      "source": [
        "predicted_kmeans1 = kmeans1.predict(cluster1)\n",
        "print('Silhouette:', silhouette_score(cluster1, predicted_kmeans1))\n",
        "print('SSE:', kmeans1.SSE)"
      ]
    },
    {
      "cell_type": "code",
      "execution_count": null,
      "metadata": {
        "colab": {
          "base_uri": "https://localhost:8080/"
        },
        "id": "zTGCbdZYnK86",
        "outputId": "9af913ba-86f2-476e-f881-ad0d1ff252f5"
      },
      "outputs": [
        {
          "output_type": "execute_result",
          "data": {
            "text/plain": [
              "2    18\n",
              "0    16\n",
              "1     5\n",
              "Name: cluster, dtype: int64"
            ]
          },
          "metadata": {},
          "execution_count": 91
        }
      ],
      "source": [
        "frame1 = pd.DataFrame(cluster1)\n",
        "frame1['cluster'] = predicted_kmeans1\n",
        "frame1['cluster'].value_counts()"
      ]
    },
    {
      "cell_type": "code",
      "execution_count": null,
      "metadata": {
        "colab": {
          "base_uri": "https://localhost:8080/"
        },
        "id": "AHfmTKksfJnW",
        "outputId": "fd2efde9-f526-4660-fbf7-43d1d52a76f5"
      },
      "outputs": [
        {
          "output_type": "execute_result",
          "data": {
            "text/plain": [
              "array([0, 2, 0, 2, 1, 0, 0, 0, 0, 0, 1, 0, 2, 2, 0, 0, 0, 1, 1, 2, 0, 1,\n",
              "       0, 0, 0, 0, 2, 2, 2, 2, 2, 2, 2, 2, 2, 2, 2, 2, 2])"
            ]
          },
          "metadata": {},
          "execution_count": 92
        }
      ],
      "source": [
        "predicted_kmeans1"
      ]
    },
    {
      "cell_type": "markdown",
      "metadata": {
        "id": "ABm_sykpAlBz"
      },
      "source": [
        "### **PSO K-Means**"
      ]
    },
    {
      "cell_type": "code",
      "execution_count": null,
      "metadata": {
        "id": "lzYR9uVirVD2"
      },
      "outputs": [],
      "source": [
        "pso1 = ParticleSwarmOptimizedClustering(n_cluster=3, \n",
        "                                       n_particles=20, \n",
        "                                       data=cluster1, \n",
        "                                       hybrid=True,\n",
        "                                       max_iter=2000, \n",
        "                                       print_debug=200)"
      ]
    },
    {
      "cell_type": "code",
      "execution_count": null,
      "metadata": {
        "colab": {
          "base_uri": "https://localhost:8080/"
        },
        "id": "K_SwY_GrBpDY",
        "outputId": "d4a453be-4f00-48db-da68-8f4b0398f6a1"
      },
      "outputs": [
        {
          "output_type": "stream",
          "name": "stdout",
          "text": [
            "Initial global best score 0.5766072101013846\n",
            "Iteration 0001/2000 current gbest score 0.576607210101384604\n",
            "Iteration 0201/2000 current gbest score 0.546978866808042863\n",
            "Iteration 0401/2000 current gbest score 0.546977298149813662\n",
            "Iteration 0601/2000 current gbest score 0.546977289689016488\n",
            "Iteration 0801/2000 current gbest score 0.546977289433026481\n",
            "Iteration 1001/2000 current gbest score 0.546977289210376472\n",
            "Iteration 1201/2000 current gbest score 0.546977289207833728\n",
            "Iteration 1401/2000 current gbest score 0.546977289207833728\n",
            "Iteration 1601/2000 current gbest score 0.546977289207833728\n",
            "Iteration 1801/2000 current gbest score 0.546977289207833728\n",
            "Finish with gbest score 0.546977289207833728\n"
          ]
        }
      ],
      "source": [
        "hist1 = pso1.run()"
      ]
    },
    {
      "cell_type": "code",
      "execution_count": null,
      "metadata": {
        "id": "VpGsL73srsHz"
      },
      "outputs": [],
      "source": [
        "pso_kmeans1 = KMeans(n_cluster=3)\n",
        "pso_kmeans1.centroid = pso1.gbest_centroids.copy()"
      ]
    },
    {
      "cell_type": "code",
      "execution_count": null,
      "metadata": {
        "colab": {
          "base_uri": "https://localhost:8080/"
        },
        "id": "TctPkf8qmVzM",
        "outputId": "b24809e1-3f8b-45ba-82c4-0ec25c049219"
      },
      "outputs": [
        {
          "output_type": "execute_result",
          "data": {
            "text/plain": [
              "array([[0.01698114, 0.21620855],\n",
              "       [0.19770801, 0.67641271],\n",
              "       [0.89999393, 0.94306845]])"
            ]
          },
          "metadata": {},
          "execution_count": 98
        }
      ],
      "source": [
        "pso_kmeans1.centroid"
      ]
    },
    {
      "cell_type": "code",
      "execution_count": null,
      "metadata": {
        "colab": {
          "base_uri": "https://localhost:8080/"
        },
        "id": "jA0QCJ97A7Jv",
        "outputId": "ad3d79f5-0fe1-47f0-ba2d-a4dac888c148"
      },
      "outputs": [
        {
          "output_type": "stream",
          "name": "stdout",
          "text": [
            "Silhouette: 0.5554906273010479\n",
            "SSE: 1.0985291486339195\n"
          ]
        }
      ],
      "source": [
        "predicted_pso1 = pso_kmeans1.predict(cluster1)\n",
        "print('Silhouette:', silhouette_score(cluster1, predicted_pso1))\n",
        "print('SSE:', calc_sse(centroids=pso1.gbest_centroids, \n",
        "                       data=cluster1, \n",
        "                       labels=predicted_pso1))"
      ]
    },
    {
      "cell_type": "code",
      "execution_count": null,
      "metadata": {
        "colab": {
          "base_uri": "https://localhost:8080/"
        },
        "id": "sielKLqmnP9D",
        "outputId": "807c10b6-3c6f-4b51-9b13-8df6fd975b90"
      },
      "outputs": [
        {
          "output_type": "execute_result",
          "data": {
            "text/plain": [
              "0    25\n",
              "1    11\n",
              "2     3\n",
              "Name: cluster, dtype: int64"
            ]
          },
          "metadata": {},
          "execution_count": 100
        }
      ],
      "source": [
        "frame1 = pd.DataFrame(cluster1)\n",
        "frame1['cluster'] = predicted_pso1\n",
        "frame1['cluster'].value_counts()"
      ]
    },
    {
      "cell_type": "code",
      "execution_count": null,
      "metadata": {
        "colab": {
          "base_uri": "https://localhost:8080/"
        },
        "id": "1BuTzqI7fnWk",
        "outputId": "3999ab5a-d379-429a-f124-7d69ee054983"
      },
      "outputs": [
        {
          "output_type": "execute_result",
          "data": {
            "text/plain": [
              "array([1, 0, 1, 0, 2, 0, 0, 1, 1, 0, 2, 0, 0, 0, 0, 1, 1, 1, 2, 0, 1, 1,\n",
              "       1, 0, 1, 0, 0, 0, 0, 0, 0, 0, 0, 0, 0, 0, 0, 0, 0])"
            ]
          },
          "metadata": {},
          "execution_count": 101
        }
      ],
      "source": [
        "predicted_pso1"
      ]
    },
    {
      "cell_type": "markdown",
      "metadata": {
        "id": "rzg8MldQoD72"
      },
      "source": [
        "###**Evaluasi Optimasi**"
      ]
    },
    {
      "cell_type": "code",
      "source": [
        "#evaluasi sse dan silhoute kmeans dengan 20 iterasi\n",
        "kmeanspp = {\n",
        "    'silhouette': [],\n",
        "    'sse' : [],\n",
        "    'dbi': [],\n",
        "}\n",
        "for _ in range(20):\n",
        "    kmean_rep = KMeans(n_cluster=3, init_pp=True)\n",
        "    kmean_rep.fit(cluster1)\n",
        "    predicted_kmean_rep = kmean_rep.predict(cluster1)\n",
        "    silhouette = silhouette_score(cluster1, \n",
        "                                  predicted_kmean_rep)\n",
        "    sse = kmean_rep.SSE\n",
        "    dbi = davies_bouldin_score(cluster1, predicted_kmean_rep)\n",
        "    kmeanspp['silhouette'].append(silhouette)\n",
        "    kmeanspp['sse'].append(sse)\n",
        "    kmeanspp['dbi'].append(dbi)"
      ],
      "metadata": {
        "id": "af0GrtOd4SqN"
      },
      "execution_count": null,
      "outputs": []
    },
    {
      "cell_type": "code",
      "source": [
        "#evaluasi sse dan silhoute pso-kmeans dengan 20 iterasi\n",
        "pso_hybrid = {\n",
        "    'silhouette': [],\n",
        "    'sse' : [],\n",
        "    'dbi': [],\n",
        "}\n",
        "for _ in range(20):\n",
        "    pso_rep2 = ParticleSwarmOptimizedClustering(n_cluster=3, \n",
        "                                               n_particles=10, \n",
        "                                               data=cluster1, \n",
        "                                               hybrid=True, \n",
        "                                               max_iter=2000, \n",
        "                                               print_debug=2000)\n",
        "    pso_rep2.run()\n",
        "    pso_kmeans2 = KMeans(n_cluster=6, \n",
        "                        init_pp=False, \n",
        "                        seed=144)\n",
        "    pso_kmeans2.centroid = pso_rep2.gbest_centroids.copy()\n",
        "    predicted_pso_rep2 = pso_kmeans2.predict(cluster1)\n",
        "    \n",
        "    silhouette = silhouette_score(cluster1, \n",
        "                                  predicted_pso_rep2)\n",
        "    sse = calc_sse(centroids=pso_rep2.gbest_centroids, \n",
        "                   data=cluster1, \n",
        "                   labels=predicted_pso_rep2)\n",
        "    dbi = davies_bouldin_score(cluster1, predicted_pso_rep2)\n",
        "\n",
        "    pso_hybrid['silhouette'].append(silhouette)\n",
        "    pso_hybrid['sse'].append(sse)\n",
        "    pso_hybrid['dbi'].append(dbi)"
      ],
      "metadata": {
        "colab": {
          "base_uri": "https://localhost:8080/"
        },
        "id": "LMtfV6CL4i8T",
        "outputId": "c5bc1d9b-6903-4db2-b2d2-5bf6685b1b66"
      },
      "execution_count": null,
      "outputs": [
        {
          "output_type": "stream",
          "name": "stdout",
          "text": [
            "Initial global best score 0.20112118518795608\n",
            "Iteration 0001/2000 current gbest score 0.201121185187956075\n",
            "Finish with gbest score 0.201121185187956075\n",
            "Initial global best score 0.2768227853135035\n",
            "Iteration 0001/2000 current gbest score 0.276822785313503517\n",
            "Finish with gbest score 0.248286073675490243\n",
            "Initial global best score 0.26686050260268745\n",
            "Iteration 0001/2000 current gbest score 0.266860502602687455\n",
            "Finish with gbest score 0.214310281371711930\n",
            "Initial global best score 0.1939108645569757\n",
            "Iteration 0001/2000 current gbest score 0.193910864556975704\n",
            "Finish with gbest score 0.193910864556975676\n",
            "Initial global best score 0.1761524837908981\n",
            "Iteration 0001/2000 current gbest score 0.176152483790898096\n",
            "Finish with gbest score 0.176152483790898068\n",
            "Initial global best score 0.24874762550191884\n",
            "Iteration 0001/2000 current gbest score 0.248747625501918840\n",
            "Finish with gbest score 0.224642260320339265\n",
            "Initial global best score 0.1761524837908981\n",
            "Iteration 0001/2000 current gbest score 0.176152483790898096\n",
            "Finish with gbest score 0.176152483790898068\n",
            "Initial global best score 0.266627235547434\n",
            "Iteration 0001/2000 current gbest score 0.266627235547434005\n",
            "Finish with gbest score 0.254316855718629609\n",
            "Initial global best score 0.28681678585531034\n",
            "Iteration 0001/2000 current gbest score 0.286816785855310341\n",
            "Finish with gbest score 0.227105108954028273\n",
            "Initial global best score 0.17782335142938635\n",
            "Iteration 0001/2000 current gbest score 0.177823351429386350\n",
            "Finish with gbest score 0.177823351429386350\n",
            "Initial global best score 0.2941902040280138\n",
            "Iteration 0001/2000 current gbest score 0.294190204028013824\n",
            "Finish with gbest score 0.272367347395505999\n",
            "Initial global best score 0.26088085730868177\n",
            "Iteration 0001/2000 current gbest score 0.260880857308681768\n",
            "Finish with gbest score 0.229007683309513932\n",
            "Initial global best score 0.20233749119232805\n",
            "Iteration 0001/2000 current gbest score 0.202337491192328051\n",
            "Finish with gbest score 0.196525939717568487\n",
            "Initial global best score 0.20112118518795608\n",
            "Iteration 0001/2000 current gbest score 0.201121185187956075\n",
            "Finish with gbest score 0.201121185187956075\n",
            "Initial global best score 0.20112118518795608\n",
            "Iteration 0001/2000 current gbest score 0.201121185187956075\n",
            "Finish with gbest score 0.201121185187956075\n",
            "Initial global best score 0.20112118518795608\n",
            "Iteration 0001/2000 current gbest score 0.201121185187956075\n",
            "Finish with gbest score 0.201121185187956075\n",
            "Initial global best score 0.1877013973495003\n",
            "Iteration 0001/2000 current gbest score 0.187701397349500310\n",
            "Finish with gbest score 0.179451018637294735\n",
            "Initial global best score 0.2707584336102872\n",
            "Iteration 0001/2000 current gbest score 0.270758433610287175\n",
            "Finish with gbest score 0.258224169043992646\n",
            "Initial global best score 0.2011211851879561\n",
            "Iteration 0001/2000 current gbest score 0.201121185187956103\n",
            "Finish with gbest score 0.201121185187956075\n",
            "Initial global best score 0.3233095226829174\n",
            "Iteration 0001/2000 current gbest score 0.298979708822362744\n",
            "Finish with gbest score 0.216209835602026806\n"
          ]
        }
      ]
    },
    {
      "cell_type": "code",
      "source": [
        "evaluasi = {\n",
        "    'method' : ['K-Means', 'PSO Kmeans'],\n",
        "    'sse_mean' : [\n",
        "        np.around(np.mean(kmeanspp['sse']), decimals=10),\n",
        "        np.around(np.mean(pso_hybrid['sse']), decimals=10),\n",
        "    ],\n",
        "    'silhouette_mean' : [\n",
        "        np.around(np.mean(kmeanspp['silhouette']), decimals=10),\n",
        "        np.around(np.mean(pso_hybrid['silhouette']), decimals=10),\n",
        "    ],\n",
        "    'dbi_mean': [\n",
        "        np.around(np.mean(kmeanspp['dbi']), decimals=10),\n",
        "        np.around(np.mean(pso_hybrid['dbi']), decimals=10),\n",
        "    ]\n",
        "}\n"
      ],
      "metadata": {
        "id": "dEo3ierN5zFW"
      },
      "execution_count": null,
      "outputs": []
    },
    {
      "cell_type": "code",
      "source": [
        "eval = pd.DataFrame.from_dict(evaluasi)\n",
        "eval"
      ],
      "metadata": {
        "colab": {
          "base_uri": "https://localhost:8080/",
          "height": 112
        },
        "id": "N8t0tw2Y7rP9",
        "outputId": "d70fb5cc-d1ad-405a-a0e5-9c794ad3ee66"
      },
      "execution_count": null,
      "outputs": [
        {
          "output_type": "execute_result",
          "data": {
            "text/plain": [
              "       method  sse_mean  silhouette_mean  dbi_mean\n",
              "0     K-Means  1.116118         0.502752  0.608487\n",
              "1  PSO Kmeans  0.505705         0.512179  0.512963"
            ],
            "text/html": [
              "\n",
              "  <div id=\"df-4d2df7a8-35a4-456b-a15f-61db85da06d1\">\n",
              "    <div class=\"colab-df-container\">\n",
              "      <div>\n",
              "<style scoped>\n",
              "    .dataframe tbody tr th:only-of-type {\n",
              "        vertical-align: middle;\n",
              "    }\n",
              "\n",
              "    .dataframe tbody tr th {\n",
              "        vertical-align: top;\n",
              "    }\n",
              "\n",
              "    .dataframe thead th {\n",
              "        text-align: right;\n",
              "    }\n",
              "</style>\n",
              "<table border=\"1\" class=\"dataframe\">\n",
              "  <thead>\n",
              "    <tr style=\"text-align: right;\">\n",
              "      <th></th>\n",
              "      <th>method</th>\n",
              "      <th>sse_mean</th>\n",
              "      <th>silhouette_mean</th>\n",
              "      <th>dbi_mean</th>\n",
              "    </tr>\n",
              "  </thead>\n",
              "  <tbody>\n",
              "    <tr>\n",
              "      <th>0</th>\n",
              "      <td>K-Means</td>\n",
              "      <td>1.116118</td>\n",
              "      <td>0.502752</td>\n",
              "      <td>0.608487</td>\n",
              "    </tr>\n",
              "    <tr>\n",
              "      <th>1</th>\n",
              "      <td>PSO Kmeans</td>\n",
              "      <td>0.505705</td>\n",
              "      <td>0.512179</td>\n",
              "      <td>0.512963</td>\n",
              "    </tr>\n",
              "  </tbody>\n",
              "</table>\n",
              "</div>\n",
              "      <button class=\"colab-df-convert\" onclick=\"convertToInteractive('df-4d2df7a8-35a4-456b-a15f-61db85da06d1')\"\n",
              "              title=\"Convert this dataframe to an interactive table.\"\n",
              "              style=\"display:none;\">\n",
              "        \n",
              "  <svg xmlns=\"http://www.w3.org/2000/svg\" height=\"24px\"viewBox=\"0 0 24 24\"\n",
              "       width=\"24px\">\n",
              "    <path d=\"M0 0h24v24H0V0z\" fill=\"none\"/>\n",
              "    <path d=\"M18.56 5.44l.94 2.06.94-2.06 2.06-.94-2.06-.94-.94-2.06-.94 2.06-2.06.94zm-11 1L8.5 8.5l.94-2.06 2.06-.94-2.06-.94L8.5 2.5l-.94 2.06-2.06.94zm10 10l.94 2.06.94-2.06 2.06-.94-2.06-.94-.94-2.06-.94 2.06-2.06.94z\"/><path d=\"M17.41 7.96l-1.37-1.37c-.4-.4-.92-.59-1.43-.59-.52 0-1.04.2-1.43.59L10.3 9.45l-7.72 7.72c-.78.78-.78 2.05 0 2.83L4 21.41c.39.39.9.59 1.41.59.51 0 1.02-.2 1.41-.59l7.78-7.78 2.81-2.81c.8-.78.8-2.07 0-2.86zM5.41 20L4 18.59l7.72-7.72 1.47 1.35L5.41 20z\"/>\n",
              "  </svg>\n",
              "      </button>\n",
              "      \n",
              "  <style>\n",
              "    .colab-df-container {\n",
              "      display:flex;\n",
              "      flex-wrap:wrap;\n",
              "      gap: 12px;\n",
              "    }\n",
              "\n",
              "    .colab-df-convert {\n",
              "      background-color: #E8F0FE;\n",
              "      border: none;\n",
              "      border-radius: 50%;\n",
              "      cursor: pointer;\n",
              "      display: none;\n",
              "      fill: #1967D2;\n",
              "      height: 32px;\n",
              "      padding: 0 0 0 0;\n",
              "      width: 32px;\n",
              "    }\n",
              "\n",
              "    .colab-df-convert:hover {\n",
              "      background-color: #E2EBFA;\n",
              "      box-shadow: 0px 1px 2px rgba(60, 64, 67, 0.3), 0px 1px 3px 1px rgba(60, 64, 67, 0.15);\n",
              "      fill: #174EA6;\n",
              "    }\n",
              "\n",
              "    [theme=dark] .colab-df-convert {\n",
              "      background-color: #3B4455;\n",
              "      fill: #D2E3FC;\n",
              "    }\n",
              "\n",
              "    [theme=dark] .colab-df-convert:hover {\n",
              "      background-color: #434B5C;\n",
              "      box-shadow: 0px 1px 3px 1px rgba(0, 0, 0, 0.15);\n",
              "      filter: drop-shadow(0px 1px 2px rgba(0, 0, 0, 0.3));\n",
              "      fill: #FFFFFF;\n",
              "    }\n",
              "  </style>\n",
              "\n",
              "      <script>\n",
              "        const buttonEl =\n",
              "          document.querySelector('#df-4d2df7a8-35a4-456b-a15f-61db85da06d1 button.colab-df-convert');\n",
              "        buttonEl.style.display =\n",
              "          google.colab.kernel.accessAllowed ? 'block' : 'none';\n",
              "\n",
              "        async function convertToInteractive(key) {\n",
              "          const element = document.querySelector('#df-4d2df7a8-35a4-456b-a15f-61db85da06d1');\n",
              "          const dataTable =\n",
              "            await google.colab.kernel.invokeFunction('convertToInteractive',\n",
              "                                                     [key], {});\n",
              "          if (!dataTable) return;\n",
              "\n",
              "          const docLinkHtml = 'Like what you see? Visit the ' +\n",
              "            '<a target=\"_blank\" href=https://colab.research.google.com/notebooks/data_table.ipynb>data table notebook</a>'\n",
              "            + ' to learn more about interactive tables.';\n",
              "          element.innerHTML = '';\n",
              "          dataTable['output_type'] = 'display_data';\n",
              "          await google.colab.output.renderOutput(dataTable, element);\n",
              "          const docLink = document.createElement('div');\n",
              "          docLink.innerHTML = docLinkHtml;\n",
              "          element.appendChild(docLink);\n",
              "        }\n",
              "      </script>\n",
              "    </div>\n",
              "  </div>\n",
              "  "
            ]
          },
          "metadata": {},
          "execution_count": 53
        }
      ]
    },
    {
      "cell_type": "markdown",
      "metadata": {
        "id": "JGpU2M5KV3JL"
      },
      "source": [
        "###**Pattern Evaluation**"
      ]
    },
    {
      "cell_type": "code",
      "execution_count": null,
      "metadata": {
        "id": "uhQfraje5HRw"
      },
      "outputs": [],
      "source": [
        "#create new column for cluster labels associated with each subject\n",
        "data_cluster1['labels'] = predicted_pso1\n",
        "data_cluster1['Segment'] = data_cluster1['labels'].map({0: 'First', 1: 'Second', 2: 'Third'})"
      ]
    },
    {
      "cell_type": "code",
      "execution_count": null,
      "metadata": {
        "id": "MOFFnEd-hqIh"
      },
      "outputs": [],
      "source": [
        "#Order the cluster\n",
        "data_cluster1['Segment'] = data_cluster1['Segment'].astype('category')\n",
        "data_cluster1['Segment'] = data_cluster1['Segment'].cat.reorder_categories(['First', 'Second', 'Third'])"
      ]
    },
    {
      "cell_type": "code",
      "execution_count": null,
      "metadata": {
        "id": "M8wdbq2Di_Si"
      },
      "outputs": [],
      "source": [
        "# ==== CREATE DICTIONARY FOR OBJECT AND NUMERICAL COLUMNS ====#\n",
        "dict_cat = {}\n",
        "dict_num = {}\n",
        "for cat in data_cluster1.select_dtypes('object'):\n",
        " dict_cat[cat] = lambda x: x.value_counts().index[0]\n",
        "for num in data_cluster1.select_dtypes(['int64', 'float64']):\n",
        "  if (num == 'Total'):\n",
        "    continue\n",
        "  dict_num[num] = ['mean']\n",
        "# ============ CREATE TABLE FOR EACH CLUSTER ============#\n",
        "data_cluster1.rename(columns={'labels': 'Total'}, inplace=True)\n",
        "data_percluster1 = data_cluster1.groupby('Segment').agg({\n",
        " 'Total': 'count',\n",
        " **dict_num,\n",
        " **dict_cat\n",
        "}).T"
      ]
    },
    {
      "cell_type": "code",
      "execution_count": null,
      "metadata": {
        "id": "OhW550ezH6Te"
      },
      "outputs": [],
      "source": [
        "data_cluster1['coord'] = coord1"
      ]
    },
    {
      "cell_type": "code",
      "execution_count": null,
      "metadata": {
        "id": "z7NzXDfMkf6s"
      },
      "outputs": [],
      "source": [
        "data_cluster1 = data_cluster1.T\n",
        "data_percluster1.to_json(r'cluster1_result.json')\n",
        "data_cluster1.to_json(r'cluster1_df.json')"
      ]
    },
    {
      "cell_type": "markdown",
      "metadata": {
        "id": "2b0jWew1I2kL"
      },
      "source": [
        "#**CLUSTER2**"
      ]
    },
    {
      "cell_type": "code",
      "execution_count": null,
      "metadata": {
        "id": "lrcOcpdJI2kM"
      },
      "outputs": [],
      "source": [
        "data_cluster2 = merge_data[['dbd','Umur']] \n",
        "\n",
        "# Standardize data\n",
        "scaler = MinMaxScaler()\n",
        "Num_features = data_cluster2.select_dtypes(include=['int64', 'float64']).columns\n",
        "scaler.fit(data_cluster2[Num_features])\n",
        "cluster2 = scaler.transform(data_cluster2[Num_features])"
      ]
    },
    {
      "cell_type": "markdown",
      "metadata": {
        "id": "dK37L-rWI2kM"
      },
      "source": [
        "###Elbow Method"
      ]
    },
    {
      "cell_type": "code",
      "execution_count": null,
      "metadata": {
        "colab": {
          "base_uri": "https://localhost:8080/"
        },
        "id": "9oWH_CFPI2kM",
        "outputId": "a254c989-bcd5-4ad5-8178-78b41122c5ca"
      },
      "outputs": [
        {
          "output_type": "stream",
          "name": "stdout",
          "text": [
            "    K       sse  silhouette\n",
            "0   2  1.914559    0.604967\n",
            "1   3  0.849121    0.533023\n",
            "2   4  0.461854    0.570023\n",
            "3   5  0.291082    0.565859\n",
            "4   6  0.181448    0.593320\n",
            "5   7  0.135579    0.574091\n",
            "6   8  0.091098    0.569651\n",
            "7   9  0.061135    0.605160\n",
            "8  10  0.044081    0.602589\n"
          ]
        }
      ],
      "source": [
        "sse = []\n",
        "silhouette_scores = []\n",
        "\n",
        "for n_clusters in range(2, 11):\n",
        "    kmeans = Kmeans1(n_clusters=n_clusters, random_state=42)\n",
        "    labels = kmeans.fit_predict(cluster2)\n",
        "    sse.append(kmeans.inertia_)\n",
        "    silhouette_avg = silhouette_score(cluster2, labels)\n",
        "    silhouette_scores.append(silhouette_avg)\n",
        "\n",
        "table_elbow = {\n",
        "    'K': range(2, 11),\n",
        "    'sse': sse,\n",
        "    'silhouette': silhouette_scores\n",
        "}\n",
        "df = pd.DataFrame(table_elbow)\n",
        "print(df)"
      ]
    },
    {
      "cell_type": "code",
      "execution_count": null,
      "metadata": {
        "colab": {
          "base_uri": "https://localhost:8080/"
        },
        "id": "n7BS6ScCI2kN",
        "outputId": "98164cc4-7fa3-42f8-99de-7981af1fd891"
      },
      "outputs": [
        {
          "output_type": "display_data",
          "data": {
            "text/plain": [
              "<Figure size 1000x500 with 1 Axes>"
            ],
            "image/png": "[encoded data removed]"
          },
          "metadata": {}
        },
        {
          "output_type": "display_data",
          "data": {
            "text/plain": [
              "<Figure size 1000x500 with 1 Axes>"
            ],
            "image/png": "[encoded data removed]"
          },
          "metadata": {}
        }
      ],
      "source": [
        "K = list(range(2,11))\n",
        "# Plot sse against k\n",
        "plt.figure(figsize=(10, 5))\n",
        "plt.plot(K, sse, '-o')\n",
        "plt.xlabel(r'Number of clusters *k*')\n",
        "plt.ylabel('Sum of squared distance');\n",
        "\n",
        "# Plot silhouette against k\n",
        "plt.figure(figsize=(10, 5))\n",
        "plt.plot(K, silhouette_scores, '-o')\n",
        "plt.xlabel(r'Number of clusters *k*')\n",
        "plt.ylabel('Silhouette');"
      ]
    },
    {
      "cell_type": "markdown",
      "metadata": {
        "id": "XzV6LrB1I2kN"
      },
      "source": [
        "### **K-Means**"
      ]
    },
    {
      "cell_type": "code",
      "execution_count": null,
      "metadata": {
        "id": "hMnClTiHI2kN"
      },
      "outputs": [],
      "source": [
        "kmeans2 = KMeans(n_cluster=3)\n",
        "kmeans2.fit(cluster2)"
      ]
    },
    {
      "cell_type": "code",
      "execution_count": null,
      "metadata": {
        "colab": {
          "base_uri": "https://localhost:8080/"
        },
        "id": "rTKAZ3bqI2kO",
        "outputId": "b130fda1-05ed-4060-8cde-2ac0d2c205f5"
      },
      "outputs": [
        {
          "output_type": "stream",
          "name": "stdout",
          "text": [
            "Silhouette: 0.5248646395113331\n",
            "SSE: 0.8830250351254185\n"
          ]
        }
      ],
      "source": [
        "predicted_kmeans2 = kmeans2.predict(cluster2)\n",
        "print('Silhouette:', silhouette_score(cluster2, predicted_kmeans2))\n",
        "print('SSE:', kmeans2.SSE)"
      ]
    },
    {
      "cell_type": "code",
      "execution_count": null,
      "metadata": {
        "colab": {
          "base_uri": "https://localhost:8080/"
        },
        "id": "8kXtSE9sI2kO",
        "outputId": "eafb8569-aeb6-4d63-d304-5240e2a31838"
      },
      "outputs": [
        {
          "output_type": "execute_result",
          "data": {
            "text/plain": [
              "0    17\n",
              "2    17\n",
              "1     5\n",
              "Name: cluster, dtype: int64"
            ]
          },
          "metadata": {},
          "execution_count": 125
        }
      ],
      "source": [
        "frame2 = pd.DataFrame(cluster2)\n",
        "frame2['cluster'] = predicted_kmeans2\n",
        "frame2['cluster'].value_counts()"
      ]
    },
    {
      "cell_type": "code",
      "execution_count": null,
      "metadata": {
        "colab": {
          "base_uri": "https://localhost:8080/"
        },
        "id": "JAasZH5nI2kP",
        "outputId": "65164b3d-d496-4224-e826-bf9767b0d55c"
      },
      "outputs": [
        {
          "output_type": "execute_result",
          "data": {
            "text/plain": [
              "array([0, 2, 0, 2, 1, 0, 0, 0, 0, 0, 1, 0, 2, 0, 0, 0, 0, 0, 1, 2, 0, 1,\n",
              "       0, 0, 1, 0, 2, 2, 2, 2, 2, 2, 2, 2, 2, 2, 2, 2, 2])"
            ]
          },
          "metadata": {},
          "execution_count": 126
        }
      ],
      "source": [
        "predicted_kmeans2"
      ]
    },
    {
      "cell_type": "markdown",
      "metadata": {
        "id": "oMpVKQkUI2kP"
      },
      "source": [
        "### **PSO K-Means**"
      ]
    },
    {
      "cell_type": "code",
      "execution_count": null,
      "metadata": {
        "id": "C_7b6m8zI2kP"
      },
      "outputs": [],
      "source": [
        "pso2 = ParticleSwarmOptimizedClustering(n_cluster=3, \n",
        "                                       n_particles=20, \n",
        "                                       data=cluster2, \n",
        "                                       hybrid=True,\n",
        "                                       max_iter=2000, \n",
        "                                       print_debug=200)"
      ]
    },
    {
      "cell_type": "code",
      "execution_count": null,
      "metadata": {
        "colab": {
          "base_uri": "https://localhost:8080/"
        },
        "id": "vgc2ACSvI2kQ",
        "outputId": "c46c676d-4b78-40e5-d01f-3029ba583709"
      },
      "outputs": [
        {
          "output_type": "stream",
          "name": "stdout",
          "text": [
            "Initial global best score 0.5273138671012862\n",
            "Iteration 0001/2000 current gbest score 0.527313867101286249\n",
            "Iteration 0201/2000 current gbest score 0.527313867101286249\n",
            "Iteration 0401/2000 current gbest score 0.527313867101286249\n",
            "Iteration 0601/2000 current gbest score 0.527313867101286249\n",
            "Iteration 0801/2000 current gbest score 0.527313867101286249\n",
            "Iteration 1001/2000 current gbest score 0.527313867101286138\n",
            "Iteration 1201/2000 current gbest score 0.527313867101286138\n",
            "Iteration 1401/2000 current gbest score 0.527313867101286138\n",
            "Iteration 1601/2000 current gbest score 0.527313867101286138\n",
            "Iteration 1801/2000 current gbest score 0.527313867101286138\n",
            "Finish with gbest score 0.527313867101286138\n"
          ]
        }
      ],
      "source": [
        "hist = pso2.run()"
      ]
    },
    {
      "cell_type": "code",
      "execution_count": null,
      "metadata": {
        "id": "XXGMtBZUI2kR"
      },
      "outputs": [],
      "source": [
        "pso_kmeans2 = KMeans(n_cluster=3)\n",
        "pso_kmeans2.centroid = pso2.gbest_centroids.copy()"
      ]
    },
    {
      "cell_type": "code",
      "execution_count": null,
      "metadata": {
        "colab": {
          "base_uri": "https://localhost:8080/"
        },
        "id": "tDfJjrpLI2kR",
        "outputId": "5d7568d0-7892-4a47-d42c-9c2c25efb0c6"
      },
      "outputs": [
        {
          "output_type": "stream",
          "name": "stdout",
          "text": [
            "Silhouette: 0.5341582204434892\n",
            "SSE: 0.8531057740886048\n"
          ]
        }
      ],
      "source": [
        "predicted_pso2 = pso_kmeans2.predict(cluster2)\n",
        "print('Silhouette:', silhouette_score(cluster2, predicted_pso2))\n",
        "print('SSE:', calc_sse(centroids=pso2.gbest_centroids, \n",
        "                       data=cluster2, \n",
        "                       labels=predicted_pso2))"
      ]
    },
    {
      "cell_type": "code",
      "execution_count": null,
      "metadata": {
        "colab": {
          "base_uri": "https://localhost:8080/"
        },
        "id": "rj6bL5grI2kR",
        "outputId": "4e38a0fe-ee97-415e-d1d2-4116fc0877e1"
      },
      "outputs": [
        {
          "output_type": "execute_result",
          "data": {
            "text/plain": [
              "2    25\n",
              "0     9\n",
              "1     5\n",
              "Name: cluster, dtype: int64"
            ]
          },
          "metadata": {},
          "execution_count": 147
        }
      ],
      "source": [
        "frame2 = pd.DataFrame(cluster2)\n",
        "frame2['cluster'] = predicted_pso2\n",
        "frame2['cluster'].value_counts()"
      ]
    },
    {
      "cell_type": "code",
      "execution_count": null,
      "metadata": {
        "colab": {
          "base_uri": "https://localhost:8080/"
        },
        "id": "9H8086s4I2kS",
        "outputId": "635f8796-b179-4bdd-cf17-49f8c6d6bcb8"
      },
      "outputs": [
        {
          "output_type": "execute_result",
          "data": {
            "text/plain": [
              "array([0, 2, 0, 2, 1, 2, 2, 0, 0, 2, 1, 2, 2, 2, 2, 0, 0, 0, 1, 2, 0, 1,\n",
              "       0, 2, 1, 2, 2, 2, 2, 2, 2, 2, 2, 2, 2, 2, 2, 2, 2])"
            ]
          },
          "metadata": {},
          "execution_count": 148
        }
      ],
      "source": [
        "predicted_pso2"
      ]
    },
    {
      "cell_type": "markdown",
      "metadata": {
        "id": "i8CZ99zQI2kV"
      },
      "source": [
        "###**Evaluasi Optimasi**"
      ]
    },
    {
      "cell_type": "code",
      "source": [
        "#evaluasi sse dan silhoute kmeans dengan 20 iterasi\n",
        "kmeanspp = {\n",
        "    'silhouette': [],\n",
        "    'sse' : [],\n",
        "    'dbi': [],\n",
        "}\n",
        "for _ in range(20):\n",
        "    kmean_rep = KMeans(n_cluster=3, init_pp=True)\n",
        "    kmean_rep.fit(cluster2)\n",
        "    predicted_kmean_rep = kmean_rep.predict(cluster2)\n",
        "    silhouette = silhouette_score(cluster2, \n",
        "                                  predicted_kmean_rep)\n",
        "    sse = kmean_rep.SSE\n",
        "    dbi = davies_bouldin_score(cluster2, predicted_kmean_rep)\n",
        "    kmeanspp['silhouette'].append(silhouette)\n",
        "    kmeanspp['sse'].append(sse)\n",
        "    kmeanspp['dbi'].append(dbi)"
      ],
      "metadata": {
        "id": "xyovXeGTPNnh"
      },
      "execution_count": null,
      "outputs": []
    },
    {
      "cell_type": "code",
      "source": [
        "#evaluasi sse dan silhoute pso-kmeans dengan 20 iterasi\n",
        "pso_hybrid = {\n",
        "    'silhouette': [],\n",
        "    'sse' : [],\n",
        "    'dbi': [],\n",
        "}\n",
        "for _ in range(20):\n",
        "    pso_rep2 = ParticleSwarmOptimizedClustering(n_cluster=6, \n",
        "                                               n_particles=10, \n",
        "                                               data=cluster2, \n",
        "                                               hybrid=True, \n",
        "                                               max_iter=2000, \n",
        "                                               print_debug=150)\n",
        "    pso_rep2.run()\n",
        "    pso_kmeans2 = KMeans(n_cluster=6, \n",
        "                        init_pp=False, \n",
        "                        seed=144)\n",
        "    pso_kmeans2.centroid = pso_rep2.gbest_centroids.copy()\n",
        "    predicted_pso_rep2 = pso_kmeans2.predict(cluster2)\n",
        "    \n",
        "    silhouette = silhouette_score(cluster2, \n",
        "                                  predicted_pso_rep2)\n",
        "    sse = calc_sse(centroids=pso_rep2.gbest_centroids, \n",
        "                   data=cluster2, \n",
        "                   labels=predicted_pso_rep2)\n",
        "    dbi = davies_bouldin_score(cluster2, predicted_pso_rep2)\n",
        "\n",
        "    pso_hybrid['silhouette'].append(silhouette)\n",
        "    pso_hybrid['sse'].append(sse)\n",
        "    pso_hybrid['dbi'].append(dbi)"
      ],
      "metadata": {
        "colab": {
          "base_uri": "https://localhost:8080/"
        },
        "id": "LoqJlbrSP4NJ",
        "outputId": "70b3b0c4-6885-4738-e41f-a37412ae614f"
      },
      "execution_count": null,
      "outputs": [
        {
          "output_type": "stream",
          "name": "stdout",
          "text": [
            "Initial global best score 0.22503206551920144\n",
            "Iteration 0001/2000 current gbest score 0.225032065519201435\n",
            "Iteration 0151/2000 current gbest score 0.214944729089711600\n",
            "Iteration 0301/2000 current gbest score 0.209167281903726826\n",
            "Iteration 0451/2000 current gbest score 0.208669214140330905\n",
            "Iteration 0601/2000 current gbest score 0.208637336195139772\n",
            "Iteration 0751/2000 current gbest score 0.208635439450484350\n",
            "Iteration 0901/2000 current gbest score 0.208635393208680076\n",
            "Iteration 1051/2000 current gbest score 0.208635389634517887\n",
            "Iteration 1201/2000 current gbest score 0.208635389363427765\n",
            "Iteration 1351/2000 current gbest score 0.208635389248796876\n",
            "Iteration 1501/2000 current gbest score 0.208635389226942802\n",
            "Iteration 1651/2000 current gbest score 0.208635389219805428\n",
            "Iteration 1801/2000 current gbest score 0.208635389218160938\n",
            "Iteration 1951/2000 current gbest score 0.208635389217161543\n",
            "Finish with gbest score 0.208635389216834000\n",
            "Initial global best score 0.20355662866967417\n",
            "Iteration 0001/2000 current gbest score 0.203556628669674167\n",
            "Iteration 0151/2000 current gbest score 0.184855835859025985\n",
            "Iteration 0301/2000 current gbest score 0.183677815920777698\n",
            "Iteration 0451/2000 current gbest score 0.183677348748075842\n",
            "Iteration 0601/2000 current gbest score 0.183677348740850982\n",
            "Iteration 0751/2000 current gbest score 0.183677348740843405\n",
            "Iteration 0901/2000 current gbest score 0.183677348740839047\n",
            "Iteration 1051/2000 current gbest score 0.183677348740733909\n",
            "Iteration 1201/2000 current gbest score 0.183677348740252294\n",
            "Iteration 1351/2000 current gbest score 0.183677348739744201\n",
            "Iteration 1501/2000 current gbest score 0.183677348739462537\n",
            "Iteration 1651/2000 current gbest score 0.183677348738411378\n",
            "Iteration 1801/2000 current gbest score 0.183677348738265828\n",
            "Iteration 1951/2000 current gbest score 0.183677348738226498\n",
            "Finish with gbest score 0.183677348738221863\n",
            "Initial global best score 0.17750570678904973\n",
            "Iteration 0001/2000 current gbest score 0.177505706789049728\n",
            "Iteration 0151/2000 current gbest score 0.177505706789049728\n",
            "Iteration 0301/2000 current gbest score 0.177505706789049728\n",
            "Iteration 0451/2000 current gbest score 0.177505706789049728\n",
            "Iteration 0601/2000 current gbest score 0.177505706789049728\n",
            "Iteration 0751/2000 current gbest score 0.177505706789049728\n",
            "Iteration 0901/2000 current gbest score 0.177505706789049728\n",
            "Iteration 1051/2000 current gbest score 0.177505706789049728\n",
            "Iteration 1201/2000 current gbest score 0.177505706789049728\n",
            "Iteration 1351/2000 current gbest score 0.177505706789049728\n",
            "Iteration 1501/2000 current gbest score 0.177505706789049728\n",
            "Iteration 1651/2000 current gbest score 0.177505706789049728\n",
            "Iteration 1801/2000 current gbest score 0.177505706789049728\n",
            "Iteration 1951/2000 current gbest score 0.177505706789049728\n",
            "Finish with gbest score 0.177505706789049728\n",
            "Initial global best score 0.19773720085297017\n",
            "Iteration 0001/2000 current gbest score 0.197737200852970169\n",
            "Iteration 0151/2000 current gbest score 0.174751100962543066\n",
            "Iteration 0301/2000 current gbest score 0.174419320688187135\n",
            "Iteration 0451/2000 current gbest score 0.174413328796975547\n",
            "Iteration 0601/2000 current gbest score 0.174413327375495392\n",
            "Iteration 0751/2000 current gbest score 0.174413327004581564\n",
            "Iteration 0901/2000 current gbest score 0.174413327004564661\n",
            "Iteration 1051/2000 current gbest score 0.174413327003885038\n",
            "Iteration 1201/2000 current gbest score 0.174413327000747437\n",
            "Iteration 1351/2000 current gbest score 0.174413327000608520\n",
            "Iteration 1501/2000 current gbest score 0.174413327000545210\n",
            "Iteration 1651/2000 current gbest score 0.174413327000521562\n",
            "Iteration 1801/2000 current gbest score 0.174413327000512819\n",
            "Iteration 1951/2000 current gbest score 0.174413327000501467\n",
            "Finish with gbest score 0.174413327000497359\n",
            "Initial global best score 0.23413167520598943\n",
            "Iteration 0001/2000 current gbest score 0.234131675205989431\n",
            "Iteration 0151/2000 current gbest score 0.232800872168407086\n",
            "Iteration 0301/2000 current gbest score 0.232799336431200210\n",
            "Iteration 0451/2000 current gbest score 0.232799333106082584\n",
            "Iteration 0601/2000 current gbest score 0.232799333073526932\n",
            "Iteration 0751/2000 current gbest score 0.232799333073408832\n",
            "Iteration 0901/2000 current gbest score 0.232799333073397424\n",
            "Iteration 1051/2000 current gbest score 0.232799333073394621\n",
            "Iteration 1201/2000 current gbest score 0.232799333073394621\n",
            "Iteration 1351/2000 current gbest score 0.232799333073394621\n",
            "Iteration 1501/2000 current gbest score 0.232799333073394621\n",
            "Iteration 1651/2000 current gbest score 0.232799333073394621\n",
            "Iteration 1801/2000 current gbest score 0.232799333073394621\n",
            "Iteration 1951/2000 current gbest score 0.232799333073394621\n",
            "Finish with gbest score 0.232799333073394538\n",
            "Initial global best score 0.1969014523143794\n",
            "Iteration 0001/2000 current gbest score 0.196901452314379388\n",
            "Iteration 0151/2000 current gbest score 0.195121068574626660\n",
            "Iteration 0301/2000 current gbest score 0.195032596069958708\n",
            "Iteration 0451/2000 current gbest score 0.194956045626238222\n",
            "Iteration 0601/2000 current gbest score 0.194953762458406982\n",
            "Iteration 0751/2000 current gbest score 0.194953554810067625\n",
            "Iteration 0901/2000 current gbest score 0.194953505776654379\n",
            "Iteration 1051/2000 current gbest score 0.194952674021761058\n",
            "Iteration 1201/2000 current gbest score 0.194952673980962971\n",
            "Iteration 1351/2000 current gbest score 0.194952673827299972\n",
            "Iteration 1501/2000 current gbest score 0.194952673804648341\n",
            "Iteration 1651/2000 current gbest score 0.194952673803303528\n",
            "Iteration 1801/2000 current gbest score 0.194952673803123866\n",
            "Iteration 1951/2000 current gbest score 0.194952673803068216\n",
            "Finish with gbest score 0.194952673803042514\n",
            "Initial global best score 0.22660438210004677\n",
            "Iteration 0001/2000 current gbest score 0.226604382100046770\n",
            "Iteration 0151/2000 current gbest score 0.190151715280268724\n",
            "Iteration 0301/2000 current gbest score 0.190151700097298954\n",
            "Iteration 0451/2000 current gbest score 0.190151700062508228\n",
            "Iteration 0601/2000 current gbest score 0.190151700060616186\n",
            "Iteration 0751/2000 current gbest score 0.190151699620548481\n",
            "Iteration 0901/2000 current gbest score 0.190151699282733483\n",
            "Iteration 1051/2000 current gbest score 0.190151699239518385\n",
            "Iteration 1201/2000 current gbest score 0.190151699234704180\n",
            "Iteration 1351/2000 current gbest score 0.190151699234214017\n",
            "Iteration 1501/2000 current gbest score 0.190151699234171079\n",
            "Iteration 1651/2000 current gbest score 0.190151699234155563\n",
            "Iteration 1801/2000 current gbest score 0.190151699234138105\n",
            "Iteration 1951/2000 current gbest score 0.190151699234123228\n",
            "Finish with gbest score 0.190151699234119814\n",
            "Initial global best score 0.16684456956758753\n",
            "Iteration 0001/2000 current gbest score 0.166844569567587531\n",
            "Iteration 0151/2000 current gbest score 0.166844569567587531\n",
            "Iteration 0301/2000 current gbest score 0.166844569567587531\n",
            "Iteration 0451/2000 current gbest score 0.166844569567587531\n",
            "Iteration 0601/2000 current gbest score 0.166844569567587531\n",
            "Iteration 0751/2000 current gbest score 0.166844569567587531\n",
            "Iteration 0901/2000 current gbest score 0.166844569567587531\n",
            "Iteration 1051/2000 current gbest score 0.166844569567587531\n",
            "Iteration 1201/2000 current gbest score 0.166844569567587531\n",
            "Iteration 1351/2000 current gbest score 0.166844569567587531\n",
            "Iteration 1501/2000 current gbest score 0.166844569567587531\n",
            "Iteration 1651/2000 current gbest score 0.166844569567587531\n",
            "Iteration 1801/2000 current gbest score 0.166844569567587531\n",
            "Iteration 1951/2000 current gbest score 0.166844569567587531\n",
            "Finish with gbest score 0.166844569567587531\n",
            "Initial global best score 0.16684456956758753\n",
            "Iteration 0001/2000 current gbest score 0.166844569567587531\n",
            "Iteration 0151/2000 current gbest score 0.166844569567587531\n",
            "Iteration 0301/2000 current gbest score 0.166844569567587503\n",
            "Iteration 0451/2000 current gbest score 0.166844569567587503\n",
            "Iteration 0601/2000 current gbest score 0.166844569567587503\n",
            "Iteration 0751/2000 current gbest score 0.166844569567587503\n",
            "Iteration 0901/2000 current gbest score 0.166844569567587503\n",
            "Iteration 1051/2000 current gbest score 0.166844569567587503\n",
            "Iteration 1201/2000 current gbest score 0.166844569567587503\n",
            "Iteration 1351/2000 current gbest score 0.166844569567587503\n",
            "Iteration 1501/2000 current gbest score 0.166844569567587503\n",
            "Iteration 1651/2000 current gbest score 0.166844569567587503\n",
            "Iteration 1801/2000 current gbest score 0.166844569567587503\n",
            "Iteration 1951/2000 current gbest score 0.166844569567587503\n",
            "Finish with gbest score 0.166844569567587503\n",
            "Initial global best score 0.20153393532207253\n",
            "Iteration 0001/2000 current gbest score 0.201533935322072533\n",
            "Iteration 0151/2000 current gbest score 0.190752968968163600\n",
            "Iteration 0301/2000 current gbest score 0.190638338581523820\n",
            "Iteration 0451/2000 current gbest score 0.190638327032247673\n",
            "Iteration 0601/2000 current gbest score 0.190638327026529802\n",
            "Iteration 0751/2000 current gbest score 0.190638327026517979\n",
            "Iteration 0901/2000 current gbest score 0.190638327026517729\n",
            "Iteration 1051/2000 current gbest score 0.190638327026506404\n",
            "Iteration 1201/2000 current gbest score 0.190638327026492554\n",
            "Iteration 1351/2000 current gbest score 0.190638327026474402\n",
            "Iteration 1501/2000 current gbest score 0.190638327026461191\n",
            "Iteration 1651/2000 current gbest score 0.190638327026448451\n",
            "Iteration 1801/2000 current gbest score 0.190638327026437349\n",
            "Iteration 1951/2000 current gbest score 0.190638327026410481\n",
            "Finish with gbest score 0.190638327026406568\n",
            "Initial global best score 0.16952498122364598\n",
            "Iteration 0001/2000 current gbest score 0.169524981223645982\n",
            "Iteration 0151/2000 current gbest score 0.169524981223645982\n",
            "Iteration 0301/2000 current gbest score 0.169524981223645982\n",
            "Iteration 0451/2000 current gbest score 0.169524981223645982\n",
            "Iteration 0601/2000 current gbest score 0.169524981223645982\n",
            "Iteration 0751/2000 current gbest score 0.169524981223645982\n",
            "Iteration 0901/2000 current gbest score 0.169524981223645982\n",
            "Iteration 1051/2000 current gbest score 0.169524981223645982\n",
            "Iteration 1201/2000 current gbest score 0.169524981223645982\n",
            "Iteration 1351/2000 current gbest score 0.169524981223645982\n",
            "Iteration 1501/2000 current gbest score 0.169524981223645982\n",
            "Iteration 1651/2000 current gbest score 0.169524981223645982\n",
            "Iteration 1801/2000 current gbest score 0.169524981223645982\n",
            "Iteration 1951/2000 current gbest score 0.169524981223645982\n",
            "Finish with gbest score 0.169524981223645982\n",
            "Initial global best score 0.16684456956758753\n",
            "Iteration 0001/2000 current gbest score 0.166844569567587531\n",
            "Iteration 0151/2000 current gbest score 0.166844569567587531\n",
            "Iteration 0301/2000 current gbest score 0.166844569567587531\n",
            "Iteration 0451/2000 current gbest score 0.166844569567587503\n",
            "Iteration 0601/2000 current gbest score 0.166844569567587503\n",
            "Iteration 0751/2000 current gbest score 0.166844569567587503\n",
            "Iteration 0901/2000 current gbest score 0.166844569567587503\n",
            "Iteration 1051/2000 current gbest score 0.166844569567587503\n",
            "Iteration 1201/2000 current gbest score 0.166844569567587503\n",
            "Iteration 1351/2000 current gbest score 0.166844569567587503\n",
            "Iteration 1501/2000 current gbest score 0.166844569567587503\n",
            "Iteration 1651/2000 current gbest score 0.166844569567587503\n",
            "Iteration 1801/2000 current gbest score 0.166844569567587503\n",
            "Iteration 1951/2000 current gbest score 0.166844569567587503\n",
            "Finish with gbest score 0.166844569567587503\n",
            "Initial global best score 0.16684456956758753\n",
            "Iteration 0001/2000 current gbest score 0.166844569567587531\n",
            "Iteration 0151/2000 current gbest score 0.166844569567587531\n",
            "Iteration 0301/2000 current gbest score 0.166844569567587531\n",
            "Iteration 0451/2000 current gbest score 0.166844569567587531\n",
            "Iteration 0601/2000 current gbest score 0.166844569567587531\n",
            "Iteration 0751/2000 current gbest score 0.166844569567587531\n",
            "Iteration 0901/2000 current gbest score 0.166844569567587531\n",
            "Iteration 1051/2000 current gbest score 0.166844569567587531\n",
            "Iteration 1201/2000 current gbest score 0.166844569567587531\n",
            "Iteration 1351/2000 current gbest score 0.166844569567587531\n",
            "Iteration 1501/2000 current gbest score 0.166844569567587531\n",
            "Iteration 1651/2000 current gbest score 0.166844569567587531\n",
            "Iteration 1801/2000 current gbest score 0.166844569567587531\n",
            "Iteration 1951/2000 current gbest score 0.166844569567587531\n",
            "Finish with gbest score 0.166844569567587531\n",
            "Initial global best score 0.16684456956758753\n",
            "Iteration 0001/2000 current gbest score 0.166844569567587531\n",
            "Iteration 0151/2000 current gbest score 0.166844569567587531\n",
            "Iteration 0301/2000 current gbest score 0.166844569567587531\n",
            "Iteration 0451/2000 current gbest score 0.166844569567587531\n",
            "Iteration 0601/2000 current gbest score 0.166844569567587531\n",
            "Iteration 0751/2000 current gbest score 0.166844569567587531\n",
            "Iteration 0901/2000 current gbest score 0.166844569567587531\n",
            "Iteration 1051/2000 current gbest score 0.166844569567587531\n",
            "Iteration 1201/2000 current gbest score 0.166844569567587531\n",
            "Iteration 1351/2000 current gbest score 0.166844569567587531\n",
            "Iteration 1501/2000 current gbest score 0.166844569567587531\n",
            "Iteration 1651/2000 current gbest score 0.166844569567587531\n",
            "Iteration 1801/2000 current gbest score 0.166844569567587531\n",
            "Iteration 1951/2000 current gbest score 0.166844569567587531\n",
            "Finish with gbest score 0.166844569567587531\n",
            "Initial global best score 0.2206395312341324\n",
            "Iteration 0001/2000 current gbest score 0.220639531234132408\n",
            "Iteration 0151/2000 current gbest score 0.199640385138956572\n",
            "Iteration 0301/2000 current gbest score 0.199351887256997345\n",
            "Iteration 0451/2000 current gbest score 0.199351887158613600\n",
            "Iteration 0601/2000 current gbest score 0.199351887157523472\n",
            "Iteration 0751/2000 current gbest score 0.199351887157489499\n",
            "Iteration 0901/2000 current gbest score 0.199351887156525159\n",
            "Iteration 1051/2000 current gbest score 0.199351887154238544\n",
            "Iteration 1201/2000 current gbest score 0.199351887144649770\n",
            "Iteration 1351/2000 current gbest score 0.199351887140083145\n",
            "Iteration 1501/2000 current gbest score 0.199351887138921574\n",
            "Iteration 1651/2000 current gbest score 0.199351887138803280\n",
            "Iteration 1801/2000 current gbest score 0.199351887105227304\n",
            "Iteration 1951/2000 current gbest score 0.199351887056233190\n",
            "Finish with gbest score 0.199351887053311722\n",
            "Initial global best score 0.20190255549593059\n",
            "Iteration 0001/2000 current gbest score 0.201902555495930586\n",
            "Iteration 0151/2000 current gbest score 0.190677159146057068\n",
            "Iteration 0301/2000 current gbest score 0.189381745850810801\n",
            "Iteration 0451/2000 current gbest score 0.189298620632381231\n",
            "Iteration 0601/2000 current gbest score 0.189294904170026285\n",
            "Iteration 0751/2000 current gbest score 0.189293918842693198\n",
            "Iteration 0901/2000 current gbest score 0.189293737738030710\n",
            "Iteration 1051/2000 current gbest score 0.189293707270493550\n",
            "Iteration 1201/2000 current gbest score 0.189293698690592427\n",
            "Iteration 1351/2000 current gbest score 0.189293695704323223\n",
            "Iteration 1501/2000 current gbest score 0.189293695216163654\n",
            "Iteration 1651/2000 current gbest score 0.189293695040935045\n",
            "Iteration 1801/2000 current gbest score 0.189293695001492956\n",
            "Iteration 1951/2000 current gbest score 0.189293694991600175\n",
            "Finish with gbest score 0.189293694990760736\n",
            "Initial global best score 0.200800758414425\n",
            "Iteration 0001/2000 current gbest score 0.200800758414424990\n",
            "Iteration 0151/2000 current gbest score 0.187550700855717373\n",
            "Iteration 0301/2000 current gbest score 0.187526649159307418\n",
            "Iteration 0451/2000 current gbest score 0.187526648384524458\n",
            "Iteration 0601/2000 current gbest score 0.187526648377739358\n",
            "Iteration 0751/2000 current gbest score 0.187526648377735583\n",
            "Iteration 0901/2000 current gbest score 0.187526648377733141\n",
            "Iteration 1051/2000 current gbest score 0.187526648377711491\n",
            "Iteration 1201/2000 current gbest score 0.187526648377694949\n",
            "Iteration 1351/2000 current gbest score 0.187526648377683625\n",
            "Iteration 1501/2000 current gbest score 0.187526648377671828\n",
            "Iteration 1651/2000 current gbest score 0.187526648377660976\n",
            "Iteration 1801/2000 current gbest score 0.187526648377640576\n",
            "Iteration 1951/2000 current gbest score 0.187526648377628641\n",
            "Finish with gbest score 0.187526648377626004\n",
            "Initial global best score 0.16684456956758753\n",
            "Iteration 0001/2000 current gbest score 0.166844569567587531\n",
            "Iteration 0151/2000 current gbest score 0.166844569567587531\n",
            "Iteration 0301/2000 current gbest score 0.166844569567587531\n",
            "Iteration 0451/2000 current gbest score 0.166844569567587531\n",
            "Iteration 0601/2000 current gbest score 0.166844569567587531\n",
            "Iteration 0751/2000 current gbest score 0.166844569567587531\n",
            "Iteration 0901/2000 current gbest score 0.166844569567587531\n",
            "Iteration 1051/2000 current gbest score 0.166844569567587531\n",
            "Iteration 1201/2000 current gbest score 0.166844569567587531\n",
            "Iteration 1351/2000 current gbest score 0.166844569567587531\n",
            "Iteration 1501/2000 current gbest score 0.166844569567587531\n",
            "Iteration 1651/2000 current gbest score 0.166844569567587531\n",
            "Iteration 1801/2000 current gbest score 0.166844569567587531\n",
            "Iteration 1951/2000 current gbest score 0.166844569567587531\n",
            "Finish with gbest score 0.166844569567587531\n",
            "Initial global best score 0.2051474198017489\n",
            "Iteration 0001/2000 current gbest score 0.205147419801748887\n",
            "Iteration 0151/2000 current gbest score 0.200552308789274519\n",
            "Iteration 0301/2000 current gbest score 0.200551220594952812\n",
            "Iteration 0451/2000 current gbest score 0.200551199427577292\n",
            "Iteration 0601/2000 current gbest score 0.200551034361494102\n",
            "Iteration 0751/2000 current gbest score 0.200551014815364997\n",
            "Iteration 0901/2000 current gbest score 0.200551013157831276\n",
            "Iteration 1051/2000 current gbest score 0.200551013026100761\n",
            "Iteration 1201/2000 current gbest score 0.200551013018782420\n",
            "Iteration 1351/2000 current gbest score 0.200551013016772361\n",
            "Iteration 1501/2000 current gbest score 0.200551013016366131\n",
            "Iteration 1651/2000 current gbest score 0.200551013016334295\n",
            "Iteration 1801/2000 current gbest score 0.200551013016314811\n",
            "Iteration 1951/2000 current gbest score 0.200551013016298935\n",
            "Finish with gbest score 0.200551013016295215\n",
            "Initial global best score 0.2152392932466317\n",
            "Iteration 0001/2000 current gbest score 0.215239293246631713\n",
            "Iteration 0151/2000 current gbest score 0.188194961010117096\n",
            "Iteration 0301/2000 current gbest score 0.188131977226040664\n",
            "Iteration 0451/2000 current gbest score 0.188131975289353243\n",
            "Iteration 0601/2000 current gbest score 0.188131975240580090\n",
            "Iteration 0751/2000 current gbest score 0.188131975240568017\n",
            "Iteration 0901/2000 current gbest score 0.188131975240567906\n",
            "Iteration 1051/2000 current gbest score 0.188131975240567823\n",
            "Iteration 1201/2000 current gbest score 0.188131975240567823\n",
            "Iteration 1351/2000 current gbest score 0.188131975240567823\n",
            "Iteration 1501/2000 current gbest score 0.188131975240567711\n",
            "Iteration 1651/2000 current gbest score 0.188131975240567684\n",
            "Iteration 1801/2000 current gbest score 0.188131975240567656\n",
            "Iteration 1951/2000 current gbest score 0.188131975240565991\n",
            "Finish with gbest score 0.188131975240562049\n"
          ]
        }
      ]
    },
    {
      "cell_type": "code",
      "source": [
        "evaluasi = {\n",
        "    'method' : ['K-Means', 'PSO Kmeans'],\n",
        "    'sse_mean' : [\n",
        "        np.around(np.mean(kmeanspp['sse']), decimals=10),\n",
        "        np.around(np.mean(pso_hybrid['sse']), decimals=10),\n",
        "    ],\n",
        "    'silhouette_mean' : [\n",
        "        np.around(np.mean(kmeanspp['silhouette']), decimals=10),\n",
        "        np.around(np.mean(pso_hybrid['silhouette']), decimals=10),\n",
        "    ],\n",
        "    'dbi_mean': [\n",
        "        np.around(np.mean(kmeanspp['dbi']), decimals=10),\n",
        "        np.around(np.mean(pso_hybrid['dbi']), decimals=10),\n",
        "    ]\n",
        "}"
      ],
      "metadata": {
        "id": "uzQcNaFGQAix"
      },
      "execution_count": null,
      "outputs": []
    },
    {
      "cell_type": "code",
      "source": [
        "eval = pd.DataFrame.from_dict(evaluasi)\n",
        "eval"
      ],
      "metadata": {
        "colab": {
          "base_uri": "https://localhost:8080/",
          "height": 112
        },
        "id": "nlrD7CrjQJg3",
        "outputId": "48700674-8751-4e4c-c650-5fde672fe499"
      },
      "execution_count": null,
      "outputs": [
        {
          "output_type": "execute_result",
          "data": {
            "text/plain": [
              "       method  sse_mean  silhouette_mean  dbi_mean\n",
              "0     K-Means  0.858209         0.535189  0.576832\n",
              "1  PSO Kmeans  0.357805         0.577407  0.451819"
            ],
            "text/html": [
              "\n",
              "  <div id=\"df-9695e16d-b8d1-4192-b83a-36ee5b0ad14b\">\n",
              "    <div class=\"colab-df-container\">\n",
              "      <div>\n",
              "<style scoped>\n",
              "    .dataframe tbody tr th:only-of-type {\n",
              "        vertical-align: middle;\n",
              "    }\n",
              "\n",
              "    .dataframe tbody tr th {\n",
              "        vertical-align: top;\n",
              "    }\n",
              "\n",
              "    .dataframe thead th {\n",
              "        text-align: right;\n",
              "    }\n",
              "</style>\n",
              "<table border=\"1\" class=\"dataframe\">\n",
              "  <thead>\n",
              "    <tr style=\"text-align: right;\">\n",
              "      <th></th>\n",
              "      <th>method</th>\n",
              "      <th>sse_mean</th>\n",
              "      <th>silhouette_mean</th>\n",
              "      <th>dbi_mean</th>\n",
              "    </tr>\n",
              "  </thead>\n",
              "  <tbody>\n",
              "    <tr>\n",
              "      <th>0</th>\n",
              "      <td>K-Means</td>\n",
              "      <td>0.858209</td>\n",
              "      <td>0.535189</td>\n",
              "      <td>0.576832</td>\n",
              "    </tr>\n",
              "    <tr>\n",
              "      <th>1</th>\n",
              "      <td>PSO Kmeans</td>\n",
              "      <td>0.357805</td>\n",
              "      <td>0.577407</td>\n",
              "      <td>0.451819</td>\n",
              "    </tr>\n",
              "  </tbody>\n",
              "</table>\n",
              "</div>\n",
              "      <button class=\"colab-df-convert\" onclick=\"convertToInteractive('df-9695e16d-b8d1-4192-b83a-36ee5b0ad14b')\"\n",
              "              title=\"Convert this dataframe to an interactive table.\"\n",
              "              style=\"display:none;\">\n",
              "        \n",
              "  <svg xmlns=\"http://www.w3.org/2000/svg\" height=\"24px\"viewBox=\"0 0 24 24\"\n",
              "       width=\"24px\">\n",
              "    <path d=\"M0 0h24v24H0V0z\" fill=\"none\"/>\n",
              "    <path d=\"M18.56 5.44l.94 2.06.94-2.06 2.06-.94-2.06-.94-.94-2.06-.94 2.06-2.06.94zm-11 1L8.5 8.5l.94-2.06 2.06-.94-2.06-.94L8.5 2.5l-.94 2.06-2.06.94zm10 10l.94 2.06.94-2.06 2.06-.94-2.06-.94-.94-2.06-.94 2.06-2.06.94z\"/><path d=\"M17.41 7.96l-1.37-1.37c-.4-.4-.92-.59-1.43-.59-.52 0-1.04.2-1.43.59L10.3 9.45l-7.72 7.72c-.78.78-.78 2.05 0 2.83L4 21.41c.39.39.9.59 1.41.59.51 0 1.02-.2 1.41-.59l7.78-7.78 2.81-2.81c.8-.78.8-2.07 0-2.86zM5.41 20L4 18.59l7.72-7.72 1.47 1.35L5.41 20z\"/>\n",
              "  </svg>\n",
              "      </button>\n",
              "      \n",
              "  <style>\n",
              "    .colab-df-container {\n",
              "      display:flex;\n",
              "      flex-wrap:wrap;\n",
              "      gap: 12px;\n",
              "    }\n",
              "\n",
              "    .colab-df-convert {\n",
              "      background-color: #E8F0FE;\n",
              "      border: none;\n",
              "      border-radius: 50%;\n",
              "      cursor: pointer;\n",
              "      display: none;\n",
              "      fill: #1967D2;\n",
              "      height: 32px;\n",
              "      padding: 0 0 0 0;\n",
              "      width: 32px;\n",
              "    }\n",
              "\n",
              "    .colab-df-convert:hover {\n",
              "      background-color: #E2EBFA;\n",
              "      box-shadow: 0px 1px 2px rgba(60, 64, 67, 0.3), 0px 1px 3px 1px rgba(60, 64, 67, 0.15);\n",
              "      fill: #174EA6;\n",
              "    }\n",
              "\n",
              "    [theme=dark] .colab-df-convert {\n",
              "      background-color: #3B4455;\n",
              "      fill: #D2E3FC;\n",
              "    }\n",
              "\n",
              "    [theme=dark] .colab-df-convert:hover {\n",
              "      background-color: #434B5C;\n",
              "      box-shadow: 0px 1px 3px 1px rgba(0, 0, 0, 0.15);\n",
              "      filter: drop-shadow(0px 1px 2px rgba(0, 0, 0, 0.3));\n",
              "      fill: #FFFFFF;\n",
              "    }\n",
              "  </style>\n",
              "\n",
              "      <script>\n",
              "        const buttonEl =\n",
              "          document.querySelector('#df-9695e16d-b8d1-4192-b83a-36ee5b0ad14b button.colab-df-convert');\n",
              "        buttonEl.style.display =\n",
              "          google.colab.kernel.accessAllowed ? 'block' : 'none';\n",
              "\n",
              "        async function convertToInteractive(key) {\n",
              "          const element = document.querySelector('#df-9695e16d-b8d1-4192-b83a-36ee5b0ad14b');\n",
              "          const dataTable =\n",
              "            await google.colab.kernel.invokeFunction('convertToInteractive',\n",
              "                                                     [key], {});\n",
              "          if (!dataTable) return;\n",
              "\n",
              "          const docLinkHtml = 'Like what you see? Visit the ' +\n",
              "            '<a target=\"_blank\" href=https://colab.research.google.com/notebooks/data_table.ipynb>data table notebook</a>'\n",
              "            + ' to learn more about interactive tables.';\n",
              "          element.innerHTML = '';\n",
              "          dataTable['output_type'] = 'display_data';\n",
              "          await google.colab.output.renderOutput(dataTable, element);\n",
              "          const docLink = document.createElement('div');\n",
              "          docLink.innerHTML = docLinkHtml;\n",
              "          element.appendChild(docLink);\n",
              "        }\n",
              "      </script>\n",
              "    </div>\n",
              "  </div>\n",
              "  "
            ]
          },
          "metadata": {},
          "execution_count": 58
        }
      ]
    },
    {
      "cell_type": "markdown",
      "metadata": {
        "id": "tAT8iMtRWH68"
      },
      "source": [
        "###**Pattern Evaluation**"
      ]
    },
    {
      "cell_type": "code",
      "execution_count": null,
      "metadata": {
        "id": "rrxfB1iKI2kT"
      },
      "outputs": [],
      "source": [
        "#create new column for cluster labels associated with each subject\n",
        "data_cluster2['labels'] = predicted_pso2\n",
        "data_cluster2['Segment'] = data_cluster2['labels'].map({0: 'First', 1: 'Second', 2: 'Third'})"
      ]
    },
    {
      "cell_type": "code",
      "execution_count": null,
      "metadata": {
        "id": "qX0swsSFI2kU"
      },
      "outputs": [],
      "source": [
        "#Order the cluster\n",
        "data_cluster2['Segment'] = data_cluster2['Segment'].astype('category')\n",
        "data_cluster2['Segment'] = data_cluster2['Segment'].cat.reorder_categories(['First', 'Second', 'Third'])"
      ]
    },
    {
      "cell_type": "code",
      "execution_count": null,
      "metadata": {
        "id": "plIZ1ZdcI2kU"
      },
      "outputs": [],
      "source": [
        "# ==== CREATE DICTIONARY FOR OBJECT AND NUMERICAL COLUMNS ====#\n",
        "dict_cat = {}\n",
        "dict_num = {}\n",
        "for cat in data_cluster2.select_dtypes('object'):\n",
        " dict_cat[cat] = lambda x: x.value_counts().index[0]\n",
        "for num in data_cluster2.select_dtypes(['int64', 'float64']):\n",
        "  if (num == 'Total'):\n",
        "    continue\n",
        "  dict_num[num] = ['mean']\n",
        "# ============ CREATE TABLE FOR EACH CLUSTER ============#\n",
        "data_cluster2.rename(columns={'labels': 'Total'}, inplace=True)\n",
        "data_percluster2 = data_cluster2.groupby('Segment').agg({\n",
        " 'Total': 'count',\n",
        " **dict_num,\n",
        " **dict_cat\n",
        "}).T"
      ]
    },
    {
      "cell_type": "code",
      "execution_count": null,
      "metadata": {
        "id": "RNEWKS0xI2kU"
      },
      "outputs": [],
      "source": [
        "data_cluster2['coord'] = coord2"
      ]
    },
    {
      "cell_type": "code",
      "execution_count": null,
      "metadata": {
        "id": "RsmlUtvjI2kU"
      },
      "outputs": [],
      "source": [
        "data_cluster2 = data_cluster2.T\n",
        "data_percluster2.to_json(r'cluster2_result.json')\n",
        "data_cluster2.to_json(r'cluster2_df.json')"
      ]
    },
    {
      "cell_type": "markdown",
      "metadata": {
        "id": "R15CVHx_I8a-"
      },
      "source": [
        "#**CLUSTER3**"
      ]
    },
    {
      "cell_type": "code",
      "execution_count": null,
      "metadata": {
        "id": "PbiejzO4I8a-"
      },
      "outputs": [],
      "source": [
        "data_cluster3 = merge_data[['tifoid','Umur']] \n",
        "\n",
        "# Standardize data\n",
        "scaler = MinMaxScaler()\n",
        "Num_features = data_cluster3.select_dtypes(include=['int64', 'float64']).columns\n",
        "scaler.fit(data_cluster3[Num_features])\n",
        "cluster3 = scaler.transform(data_cluster3[Num_features])"
      ]
    },
    {
      "cell_type": "markdown",
      "metadata": {
        "id": "UWKv03fzI8a_"
      },
      "source": [
        "###Elbow Method"
      ]
    },
    {
      "cell_type": "code",
      "execution_count": null,
      "metadata": {
        "colab": {
          "base_uri": "https://localhost:8080/"
        },
        "id": "7vcTx2QMI8a_",
        "outputId": "e3e271df-362d-4eeb-9845-12359a7305ea"
      },
      "outputs": [
        {
          "output_type": "stream",
          "name": "stdout",
          "text": [
            "    K       sse  silhouette\n",
            "0   2  1.931668    0.658320\n",
            "1   3  0.929495    0.517865\n",
            "2   4  0.467684    0.560446\n",
            "3   5  0.341691    0.585736\n",
            "4   6  0.217529    0.585028\n",
            "5   7  0.127375    0.600282\n",
            "6   8  0.090909    0.623939\n",
            "7   9  0.064363    0.646418\n",
            "8  10  0.049336    0.651152\n"
          ]
        }
      ],
      "source": [
        "sse = []\n",
        "silhouette_scores = []\n",
        "\n",
        "for n_clusters in range(2, 11):\n",
        "    kmeans = Kmeans1(n_clusters=n_clusters, random_state=42)\n",
        "    labels = kmeans.fit_predict(cluster3)\n",
        "    sse.append(kmeans.inertia_)\n",
        "    silhouette_avg = silhouette_score(cluster3, labels)\n",
        "    silhouette_scores.append(silhouette_avg)\n",
        "\n",
        "table_elbow = {\n",
        "    'K': range(2, 11),\n",
        "    'sse': sse,\n",
        "    'silhouette': silhouette_scores\n",
        "}\n",
        "df = pd.DataFrame(table_elbow)\n",
        "print(df)"
      ]
    },
    {
      "cell_type": "code",
      "execution_count": null,
      "metadata": {
        "colab": {
          "base_uri": "https://localhost:8080/"
        },
        "id": "SuVJ-Hg1I8a_",
        "outputId": "11b17fb4-b28a-46c1-e088-d1fb2cdb8eb0"
      },
      "outputs": [
        {
          "output_type": "display_data",
          "data": {
            "text/plain": [
              "<Figure size 1000x500 with 1 Axes>"
            ],
            "image/png": "[encoded data removed]"
          },
          "metadata": {}
        },
        {
          "output_type": "display_data",
          "data": {
            "text/plain": [
              "<Figure size 1000x500 with 1 Axes>"
            ],
            "image/png": "[encoded data removed]"
          },
          "metadata": {}
        }
      ],
      "source": [
        "K = list(range(2,11))\n",
        "# Plot sse against k\n",
        "plt.figure(figsize=(10, 5))\n",
        "plt.plot(K, sse, '-o')\n",
        "plt.xlabel(r'Number of clusters *k*')\n",
        "plt.ylabel('Sum of squared distance');\n",
        "\n",
        "# Plot silhouette against k\n",
        "plt.figure(figsize=(10, 5))\n",
        "plt.plot(K, silhouette_scores, '-o')\n",
        "plt.xlabel(r'Number of clusters *k*')\n",
        "plt.ylabel('Silhouette');"
      ]
    },
    {
      "cell_type": "markdown",
      "metadata": {
        "id": "qo8zhLZKI8bA"
      },
      "source": [
        "### **K-Means**"
      ]
    },
    {
      "cell_type": "code",
      "execution_count": null,
      "metadata": {
        "id": "p9N8K1gtI8bA"
      },
      "outputs": [],
      "source": [
        "kmeans3 = KMeans(n_cluster=3)\n",
        "kmeans3.fit(cluster3)"
      ]
    },
    {
      "cell_type": "code",
      "execution_count": null,
      "metadata": {
        "id": "yAIkp_dfI8bB",
        "colab": {
          "base_uri": "https://localhost:8080/"
        },
        "outputId": "9efe7927-e340-4626-98e4-c038ac180878"
      },
      "outputs": [
        {
          "output_type": "stream",
          "name": "stdout",
          "text": [
            "Silhouette: 0.5065878742419416\n",
            "SSE: 1.0901933462879554\n"
          ]
        }
      ],
      "source": [
        "predicted_kmeans3 = kmeans3.predict(cluster3)\n",
        "print('Silhouette:', silhouette_score(cluster3, predicted_kmeans3))\n",
        "print('SSE:', kmeans3.SSE)"
      ]
    },
    {
      "cell_type": "code",
      "execution_count": null,
      "metadata": {
        "id": "9PLa2xEdI8bB",
        "colab": {
          "base_uri": "https://localhost:8080/"
        },
        "outputId": "a5484bc0-b084-4a79-e763-7c7decc8cae2"
      },
      "outputs": [
        {
          "output_type": "execute_result",
          "data": {
            "text/plain": [
              "2    18\n",
              "0    16\n",
              "1     5\n",
              "Name: cluster, dtype: int64"
            ]
          },
          "metadata": {},
          "execution_count": 170
        }
      ],
      "source": [
        "frame1 = pd.DataFrame(cluster1)\n",
        "frame1['cluster'] = predicted_kmeans1\n",
        "frame1['cluster'].value_counts()"
      ]
    },
    {
      "cell_type": "code",
      "execution_count": null,
      "metadata": {
        "id": "f1S0rDdXI8bC",
        "colab": {
          "base_uri": "https://localhost:8080/"
        },
        "outputId": "00119ce8-d3ec-420a-ab00-358de7f5c641"
      },
      "outputs": [
        {
          "output_type": "execute_result",
          "data": {
            "text/plain": [
              "array([0, 2, 0, 2, 1, 0, 0, 0, 0, 0, 1, 0, 2, 2, 0, 0, 0, 1, 1, 2, 0, 1,\n",
              "       0, 0, 0, 0, 2, 2, 2, 2, 2, 2, 2, 2, 2, 2, 2, 2, 2])"
            ]
          },
          "metadata": {},
          "execution_count": 171
        }
      ],
      "source": [
        "predicted_kmeans1"
      ]
    },
    {
      "cell_type": "markdown",
      "metadata": {
        "id": "beA3WltfI8bC"
      },
      "source": [
        "### **PSO K-Means**"
      ]
    },
    {
      "cell_type": "code",
      "execution_count": null,
      "metadata": {
        "id": "l0-Nwr51I8bC"
      },
      "outputs": [],
      "source": [
        "pso3 = ParticleSwarmOptimizedClustering(n_cluster=3, \n",
        "                                       n_particles=20, \n",
        "                                       data=cluster3, \n",
        "                                       hybrid=True,\n",
        "                                       max_iter=2000, \n",
        "                                       print_debug=200)"
      ]
    },
    {
      "cell_type": "code",
      "execution_count": null,
      "metadata": {
        "colab": {
          "base_uri": "https://localhost:8080/"
        },
        "id": "zHtcBUW4I8bC",
        "outputId": "cec4af61-2c32-44e1-9626-3add1e1f7746"
      },
      "outputs": [
        {
          "output_type": "stream",
          "name": "stdout",
          "text": [
            "Initial global best score 0.6573713591182047\n",
            "Iteration 0001/2000 current gbest score 0.638661123585927970\n",
            "Iteration 0201/2000 current gbest score 0.532906087997326861\n",
            "Iteration 0401/2000 current gbest score 0.532836460134753054\n",
            "Iteration 0601/2000 current gbest score 0.532836455999867287\n",
            "Iteration 0801/2000 current gbest score 0.532836408668202033\n",
            "Iteration 1001/2000 current gbest score 0.532836381365687228\n",
            "Iteration 1201/2000 current gbest score 0.532836373858055157\n",
            "Iteration 1401/2000 current gbest score 0.532836373858055157\n",
            "Iteration 1601/2000 current gbest score 0.532836373858055157\n",
            "Iteration 1801/2000 current gbest score 0.532836373858055157\n",
            "Finish with gbest score 0.532836373858055157\n"
          ]
        }
      ],
      "source": [
        "hist3 = pso3.run()"
      ]
    },
    {
      "cell_type": "code",
      "execution_count": null,
      "metadata": {
        "id": "5TVJqn12I8bC"
      },
      "outputs": [],
      "source": [
        "pso_kmeans3 = KMeans(n_cluster=3)\n",
        "pso_kmeans3.centroid = pso3.gbest_centroids.copy()"
      ]
    },
    {
      "cell_type": "code",
      "execution_count": null,
      "metadata": {
        "colab": {
          "base_uri": "https://localhost:8080/"
        },
        "id": "3727kGeBI8bD",
        "outputId": "6e23d6c8-2566-45b2-aa1b-9077fc153900"
      },
      "outputs": [
        {
          "output_type": "stream",
          "name": "stdout",
          "text": [
            "Silhouette: 0.49124701897928913\n",
            "SSE: 1.0827100081053063\n"
          ]
        }
      ],
      "source": [
        "predicted_pso3 = pso_kmeans3.predict(cluster3)\n",
        "print('Silhouette:', silhouette_score(cluster3, predicted_pso3))\n",
        "print('SSE:', calc_sse(centroids=pso3.gbest_centroids, \n",
        "                       data=cluster3, \n",
        "                       labels=predicted_pso3))"
      ]
    },
    {
      "cell_type": "code",
      "execution_count": null,
      "metadata": {
        "colab": {
          "base_uri": "https://localhost:8080/"
        },
        "id": "6z39AlIiI8bD",
        "outputId": "fbad1cef-d658-473b-cfbf-a76ca873cc6e"
      },
      "outputs": [
        {
          "output_type": "execute_result",
          "data": {
            "text/plain": [
              "0    25\n",
              "1    11\n",
              "2     3\n",
              "Name: cluster, dtype: int64"
            ]
          },
          "metadata": {},
          "execution_count": 176
        }
      ],
      "source": [
        "frame1 = pd.DataFrame(cluster1)\n",
        "frame1['cluster'] = predicted_pso1\n",
        "frame1['cluster'].value_counts()"
      ]
    },
    {
      "cell_type": "code",
      "execution_count": null,
      "metadata": {
        "colab": {
          "base_uri": "https://localhost:8080/"
        },
        "id": "Q89sWO88I8bD",
        "outputId": "cfe4adc0-c532-4b4b-9a3e-8acf9e44aaa0"
      },
      "outputs": [
        {
          "output_type": "execute_result",
          "data": {
            "text/plain": [
              "array([1, 0, 1, 0, 2, 0, 0, 1, 1, 0, 2, 0, 0, 0, 0, 1, 1, 1, 2, 0, 1, 1,\n",
              "       1, 0, 1, 0, 0, 0, 0, 0, 0, 0, 0, 0, 0, 0, 0, 0, 0])"
            ]
          },
          "metadata": {},
          "execution_count": 177
        }
      ],
      "source": [
        "predicted_pso1"
      ]
    },
    {
      "cell_type": "markdown",
      "metadata": {
        "id": "X6K9bewkI8bH"
      },
      "source": [
        "###**Evaluasi Optimasi**"
      ]
    },
    {
      "cell_type": "code",
      "execution_count": null,
      "metadata": {
        "id": "v8_sjE78I8bH"
      },
      "outputs": [],
      "source": [
        "#evaluasi sse dan silhoute kmeans dengan 20 iterasi\n",
        "kmeanspp = {\n",
        "    'silhouette': [],\n",
        "    'sse' : [],\n",
        "    'dbi': [],\n",
        "}\n",
        "for _ in range(20):\n",
        "    kmean_rep = KMeans(n_cluster=3, init_pp=True)\n",
        "    kmean_rep.fit(cluster3)\n",
        "    predicted_kmean_rep = kmean_rep.predict(cluster3)\n",
        "    silhouette = silhouette_score(cluster3, \n",
        "                                  predicted_kmean_rep)\n",
        "    sse = kmean_rep.SSE\n",
        "    dbi = davies_bouldin_score(cluster3, predicted_kmean_rep)\n",
        "    kmeanspp['silhouette'].append(silhouette)\n",
        "    kmeanspp['sse'].append(sse)\n",
        "    kmeanspp['dbi'].append(dbi)"
      ]
    },
    {
      "cell_type": "code",
      "source": [
        "#evaluasi sse dan silhoute pso-kmeans dengan 20 iterasi\n",
        "pso_hybrid = {\n",
        "    'silhouette': [],\n",
        "    'sse' : [],\n",
        "    'dbi': [],\n",
        "}\n",
        "for _ in range(20):\n",
        "    pso_rep2 = ParticleSwarmOptimizedClustering(n_cluster=3, \n",
        "                                               n_particles=10, \n",
        "                                               data=cluster3, \n",
        "                                               hybrid=True, \n",
        "                                               max_iter=2000, \n",
        "                                               print_debug=2000)\n",
        "    pso_rep2.run()\n",
        "    pso_kmeans2 = KMeans(n_cluster=3, \n",
        "                        init_pp=False, \n",
        "                        seed=144)\n",
        "    pso_kmeans2.centroid = pso_rep2.gbest_centroids.copy()\n",
        "    predicted_pso_rep2 = pso_kmeans2.predict(cluster3)\n",
        "    \n",
        "    silhouette = silhouette_score(cluster3, \n",
        "                                  predicted_pso_rep2)\n",
        "    sse = calc_sse(centroids=pso_rep2.gbest_centroids, \n",
        "                   data=cluster3, \n",
        "                   labels=predicted_pso_rep2)\n",
        "    dbi = davies_bouldin_score(cluster3, predicted_pso_rep2)\n",
        "\n",
        "    pso_hybrid['silhouette'].append(silhouette)\n",
        "    pso_hybrid['sse'].append(sse)\n",
        "    pso_hybrid['dbi'].append(dbi)"
      ],
      "metadata": {
        "colab": {
          "base_uri": "https://localhost:8080/"
        },
        "id": "DHbI93-dQl-0",
        "outputId": "5dda2d33-843a-472e-b0e4-376e174759bc"
      },
      "execution_count": null,
      "outputs": [
        {
          "output_type": "stream",
          "name": "stdout",
          "text": [
            "Initial global best score 0.17310947091882564\n",
            "Iteration 0001/2000 current gbest score 0.173109470918825642\n",
            "Finish with gbest score 0.166482153515879472\n",
            "Initial global best score 0.2656858596516148\n",
            "Iteration 0001/2000 current gbest score 0.265685859651614786\n",
            "Finish with gbest score 0.214251290756178076\n",
            "Initial global best score 0.19415985664248211\n",
            "Iteration 0001/2000 current gbest score 0.194159856642482115\n",
            "Finish with gbest score 0.185909731599654043\n",
            "Initial global best score 0.24282831008588993\n",
            "Iteration 0001/2000 current gbest score 0.242828310085889926\n",
            "Finish with gbest score 0.234301147465441700\n",
            "Initial global best score 0.23316838022945485\n",
            "Iteration 0001/2000 current gbest score 0.233168380229454852\n",
            "Finish with gbest score 0.223956500099115691\n",
            "Initial global best score 0.18268470878738133\n",
            "Iteration 0001/2000 current gbest score 0.182684708787381328\n",
            "Finish with gbest score 0.182684708787381328\n",
            "Initial global best score 0.20594880586928235\n",
            "Iteration 0001/2000 current gbest score 0.205948805869282353\n",
            "Finish with gbest score 0.187995480749915761\n",
            "Initial global best score 0.1746814771878813\n",
            "Iteration 0001/2000 current gbest score 0.174681477187881296\n",
            "Finish with gbest score 0.174681477187881296\n",
            "Initial global best score 0.17602912940934312\n",
            "Iteration 0001/2000 current gbest score 0.176029129409343121\n",
            "Finish with gbest score 0.176029129409343121\n",
            "Initial global best score 0.17249460110013168\n",
            "Iteration 0001/2000 current gbest score 0.172494601100131678\n",
            "Finish with gbest score 0.172494601100131623\n",
            "Initial global best score 0.1746814771878813\n",
            "Iteration 0001/2000 current gbest score 0.174681477187881296\n",
            "Finish with gbest score 0.174681477187881296\n",
            "Initial global best score 0.2601320890703601\n",
            "Iteration 0001/2000 current gbest score 0.238416004004963461\n",
            "Finish with gbest score 0.230444576152595948\n",
            "Initial global best score 0.20331573203234776\n",
            "Iteration 0001/2000 current gbest score 0.203315732032347762\n",
            "Finish with gbest score 0.203315732032347735\n",
            "Initial global best score 0.23990166899987786\n",
            "Iteration 0001/2000 current gbest score 0.239901668999877860\n",
            "Finish with gbest score 0.219921730304270119\n",
            "Initial global best score 0.22425526551370875\n",
            "Iteration 0001/2000 current gbest score 0.224255265513708751\n",
            "Finish with gbest score 0.194575982610162290\n",
            "Initial global best score 0.23346734193189997\n",
            "Iteration 0001/2000 current gbest score 0.233467341931899969\n",
            "Finish with gbest score 0.223816575513157590\n",
            "Initial global best score 0.21710604824377375\n",
            "Iteration 0001/2000 current gbest score 0.217106048243773747\n",
            "Finish with gbest score 0.205230666010685292\n",
            "Initial global best score 0.1746814771878813\n",
            "Iteration 0001/2000 current gbest score 0.174681477187881296\n",
            "Finish with gbest score 0.174681477187881296\n",
            "Initial global best score 0.1746814771878813\n",
            "Iteration 0001/2000 current gbest score 0.174681477187881296\n",
            "Finish with gbest score 0.174681477187881296\n",
            "Initial global best score 0.20709002909598898\n",
            "Iteration 0001/2000 current gbest score 0.207090029095988976\n",
            "Finish with gbest score 0.188719565423903640\n"
          ]
        }
      ]
    },
    {
      "cell_type": "code",
      "source": [
        "evaluasi = {\n",
        "    'method' : ['K-Means', 'PSO Kmeans'],\n",
        "    'sse_mean' : [\n",
        "        np.around(np.mean(kmeanspp['sse']), decimals=10),\n",
        "        np.around(np.mean(pso_hybrid['sse']), decimals=10),\n",
        "    ],\n",
        "    'silhouette_mean' : [\n",
        "        np.around(np.mean(kmeanspp['silhouette']), decimals=10),\n",
        "        np.around(np.mean(pso_hybrid['silhouette']), decimals=10),\n",
        "    ],\n",
        "    'dbi_mean': [\n",
        "        np.around(np.mean(kmeanspp['dbi']), decimals=10),\n",
        "        np.around(np.mean(pso_hybrid['dbi']), decimals=10),\n",
        "    ]\n",
        "}"
      ],
      "metadata": {
        "id": "OQlk5dgqQu_c"
      },
      "execution_count": null,
      "outputs": []
    },
    {
      "cell_type": "code",
      "source": [
        "eval = pd.DataFrame.from_dict(evaluasi)\n",
        "eval"
      ],
      "metadata": {
        "colab": {
          "base_uri": "https://localhost:8080/",
          "height": 112
        },
        "id": "UGbUFJaqQyCm",
        "outputId": "ec89f78c-17f7-45cb-e5d9-d2bed06e397a"
      },
      "execution_count": null,
      "outputs": [
        {
          "output_type": "execute_result",
          "data": {
            "text/plain": [
              "       method  sse_mean  silhouette_mean  dbi_mean\n",
              "0     K-Means  1.043787         0.517382  0.582908\n",
              "1  PSO Kmeans  0.405219         0.543259  0.487524"
            ],
            "text/html": [
              "\n",
              "  <div id=\"df-86f907d9-55b9-4936-bfb6-3879040e938d\">\n",
              "    <div class=\"colab-df-container\">\n",
              "      <div>\n",
              "<style scoped>\n",
              "    .dataframe tbody tr th:only-of-type {\n",
              "        vertical-align: middle;\n",
              "    }\n",
              "\n",
              "    .dataframe tbody tr th {\n",
              "        vertical-align: top;\n",
              "    }\n",
              "\n",
              "    .dataframe thead th {\n",
              "        text-align: right;\n",
              "    }\n",
              "</style>\n",
              "<table border=\"1\" class=\"dataframe\">\n",
              "  <thead>\n",
              "    <tr style=\"text-align: right;\">\n",
              "      <th></th>\n",
              "      <th>method</th>\n",
              "      <th>sse_mean</th>\n",
              "      <th>silhouette_mean</th>\n",
              "      <th>dbi_mean</th>\n",
              "    </tr>\n",
              "  </thead>\n",
              "  <tbody>\n",
              "    <tr>\n",
              "      <th>0</th>\n",
              "      <td>K-Means</td>\n",
              "      <td>1.043787</td>\n",
              "      <td>0.517382</td>\n",
              "      <td>0.582908</td>\n",
              "    </tr>\n",
              "    <tr>\n",
              "      <th>1</th>\n",
              "      <td>PSO Kmeans</td>\n",
              "      <td>0.405219</td>\n",
              "      <td>0.543259</td>\n",
              "      <td>0.487524</td>\n",
              "    </tr>\n",
              "  </tbody>\n",
              "</table>\n",
              "</div>\n",
              "      <button class=\"colab-df-convert\" onclick=\"convertToInteractive('df-86f907d9-55b9-4936-bfb6-3879040e938d')\"\n",
              "              title=\"Convert this dataframe to an interactive table.\"\n",
              "              style=\"display:none;\">\n",
              "        \n",
              "  <svg xmlns=\"http://www.w3.org/2000/svg\" height=\"24px\"viewBox=\"0 0 24 24\"\n",
              "       width=\"24px\">\n",
              "    <path d=\"M0 0h24v24H0V0z\" fill=\"none\"/>\n",
              "    <path d=\"M18.56 5.44l.94 2.06.94-2.06 2.06-.94-2.06-.94-.94-2.06-.94 2.06-2.06.94zm-11 1L8.5 8.5l.94-2.06 2.06-.94-2.06-.94L8.5 2.5l-.94 2.06-2.06.94zm10 10l.94 2.06.94-2.06 2.06-.94-2.06-.94-.94-2.06-.94 2.06-2.06.94z\"/><path d=\"M17.41 7.96l-1.37-1.37c-.4-.4-.92-.59-1.43-.59-.52 0-1.04.2-1.43.59L10.3 9.45l-7.72 7.72c-.78.78-.78 2.05 0 2.83L4 21.41c.39.39.9.59 1.41.59.51 0 1.02-.2 1.41-.59l7.78-7.78 2.81-2.81c.8-.78.8-2.07 0-2.86zM5.41 20L4 18.59l7.72-7.72 1.47 1.35L5.41 20z\"/>\n",
              "  </svg>\n",
              "      </button>\n",
              "      \n",
              "  <style>\n",
              "    .colab-df-container {\n",
              "      display:flex;\n",
              "      flex-wrap:wrap;\n",
              "      gap: 12px;\n",
              "    }\n",
              "\n",
              "    .colab-df-convert {\n",
              "      background-color: #E8F0FE;\n",
              "      border: none;\n",
              "      border-radius: 50%;\n",
              "      cursor: pointer;\n",
              "      display: none;\n",
              "      fill: #1967D2;\n",
              "      height: 32px;\n",
              "      padding: 0 0 0 0;\n",
              "      width: 32px;\n",
              "    }\n",
              "\n",
              "    .colab-df-convert:hover {\n",
              "      background-color: #E2EBFA;\n",
              "      box-shadow: 0px 1px 2px rgba(60, 64, 67, 0.3), 0px 1px 3px 1px rgba(60, 64, 67, 0.15);\n",
              "      fill: #174EA6;\n",
              "    }\n",
              "\n",
              "    [theme=dark] .colab-df-convert {\n",
              "      background-color: #3B4455;\n",
              "      fill: #D2E3FC;\n",
              "    }\n",
              "\n",
              "    [theme=dark] .colab-df-convert:hover {\n",
              "      background-color: #434B5C;\n",
              "      box-shadow: 0px 1px 3px 1px rgba(0, 0, 0, 0.15);\n",
              "      filter: drop-shadow(0px 1px 2px rgba(0, 0, 0, 0.3));\n",
              "      fill: #FFFFFF;\n",
              "    }\n",
              "  </style>\n",
              "\n",
              "      <script>\n",
              "        const buttonEl =\n",
              "          document.querySelector('#df-86f907d9-55b9-4936-bfb6-3879040e938d button.colab-df-convert');\n",
              "        buttonEl.style.display =\n",
              "          google.colab.kernel.accessAllowed ? 'block' : 'none';\n",
              "\n",
              "        async function convertToInteractive(key) {\n",
              "          const element = document.querySelector('#df-86f907d9-55b9-4936-bfb6-3879040e938d');\n",
              "          const dataTable =\n",
              "            await google.colab.kernel.invokeFunction('convertToInteractive',\n",
              "                                                     [key], {});\n",
              "          if (!dataTable) return;\n",
              "\n",
              "          const docLinkHtml = 'Like what you see? Visit the ' +\n",
              "            '<a target=\"_blank\" href=https://colab.research.google.com/notebooks/data_table.ipynb>data table notebook</a>'\n",
              "            + ' to learn more about interactive tables.';\n",
              "          element.innerHTML = '';\n",
              "          dataTable['output_type'] = 'display_data';\n",
              "          await google.colab.output.renderOutput(dataTable, element);\n",
              "          const docLink = document.createElement('div');\n",
              "          docLink.innerHTML = docLinkHtml;\n",
              "          element.appendChild(docLink);\n",
              "        }\n",
              "      </script>\n",
              "    </div>\n",
              "  </div>\n",
              "  "
            ]
          },
          "metadata": {},
          "execution_count": 65
        }
      ]
    },
    {
      "cell_type": "markdown",
      "metadata": {
        "id": "wKUKPYjmI8bE"
      },
      "source": [
        "### **Pattern Evaluation**"
      ]
    },
    {
      "cell_type": "code",
      "execution_count": null,
      "metadata": {
        "id": "ezdFZNMvI8bF"
      },
      "outputs": [],
      "source": [
        "#create new column for cluster labels associated with each subject\n",
        "data_cluster3['labels'] = predicted_pso3\n",
        "data_cluster3['Segment'] = data_cluster3['labels'].map({0: 'First', 1: 'Second', 2: 'Third'})"
      ]
    },
    {
      "cell_type": "code",
      "execution_count": null,
      "metadata": {
        "id": "Y5nraQlMI8bF"
      },
      "outputs": [],
      "source": [
        "#Order the cluster\n",
        "data_cluster3['Segment'] = data_cluster3['Segment'].astype('category')\n",
        "data_cluster3['Segment'] = data_cluster3['Segment'].cat.reorder_categories(['First', 'Second', 'Third'])"
      ]
    },
    {
      "cell_type": "code",
      "execution_count": null,
      "metadata": {
        "id": "0wC0kMXHI8bG"
      },
      "outputs": [],
      "source": [
        "# ==== CREATE DICTIONARY FOR OBJECT AND NUMERICAL COLUMNS ====#\n",
        "dict_cat = {}\n",
        "dict_num = {}\n",
        "for cat in data_cluster3.select_dtypes('object'):\n",
        " dict_cat[cat] = lambda x: x.value_counts().index[0]\n",
        "for num in data_cluster3.select_dtypes(['int64', 'float64']):\n",
        "  if (num == 'Total'):\n",
        "    continue\n",
        "  dict_num[num] = ['mean']\n",
        "# ============ CREATE TABLE FOR EACH CLUSTER ============#\n",
        "data_cluster3.rename(columns={'labels': 'Total'}, inplace=True)\n",
        "data_percluster3 = data_cluster3.groupby('Segment').agg({\n",
        " 'Total': 'count',\n",
        " **dict_num,\n",
        " **dict_cat\n",
        "}).T"
      ]
    },
    {
      "cell_type": "code",
      "execution_count": null,
      "metadata": {
        "id": "19tuPJyLI8bG"
      },
      "outputs": [],
      "source": [
        "data_cluster3['coord'] = coord3"
      ]
    },
    {
      "cell_type": "code",
      "execution_count": null,
      "metadata": {
        "id": "Ehy9YnjuI8bH"
      },
      "outputs": [],
      "source": [
        "data_cluster3 = data_cluster3.T\n",
        "data_percluster3.to_json(r'cluster3_result.json')\n",
        "data_cluster3.to_json(r'cluster3_df.json')"
      ]
    },
    {
      "cell_type": "markdown",
      "metadata": {
        "id": "NGJoq_0iIotk"
      },
      "source": [
        "#**CLUSTER4**"
      ]
    },
    {
      "cell_type": "code",
      "execution_count": null,
      "metadata": {
        "id": "wgjEq5agngmh"
      },
      "outputs": [],
      "source": [
        "data_cluster4 = merge_data[['Tersedia air bersih', \n",
        "                       'Ada lalat/nyamuk di sekitar tumpukan sampah',\n",
        "                       'Ada ventilasi disemua ruangan']]\n",
        "\n",
        "# Standardize data\n",
        "scaler = MinMaxScaler()\n",
        "Num_features = data_cluster4.select_dtypes(include=['int64', 'float64']).columns\n",
        "scaler.fit(data_cluster4[Num_features])\n",
        "cluster4 = scaler.transform(data_cluster4[Num_features])"
      ]
    },
    {
      "cell_type": "markdown",
      "metadata": {
        "id": "t64jQILN2W3c"
      },
      "source": [
        "###Elbow Method"
      ]
    },
    {
      "cell_type": "code",
      "execution_count": null,
      "metadata": {
        "colab": {
          "base_uri": "https://localhost:8080/"
        },
        "id": "-XC6p-Hp2W3c",
        "outputId": "bc066c0c-37f7-4dd9-9a38-4dcb3e269180"
      },
      "outputs": [
        {
          "output_type": "stream",
          "name": "stdout",
          "text": [
            "    K       sse  silhouette\n",
            "0   2  1.180882    0.842564\n",
            "1   3  0.691205    0.738468\n",
            "2   4  0.341623    0.735576\n",
            "3   5  0.214514    0.739827\n",
            "4   6  0.140297    0.729447\n",
            "5   7  0.106125    0.706129\n",
            "6   8  0.080283    0.692837\n",
            "7   9  0.050388    0.694326\n",
            "8  10  0.031544    0.684031\n"
          ]
        }
      ],
      "source": [
        "sse = []\n",
        "silhouette_scores = []\n",
        "\n",
        "for n_clusters in range(2, 11):\n",
        "    kmeans = Kmeans1(n_clusters=n_clusters, random_state=42)\n",
        "    labels = kmeans.fit_predict(cluster4)\n",
        "    sse.append(kmeans.inertia_)\n",
        "    silhouette_avg = silhouette_score(cluster4, labels)\n",
        "    silhouette_scores.append(silhouette_avg)\n",
        "\n",
        "table_elbow = {\n",
        "    'K': range(2, 11),\n",
        "    'sse': sse,\n",
        "    'silhouette': silhouette_scores\n",
        "}\n",
        "df = pd.DataFrame(table_elbow)\n",
        "print(df)"
      ]
    },
    {
      "cell_type": "code",
      "execution_count": null,
      "metadata": {
        "colab": {
          "base_uri": "https://localhost:8080/"
        },
        "id": "30bCknlg2W3c",
        "outputId": "147bb506-8a09-4119-8be2-ba9c0ea2a483"
      },
      "outputs": [
        {
          "output_type": "display_data",
          "data": {
            "text/plain": [
              "<Figure size 1000x500 with 1 Axes>"
            ],
            "image/png": "[encoded data removed]"
          },
          "metadata": {}
        },
        {
          "output_type": "display_data",
          "data": {
            "text/plain": [
              "<Figure size 1000x500 with 1 Axes>"
            ],
            "image/png": "[encoded data removed]"
          },
          "metadata": {}
        }
      ],
      "source": [
        "K = list(range(2,11))\n",
        "# Plot sse against k\n",
        "plt.figure(figsize=(10, 5))\n",
        "plt.plot(K, sse, '-o')\n",
        "plt.xlabel(r'Number of clusters *k*')\n",
        "plt.ylabel('Sum of squared error');\n",
        "\n",
        "# Plot silhouette against k\n",
        "plt.figure(figsize=(10, 5))\n",
        "plt.plot(K, silhouette_scores, '-o')\n",
        "plt.xlabel(r'Number of clusters *k*')\n",
        "plt.ylabel('Silhouette');"
      ]
    },
    {
      "cell_type": "markdown",
      "metadata": {
        "id": "dnb_FG2F2qoq"
      },
      "source": [
        "### **K-Means**"
      ]
    },
    {
      "cell_type": "code",
      "execution_count": null,
      "metadata": {
        "id": "TY3Zc6tS2qor"
      },
      "outputs": [],
      "source": [
        "kmeans4 = KMeans(n_cluster=4)\n",
        "kmeans4.fit(cluster4)"
      ]
    },
    {
      "cell_type": "code",
      "execution_count": null,
      "metadata": {
        "colab": {
          "base_uri": "https://localhost:8080/"
        },
        "id": "1spVeaDW2qos",
        "outputId": "b285661f-b7c4-4c2f-c878-9cf1ab0b84f8"
      },
      "outputs": [
        {
          "output_type": "stream",
          "name": "stdout",
          "text": [
            "Silhouette: 0.7412668949649509\n",
            "SSE: 0.5640964895690705\n"
          ]
        }
      ],
      "source": [
        "predicted_kmeans4 = kmeans4.predict(cluster4)\n",
        "print('Silhouette:', silhouette_score(cluster4, predicted_kmeans4))\n",
        "print('SSE:', kmeans4.SSE)"
      ]
    },
    {
      "cell_type": "code",
      "execution_count": null,
      "metadata": {
        "colab": {
          "base_uri": "https://localhost:8080/"
        },
        "id": "cACCPxOq2qos",
        "outputId": "7df419c8-ee34-408a-cdba-82c93c858d1c"
      },
      "outputs": [
        {
          "output_type": "execute_result",
          "data": {
            "text/plain": [
              "2    26\n",
              "1     5\n",
              "3     4\n",
              "0     4\n",
              "Name: cluster, dtype: int64"
            ]
          },
          "metadata": {},
          "execution_count": 200
        }
      ],
      "source": [
        "frame4 = pd.DataFrame(cluster4)\n",
        "frame4['cluster'] = predicted_kmeans4\n",
        "frame4['cluster'].value_counts()"
      ]
    },
    {
      "cell_type": "code",
      "execution_count": null,
      "metadata": {
        "colab": {
          "base_uri": "https://localhost:8080/"
        },
        "id": "SJBGYfFF2qos",
        "outputId": "638d6cde-4636-4b6d-b4b1-1079d0ce0453"
      },
      "outputs": [
        {
          "output_type": "execute_result",
          "data": {
            "text/plain": [
              "array([3, 2, 0, 2, 1, 2, 2, 3, 2, 2, 1, 2, 2, 2, 2, 0, 2, 3, 1, 2, 0, 1,\n",
              "       3, 2, 1, 2, 2, 0, 2, 2, 2, 2, 2, 2, 2, 2, 2, 2, 2])"
            ]
          },
          "metadata": {},
          "execution_count": 201
        }
      ],
      "source": [
        "predicted_kmeans4"
      ]
    },
    {
      "cell_type": "markdown",
      "metadata": {
        "id": "-A9SAtV53W39"
      },
      "source": [
        "### **PSO K-Means**"
      ]
    },
    {
      "cell_type": "code",
      "execution_count": null,
      "metadata": {
        "id": "_XVFMw3z3W39"
      },
      "outputs": [],
      "source": [
        "pso4 = ParticleSwarmOptimizedClustering(n_cluster=4, \n",
        "                                       n_particles=10, \n",
        "                                       data=cluster4, \n",
        "                                       hybrid=True,\n",
        "                                       max_iter=2000, \n",
        "                                       print_debug=100)"
      ]
    },
    {
      "cell_type": "code",
      "execution_count": null,
      "metadata": {
        "colab": {
          "base_uri": "https://localhost:8080/"
        },
        "id": "zyzsADGm3W3-",
        "outputId": "38441c73-9b1f-4de0-98b8-2c2f77c68f4e"
      },
      "outputs": [
        {
          "output_type": "stream",
          "name": "stdout",
          "text": [
            "Initial global best score 0.36741651861840097\n",
            "Iteration 0001/2000 current gbest score 0.367416518618400967\n",
            "Iteration 0101/2000 current gbest score 0.289030114590469511\n",
            "Iteration 0201/2000 current gbest score 0.286118580105099662\n",
            "Iteration 0301/2000 current gbest score 0.286114982987358435\n",
            "Iteration 0401/2000 current gbest score 0.286114466654428634\n",
            "Iteration 0501/2000 current gbest score 0.286114368951489451\n",
            "Iteration 0601/2000 current gbest score 0.286114347892167664\n",
            "Iteration 0701/2000 current gbest score 0.286114345397071368\n",
            "Iteration 0801/2000 current gbest score 0.286114345175717932\n",
            "Iteration 0901/2000 current gbest score 0.286114345126913694\n",
            "Iteration 1001/2000 current gbest score 0.286114345113630486\n",
            "Iteration 1101/2000 current gbest score 0.286114345105899004\n",
            "Iteration 1201/2000 current gbest score 0.286114345104472090\n",
            "Iteration 1301/2000 current gbest score 0.286114345104039325\n",
            "Iteration 1401/2000 current gbest score 0.286114345103915368\n",
            "Iteration 1501/2000 current gbest score 0.286114345103844370\n",
            "Iteration 1601/2000 current gbest score 0.286114345103817003\n",
            "Iteration 1701/2000 current gbest score 0.286114345103806289\n",
            "Iteration 1801/2000 current gbest score 0.286114345103794465\n",
            "Iteration 1901/2000 current gbest score 0.286114345103785306\n",
            "Finish with gbest score 0.286114345103772760\n"
          ]
        }
      ],
      "source": [
        "hist4 = pso4.run()"
      ]
    },
    {
      "cell_type": "code",
      "execution_count": null,
      "metadata": {
        "id": "TiL9G63y3W3-"
      },
      "outputs": [],
      "source": [
        "pso_kmeans4 = KMeans(n_cluster=4)\n",
        "pso_kmeans4.centroid = pso4.gbest_centroids.copy()"
      ]
    },
    {
      "cell_type": "code",
      "execution_count": null,
      "metadata": {
        "colab": {
          "base_uri": "https://localhost:8080/"
        },
        "id": "9rOi8mJg3W3-",
        "outputId": "81b561a5-ddec-4658-90c1-8ce697c436fe"
      },
      "outputs": [
        {
          "output_type": "stream",
          "name": "stdout",
          "text": [
            "Silhouette: 0.7416692513509283\n",
            "SSE: 0.37473658885825223\n"
          ]
        }
      ],
      "source": [
        "predicted_pso4 = pso_kmeans4.predict(cluster4)\n",
        "print('Silhouette:', silhouette_score(cluster4, predicted_pso4))\n",
        "print('SSE:', calc_sse(centroids=pso4.gbest_centroids, \n",
        "                       data=cluster4, \n",
        "                       labels=predicted_pso4))"
      ]
    },
    {
      "cell_type": "code",
      "execution_count": null,
      "metadata": {
        "colab": {
          "base_uri": "https://localhost:8080/"
        },
        "id": "eSXfZXHW3W3-",
        "outputId": "75c65d9a-d4c9-476b-c7cc-ecebc7a9722c"
      },
      "outputs": [
        {
          "output_type": "execute_result",
          "data": {
            "text/plain": [
              "1    29\n",
              "0     5\n",
              "2     3\n",
              "3     2\n",
              "Name: cluster, dtype: int64"
            ]
          },
          "metadata": {},
          "execution_count": 206
        }
      ],
      "source": [
        "frame4 = pd.DataFrame(cluster4)\n",
        "frame4['cluster'] = predicted_pso4\n",
        "frame4['cluster'].value_counts()"
      ]
    },
    {
      "cell_type": "code",
      "execution_count": null,
      "metadata": {
        "colab": {
          "base_uri": "https://localhost:8080/"
        },
        "id": "QD77b3o73W3_",
        "outputId": "d4508ea0-09bd-44bc-f972-be45ec4ec43e"
      },
      "outputs": [
        {
          "output_type": "execute_result",
          "data": {
            "text/plain": [
              "array([0, 1, 0, 1, 2, 1, 1, 0, 1, 1, 2, 1, 1, 1, 1, 1, 1, 0, 2, 1, 1, 3,\n",
              "       0, 1, 3, 1, 1, 1, 1, 1, 1, 1, 1, 1, 1, 1, 1, 1, 1])"
            ]
          },
          "metadata": {},
          "execution_count": 207
        }
      ],
      "source": [
        "predicted_pso4"
      ]
    },
    {
      "cell_type": "markdown",
      "metadata": {
        "id": "KYK4o893Vpmt"
      },
      "source": [
        "###**Evaluasi Optimasi**"
      ]
    },
    {
      "cell_type": "code",
      "source": [
        "#evaluasi sse dan silhoute kmeans dengan 20 iterasi\n",
        "kmeanspp = {\n",
        "    'silhouette': [],\n",
        "    'sse' : [],\n",
        "    'dbi': [],\n",
        "}\n",
        "for _ in range(20):\n",
        "    kmean_rep = KMeans(n_cluster=4, init_pp=True, seed=2014)\n",
        "    kmean_rep.fit(cluster4)\n",
        "    predicted_kmean_rep = kmean_rep.predict(cluster4)\n",
        "    silhouette = silhouette_score(cluster4, \n",
        "                                  predicted_kmean_rep)\n",
        "    sse = kmean_rep.SSE\n",
        "    dbi = davies_bouldin_score(cluster4, predicted_kmean_rep)\n",
        "    kmeanspp['silhouette'].append(silhouette)\n",
        "    kmeanspp['sse'].append(sse)\n",
        "    kmeanspp['dbi'].append(dbi)"
      ],
      "metadata": {
        "id": "KH4xfgG_RFBo"
      },
      "execution_count": null,
      "outputs": []
    },
    {
      "cell_type": "code",
      "source": [
        "#evaluasi sse dan silhoute pso-kmeans dengan 20 iterasi\n",
        "pso_hybrid = {\n",
        "    'silhouette': [],\n",
        "    'sse' : [],\n",
        "    'dbi': [],\n",
        "}\n",
        "for _ in range(20):\n",
        "    pso_rep2 = ParticleSwarmOptimizedClustering(n_cluster=4, \n",
        "                                               n_particles=10, \n",
        "                                               data=cluster4, \n",
        "                                               hybrid=True, \n",
        "                                               max_iter=2000, \n",
        "                                               print_debug=2000)\n",
        "    pso_rep2.run()\n",
        "    pso_kmeans2 = KMeans(n_cluster=4, \n",
        "                        init_pp=False, \n",
        "                        seed=144)\n",
        "    pso_kmeans2.centroid = pso_rep2.gbest_centroids.copy()\n",
        "    predicted_pso_rep2 = pso_kmeans2.predict(cluster4)\n",
        "    \n",
        "    silhouette = silhouette_score(cluster4, \n",
        "                                  predicted_pso_rep2)\n",
        "    sse = calc_sse(centroids=pso_rep2.gbest_centroids, \n",
        "                   data=cluster4, \n",
        "                   labels=predicted_pso_rep2)\n",
        "    dbi = davies_bouldin_score(cluster3, predicted_pso_rep2)\n",
        "\n",
        "    pso_hybrid['silhouette'].append(silhouette)\n",
        "    pso_hybrid['sse'].append(sse)\n",
        "    pso_hybrid['dbi'].append(dbi)"
      ],
      "metadata": {
        "colab": {
          "base_uri": "https://localhost:8080/"
        },
        "id": "dBzKGxQnRIro",
        "outputId": "874f6eda-479b-4a5e-a0b7-e3d62f75fbb8"
      },
      "execution_count": null,
      "outputs": [
        {
          "output_type": "stream",
          "name": "stdout",
          "text": [
            "Initial global best score 0.39357492895105517\n",
            "Iteration 0001/2000 current gbest score 0.393574928951055170\n",
            "Finish with gbest score 0.323672051670321204\n",
            "Initial global best score 0.30928339584515396\n",
            "Iteration 0001/2000 current gbest score 0.309283395845153963\n",
            "Finish with gbest score 0.309283395845153519\n",
            "Initial global best score 0.3407734216096193\n",
            "Iteration 0001/2000 current gbest score 0.340773421609619320\n",
            "Finish with gbest score 0.340773421609619209\n",
            "Initial global best score 0.42929223739520966\n",
            "Iteration 0001/2000 current gbest score 0.378833688893232601\n",
            "Finish with gbest score 0.340287152620854572\n",
            "Initial global best score 0.3917423086048651\n",
            "Iteration 0001/2000 current gbest score 0.377144051188591067\n",
            "Finish with gbest score 0.285837330268237100\n",
            "Initial global best score 0.310075006268646\n",
            "Iteration 0001/2000 current gbest score 0.310075006268645981\n",
            "Finish with gbest score 0.310075006268645925\n",
            "Initial global best score 0.310075006268646\n",
            "Iteration 0001/2000 current gbest score 0.310075006268645981\n",
            "Finish with gbest score 0.310075006268645981\n",
            "Initial global best score 0.44480796893476693\n",
            "Iteration 0001/2000 current gbest score 0.396667760160491101\n",
            "Finish with gbest score 0.291152414482704125\n",
            "Initial global best score 0.3407734216096193\n",
            "Iteration 0001/2000 current gbest score 0.340773421609619320\n",
            "Finish with gbest score 0.340773421609619209\n",
            "Initial global best score 0.33177815371428854\n",
            "Iteration 0001/2000 current gbest score 0.331778153714288537\n",
            "Finish with gbest score 0.324532643309801971\n",
            "Initial global best score 0.2836530378887\n",
            "Iteration 0001/2000 current gbest score 0.283653037888699999\n",
            "Finish with gbest score 0.273070504389564928\n",
            "Initial global best score 0.2836530378887\n",
            "Iteration 0001/2000 current gbest score 0.283653037888699999\n",
            "Finish with gbest score 0.273176658693160546\n",
            "Initial global best score 0.310075006268646\n",
            "Iteration 0001/2000 current gbest score 0.310075006268645981\n",
            "Finish with gbest score 0.310075006268645925\n",
            "Initial global best score 0.3407734216096193\n",
            "Iteration 0001/2000 current gbest score 0.340773421609619320\n",
            "Finish with gbest score 0.340773421609619209\n",
            "Initial global best score 0.310075006268646\n",
            "Iteration 0001/2000 current gbest score 0.310075006268645981\n",
            "Finish with gbest score 0.310075006268645925\n",
            "Initial global best score 0.3891893472306108\n",
            "Iteration 0001/2000 current gbest score 0.376600501566974666\n",
            "Finish with gbest score 0.359634502588173477\n",
            "Initial global best score 0.310075006268646\n",
            "Iteration 0001/2000 current gbest score 0.310075006268645981\n",
            "Finish with gbest score 0.310075006268645925\n",
            "Initial global best score 0.42257489016648386\n",
            "Iteration 0001/2000 current gbest score 0.421898287075116007\n",
            "Finish with gbest score 0.343985732173968217\n",
            "Initial global best score 0.3177832904345886\n",
            "Iteration 0001/2000 current gbest score 0.317783290434588583\n",
            "Finish with gbest score 0.294425832474677573\n",
            "Initial global best score 0.2836530378887\n",
            "Iteration 0001/2000 current gbest score 0.283653037888699999\n",
            "Finish with gbest score 0.273505903608633472\n"
          ]
        }
      ]
    },
    {
      "cell_type": "code",
      "source": [
        "evaluasi = {\n",
        "    'method' : ['K-Means', 'PSO Kmeans'],\n",
        "    'sse_mean' : [\n",
        "        np.around(np.mean(kmeanspp['sse']), decimals=10),\n",
        "        np.around(np.mean(pso_hybrid['sse']), decimals=10),\n",
        "    ],\n",
        "    'silhouette_mean' : [\n",
        "        np.around(np.mean(kmeanspp['silhouette']), decimals=10),\n",
        "        np.around(np.mean(pso_hybrid['silhouette']), decimals=10),\n",
        "    ],\n",
        "    'dbi_mean': [\n",
        "        np.around(np.mean(kmeanspp['dbi']), decimals=10),\n",
        "        np.around(np.mean(pso_hybrid['dbi']), decimals=10),\n",
        "    ]\n",
        "}"
      ],
      "metadata": {
        "id": "6pJl20DrRLJt"
      },
      "execution_count": null,
      "outputs": []
    },
    {
      "cell_type": "code",
      "execution_count": null,
      "metadata": {
        "colab": {
          "base_uri": "https://localhost:8080/",
          "height": 112
        },
        "id": "_1Pafl-WVozj",
        "outputId": "9478bb78-ae65-436d-d1b9-6ac77f798be2"
      },
      "outputs": [
        {
          "output_type": "execute_result",
          "data": {
            "text/plain": [
              "       method  sse_mean  silhouette_mean  dbi_mean\n",
              "0     K-Means  1.180882         0.842564  1.087944\n",
              "1  PSO Kmeans  0.595071         0.694180  0.316235"
            ],
            "text/html": [
              "\n",
              "  <div id=\"df-36d6699f-a9bd-4e18-a776-55077a972af2\">\n",
              "    <div class=\"colab-df-container\">\n",
              "      <div>\n",
              "<style scoped>\n",
              "    .dataframe tbody tr th:only-of-type {\n",
              "        vertical-align: middle;\n",
              "    }\n",
              "\n",
              "    .dataframe tbody tr th {\n",
              "        vertical-align: top;\n",
              "    }\n",
              "\n",
              "    .dataframe thead th {\n",
              "        text-align: right;\n",
              "    }\n",
              "</style>\n",
              "<table border=\"1\" class=\"dataframe\">\n",
              "  <thead>\n",
              "    <tr style=\"text-align: right;\">\n",
              "      <th></th>\n",
              "      <th>method</th>\n",
              "      <th>sse_mean</th>\n",
              "      <th>silhouette_mean</th>\n",
              "      <th>dbi_mean</th>\n",
              "    </tr>\n",
              "  </thead>\n",
              "  <tbody>\n",
              "    <tr>\n",
              "      <th>0</th>\n",
              "      <td>K-Means</td>\n",
              "      <td>1.180882</td>\n",
              "      <td>0.842564</td>\n",
              "      <td>1.087944</td>\n",
              "    </tr>\n",
              "    <tr>\n",
              "      <th>1</th>\n",
              "      <td>PSO Kmeans</td>\n",
              "      <td>0.595071</td>\n",
              "      <td>0.694180</td>\n",
              "      <td>0.316235</td>\n",
              "    </tr>\n",
              "  </tbody>\n",
              "</table>\n",
              "</div>\n",
              "      <button class=\"colab-df-convert\" onclick=\"convertToInteractive('df-36d6699f-a9bd-4e18-a776-55077a972af2')\"\n",
              "              title=\"Convert this dataframe to an interactive table.\"\n",
              "              style=\"display:none;\">\n",
              "        \n",
              "  <svg xmlns=\"http://www.w3.org/2000/svg\" height=\"24px\"viewBox=\"0 0 24 24\"\n",
              "       width=\"24px\">\n",
              "    <path d=\"M0 0h24v24H0V0z\" fill=\"none\"/>\n",
              "    <path d=\"M18.56 5.44l.94 2.06.94-2.06 2.06-.94-2.06-.94-.94-2.06-.94 2.06-2.06.94zm-11 1L8.5 8.5l.94-2.06 2.06-.94-2.06-.94L8.5 2.5l-.94 2.06-2.06.94zm10 10l.94 2.06.94-2.06 2.06-.94-2.06-.94-.94-2.06-.94 2.06-2.06.94z\"/><path d=\"M17.41 7.96l-1.37-1.37c-.4-.4-.92-.59-1.43-.59-.52 0-1.04.2-1.43.59L10.3 9.45l-7.72 7.72c-.78.78-.78 2.05 0 2.83L4 21.41c.39.39.9.59 1.41.59.51 0 1.02-.2 1.41-.59l7.78-7.78 2.81-2.81c.8-.78.8-2.07 0-2.86zM5.41 20L4 18.59l7.72-7.72 1.47 1.35L5.41 20z\"/>\n",
              "  </svg>\n",
              "      </button>\n",
              "      \n",
              "  <style>\n",
              "    .colab-df-container {\n",
              "      display:flex;\n",
              "      flex-wrap:wrap;\n",
              "      gap: 12px;\n",
              "    }\n",
              "\n",
              "    .colab-df-convert {\n",
              "      background-color: #E8F0FE;\n",
              "      border: none;\n",
              "      border-radius: 50%;\n",
              "      cursor: pointer;\n",
              "      display: none;\n",
              "      fill: #1967D2;\n",
              "      height: 32px;\n",
              "      padding: 0 0 0 0;\n",
              "      width: 32px;\n",
              "    }\n",
              "\n",
              "    .colab-df-convert:hover {\n",
              "      background-color: #E2EBFA;\n",
              "      box-shadow: 0px 1px 2px rgba(60, 64, 67, 0.3), 0px 1px 3px 1px rgba(60, 64, 67, 0.15);\n",
              "      fill: #174EA6;\n",
              "    }\n",
              "\n",
              "    [theme=dark] .colab-df-convert {\n",
              "      background-color: #3B4455;\n",
              "      fill: #D2E3FC;\n",
              "    }\n",
              "\n",
              "    [theme=dark] .colab-df-convert:hover {\n",
              "      background-color: #434B5C;\n",
              "      box-shadow: 0px 1px 3px 1px rgba(0, 0, 0, 0.15);\n",
              "      filter: drop-shadow(0px 1px 2px rgba(0, 0, 0, 0.3));\n",
              "      fill: #FFFFFF;\n",
              "    }\n",
              "  </style>\n",
              "\n",
              "      <script>\n",
              "        const buttonEl =\n",
              "          document.querySelector('#df-36d6699f-a9bd-4e18-a776-55077a972af2 button.colab-df-convert');\n",
              "        buttonEl.style.display =\n",
              "          google.colab.kernel.accessAllowed ? 'block' : 'none';\n",
              "\n",
              "        async function convertToInteractive(key) {\n",
              "          const element = document.querySelector('#df-36d6699f-a9bd-4e18-a776-55077a972af2');\n",
              "          const dataTable =\n",
              "            await google.colab.kernel.invokeFunction('convertToInteractive',\n",
              "                                                     [key], {});\n",
              "          if (!dataTable) return;\n",
              "\n",
              "          const docLinkHtml = 'Like what you see? Visit the ' +\n",
              "            '<a target=\"_blank\" href=https://colab.research.google.com/notebooks/data_table.ipynb>data table notebook</a>'\n",
              "            + ' to learn more about interactive tables.';\n",
              "          element.innerHTML = '';\n",
              "          dataTable['output_type'] = 'display_data';\n",
              "          await google.colab.output.renderOutput(dataTable, element);\n",
              "          const docLink = document.createElement('div');\n",
              "          docLink.innerHTML = docLinkHtml;\n",
              "          element.appendChild(docLink);\n",
              "        }\n",
              "      </script>\n",
              "    </div>\n",
              "  </div>\n",
              "  "
            ]
          },
          "metadata": {},
          "execution_count": 117
        }
      ],
      "source": [
        "eval = pd.DataFrame.from_dict(evaluasi)\n",
        "eval"
      ]
    },
    {
      "cell_type": "markdown",
      "metadata": {
        "id": "-0Z_5KI435ab"
      },
      "source": [
        "###**Pattern Evaluation**"
      ]
    },
    {
      "cell_type": "code",
      "execution_count": null,
      "metadata": {
        "id": "zUIuigdviuf8"
      },
      "outputs": [],
      "source": [
        "#create new column for cluster labels associated with each subject\n",
        "data_cluster4['labels'] = predicted_pso4\n",
        "data_cluster4['Segment'] = data_cluster4['labels'].map({0: 'First', 1: 'Second', 2: 'Third', 3: 'Fourth'})"
      ]
    },
    {
      "cell_type": "code",
      "execution_count": null,
      "metadata": {
        "id": "XbDXnWOKie2f"
      },
      "outputs": [],
      "source": [
        "#Order the cluster\n",
        "data_cluster4['Segment'] = data_cluster4['Segment'].astype('category')\n",
        "data_cluster4['Segment'] = data_cluster4['Segment'].cat.reorder_categories(['First', 'Second', 'Third', 'Fourth'])"
      ]
    },
    {
      "cell_type": "code",
      "execution_count": null,
      "metadata": {
        "id": "dEHr6T3qi_nn"
      },
      "outputs": [],
      "source": [
        "# ==== CREATE DICTIONARY FOR OBJECT AND NUMERICAL COLUMNS ====#\n",
        "dict_cat = {}\n",
        "dict_num = {}\n",
        "for cat in data_cluster4.select_dtypes('object'):\n",
        " dict_cat[cat] = lambda x: x.value_counts().index[0]\n",
        "for num in data_cluster4.select_dtypes(['int64', 'float64']):\n",
        "  if (num == 'Total'):\n",
        "    continue\n",
        "  dict_num[num] = ['mean']\n",
        "# ============ CREATE TABLE FOR EACH CLUSTER ============#\n",
        "data_cluster4.rename(columns={'labels': 'Total'}, inplace=True)\n",
        "data_percluster4 = data_cluster4.groupby('Segment').agg({\n",
        " 'Total': 'count',\n",
        " **dict_num,\n",
        " **dict_cat\n",
        "}).T"
      ]
    },
    {
      "cell_type": "code",
      "execution_count": null,
      "metadata": {
        "id": "inDGK_RvInLe"
      },
      "outputs": [],
      "source": [
        "data_cluster4['coord'] = coord4"
      ]
    },
    {
      "cell_type": "code",
      "execution_count": null,
      "metadata": {
        "id": "55Ax1T9MjTHH"
      },
      "outputs": [],
      "source": [
        "data_cluster4 = data_cluster4.T\n",
        "data_percluster4.to_json(r'cluster4_result.json')\n",
        "data_cluster4.to_json(r'cluster4_df.json')"
      ]
    },
    {
      "cell_type": "markdown",
      "metadata": {
        "id": "lxm_sO5pyoQP"
      },
      "source": [
        "#**CLUSTER 5**"
      ]
    },
    {
      "cell_type": "code",
      "execution_count": null,
      "metadata": {
        "id": "RchsIMjJym7Y"
      },
      "outputs": [],
      "source": [
        "data_cluster5 = merge_data[['Nafsu Makan Kurang',\n",
        "                            'Sering Jajan Diluar',\n",
        "                            'Sering Pakai Jamban/Toilet']] \n",
        "\n",
        "# Standardize data\n",
        "scaler = MinMaxScaler()\n",
        "Num_features = data_cluster5.select_dtypes(include=['int64', 'float64']).columns\n",
        "scaler.fit(data_cluster5[Num_features])\n",
        "cluster5 = scaler.transform(data_cluster5[Num_features])"
      ]
    },
    {
      "cell_type": "markdown",
      "metadata": {
        "id": "QbU3tA4s5h53"
      },
      "source": [
        "###Elbow Method"
      ]
    },
    {
      "cell_type": "code",
      "execution_count": null,
      "metadata": {
        "colab": {
          "base_uri": "https://localhost:8080/"
        },
        "id": "osTbFHJu5h54",
        "outputId": "529890b1-b08d-49e8-d024-c53f93203e5d"
      },
      "outputs": [
        {
          "output_type": "stream",
          "name": "stdout",
          "text": [
            "    K       sse  silhouette\n",
            "0   2  1.056586    0.861212\n",
            "1   3  0.522329    0.793298\n",
            "2   4  0.209714    0.789620\n",
            "3   5  0.120669    0.793350\n",
            "4   6  0.059387    0.778083\n",
            "5   7  0.036406    0.760120\n",
            "6   8  0.024433    0.738794\n",
            "7   9  0.017342    0.598175\n",
            "8  10  0.010354    0.595479\n"
          ]
        }
      ],
      "source": [
        "sse = []\n",
        "silhouette_scores = []\n",
        "\n",
        "for n_clusters in range(2, 11):\n",
        "    kmeans = Kmeans1(n_clusters=n_clusters, random_state=42)\n",
        "    labels = kmeans.fit_predict(cluster5)\n",
        "    sse.append(kmeans.inertia_)\n",
        "    silhouette_avg = silhouette_score(cluster5, labels)\n",
        "    silhouette_scores.append(silhouette_avg)\n",
        "\n",
        "table_elbow = {\n",
        "    'K': range(2, 11),\n",
        "    'sse': sse,\n",
        "    'silhouette': silhouette_scores\n",
        "}\n",
        "df = pd.DataFrame(table_elbow)\n",
        "print(df)"
      ]
    },
    {
      "cell_type": "code",
      "execution_count": null,
      "metadata": {
        "colab": {
          "base_uri": "https://localhost:8080/"
        },
        "id": "jYUE5Au05h55",
        "outputId": "512ed476-60f9-42af-ebc9-8df56f3f75cc"
      },
      "outputs": [
        {
          "output_type": "display_data",
          "data": {
            "text/plain": [
              "<Figure size 1000x500 with 1 Axes>"
            ],
            "image/png": "[encoded data removed]"
          },
          "metadata": {}
        },
        {
          "output_type": "display_data",
          "data": {
            "text/plain": [
              "<Figure size 1000x500 with 1 Axes>"
            ],
            "image/png": "[encoded data removed]"
          },
          "metadata": {}
        }
      ],
      "source": [
        "K = list(range(2,11))\n",
        "# Plot sse against k\n",
        "plt.figure(figsize=(10, 5))\n",
        "plt.plot(K, sse, '-o')\n",
        "plt.xlabel(r'Number of clusters *k*')\n",
        "plt.ylabel('Sum of squared error');\n",
        "\n",
        "# Plot silhouette against k\n",
        "plt.figure(figsize=(10, 5))\n",
        "plt.plot(K, silhouette_scores, '-o')\n",
        "plt.xlabel(r'Number of clusters *k*')\n",
        "plt.ylabel('Silhouette');"
      ]
    },
    {
      "cell_type": "markdown",
      "metadata": {
        "id": "SX5Q7epq5k-6"
      },
      "source": [
        "### **K-Means**"
      ]
    },
    {
      "cell_type": "code",
      "execution_count": null,
      "metadata": {
        "id": "cz8XOanm5k-7"
      },
      "outputs": [],
      "source": [
        "kmeans5 = KMeans(n_cluster=3)\n",
        "kmeans5.fit(cluster5)"
      ]
    },
    {
      "cell_type": "code",
      "execution_count": null,
      "metadata": {
        "colab": {
          "base_uri": "https://localhost:8080/"
        },
        "id": "6lska8H25k-_",
        "outputId": "c041fa40-f58d-4d1d-ac5a-f961ea66b669"
      },
      "outputs": [
        {
          "output_type": "stream",
          "name": "stdout",
          "text": [
            "Silhouette: 0.8612124746408145\n",
            "SSE: 1.0565855611620156\n"
          ]
        }
      ],
      "source": [
        "predicted_kmeans5 = kmeans5.predict(cluster5)\n",
        "print('Silhouette:', silhouette_score(cluster5, predicted_kmeans5))\n",
        "print('SSE:', kmeans5.SSE)"
      ]
    },
    {
      "cell_type": "code",
      "execution_count": null,
      "metadata": {
        "colab": {
          "base_uri": "https://localhost:8080/"
        },
        "id": "DZB4LkIY5k_A",
        "outputId": "bd940885-b035-44e3-b673-953f8557a18b"
      },
      "outputs": [
        {
          "output_type": "execute_result",
          "data": {
            "text/plain": [
              "2    29\n",
              "0     5\n",
              "1     5\n",
              "Name: cluster, dtype: int64"
            ]
          },
          "metadata": {},
          "execution_count": 100
        }
      ],
      "source": [
        "frame5 = pd.DataFrame(cluster5)\n",
        "frame5['cluster'] = predicted_kmeans5\n",
        "frame5['cluster'].value_counts()"
      ]
    },
    {
      "cell_type": "code",
      "execution_count": null,
      "metadata": {
        "colab": {
          "base_uri": "https://localhost:8080/"
        },
        "id": "KaYvR1sM5k_A",
        "outputId": "32c99749-d02d-4be7-ed9b-624417366b2e"
      },
      "outputs": [
        {
          "output_type": "execute_result",
          "data": {
            "text/plain": [
              "array([0, 2, 0, 2, 1, 2, 2, 0, 2, 2, 1, 2, 2, 2, 2, 2, 2, 0, 1, 2, 2, 1,\n",
              "       0, 2, 1, 2, 2, 2, 2, 2, 2, 2, 2, 2, 2, 2, 2, 2, 2])"
            ]
          },
          "metadata": {},
          "execution_count": 101
        }
      ],
      "source": [
        "predicted_kmeans5"
      ]
    },
    {
      "cell_type": "markdown",
      "metadata": {
        "id": "WpGnww_r51Sk"
      },
      "source": [
        "### **PSO K-Means**"
      ]
    },
    {
      "cell_type": "code",
      "execution_count": null,
      "metadata": {
        "id": "v5JSROMt51Sl"
      },
      "outputs": [],
      "source": [
        "pso5 = ParticleSwarmOptimizedClustering(n_cluster=3, \n",
        "                                       n_particles=20, \n",
        "                                       data=cluster5, \n",
        "                                       hybrid=True,\n",
        "                                       max_iter=2000, \n",
        "                                       print_debug=200)"
      ]
    },
    {
      "cell_type": "code",
      "execution_count": null,
      "metadata": {
        "colab": {
          "base_uri": "https://localhost:8080/"
        },
        "id": "1t2QFroy51Sl",
        "outputId": "687a8ac6-03f6-428f-a04b-9ddf5b217afe"
      },
      "outputs": [
        {
          "output_type": "stream",
          "name": "stdout",
          "text": [
            "Initial global best score 0.3713642276406366\n",
            "Iteration 0001/2000 current gbest score 0.371364227640636591\n",
            "Iteration 0201/2000 current gbest score 0.361750116679776135\n",
            "Iteration 0401/2000 current gbest score 0.361721091768783143\n",
            "Iteration 0601/2000 current gbest score 0.361721071692509888\n",
            "Iteration 0801/2000 current gbest score 0.361721071639951541\n",
            "Iteration 1001/2000 current gbest score 0.361721066495341415\n",
            "Iteration 1201/2000 current gbest score 0.361721065103664197\n",
            "Iteration 1401/2000 current gbest score 0.361721064914946933\n",
            "Iteration 1601/2000 current gbest score 0.361721064908536505\n",
            "Iteration 1801/2000 current gbest score 0.361721064907074286\n",
            "Finish with gbest score 0.361721064906791179\n"
          ]
        }
      ],
      "source": [
        "hist5 = pso5.run()"
      ]
    },
    {
      "cell_type": "code",
      "execution_count": null,
      "metadata": {
        "id": "xoxKUdnt51Sl"
      },
      "outputs": [],
      "source": [
        "pso_kmeans5 = KMeans(n_cluster=3)\n",
        "pso_kmeans5.centroid = pso5.gbest_centroids.copy()"
      ]
    },
    {
      "cell_type": "code",
      "execution_count": null,
      "metadata": {
        "colab": {
          "base_uri": "https://localhost:8080/"
        },
        "id": "VPGC0iet51Sl",
        "outputId": "929368b9-b1c3-4c18-c024-ec21a8a4363f"
      },
      "outputs": [
        {
          "output_type": "stream",
          "name": "stdout",
          "text": [
            "Silhouette: 0.7931353732920494\n",
            "SSE: 0.5336950834657452\n"
          ]
        }
      ],
      "source": [
        "predicted_pso5 = pso_kmeans5.predict(cluster5)\n",
        "print('Silhouette:', silhouette_score(cluster5, predicted_pso5))\n",
        "print('SSE:', calc_sse(centroids=pso5.gbest_centroids, \n",
        "                       data=cluster5, \n",
        "                       labels=predicted_pso5))"
      ]
    },
    {
      "cell_type": "code",
      "execution_count": null,
      "metadata": {
        "colab": {
          "base_uri": "https://localhost:8080/"
        },
        "id": "aVIg6BGP51Sm",
        "outputId": "210fd28a-d9bd-4889-c1f6-8db22e744ca7"
      },
      "outputs": [
        {
          "output_type": "execute_result",
          "data": {
            "text/plain": [
              "1    28\n",
              "2     6\n",
              "0     5\n",
              "Name: cluster, dtype: int64"
            ]
          },
          "metadata": {},
          "execution_count": 126
        }
      ],
      "source": [
        "frame5 = pd.DataFrame(cluster5)\n",
        "frame5['cluster'] = predicted_pso5\n",
        "frame5['cluster'].value_counts()"
      ]
    },
    {
      "cell_type": "code",
      "execution_count": null,
      "metadata": {
        "colab": {
          "base_uri": "https://localhost:8080/"
        },
        "id": "6115vSzh51Sm",
        "outputId": "1072f852-5214-45e8-eed0-5df698138e1d"
      },
      "outputs": [
        {
          "output_type": "execute_result",
          "data": {
            "text/plain": [
              "array([0, 2, 2, 2, 1, 2, 2, 2, 2, 2, 1, 2, 2, 2, 2, 2, 2, 0, 1, 2, 2, 1,\n",
              "       0, 2, 1, 2, 2, 2, 2, 2, 2, 2, 2, 2, 2, 2, 2, 2, 2])"
            ]
          },
          "metadata": {},
          "execution_count": 107
        }
      ],
      "source": [
        "predicted_pso5"
      ]
    },
    {
      "cell_type": "markdown",
      "metadata": {
        "id": "-lb-fNqVhI84"
      },
      "source": [
        "###**Evaluasi Optimasi**"
      ]
    },
    {
      "cell_type": "code",
      "source": [
        "#evaluasi sse dan silhoute kmeans dengan 20 iterasi\n",
        "kmeanspp = {\n",
        "    'silhouette': [],\n",
        "    'sse' : [],\n",
        "    'dbi': [],\n",
        "}\n",
        "for _ in range(20):\n",
        "    kmean_rep = KMeans(n_cluster=3, init_pp=True)\n",
        "    kmean_rep.fit(cluster5)\n",
        "    predicted_kmean_rep = kmean_rep.predict(cluster5)\n",
        "    silhouette = silhouette_score(cluster5, \n",
        "                                  predicted_kmean_rep)\n",
        "    sse = kmean_rep.SSE\n",
        "    dbi = davies_bouldin_score(cluster5, predicted_kmean_rep)\n",
        "    kmeanspp['silhouette'].append(silhouette)\n",
        "    kmeanspp['sse'].append(sse)\n",
        "    kmeanspp['dbi'].append(dbi)"
      ],
      "metadata": {
        "id": "LP7f06wdRjQT"
      },
      "execution_count": null,
      "outputs": []
    },
    {
      "cell_type": "code",
      "source": [
        "#evaluasi sse dan silhoute pso-kmeans dengan 20 iterasi\n",
        "pso_hybrid = {\n",
        "    'silhouette': [],\n",
        "    'sse' : [],\n",
        "    'dbi': [],\n",
        "}\n",
        "for _ in range(20):\n",
        "    pso_rep2 = ParticleSwarmOptimizedClustering(n_cluster=3, \n",
        "                                               n_particles=10, \n",
        "                                               data=cluster5, \n",
        "                                               hybrid=True, \n",
        "                                               max_iter=2000, \n",
        "                                               print_debug=2000)\n",
        "    pso_rep2.run()\n",
        "    pso_kmeans2 = KMeans(n_cluster=3, \n",
        "                        init_pp=False, \n",
        "                        seed=144)\n",
        "    pso_kmeans2.centroid = pso_rep2.gbest_centroids.copy()\n",
        "    predicted_pso_rep2 = pso_kmeans2.predict(cluster5)\n",
        "    \n",
        "    silhouette = silhouette_score(cluster5, \n",
        "                                  predicted_pso_rep2)\n",
        "    sse = calc_sse(centroids=pso_rep2.gbest_centroids, \n",
        "                   data=cluster5, \n",
        "                   labels=predicted_pso_rep2)\n",
        "    dbi = davies_bouldin_score(cluster5, predicted_pso_rep2)\n",
        "\n",
        "    pso_hybrid['silhouette'].append(silhouette)\n",
        "    pso_hybrid['sse'].append(sse)\n",
        "    pso_hybrid['dbi'].append(dbi)"
      ],
      "metadata": {
        "colab": {
          "base_uri": "https://localhost:8080/"
        },
        "id": "OtkY7pSWRljF",
        "outputId": "36b891d7-1dce-4447-e674-44e84f08dc01"
      },
      "execution_count": null,
      "outputs": [
        {
          "output_type": "stream",
          "name": "stdout",
          "text": [
            "Initial global best score 0.5663336233626338\n",
            "Iteration 0001/2000 current gbest score 0.566333623362633820\n",
            "Finish with gbest score 0.372304482978635443\n",
            "Initial global best score 0.5141485610602684\n",
            "Iteration 0001/2000 current gbest score 0.413206493140550302\n",
            "Finish with gbest score 0.362877722598250463\n",
            "Initial global best score 0.37136422764063665\n",
            "Iteration 0001/2000 current gbest score 0.371364227640636646\n",
            "Finish with gbest score 0.371364227640636535\n",
            "Initial global best score 0.37136422764063665\n",
            "Iteration 0001/2000 current gbest score 0.371364227640636646\n",
            "Finish with gbest score 0.361743841975366631\n",
            "Initial global best score 0.3734644245103125\n",
            "Iteration 0001/2000 current gbest score 0.373464424510312476\n",
            "Finish with gbest score 0.373464424510312420\n",
            "Initial global best score 0.37136422764063665\n",
            "Iteration 0001/2000 current gbest score 0.371364227640636646\n",
            "Finish with gbest score 0.361673998703100963\n",
            "Initial global best score 0.6021329227379446\n",
            "Iteration 0001/2000 current gbest score 0.602132922737944609\n",
            "Finish with gbest score 0.426904032006426515\n",
            "Initial global best score 0.3713642276406366\n",
            "Iteration 0001/2000 current gbest score 0.371364227640636591\n",
            "Finish with gbest score 0.361785913903609202\n",
            "Initial global best score 0.3713642276406366\n",
            "Iteration 0001/2000 current gbest score 0.371364227640636591\n",
            "Finish with gbest score 0.371364227640636591\n",
            "Initial global best score 0.3713642276406366\n",
            "Iteration 0001/2000 current gbest score 0.371364227640636591\n",
            "Finish with gbest score 0.363481357056760157\n",
            "Initial global best score 0.45885548638371915\n",
            "Iteration 0001/2000 current gbest score 0.458855486383719147\n",
            "Finish with gbest score 0.363569565105024750\n",
            "Initial global best score 0.4221512002141618\n",
            "Iteration 0001/2000 current gbest score 0.422151200214161804\n",
            "Finish with gbest score 0.366226752393923938\n",
            "Initial global best score 0.37136422764063665\n",
            "Iteration 0001/2000 current gbest score 0.371364227640636646\n",
            "Finish with gbest score 0.371364227640636535\n",
            "Initial global best score 0.5616386057571194\n",
            "Iteration 0001/2000 current gbest score 0.561638605757119436\n",
            "Finish with gbest score 0.506148478943720392\n",
            "Initial global best score 0.4180987101463359\n",
            "Iteration 0001/2000 current gbest score 0.418098710146335872\n",
            "Finish with gbest score 0.365151579498574630\n",
            "Initial global best score 0.37136422764063665\n",
            "Iteration 0001/2000 current gbest score 0.371364227640636646\n",
            "Finish with gbest score 0.363238791332098077\n",
            "Initial global best score 0.5002756992613376\n",
            "Iteration 0001/2000 current gbest score 0.470267921520086896\n",
            "Finish with gbest score 0.376042830420536267\n",
            "Initial global best score 0.3713642276406366\n",
            "Iteration 0001/2000 current gbest score 0.371364227640636591\n",
            "Finish with gbest score 0.361699538829220124\n",
            "Initial global best score 0.3974917498666614\n",
            "Iteration 0001/2000 current gbest score 0.397491749866661415\n",
            "Finish with gbest score 0.370461261209784454\n",
            "Initial global best score 0.5426226337816541\n",
            "Iteration 0001/2000 current gbest score 0.542622633781654096\n",
            "Finish with gbest score 0.379512611402075539\n"
          ]
        }
      ]
    },
    {
      "cell_type": "code",
      "execution_count": null,
      "metadata": {
        "id": "RPwCs7fJPZeW"
      },
      "outputs": [],
      "source": [
        "evaluasi = {\n",
        "    'method' : ['K-Means', 'PSO Kmeans'],\n",
        "    'sse_mean' : [\n",
        "        np.around(np.mean(kmeanspp['sse']), decimals=10),\n",
        "        np.around(np.mean(pso_hybrid['sse']), decimals=10),\n",
        "    ],\n",
        "    'silhouette_mean' : [\n",
        "        np.around(np.mean(kmeanspp['silhouette']), decimals=10),\n",
        "        np.around(np.mean(pso_hybrid['silhouette']), decimals=10),\n",
        "    ],\n",
        "    'dbi_mean': [\n",
        "        np.around(np.mean(pso_hybrid['dbi']), decimals=10),\n",
        "        np.around(np.mean(kmeanspp['dbi']), decimals=10),\n",
        "    ]\n",
        "}"
      ]
    },
    {
      "cell_type": "code",
      "source": [
        "eval = pd.DataFrame.from_dict(evaluasi)\n",
        "eval"
      ],
      "metadata": {
        "colab": {
          "base_uri": "https://localhost:8080/",
          "height": 112
        },
        "id": "6rqzyRGERm_A",
        "outputId": "f53ffcf5-9b18-4a07-f09d-7789134ff918"
      },
      "execution_count": null,
      "outputs": [
        {
          "output_type": "execute_result",
          "data": {
            "text/plain": [
              "       method  sse_mean  silhouette_mean  dbi_mean\n",
              "0     K-Means  1.056586         0.861212  0.439369\n",
              "1  PSO Kmeans  0.578959         0.753807  0.283324"
            ],
            "text/html": [
              "\n",
              "  <div id=\"df-042f164f-7674-4220-897d-2670c8eb9ff7\">\n",
              "    <div class=\"colab-df-container\">\n",
              "      <div>\n",
              "<style scoped>\n",
              "    .dataframe tbody tr th:only-of-type {\n",
              "        vertical-align: middle;\n",
              "    }\n",
              "\n",
              "    .dataframe tbody tr th {\n",
              "        vertical-align: top;\n",
              "    }\n",
              "\n",
              "    .dataframe thead th {\n",
              "        text-align: right;\n",
              "    }\n",
              "</style>\n",
              "<table border=\"1\" class=\"dataframe\">\n",
              "  <thead>\n",
              "    <tr style=\"text-align: right;\">\n",
              "      <th></th>\n",
              "      <th>method</th>\n",
              "      <th>sse_mean</th>\n",
              "      <th>silhouette_mean</th>\n",
              "      <th>dbi_mean</th>\n",
              "    </tr>\n",
              "  </thead>\n",
              "  <tbody>\n",
              "    <tr>\n",
              "      <th>0</th>\n",
              "      <td>K-Means</td>\n",
              "      <td>1.056586</td>\n",
              "      <td>0.861212</td>\n",
              "      <td>0.439369</td>\n",
              "    </tr>\n",
              "    <tr>\n",
              "      <th>1</th>\n",
              "      <td>PSO Kmeans</td>\n",
              "      <td>0.578959</td>\n",
              "      <td>0.753807</td>\n",
              "      <td>0.283324</td>\n",
              "    </tr>\n",
              "  </tbody>\n",
              "</table>\n",
              "</div>\n",
              "      <button class=\"colab-df-convert\" onclick=\"convertToInteractive('df-042f164f-7674-4220-897d-2670c8eb9ff7')\"\n",
              "              title=\"Convert this dataframe to an interactive table.\"\n",
              "              style=\"display:none;\">\n",
              "        \n",
              "  <svg xmlns=\"http://www.w3.org/2000/svg\" height=\"24px\"viewBox=\"0 0 24 24\"\n",
              "       width=\"24px\">\n",
              "    <path d=\"M0 0h24v24H0V0z\" fill=\"none\"/>\n",
              "    <path d=\"M18.56 5.44l.94 2.06.94-2.06 2.06-.94-2.06-.94-.94-2.06-.94 2.06-2.06.94zm-11 1L8.5 8.5l.94-2.06 2.06-.94-2.06-.94L8.5 2.5l-.94 2.06-2.06.94zm10 10l.94 2.06.94-2.06 2.06-.94-2.06-.94-.94-2.06-.94 2.06-2.06.94z\"/><path d=\"M17.41 7.96l-1.37-1.37c-.4-.4-.92-.59-1.43-.59-.52 0-1.04.2-1.43.59L10.3 9.45l-7.72 7.72c-.78.78-.78 2.05 0 2.83L4 21.41c.39.39.9.59 1.41.59.51 0 1.02-.2 1.41-.59l7.78-7.78 2.81-2.81c.8-.78.8-2.07 0-2.86zM5.41 20L4 18.59l7.72-7.72 1.47 1.35L5.41 20z\"/>\n",
              "  </svg>\n",
              "      </button>\n",
              "      \n",
              "  <style>\n",
              "    .colab-df-container {\n",
              "      display:flex;\n",
              "      flex-wrap:wrap;\n",
              "      gap: 12px;\n",
              "    }\n",
              "\n",
              "    .colab-df-convert {\n",
              "      background-color: #E8F0FE;\n",
              "      border: none;\n",
              "      border-radius: 50%;\n",
              "      cursor: pointer;\n",
              "      display: none;\n",
              "      fill: #1967D2;\n",
              "      height: 32px;\n",
              "      padding: 0 0 0 0;\n",
              "      width: 32px;\n",
              "    }\n",
              "\n",
              "    .colab-df-convert:hover {\n",
              "      background-color: #E2EBFA;\n",
              "      box-shadow: 0px 1px 2px rgba(60, 64, 67, 0.3), 0px 1px 3px 1px rgba(60, 64, 67, 0.15);\n",
              "      fill: #174EA6;\n",
              "    }\n",
              "\n",
              "    [theme=dark] .colab-df-convert {\n",
              "      background-color: #3B4455;\n",
              "      fill: #D2E3FC;\n",
              "    }\n",
              "\n",
              "    [theme=dark] .colab-df-convert:hover {\n",
              "      background-color: #434B5C;\n",
              "      box-shadow: 0px 1px 3px 1px rgba(0, 0, 0, 0.15);\n",
              "      filter: drop-shadow(0px 1px 2px rgba(0, 0, 0, 0.3));\n",
              "      fill: #FFFFFF;\n",
              "    }\n",
              "  </style>\n",
              "\n",
              "      <script>\n",
              "        const buttonEl =\n",
              "          document.querySelector('#df-042f164f-7674-4220-897d-2670c8eb9ff7 button.colab-df-convert');\n",
              "        buttonEl.style.display =\n",
              "          google.colab.kernel.accessAllowed ? 'block' : 'none';\n",
              "\n",
              "        async function convertToInteractive(key) {\n",
              "          const element = document.querySelector('#df-042f164f-7674-4220-897d-2670c8eb9ff7');\n",
              "          const dataTable =\n",
              "            await google.colab.kernel.invokeFunction('convertToInteractive',\n",
              "                                                     [key], {});\n",
              "          if (!dataTable) return;\n",
              "\n",
              "          const docLinkHtml = 'Like what you see? Visit the ' +\n",
              "            '<a target=\"_blank\" href=https://colab.research.google.com/notebooks/data_table.ipynb>data table notebook</a>'\n",
              "            + ' to learn more about interactive tables.';\n",
              "          element.innerHTML = '';\n",
              "          dataTable['output_type'] = 'display_data';\n",
              "          await google.colab.output.renderOutput(dataTable, element);\n",
              "          const docLink = document.createElement('div');\n",
              "          docLink.innerHTML = docLinkHtml;\n",
              "          element.appendChild(docLink);\n",
              "        }\n",
              "      </script>\n",
              "    </div>\n",
              "  </div>\n",
              "  "
            ]
          },
          "metadata": {},
          "execution_count": 122
        }
      ]
    },
    {
      "cell_type": "markdown",
      "metadata": {
        "id": "NHCo0kln2ame"
      },
      "source": [
        "###**Pattern Evaluation**"
      ]
    },
    {
      "cell_type": "code",
      "execution_count": null,
      "metadata": {
        "id": "HepZzp0Y5ISG"
      },
      "outputs": [],
      "source": [
        "#create new column for cluster labels associated with each subject\n",
        "data_cluster5['labels'] = predicted_pso5\n",
        "data_cluster5['Segment'] = data_cluster5['labels'].map({0: 'First', 1: 'Second', 2: 'Third'})"
      ]
    },
    {
      "cell_type": "code",
      "execution_count": null,
      "metadata": {
        "id": "kWvGnCCK5Sa_"
      },
      "outputs": [],
      "source": [
        "#Order the cluster\n",
        "data_cluster5['Segment'] = data_cluster5['Segment'].astype('category')\n",
        "data_cluster5['Segment'] = data_cluster5['Segment'].cat.reorder_categories(['First', 'Second', 'Third'])\n"
      ]
    },
    {
      "cell_type": "code",
      "execution_count": null,
      "metadata": {
        "id": "ILQmk2s15ZbM"
      },
      "outputs": [],
      "source": [
        "# ==== CREATE DICTIONARY FOR OBJECT AND NUMERICAL COLUMNS ====#\n",
        "dict_cat = {}\n",
        "dict_num = {}\n",
        "for cat in data_cluster5.select_dtypes('object'):\n",
        " dict_cat[cat] = lambda x: x.value_counts().index[0]\n",
        "for num in data_cluster5.select_dtypes(['int64', 'float64']):\n",
        "  if (num == 'Total'):\n",
        "    continue\n",
        "  dict_num[num] = ['mean']\n",
        "# ============ CREATE TABLE FOR EACH CLUSTER ============#\n",
        "data_cluster5.rename(columns={'labels': 'Total'}, inplace=True)\n",
        "data_percluster5 = data_cluster5.groupby('Segment').agg({\n",
        " 'Total': 'count',\n",
        " **dict_num,\n",
        " **dict_cat\n",
        "}).T"
      ]
    },
    {
      "cell_type": "code",
      "execution_count": null,
      "metadata": {
        "id": "kr4LjlSKJApm"
      },
      "outputs": [],
      "source": [
        "data_cluster5['coord'] = coord5"
      ]
    },
    {
      "cell_type": "code",
      "execution_count": null,
      "metadata": {
        "id": "lhHfhlOY5nn1"
      },
      "outputs": [],
      "source": [
        "data_cluster5 = data_cluster5.T\n",
        "data_percluster5.to_json(r'cluster5_result.json')\n",
        "data_cluster5.to_json(r'cluster5_df.json')"
      ]
    }
  ],
  "metadata": {
    "colab": {
      "collapsed_sections": [
        "VL3tK-3DsM3e",
        "ot8Wz5HQsRuu",
        "HZW00V7ScBk_",
        "ATqHRC06Kk3-",
        "Pruo0VUyrBT8",
        "2b0jWew1I2kL",
        "dK37L-rWI2kM",
        "xw4ySd-jI2kN",
        "oMpVKQkUI2kP",
        "tAT8iMtRWH68",
        "UWKv03fzI8a_",
        "qo8zhLZKI8bA",
        "8uhRlI69I8bA",
        "beA3WltfI8bC",
        "t64jQILN2W3c",
        "dnb_FG2F2qoq",
        "s5xf32PE2qor",
        "-A9SAtV53W39",
        "-0Z_5KI435ab",
        "KYK4o893Vpmt",
        "WpGnww_r51Sk",
        "NHCo0kln2ame",
        "-lb-fNqVhI84"
      ],
      "provenance": [],
      "toc_visible": true
    },
    "kernelspec": {
      "display_name": "Python 3 (ipykernel)",
      "language": "python",
      "name": "python3"
    }
  },
  "nbformat": 4,
  "nbformat_minor": 0
}